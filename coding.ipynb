{
 "cells": [
  {
   "cell_type": "code",
   "execution_count": 11,
   "metadata": {},
   "outputs": [
    {
     "name": "stdout",
     "output_type": "stream",
     "text": [
      " *\n",
      "**\n"
     ]
    }
   ],
   "source": [
    "import sys\n",
    "\n",
    "number = int(input().strip())\n",
    "for i in range(1, number+1):\n",
    "    print(f\"{' '*(number-i)}{'*'*i}\")"
   ]
  },
  {
   "cell_type": "markdown",
   "metadata": {},
   "source": [
    "더 이상 값이 주어지지 않을 때까지 더하기"
   ]
  },
  {
   "cell_type": "code",
   "execution_count": 13,
   "metadata": {},
   "outputs": [],
   "source": [
    "import sys\n",
    "\n",
    "while True:\n",
    "    try:\n",
    "        a,b = map(int, sys.stdin.readline().strip().split())\n",
    "    except:\n",
    "        break\n",
    "    print(a+b)"
   ]
  },
  {
   "cell_type": "code",
   "execution_count": null,
   "metadata": {},
   "outputs": [
    {
     "name": "stdout",
     "output_type": "stream",
     "text": [
      "a \n"
     ]
    }
   ],
   "source": [
    "import sys\n",
    "\n",
    "while True:\n",
    "\n",
    "    line = sys.stdin.readline().strip()\n",
    "\n",
    "    if line:\n",
    "        a, b = map(int, line.split())\n",
    "        print(a + b)\n",
    "    else:\n",
    "        break\n"
   ]
  },
  {
   "cell_type": "markdown",
   "metadata": {},
   "source": [
    "문제  \n",
    "총 N개의 정수가 주어졌을 때, 정수 v가 몇 개인지 구하는 프로그램을 작성하시오.\n",
    "\n",
    "입력  \n",
    "첫째 줄에 정수의 개수 N(1 ≤ N ≤ 100)이 주어진다. 둘째 줄에는 정수가 공백으로 구분되어져있다. 셋째 줄에는 찾으려고 하는 정수 v가 주어진다. 입력으로 주어지는 정수와  v는 -100보다 크거나 같으며, 100보다 작거나 같다.\n",
    "\n",
    "출력  \n",
    "첫째 줄에 입력으로 주어진 N개의 정수 중에 v가 몇 개인지 출력한다."
   ]
  },
  {
   "cell_type": "code",
   "execution_count": null,
   "metadata": {},
   "outputs": [],
   "source": [
    "import sys\n",
    "\n",
    "number = int(sys.stdin.readline().strip())\n",
    "numbers = map(int, sys.stdin.readline().strip().split())\n",
    "search = int(sys.stdin.readline().strip())\n",
    "count = 0\n",
    "for i in numbers:\n",
    "    if search == i:\n",
    "        count += 1\n",
    "print(count)"
   ]
  },
  {
   "cell_type": "markdown",
   "metadata": {},
   "source": [
    "x보다 작은 수"
   ]
  },
  {
   "cell_type": "code",
   "execution_count": null,
   "metadata": {},
   "outputs": [],
   "source": [
    "# x보다 작은 수 \n",
    "\n",
    "import sys\n",
    "\n",
    "n, x = map(int, sys.stdin.readline().strip().split())\n",
    "result = []\n",
    "for i in map(int, sys.stdin.readline().strip().split()):\n",
    "    if i < x:\n",
    "        result.append(i)\n",
    "\n",
    "print(*result)"
   ]
  },
  {
   "cell_type": "markdown",
   "metadata": {},
   "source": [
    "최대 최소 구하기"
   ]
  },
  {
   "cell_type": "code",
   "execution_count": null,
   "metadata": {},
   "outputs": [],
   "source": [
    "import sys\n",
    "\n",
    "n = int(sys.stdin.readline().strip())\n",
    "numbers = list(map(int, sys.stdin.readline().strip().split()))\n",
    "numbers.sort()\n",
    "print(numbers[0],numbers[-1])"
   ]
  },
  {
   "cell_type": "code",
   "execution_count": null,
   "metadata": {},
   "outputs": [],
   "source": [
    "import sys\n",
    "\n",
    "n = int(sys.stdin.readline().strip())\n",
    "numbers = list(map(int, sys.stdin.readline().strip().split()))\n",
    "print(min(numbers),max(numbers))"
   ]
  },
  {
   "cell_type": "markdown",
   "metadata": {},
   "source": []
  }
 ],
 "metadata": {
  "kernelspec": {
   "display_name": "Python 3",
   "language": "python",
   "name": "python3"
  },
  "language_info": {
   "codemirror_mode": {
    "name": "ipython",
    "version": 3
   },
   "file_extension": ".py",
   "mimetype": "text/x-python",
   "name": "python",
   "nbconvert_exporter": "python",
   "pygments_lexer": "ipython3",
   "version": "3.13.1"
  }
 },
 "nbformat": 4,
 "nbformat_minor": 2
}
