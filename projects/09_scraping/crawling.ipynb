{
 "cells": [
  {
   "cell_type": "code",
   "execution_count": null,
   "metadata": {},
   "outputs": [],
   "source": [
    "#  가상 환경 만들어서 selenium 설치\n",
    "\n",
    "# 가상환경 생성\n",
    "# python3 -m venv .venv\n",
    "\n",
    "# 가상환경 활성화\n",
    "# source .venv/bin/activate\n",
    "\n",
    "# 가상환경에서 모듈 설치\n",
    "# pip3 install selenium\n",
    "\n",
    "# 커널 변경\n",
    "# 우측 상단에 커널 클릭해서 가상환경으로 변경\n",
    "\n",
    "from selenium import webdriver\n",
    "browser = webdriver.Chrome()"
   ]
  },
  {
   "cell_type": "code",
   "execution_count": null,
   "metadata": {},
   "outputs": [],
   "source": [
    "#url 실행\n",
    "# https://kream.co.kr/\n",
    "url = 'https://kream.co.kr/?tab=home_ranking_v2'\n",
    "browser.get(url)"
   ]
  }
 ],
 "metadata": {
  "kernelspec": {
   "display_name": ".venv",
   "language": "python",
   "name": "python3"
  },
  "language_info": {
   "codemirror_mode": {
    "name": "ipython",
    "version": 3
   },
   "file_extension": ".py",
   "mimetype": "text/x-python",
   "name": "python",
   "nbconvert_exporter": "python",
   "pygments_lexer": "ipython3",
   "version": "3.13.1"
  }
 },
 "nbformat": 4,
 "nbformat_minor": 2
}
