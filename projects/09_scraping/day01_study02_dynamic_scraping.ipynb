{
 "cells": [
  {
   "cell_type": "code",
   "execution_count": 1,
   "metadata": {},
   "outputs": [],
   "source": [
    "# 동적 스크랩핑\n",
    "\n",
    "#  가상 환경 만들어서 requests 설치\n",
    "\n",
    "# 가상환경 생성\n",
    "# python3 -m venv .venv\n",
    "\n",
    "# 가상환경 활성화\n",
    "# source .venv/bin/activate\n",
    "\n",
    "# 가상환경에서 모듈 설치\n",
    "# pip3 install selenium\n",
    "\n",
    "# 커널 변경\n",
    "# 우측 상단에 커널 클릭해서 가상환경으로 변경\n",
    "\n",
    "\n",
    "# 브라우저 실행\n",
    "from selenium import webdriver\n",
    "browser = webdriver.Chrome()"
   ]
  },
  {
   "cell_type": "code",
   "execution_count": 2,
   "metadata": {},
   "outputs": [],
   "source": [
    "# url 실행\n",
    "base_url = 'https://search.naver.com/search.naver?ssc=tab.kin.kqna&where=kin&sm=tab_jum&query='\n",
    "keyword = input(\"키워드를 입력해주세요\").strip()\n",
    "url = base_url + keyword\n",
    "\n",
    "browser.get(url)"
   ]
  },
  {
   "cell_type": "code",
   "execution_count": 29,
   "metadata": {},
   "outputs": [
    {
     "name": "stdout",
     "output_type": "stream",
     "text": [
      "--------------------------\n",
      "title: 손흥민 진짜 토트넘 떠나나요?\n",
      "content: 손흥민 방출, 이적 관련해서 최근 계속 화제가 되고 있잖아요. 손흥민 선수가 2025년 6월로 예정된 토트넘 핫스퍼와의 계약 종료를 앞두고 있으며... 베식타스가 선수를 향한 러브콜을 보내고 있다고 하는데요. 선수 진짜 토트넘 떠나게 되는 건가요? 튀르키예로 가게 될까요?\n",
      "answer: 1년 연장 계약을 한 이유도 이적료를 챙기기 위한 것으로 보인다고 합니다. 2026년까지 토트넘 소속이어서 이번 시즌 끝나고 윤곽이 나올 것 같습니다만 튀르키예뿐만 아리라 어디든 이적 가능성은 있습니다.\n",
      "name: 백두산신\n",
      "badge: 절대신\n",
      "etc: 스포츠, 레저\n",
      "date: 2일 전\n",
      "link: https://kin.naver.com/qna/detail.naver?d1id=10&dirId=1001010202&docId=481970352&enc=utf8&kinsrch_src=pc_tab_kin&qb=7IaQ7Z2l66+8\n",
      "--------------------------\n",
      "--------------------------\n",
      "title: 손흥민 연장옵션\n",
      "content: 손흥민한테 토트넘이 1년 연장 옵션을 발동시켰고 현재 2026년 여름까지 손흥민이 토트넘에 머물게 됐잖아요 근데 2026년 여름이 되면 다시 은 자유계약이 되는거죠? 토트넘 입장에서 이적료를 받으려면 을 올해 안에... 그니까 2025년 여름 이적시장에 이 이적을 하게 될...\n",
      "answer: 네 질문자님 말대로 토트넘과 1년 연장이므로 계약 종료가 되기 전에 타팀으로 보내야만 구단에서 이적료를 챙길 수 있습니다. 만약 손흥민이 연장된 계약기간(2026년)까지 구단에 있게 된다면 FA(자유계약) 신분이 되어 타팀을 이적료 없이 가게 됩니다.\n",
      "name: 페노메노\n",
      "badge: 우주신\n",
      "etc: 2025.01.08.\n",
      "date: 2025.01.08.\n",
      "link: https://kin.naver.com/qna/detail.naver?d1id=10&dirId=1001010202&docId=480142435&enc=utf8&kinsrch_src=pc_tab_kin&qb=7IaQ7Z2l66+8\n",
      "--------------------------\n",
      "--------------------------\n",
      "title: 손흥민이랑페이커\n",
      "content: 손흥민이랑 페이커 중에 누가 더 인기 많나요? 그냥 궁금해서 여쭤봅니다.\n",
      "answer: 대중적인 인지도와 인기는 손흥민 선수이지 않을까 싶습니다 본인 종목에서는 서로 인기가... 인지도면에서 손흥민 선수가 확연히 위라고 보고 그 인지도로부터 오는 인기 또한 손흥민 선수라고 생각합니다... 높아질수록 손흥민 선수의 대중적인 인지도, 인기에 비해선 더 낮은 편이라고 봅니다\n",
      "name: 저니맨\n",
      "badge: 수호신\n",
      "etc: 2주 전\n",
      "date: 2주 전\n",
      "link: https://kin.naver.com/qna/detail.naver?d1id=10&dirId=10010105&docId=481098634&enc=utf8&kinsrch_src=pc_tab_kin&qb=7IaQ7Z2l66+8\n",
      "--------------------------\n"
     ]
    },
    {
     "ename": "NoSuchElementException",
     "evalue": "Message: no such element: Unable to locate element: {\"method\":\"css selector\",\"selector\":\".badge\"}\n  (Session info: chrome=133.0.6943.99); For documentation on this error, please visit: https://www.selenium.dev/documentation/webdriver/troubleshooting/errors#no-such-element-exception\nStacktrace:\n0   chromedriver                        0x0000000100e12b58 cxxbridge1$str$ptr + 2724820\n1   chromedriver                        0x0000000100e0b1b8 cxxbridge1$str$ptr + 2693684\n2   chromedriver                        0x0000000100971afc cxxbridge1$string$len + 93348\n3   chromedriver                        0x00000001009b88f8 cxxbridge1$string$len + 383648\n4   chromedriver                        0x00000001009ae0bc cxxbridge1$string$len + 340580\n5   chromedriver                        0x00000001009f9b94 cxxbridge1$string$len + 650556\n6   chromedriver                        0x00000001009acba0 cxxbridge1$string$len + 335176\n7   chromedriver                        0x0000000100ddb610 cxxbridge1$str$ptr + 2498188\n8   chromedriver                        0x0000000100dde924 cxxbridge1$str$ptr + 2511264\n9   chromedriver                        0x0000000100dc0cb0 cxxbridge1$str$ptr + 2389292\n10  chromedriver                        0x0000000100ddf1cc cxxbridge1$str$ptr + 2513480\n11  chromedriver                        0x0000000100db1c98 cxxbridge1$str$ptr + 2327828\n12  chromedriver                        0x0000000100dfb880 cxxbridge1$str$ptr + 2629884\n13  chromedriver                        0x0000000100dfba08 cxxbridge1$str$ptr + 2630276\n14  chromedriver                        0x0000000100e0ae2c cxxbridge1$str$ptr + 2692776\n15  libsystem_pthread.dylib             0x0000000184f6b2e4 _pthread_start + 136\n16  libsystem_pthread.dylib             0x0000000184f660fc thread_start + 8\n",
     "output_type": "error",
     "traceback": [
      "\u001b[0;31m---------------------------------------------------------------------------\u001b[0m",
      "\u001b[0;31mNoSuchElementException\u001b[0m                    Traceback (most recent call last)",
      "Cell \u001b[0;32mIn[29], line 20\u001b[0m\n\u001b[1;32m     18\u001b[0m answer \u001b[38;5;241m=\u001b[39m i\u001b[38;5;241m.\u001b[39mfind_element(By\u001b[38;5;241m.\u001b[39mCLASS_NAME, \u001b[38;5;124m'\u001b[39m\u001b[38;5;124manswer_text\u001b[39m\u001b[38;5;124m'\u001b[39m)\u001b[38;5;241m.\u001b[39mtext\n\u001b[1;32m     19\u001b[0m name \u001b[38;5;241m=\u001b[39m i\u001b[38;5;241m.\u001b[39mfind_element(By\u001b[38;5;241m.\u001b[39mCLASS_NAME, \u001b[38;5;124m'\u001b[39m\u001b[38;5;124mname\u001b[39m\u001b[38;5;124m'\u001b[39m)\u001b[38;5;241m.\u001b[39mtext\n\u001b[0;32m---> 20\u001b[0m badge \u001b[38;5;241m=\u001b[39m \u001b[43mi\u001b[49m\u001b[38;5;241;43m.\u001b[39;49m\u001b[43mfind_element\u001b[49m\u001b[43m(\u001b[49m\u001b[43mBy\u001b[49m\u001b[38;5;241;43m.\u001b[39;49m\u001b[43mCLASS_NAME\u001b[49m\u001b[43m,\u001b[49m\u001b[43m \u001b[49m\u001b[38;5;124;43m'\u001b[39;49m\u001b[38;5;124;43mbadge\u001b[39;49m\u001b[38;5;124;43m'\u001b[39;49m\u001b[43m)\u001b[49m\u001b[38;5;241m.\u001b[39mtext\n\u001b[1;32m     21\u001b[0m etc \u001b[38;5;241m=\u001b[39m i\u001b[38;5;241m.\u001b[39mfind_element(By\u001b[38;5;241m.\u001b[39mCSS_SELECTOR, \u001b[38;5;124m'\u001b[39m\u001b[38;5;124m.etc\u001b[39m\u001b[38;5;124m'\u001b[39m)\u001b[38;5;241m.\u001b[39mtext\n\u001b[1;32m     22\u001b[0m date \u001b[38;5;241m=\u001b[39m i\u001b[38;5;241m.\u001b[39mfind_element(By\u001b[38;5;241m.\u001b[39mCSS_SELECTOR, \u001b[38;5;124m'\u001b[39m\u001b[38;5;124m.etc.date\u001b[39m\u001b[38;5;124m'\u001b[39m)\u001b[38;5;241m.\u001b[39mtext\n",
      "File \u001b[0;32m~/Desktop/learning/09AdminPage/.venv/lib/python3.13/site-packages/selenium/webdriver/remote/webelement.py:599\u001b[0m, in \u001b[0;36mWebElement.find_element\u001b[0;34m(self, by, value)\u001b[0m\n\u001b[1;32m    573\u001b[0m \u001b[38;5;250m\u001b[39m\u001b[38;5;124;03m\"\"\"Find an element given a By strategy and locator.\u001b[39;00m\n\u001b[1;32m    574\u001b[0m \n\u001b[1;32m    575\u001b[0m \u001b[38;5;124;03mParameters:\u001b[39;00m\n\u001b[0;32m   (...)\u001b[0m\n\u001b[1;32m    596\u001b[0m \u001b[38;5;124;03m    The first matching `WebElement` found on the page.\u001b[39;00m\n\u001b[1;32m    597\u001b[0m \u001b[38;5;124;03m\"\"\"\u001b[39;00m\n\u001b[1;32m    598\u001b[0m by, value \u001b[38;5;241m=\u001b[39m \u001b[38;5;28mself\u001b[39m\u001b[38;5;241m.\u001b[39m_parent\u001b[38;5;241m.\u001b[39mlocator_converter\u001b[38;5;241m.\u001b[39mconvert(by, value)\n\u001b[0;32m--> 599\u001b[0m \u001b[38;5;28;01mreturn\u001b[39;00m \u001b[38;5;28;43mself\u001b[39;49m\u001b[38;5;241;43m.\u001b[39;49m\u001b[43m_execute\u001b[49m\u001b[43m(\u001b[49m\u001b[43mCommand\u001b[49m\u001b[38;5;241;43m.\u001b[39;49m\u001b[43mFIND_CHILD_ELEMENT\u001b[49m\u001b[43m,\u001b[49m\u001b[43m \u001b[49m\u001b[43m{\u001b[49m\u001b[38;5;124;43m\"\u001b[39;49m\u001b[38;5;124;43musing\u001b[39;49m\u001b[38;5;124;43m\"\u001b[39;49m\u001b[43m:\u001b[49m\u001b[43m \u001b[49m\u001b[43mby\u001b[49m\u001b[43m,\u001b[49m\u001b[43m \u001b[49m\u001b[38;5;124;43m\"\u001b[39;49m\u001b[38;5;124;43mvalue\u001b[39;49m\u001b[38;5;124;43m\"\u001b[39;49m\u001b[43m:\u001b[49m\u001b[43m \u001b[49m\u001b[43mvalue\u001b[49m\u001b[43m}\u001b[49m\u001b[43m)\u001b[49m[\u001b[38;5;124m\"\u001b[39m\u001b[38;5;124mvalue\u001b[39m\u001b[38;5;124m\"\u001b[39m]\n",
      "File \u001b[0;32m~/Desktop/learning/09AdminPage/.venv/lib/python3.13/site-packages/selenium/webdriver/remote/webelement.py:570\u001b[0m, in \u001b[0;36mWebElement._execute\u001b[0;34m(self, command, params)\u001b[0m\n\u001b[1;32m    568\u001b[0m     params \u001b[38;5;241m=\u001b[39m {}\n\u001b[1;32m    569\u001b[0m params[\u001b[38;5;124m\"\u001b[39m\u001b[38;5;124mid\u001b[39m\u001b[38;5;124m\"\u001b[39m] \u001b[38;5;241m=\u001b[39m \u001b[38;5;28mself\u001b[39m\u001b[38;5;241m.\u001b[39m_id\n\u001b[0;32m--> 570\u001b[0m \u001b[38;5;28;01mreturn\u001b[39;00m \u001b[38;5;28;43mself\u001b[39;49m\u001b[38;5;241;43m.\u001b[39;49m\u001b[43m_parent\u001b[49m\u001b[38;5;241;43m.\u001b[39;49m\u001b[43mexecute\u001b[49m\u001b[43m(\u001b[49m\u001b[43mcommand\u001b[49m\u001b[43m,\u001b[49m\u001b[43m \u001b[49m\u001b[43mparams\u001b[49m\u001b[43m)\u001b[49m\n",
      "File \u001b[0;32m~/Desktop/learning/09AdminPage/.venv/lib/python3.13/site-packages/selenium/webdriver/remote/webdriver.py:429\u001b[0m, in \u001b[0;36mWebDriver.execute\u001b[0;34m(self, driver_command, params)\u001b[0m\n\u001b[1;32m    427\u001b[0m response \u001b[38;5;241m=\u001b[39m \u001b[38;5;28mself\u001b[39m\u001b[38;5;241m.\u001b[39mcommand_executor\u001b[38;5;241m.\u001b[39mexecute(driver_command, params)\n\u001b[1;32m    428\u001b[0m \u001b[38;5;28;01mif\u001b[39;00m response:\n\u001b[0;32m--> 429\u001b[0m     \u001b[38;5;28;43mself\u001b[39;49m\u001b[38;5;241;43m.\u001b[39;49m\u001b[43merror_handler\u001b[49m\u001b[38;5;241;43m.\u001b[39;49m\u001b[43mcheck_response\u001b[49m\u001b[43m(\u001b[49m\u001b[43mresponse\u001b[49m\u001b[43m)\u001b[49m\n\u001b[1;32m    430\u001b[0m     response[\u001b[38;5;124m\"\u001b[39m\u001b[38;5;124mvalue\u001b[39m\u001b[38;5;124m\"\u001b[39m] \u001b[38;5;241m=\u001b[39m \u001b[38;5;28mself\u001b[39m\u001b[38;5;241m.\u001b[39m_unwrap_value(response\u001b[38;5;241m.\u001b[39mget(\u001b[38;5;124m\"\u001b[39m\u001b[38;5;124mvalue\u001b[39m\u001b[38;5;124m\"\u001b[39m, \u001b[38;5;28;01mNone\u001b[39;00m))\n\u001b[1;32m    431\u001b[0m     \u001b[38;5;28;01mreturn\u001b[39;00m response\n",
      "File \u001b[0;32m~/Desktop/learning/09AdminPage/.venv/lib/python3.13/site-packages/selenium/webdriver/remote/errorhandler.py:232\u001b[0m, in \u001b[0;36mErrorHandler.check_response\u001b[0;34m(self, response)\u001b[0m\n\u001b[1;32m    230\u001b[0m         alert_text \u001b[38;5;241m=\u001b[39m value[\u001b[38;5;124m\"\u001b[39m\u001b[38;5;124malert\u001b[39m\u001b[38;5;124m\"\u001b[39m]\u001b[38;5;241m.\u001b[39mget(\u001b[38;5;124m\"\u001b[39m\u001b[38;5;124mtext\u001b[39m\u001b[38;5;124m\"\u001b[39m)\n\u001b[1;32m    231\u001b[0m     \u001b[38;5;28;01mraise\u001b[39;00m exception_class(message, screen, stacktrace, alert_text)  \u001b[38;5;66;03m# type: ignore[call-arg]  # mypy is not smart enough here\u001b[39;00m\n\u001b[0;32m--> 232\u001b[0m \u001b[38;5;28;01mraise\u001b[39;00m exception_class(message, screen, stacktrace)\n",
      "\u001b[0;31mNoSuchElementException\u001b[0m: Message: no such element: Unable to locate element: {\"method\":\"css selector\",\"selector\":\".badge\"}\n  (Session info: chrome=133.0.6943.99); For documentation on this error, please visit: https://www.selenium.dev/documentation/webdriver/troubleshooting/errors#no-such-element-exception\nStacktrace:\n0   chromedriver                        0x0000000100e12b58 cxxbridge1$str$ptr + 2724820\n1   chromedriver                        0x0000000100e0b1b8 cxxbridge1$str$ptr + 2693684\n2   chromedriver                        0x0000000100971afc cxxbridge1$string$len + 93348\n3   chromedriver                        0x00000001009b88f8 cxxbridge1$string$len + 383648\n4   chromedriver                        0x00000001009ae0bc cxxbridge1$string$len + 340580\n5   chromedriver                        0x00000001009f9b94 cxxbridge1$string$len + 650556\n6   chromedriver                        0x00000001009acba0 cxxbridge1$string$len + 335176\n7   chromedriver                        0x0000000100ddb610 cxxbridge1$str$ptr + 2498188\n8   chromedriver                        0x0000000100dde924 cxxbridge1$str$ptr + 2511264\n9   chromedriver                        0x0000000100dc0cb0 cxxbridge1$str$ptr + 2389292\n10  chromedriver                        0x0000000100ddf1cc cxxbridge1$str$ptr + 2513480\n11  chromedriver                        0x0000000100db1c98 cxxbridge1$str$ptr + 2327828\n12  chromedriver                        0x0000000100dfb880 cxxbridge1$str$ptr + 2629884\n13  chromedriver                        0x0000000100dfba08 cxxbridge1$str$ptr + 2630276\n14  chromedriver                        0x0000000100e0ae2c cxxbridge1$str$ptr + 2692776\n15  libsystem_pthread.dylib             0x0000000184f6b2e4 _pthread_start + 136\n16  libsystem_pthread.dylib             0x0000000184f660fc thread_start + 8\n"
     ]
    }
   ],
   "source": [
    "from selenium.webdriver.common.by import By\n",
    "# browser.find_element(By.CLASS_NAME, 'RNmpXc').text\n",
    "# browser.find_element(By.CLASS_NAME, 'RNmpXc').get_attribute('value')\n",
    "# <input class=\"RNmpXc\" value=\"I’m Feeling Lucky\" aria-label=\"I’m Feeling Lucky\" name=\"btnI\" type=\"submit\" jsaction=\"trigger.kWlxhc\" data-ved=\"0ahUKEwjqpdiAu4SLAxVF1zQHHY5tMUIQ19QECBQ\">\n",
    "\n",
    "# 1페이지의 링크 데이터 전부 수집\n",
    "\n",
    "# 1개의 베스트 셀러 링크 수집\n",
    "# browser.find_element(By.CLASS_NAME, 'gd_name').get_attribute('href')\n",
    "\n",
    "datas = browser.find_elements(By.CSS_SELECTOR, '.bx > .kin_wrap')\n",
    "\n",
    "for i in datas:\n",
    "    # print(i)\n",
    "    # print(i.text)\n",
    "    title = i.find_element(By.CLASS_NAME, 'question_txt').text\n",
    "    content = i.find_elements(By.CLASS_NAME, 'question_txt')[1].text\n",
    "    answer = i.find_element(By.CLASS_NAME, 'answer_text').text\n",
    "    name = i.find_element(By.CLASS_NAME, 'name').text\n",
    "    badge = i.find_element(By.CLASS_NAME, 'badge').text\n",
    "    etc = i.find_element(By.CSS_SELECTOR, '.etc').text\n",
    "    date = i.find_element(By.CSS_SELECTOR, '.etc.date').text\n",
    "    link = i.find_element(By.CLASS_NAME, 'link_question').get_attribute('href')\n",
    "\n",
    "    print(\"--------------------------\")\n",
    "    print(f\"title: {title}\")\n",
    "    print(f\"content: {content}\")\n",
    "    print(f\"answer: {answer}\")\n",
    "    print(f\"name: {name}\")\n",
    "    print(f\"badge: {badge}\")\n",
    "    print(f\"etc: {etc}\")\n",
    "    print(f\"date: {date}\")\n",
    "    print(f\"link: {link}\")\n",
    "    print(\"--------------------------\")"
   ]
  },
  {
   "cell_type": "code",
   "execution_count": null,
   "metadata": {},
   "outputs": [],
   "source": [
    "# 네이버 동적 스크랩핑\n",
    "\n",
    "from selenium import webdriver\n",
    "\n",
    "from selenium.webdriver.chrome.options import Options\n",
    "# time 내장함수 시간 조절\n",
    "import time\n",
    "\n",
    "# url 실행\n",
    "base_url=\"https://search.naver.com/search.naver?ssc=tab.blog.all&sm=tab_jum&query=\"\n",
    "keyword = input(\"키워드를 입력해주세요\").strip()\n",
    "url = base_url + keyword\n",
    "\n",
    "# 헤더 설정\n",
    "header_user = {\n",
    "    \"User-Agent\": \"Mozilla/5.0 (Windows NT 10.0; Win64; x64) AppleWebKit/537.36 (KHTML, like Gecko) Chrome/114.0.0.0 Safari/537.36\",\n",
    "    \"Accept-Language\": \"ko-KR,ko;q=0.9\",\n",
    "    \"Referer\": \"https://www.google.com/\",\n",
    "}\n",
    "\n",
    "options_ = Options()\n",
    "options_.add_argument(f\"User-Agent={header_user}\") # 유저 정보 넣기\n",
    "options_.add_experimental_option(\"detach\",False) # 자동으로 브라우저가 종료되지 않음\n",
    "options_.add_experimental_option(\"excludeSwitches\", [\"enable-logging\"])\n",
    "\n",
    "driver = webdriver.Chrome()\n",
    "\n",
    "driver.get(url)\n",
    "# driver.get(url, header=header_user)"
   ]
  }
 ],
 "metadata": {
  "kernelspec": {
   "display_name": ".venv",
   "language": "python",
   "name": "python3"
  },
  "language_info": {
   "codemirror_mode": {
    "name": "ipython",
    "version": 3
   },
   "file_extension": ".py",
   "mimetype": "text/x-python",
   "name": "python",
   "nbconvert_exporter": "python",
   "pygments_lexer": "ipython3",
   "version": "3.13.1"
  }
 },
 "nbformat": 4,
 "nbformat_minor": 2
}
