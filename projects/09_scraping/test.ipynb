{
 "cells": [
  {
   "cell_type": "code",
   "execution_count": null,
   "metadata": {},
   "outputs": [
    {
     "name": "stdout",
     "output_type": "stream",
     "text": [
      "{'acceptInsecureCerts': False, 'browserName': 'chrome', 'browserVersion': '133.0.6943.127', 'chrome': {'chromedriverVersion': '133.0.6943.126 (cffa127ce7b6be72885391527c15b452056a2e81-refs/branch-heads/6943@{#1570})', 'userDataDir': '/var/folders/2p/t5zfqmk17w12tc_w0z29t1k80000gn/T/.org.chromium.Chromium.uqvjR3'}, 'fedcm:accounts': True, 'goog:chromeOptions': {'debuggerAddress': 'localhost:53842'}, 'networkConnectionEnabled': False, 'pageLoadStrategy': 'normal', 'platformName': 'mac', 'proxy': {}, 'setWindowRect': True, 'strictFileInteractability': False, 'timeouts': {'implicit': 0, 'pageLoad': 300000, 'script': 30000}, 'unhandledPromptBehavior': 'dismiss and notify', 'webauthn:extension:credBlob': True, 'webauthn:extension:largeBlob': True, 'webauthn:extension:minPinLength': True, 'webauthn:extension:prf': True, 'webauthn:virtualAuthenticators': True}\n"
     ]
    }
   ],
   "source": [
    "from selenium import webdriver\n",
    "from selenium.webdriver.chrome.options import Options\n",
    "import time\n",
    "from bs4 import BeautifulSoup\n",
    "\n",
    "# URL 설정\n",
    "base_url = \"https://kream.co.kr/search?tab=products&keyword=\"\n",
    "keyword = \"슈프림\"\n",
    "url = base_url + keyword\n",
    "\n",
    "# 올바른 User-Agent 문자열 설정\n",
    "user_agent = \"Mozilla/5.0 (Windows NT 10.0; Win64; x64) AppleWebKit/537.36 (KHTML, like Gecko) Chrome/114.0.0.0 Safari/537.36\"\n",
    "\n",
    "# 옵션 설정\n",
    "options_ = Options()\n",
    "options_.add_argument(f\"--user-agent={user_agent}\")  # --user-agent 형식으로 설정 # User-Agent={} 형식이 아니라, --user-agent=...로 정확히 설정해야함.\n",
    "# options_.add_experimental_option(\"detach\", True)  # 브라우저 자동 종료 방지\n",
    "options_.add_experimental_option(\"excludeSwitches\", [\"enable-logging\", \"enable-automation\"])  # 따로 설정하면 마지막거만 설정됨. 이렇게 같이 적용\n",
    "\n",
    "# 크롬드라이버가 제대로 동작하지 않을시\n",
    "# from selenium.webdriver.chrome.service import Service\n",
    "# # ChromeDriver 실행 (Service 객체 명시적 설정)\n",
    "# service = Service()  # ChromeDriver 자동 감지 (경로 명시 안 함)\n",
    "# driver = webdriver.Chrome(service=service, options=options_)\n",
    "\n",
    "driver = webdriver.Chrome(options=options_)\n",
    "\n",
    "# 적용된 옵션 확인\n",
    "print(driver.capabilities)\n",
    "\n",
    "# 웹페이지 접속\n",
    "driver.get(url)\n"
   ]
  }
 ],
 "metadata": {
  "kernelspec": {
   "display_name": ".venv",
   "language": "python",
   "name": "python3"
  },
  "language_info": {
   "codemirror_mode": {
    "name": "ipython",
    "version": 3
   },
   "file_extension": ".py",
   "mimetype": "text/x-python",
   "name": "python",
   "nbconvert_exporter": "python",
   "pygments_lexer": "ipython3",
   "version": "3.13.1"
  }
 },
 "nbformat": 4,
 "nbformat_minor": 2
}
