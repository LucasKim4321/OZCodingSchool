{
 "cells": [
  {
   "cell_type": "code",
   "execution_count": 11,
   "metadata": {},
   "outputs": [
    {
     "name": "stdout",
     "output_type": "stream",
     "text": [
      " *\n",
      "**\n"
     ]
    }
   ],
   "source": [
    "import sys\n",
    "\n",
    "number = int(input().strip())\n",
    "for i in range(1, number+1):\n",
    "    print(f\"{' '*(number-i)}{'*'*i}\")"
   ]
  },
  {
   "cell_type": "markdown",
   "metadata": {},
   "source": [
    "더 이상 값이 주어지지 않을 때까지 더하기"
   ]
  },
  {
   "cell_type": "code",
   "execution_count": 13,
   "metadata": {},
   "outputs": [],
   "source": [
    "import sys\n",
    "\n",
    "while True:\n",
    "    try:\n",
    "        a,b = map(int, sys.stdin.readline().strip().split())\n",
    "    except:\n",
    "        break\n",
    "    print(a+b)"
   ]
  },
  {
   "cell_type": "code",
   "execution_count": null,
   "metadata": {},
   "outputs": [
    {
     "name": "stdout",
     "output_type": "stream",
     "text": [
      "a \n"
     ]
    }
   ],
   "source": [
    "import sys\n",
    "\n",
    "while True:\n",
    "\n",
    "    line = sys.stdin.readline().strip()\n",
    "\n",
    "    if line:\n",
    "        a, b = map(int, line.split())\n",
    "        print(a + b)\n",
    "    else:\n",
    "        break\n"
   ]
  },
  {
   "cell_type": "markdown",
   "metadata": {},
   "source": [
    "문제  \n",
    "총 N개의 정수가 주어졌을 때, 정수 v가 몇 개인지 구하는 프로그램을 작성하시오.\n",
    "\n",
    "입력  \n",
    "첫째 줄에 정수의 개수 N(1 ≤ N ≤ 100)이 주어진다. 둘째 줄에는 정수가 공백으로 구분되어져있다. 셋째 줄에는 찾으려고 하는 정수 v가 주어진다. 입력으로 주어지는 정수와  v는 -100보다 크거나 같으며, 100보다 작거나 같다.\n",
    "\n",
    "출력  \n",
    "첫째 줄에 입력으로 주어진 N개의 정수 중에 v가 몇 개인지 출력한다."
   ]
  },
  {
   "cell_type": "code",
   "execution_count": null,
   "metadata": {},
   "outputs": [],
   "source": [
    "import sys\n",
    "\n",
    "number = int(sys.stdin.readline().strip())\n",
    "numbers = map(int, sys.stdin.readline().strip().split())\n",
    "search = int(sys.stdin.readline().strip())\n",
    "count = 0\n",
    "for i in numbers:\n",
    "    if search == i:\n",
    "        count += 1\n",
    "print(count)"
   ]
  },
  {
   "cell_type": "markdown",
   "metadata": {},
   "source": [
    "x보다 작은 수"
   ]
  },
  {
   "cell_type": "code",
   "execution_count": null,
   "metadata": {},
   "outputs": [],
   "source": [
    "# x보다 작은 수 \n",
    "\n",
    "import sys\n",
    "\n",
    "n, x = map(int, sys.stdin.readline().strip().split())\n",
    "result = []\n",
    "for i in map(int, sys.stdin.readline().strip().split()):\n",
    "    if i < x:\n",
    "        result.append(i)\n",
    "\n",
    "print(*result)"
   ]
  },
  {
   "cell_type": "markdown",
   "metadata": {},
   "source": [
    "최대 최소 구하기"
   ]
  },
  {
   "cell_type": "code",
   "execution_count": null,
   "metadata": {},
   "outputs": [],
   "source": [
    "import sys\n",
    "\n",
    "n = int(sys.stdin.readline().strip())\n",
    "numbers = list(map(int, sys.stdin.readline().strip().split()))\n",
    "numbers.sort()\n",
    "print(numbers[0],numbers[-1])"
   ]
  },
  {
   "cell_type": "code",
   "execution_count": null,
   "metadata": {},
   "outputs": [],
   "source": [
    "import sys\n",
    "\n",
    "n = int(sys.stdin.readline().strip())\n",
    "numbers = list(map(int, sys.stdin.readline().strip().split()))\n",
    "print(min(numbers),max(numbers))"
   ]
  },
  {
   "cell_type": "markdown",
   "metadata": {},
   "source": []
  },
  {
   "cell_type": "code",
   "execution_count": null,
   "metadata": {},
   "outputs": [
    {
     "name": "stdout",
     "output_type": "stream",
     "text": [
      "66\n",
      "3\n"
     ]
    }
   ],
   "source": [
    "# 최대값 구하기\n",
    "\n",
    "import sys \n",
    "\n",
    "numbers=[]\n",
    "while True:\n",
    "    try:\n",
    "        numbers.append(int(sys.stdin.readline().strip()))\n",
    "    except:\n",
    "        break\n",
    "\n",
    "max_num = max(numbers)\n",
    "print(max_num)\n",
    "print(numbers.index(max_num)+1)"
   ]
  },
  {
   "cell_type": "code",
   "execution_count": null,
   "metadata": {},
   "outputs": [],
   "source": [
    "# 값을 한번에 여러개를 읽어옴\n",
    "\n",
    "import sys\n",
    "\n",
    "numbers = list(map(int, sys.stdin.read().split()))  # 모든 입력을 받아서 리스트로 변환\n",
    "\n",
    "if numbers:\n",
    "    max_num = max(numbers)\n",
    "    print(max_num)\n",
    "    print(numbers.index(max_num)+1)\n"
   ]
  },
  {
   "cell_type": "code",
   "execution_count": null,
   "metadata": {},
   "outputs": [],
   "source": [
    "# 공넣기\n",
    "# https://www.acmicpc.net/problem/10810\n",
    "\n",
    "import sys\n",
    "\n",
    "n, m = map(int, sys.stdin.readline().strip().split())\n",
    "basket = [0]*n\n",
    "\n",
    "for i in range(m):\n",
    "    start, end, b_num = map(int, sys.stdin.readline().strip().split())\n",
    "    for j in range(start-1,end):\n",
    "        basket[j] = b_num\n",
    "\n",
    "print(*basket)\n",
    "\n",
    "\n",
    "\n"
   ]
  },
  {
   "cell_type": "code",
   "execution_count": null,
   "metadata": {},
   "outputs": [],
   "source": [
    "import sys\n",
    "\n",
    "n, m = map(int, sys.stdin.readline().strip().split())\n",
    "basket = [0] * n\n",
    "\n",
    "for _ in range(m):\n",
    "    start, end, b_num = map(int, sys.stdin.readline().strip().split())\n",
    "    basket[start-1:end] = [b_num] * (end - (start-1))  # 슬라이싱을 사용하여 빠르게 변경\n",
    "\n",
    "print(*basket)\n"
   ]
  },
  {
   "cell_type": "code",
   "execution_count": null,
   "metadata": {},
   "outputs": [],
   "source": [
    "# n개의 같은 숫자를 가지고 있는 배열 만드는 법\n",
    "# 속도가 빠른 순\n",
    "\n",
    "# 1\n",
    "[0]*2\n",
    "\n",
    "# 2\n",
    "arr = []\n",
    "for _ in range(2):\n",
    "    arr.append(0)\n",
    "# 3\n",
    "from itertools import repeat\n",
    "list(repeat(2, 2))\t\n",
    "\n",
    "# 4\n",
    "arr = [0 for _ in range(2)]\n",
    "\n",
    "# 5\n",
    "arr = list(map(lambda x: 0, range(2)))\n"
   ]
  },
  {
   "cell_type": "code",
   "execution_count": null,
   "metadata": {},
   "outputs": [
    {
     "name": "stdout",
     "output_type": "stream",
     "text": [
      "2 1 3 4 5\n"
     ]
    }
   ],
   "source": [
    "# 공바꾸기\n",
    "# https://www.acmicpc.net/problem/10813\n",
    "\n",
    "import sys\n",
    "\n",
    "n, m = map(int, sys.stdin.readline().strip().split())\n",
    "\n",
    "basket = list(range(1,n+1))\n",
    "\n",
    "for _ in range(m):\n",
    "    i, j = map(int, sys.stdin.readline().strip().split())\n",
    "    basket[i-1],basket[j-1] = basket[j-1],basket[i-1]\n",
    "\n",
    "print(*basket)"
   ]
  },
  {
   "cell_type": "code",
   "execution_count": null,
   "metadata": {},
   "outputs": [],
   "source": [
    "#과제 안 내신분?\n",
    "# https://www.acmicpc.net/problem/5597\n",
    "\n",
    "import sys\n",
    "\n",
    "done = set(map(int, sys.stdin.read().strip().split()))\n",
    "\n",
    "for i in range(1,31):\n",
    "    if i not in done:\n",
    "        print(i)\n",
    "\n",
    "# 리스트(list)  ✅ 있음\t✅ 허용\t✅ 가능\tO(N)\t인덱스 접근 가능, 순서 유지\n",
    "# 튜플(tuple)   ✅ 있음\t✅ 허용\t❌ 불가능\tO(N)\t변경 불가능, 리스트보다 메모리 효율적\n",
    "# 집합(set)\t    ❌ 없음\t❌ 중복 불가\t✅ 가능\tO(1)\t빠른 검색, 집합 연산 가능\n",
    "\n",
    "# 교집합(a & b)\t        &\ta와 b에 모두 있는 원소\n",
    "# 합집합(a | b)\t        |\ta와 b를 합한 집합. 중복x\n",
    "# 차집합(a - b) \t    -\ta에는 있지만 b에는 없는 원소\n",
    "# 대칭 차집합(a ^ b)\t ^\t a 또는 b에만 있는 원소 (겹치는 부분 제외)(교집합의 반대)"
   ]
  },
  {
   "cell_type": "code",
   "execution_count": null,
   "metadata": {},
   "outputs": [],
   "source": [
    "import sys\n",
    "\n",
    "# 0으로 초기화된 리스트 (과제 미제출 상태)\n",
    "submitted = [0] * 30\n",
    "\n",
    "# 입력받아 해당 학생 번호를 1로 변경\n",
    "for student in map(int, sys.stdin.read().strip().split()):\n",
    "    submitted[student - 1] = 1  # 인덱스는 0부터 시작하므로 -1 해줌\n",
    "\n",
    "# 과제 안 낸 학생 출력 (값이 0인 인덱스 + 1)\n",
    "for i in range(30):\n",
    "    if submitted[i] == 0:\n",
    "        print(i + 1)  # 학생 번호는 1부터 시작하므로 +1\n"
   ]
  },
  {
   "cell_type": "code",
   "execution_count": null,
   "metadata": {},
   "outputs": [],
   "source": [
    "# 나머지\n",
    "# https://www.acmicpc.net/problem/3052\n",
    "\n",
    "import sys\n",
    "\n",
    "rests = set()\n",
    "\n",
    "for _ in range(10):\n",
    "    number = int(sys.stdin.readline().strip())\n",
    "    number = number % 42\n",
    "    rests.add(number)\n",
    "\n",
    "print(len(rests))"
   ]
  },
  {
   "cell_type": "code",
   "execution_count": null,
   "metadata": {},
   "outputs": [],
   "source": [
    "# 바구니 뒤집기\n",
    "# https://www.acmicpc.net/problem/10811\n",
    "import sys\n",
    "\n",
    "n, m = map(int, sys.stdin.readline().strip().split())\n",
    "\n",
    "basket = list(range(1, n+1))  # 1부터 n까지의 리스트 생성\n",
    "\n",
    "for _ in range(m):\n",
    "    i, j = map(int, sys.stdin.readline().strip().split())\n",
    "    \n",
    "    # 리스트의 특정 구간을 뒤집음\n",
    "    basket[i-1:j] = basket[i-1:j][::-1]  # 슽라이싱 한걸 다시 슬라이싱\n",
    "\n",
    "print(*basket)  # 리스트 요소를 공백으로 구분해 출력\n"
   ]
  },
  {
   "cell_type": "code",
   "execution_count": null,
   "metadata": {},
   "outputs": [
    {
     "name": "stdout",
     "output_type": "stream",
     "text": [
      "66.66666666666667\n"
     ]
    }
   ],
   "source": [
    "# 평균 조작\n",
    "# https://www.acmicpc.net/problem/1546\n",
    "\n",
    "import sys\n",
    "\n",
    "num = int(sys.stdin.readline().strip())\n",
    "results = list(map(int, sys.stdin.readline().strip().split()))\n",
    "m = max(results)\n",
    "\n",
    "for i in range(num):\n",
    "    results[i] = results[i]/m*100\n",
    "\n",
    "print(sum(results)/num)\n",
    "\n",
    "    "
   ]
  },
  {
   "cell_type": "code",
   "execution_count": 54,
   "metadata": {},
   "outputs": [
    {
     "data": {
      "text/plain": [
       "65"
      ]
     },
     "execution_count": 54,
     "metadata": {},
     "output_type": "execute_result"
    }
   ],
   "source": [
    "word = \"A\"\n",
    "ord(word) # ASCII 코드 리턴\n",
    "# chr(ord(word)) # 아스키 코드를 문자로 리턴\n"
   ]
  },
  {
   "cell_type": "code",
   "execution_count": null,
   "metadata": {},
   "outputs": [
    {
     "name": "stdout",
     "output_type": "stream",
     "text": [
      "    *\n",
      "   ***\n",
      "  *****\n",
      " *******\n",
      "*********\n"
     ]
    }
   ],
   "source": [
    "# 별찍기\n",
    "\n",
    "import sys\n",
    "\n",
    "num = int(sys.stdin.readline().strip())\n",
    "\n",
    "\n",
    "for i in range(1,num+1):\n",
    "    print(' '*(num-i) + '*'*(i*2-1))"
   ]
  },
  {
   "cell_type": "code",
   "execution_count": null,
   "metadata": {},
   "outputs": [
    {
     "name": "stdout",
     "output_type": "stream",
     "text": [
      "*********\n",
      " *******\n",
      "  *****\n",
      "   ***\n",
      "    *\n"
     ]
    }
   ],
   "source": [
    "# 별찍기\n",
    "\n",
    "import sys\n",
    "\n",
    "num = int(sys.stdin.readline().strip())\n",
    "\n",
    "for i in range(num):\n",
    "    print(' '*(i) + '*'*((num-i)*2-1))"
   ]
  },
  {
   "cell_type": "code",
   "execution_count": null,
   "metadata": {},
   "outputs": [
    {
     "name": "stdout",
     "output_type": "stream",
     "text": [
      "    *\n",
      "   ***\n",
      "  *****\n",
      " *******\n",
      "*********\n",
      " *******\n",
      "  *****\n",
      "   ***\n",
      "    *\n"
     ]
    }
   ],
   "source": [
    "# 별찍기\n",
    "\n",
    "import sys\n",
    "\n",
    "num = int(sys.stdin.readline().strip())\n",
    "\n",
    "for i in range(1,num+1):\n",
    "    print(' '*(num-i) + '*'*(i*2-1))\n",
    "\n",
    "for i in range(1,num):\n",
    "    print(' '*(i) + '*'*((num-i)*2-1))\n"
   ]
  },
  {
   "cell_type": "code",
   "execution_count": 66,
   "metadata": {},
   "outputs": [
    {
     "name": "stdout",
     "output_type": "stream",
     "text": [
      "*        *\n",
      "**      **\n",
      "***    ***\n",
      "****  ****\n",
      "**********\n",
      "****  ****\n",
      "***    ***\n",
      "**      **\n",
      "*        *\n"
     ]
    }
   ],
   "source": [
    "# 별찍기\n",
    "\n",
    "import sys\n",
    "\n",
    "# num = int(sys.stdin.readline().strip())\n",
    "num = int(input().strip())\n",
    "\n",
    "for i in range(1,num):\n",
    "    print('*'*(i) + ' '*((num-i)*2) + '*'*(i))\n",
    "\n",
    "for i in range(num):\n",
    "    print('*'*(num-i) + ' '*(i*2) + '*'*(num-i))\n"
   ]
  },
  {
   "cell_type": "code",
   "execution_count": 68,
   "metadata": {},
   "outputs": [
    {
     "name": "stdout",
     "output_type": "stream",
     "text": [
      "    *\n",
      "   **\n",
      "  ***\n",
      " ****\n",
      "*****\n",
      " ****\n",
      "  ***\n",
      "   **\n",
      "    *\n"
     ]
    }
   ],
   "source": [
    "# 별찍기\n",
    "\n",
    "num = int(input().strip())\n",
    "\n",
    "for i in range(1,num+1):\n",
    "    print(' '*(num-i) + '*'*(i))\n",
    "\n",
    "for i in range(1,num):\n",
    "    print(' '*(i) + '*'*(num-i))"
   ]
  },
  {
   "cell_type": "code",
   "execution_count": 69,
   "metadata": {},
   "outputs": [
    {
     "name": "stdout",
     "output_type": "stream",
     "text": [
      "*\n",
      "**\n",
      "***\n",
      "****\n",
      "*****\n",
      "****\n",
      "***\n",
      "**\n",
      "*\n"
     ]
    }
   ],
   "source": [
    "# 별찍기\n",
    "\n",
    "num = int(input().strip())\n",
    "\n",
    "for i in range(1,num+1):\n",
    "    print('*'*(i))\n",
    "\n",
    "for i in range(1,num):\n",
    "    print('*'*(num-i))"
   ]
  },
  {
   "cell_type": "code",
   "execution_count": null,
   "metadata": {},
   "outputs": [
    {
     "name": "stdout",
     "output_type": "stream",
     "text": [
      "    *\n",
      "   * *\n",
      "  *   *\n",
      " *     *\n",
      "*********\n"
     ]
    }
   ],
   "source": [
    "# 별찍기\n",
    "\n",
    "n=int(input().strip())\n",
    "for i in range(1,n+1):\n",
    "    if i==1 or i==n:\n",
    "        print(' '*(n-i)+'*'*(2*i-1))\n",
    "    else:\n",
    "        print(' '*(n-i)+'*'+' '*(2*(i-1)-1)+'*')"
   ]
  },
  {
   "cell_type": "code",
   "execution_count": null,
   "metadata": {},
   "outputs": [
    {
     "name": "stdout",
     "output_type": "stream",
     "text": [
      "        *\n",
      "       * *\n",
      "      * * *\n",
      "     * * * *\n",
      "    * * * * *\n",
      "   * * * * * *\n",
      "  * * * * * * *\n",
      " * * * * * * * *\n",
      "* * * * * * * * *\n"
     ]
    }
   ],
   "source": [
    "# 별찍기\n",
    "\n",
    "n=int(input().strip())\n",
    "for i in range(1,n+1):\n",
    "    print(' '*(n-i)+'* ' * i)\n"
   ]
  },
  {
   "cell_type": "code",
   "execution_count": 17,
   "metadata": {},
   "outputs": [
    {
     "name": "stdout",
     "output_type": "stream",
     "text": [
      "* * \n",
      " * *\n",
      "* * \n",
      " * *\n",
      "* * \n",
      " * *\n",
      "* * \n",
      " * *\n"
     ]
    }
   ],
   "source": [
    "n = int(input())\n",
    "\n",
    "a = '* '*((n//2)+(n%2))\n",
    "b = ' *'*(n//2)\n",
    "\n",
    "for i in range(n):\n",
    "    print(a,b, sep=\"\\n\")"
   ]
  },
  {
   "cell_type": "code",
   "execution_count": 14,
   "metadata": {},
   "outputs": [
    {
     "name": "stdout",
     "output_type": "stream",
     "text": [
      "* * *\n",
      " * *\n",
      "* * *\n",
      " * *\n",
      "* * *\n",
      " * *\n",
      "* * *\n",
      " * *\n",
      "* * *\n",
      " * *\n"
     ]
    }
   ],
   "source": [
    "N = int(input())\n",
    "\n",
    "snow1 = []  # 홀수 번째 별 저장\n",
    "snow2 = []  # 짝수 번째 별 저장\n",
    "\n",
    "for i in range(1, N + 1):  # 1부터 N까지 반복\n",
    "    if i % 2:\n",
    "        snow1.append('*')  # 홀수 번째 별 추가\n",
    "    else:\n",
    "        snow2.append('*')  # 짝수 번째 별 추가\n",
    "\n",
    "for _ in range(N):  # N번 반복\n",
    "\n",
    "    print(*snow1)  # 리스트의 별을 한 줄로 출력\n",
    "    if snow2:\n",
    "        print('', *snow2)  # 짝수 줄 출력\n",
    "    "
   ]
  },
  {
   "cell_type": "code",
   "execution_count": 1,
   "metadata": {},
   "outputs": [
    {
     "name": "stdout",
     "output_type": "stream",
     "text": [
      "*********\n",
      "*       *\n",
      "* ***** *\n",
      "* *   * *\n",
      "* * * * *\n",
      "* *   * *\n",
      "* ***** *\n",
      "*       *\n",
      "*********\n"
     ]
    }
   ],
   "source": [
    "n = int(input())\n",
    "\n",
    "for i in range(n):\n",
    "    print('* '*i + '*'*(4*(n-i-1)+1) + ' *'*(i))\n",
    "\n",
    "    if i != n-1:\n",
    "        print('* '*(i+1) + ' '*(4*(n-i-1)-3) + ' *'*(i+1))\n",
    "\n",
    "for i in reversed(range(n-1)):\n",
    "\n",
    "    print('* '*(i+1) + ' '*(4*(n-i-1)-3) + ' *'*(i+1))\n",
    "\n",
    "    print('* '*i + '*'*(4*(n-i-1)+1) + ' *'*(i))"
   ]
  },
  {
   "cell_type": "code",
   "execution_count": 3,
   "metadata": {},
   "outputs": [
    {
     "name": "stdout",
     "output_type": "stream",
     "text": [
      "*********\n",
      "*       *\n",
      "* ***** *\n",
      "* *   * *\n",
      "* * * * *\n",
      "* *   * *\n",
      "* ***** *\n",
      "*       *\n",
      "*********\n"
     ]
    }
   ],
   "source": [
    "n = int(input())\n",
    "stars = [[' ' for _ in range(4 * n - 3)] for _ in range(4 * n - 3)]\n",
    "\n",
    "def recur(num, x, y):\n",
    "    if num == 1:\n",
    "        stars[x][y] = '*'\n",
    "        return\n",
    "\n",
    "    length = 4 * num - 3\n",
    "\n",
    "    for i in range(length):\n",
    "        stars[x][y + i] = '*' # 윗변\n",
    "        stars[x + i][y] = '*' # 좌변\n",
    "        stars[x + i][y + length - 1] = '*' # 우변\n",
    "        stars[x + length - 1][y + i] = '*'  # 밑변\n",
    "\n",
    "    recur(num - 1, x + 2, y + 2)\n",
    "\n",
    "recur(n, 0, 0)\n",
    "for s in stars:\n",
    "    print(''.join(s)) "
   ]
  }
 ],
 "metadata": {
  "kernelspec": {
   "display_name": "Python 3",
   "language": "python",
   "name": "python3"
  },
  "language_info": {
   "codemirror_mode": {
    "name": "ipython",
    "version": 3
   },
   "file_extension": ".py",
   "mimetype": "text/x-python",
   "name": "python",
   "nbconvert_exporter": "python",
   "pygments_lexer": "ipython3",
   "version": "3.13.1"
  }
 },
 "nbformat": 4,
 "nbformat_minor": 2
}
