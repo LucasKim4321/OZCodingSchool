{
 "cells": [
  {
   "cell_type": "code",
   "execution_count": 26,
   "metadata": {},
   "outputs": [
    {
     "name": "stdout",
     "output_type": "stream",
     "text": [
      "*********\n",
      "         \n",
      "* ***** *\n",
      "*       *\n",
      "* ***** *\n",
      "* *   * *\n",
      "* * * * *\n",
      "* *   * *\n",
      "* ***** *\n",
      "*       *\n",
      "*********\n"
     ]
    }
   ],
   "source": [
    "# 별찍기\n",
    "# https://www.acmicpc.net/problem/10997\n",
    "\n",
    "n = int(input())\n",
    "stars = [[' ' for _ in range(4 * n - 3)] for _ in range(4 * n - 1)]\n",
    "\n",
    "def recur(num, y, x):\n",
    "    if num == 1:\n",
    "        stars[y][x] = '*'\n",
    "        return\n",
    "\n",
    "    length = 4 * num - 3\n",
    "\n",
    "    for i in range(length):\n",
    "\n",
    "        stars[y-2][x + i] = '*' # 윗변\n",
    "\n",
    "        # num == 2 일 때 추가\n",
    "        if num == 2:\n",
    "            stars[y][x + i] = '*' # 윗변2\n",
    "\n",
    "        stars[y + i][x] = '*' # 좌변\n",
    "\n",
    "        stars[y + i][x + length - 1] = '*' # 우변\n",
    "\n",
    "        stars[y + length - 1][x + i] = '*'  # 밑변\n",
    "\n",
    "    recur(num - 1, y + 2, x + 2)\n",
    "\n",
    "recur(n, 2, 0)\n",
    "for s in stars:\n",
    "    print(''.join(s)) "
   ]
  },
  {
   "cell_type": "code",
   "execution_count": null,
   "metadata": {},
   "outputs": [
    {
     "name": "stdout",
     "output_type": "stream",
     "text": [
      "*********\n",
      "* ** ** *\n",
      "*********\n",
      "***   ***\n",
      "* *   * *\n",
      "***   ***\n",
      "*********\n",
      "* ** ** *\n",
      "*********\n",
      "[['*', '*', '*', '*', '*', '*', '*', '*', '*'], ['*', ' ', '*', '*', ' ', '*', '*', ' ', '*'], ['*', '*', '*', '*', '*', '*', '*', '*', '*'], ['*', '*', '*', ' ', ' ', ' ', '*', '*', '*'], ['*', ' ', '*', ' ', ' ', ' ', '*', ' ', '*'], ['*', '*', '*', ' ', ' ', ' ', '*', '*', '*'], ['*', '*', '*', '*', '*', '*', '*', '*', '*'], ['*', ' ', '*', '*', ' ', '*', '*', ' ', '*'], ['*', '*', '*', '*', '*', '*', '*', '*', '*']]\n"
     ]
    }
   ],
   "source": [
    "# 내가 만든거 :b\n",
    "\n",
    "n = int(input())\n",
    "\n",
    "stars = [[' ' for _ in range(n)] for _ in range(n)]\n",
    "# stars = [[' ']*n]*n  # 이렇게 하면 같은 모양의 배열이 만들어지지만 * 연산이 참조(주소) 복사를 하기 때문에 이상하게 동작함.\n",
    "\n",
    "def star(n,x,y): # n:반복할 횟수 정보, (x,y):시작 위치 정보\n",
    "\n",
    "    n = n//3\n",
    "\n",
    "    for i in range(3):\n",
    "        for j in range(3):\n",
    "            if i == 1 and j == 1:\n",
    "                continue\n",
    "            if n == 1:\n",
    "                stars[x+i][y+j] = '*'\n",
    "                continue\n",
    "            star(n, x+(i*n), y+(j*n))\n",
    "\n",
    "star(n, 0, 0) # 반복할 횟수 정보, 시작 위치 정보를 매개변수로 넘겨줌\n",
    "\n",
    "\n",
    "for s in stars:\n",
    "    print(''.join(s))\n",
    "print(stars)"
   ]
  },
  {
   "cell_type": "code",
   "execution_count": 51,
   "metadata": {},
   "outputs": [
    {
     "name": "stdout",
     "output_type": "stream",
     "text": [
      "*********\n",
      "* ** ** *\n",
      "*********\n",
      "***   ***\n",
      "* *   * *\n",
      "***   ***\n",
      "*********\n",
      "* ** ** *\n",
      "*********\n",
      "['*********', '* ** ** *', '*********', '***   ***', '* *   * *', '***   ***', '*********', '* ** ** *', '*********']\n"
     ]
    }
   ],
   "source": [
    "# 다른 사람이 만든 많이 빠른 답\n",
    "\n",
    "def dfs(n):\n",
    "    if n == 1 :\n",
    "         return [\"*\"]\n",
    "    stars = dfs(n//3)\n",
    "    l = []\n",
    "    \n",
    "    for s in stars:\n",
    "        l.append(s*3)\n",
    "    for s in stars:\n",
    "        l.append(s+\" \"*(n//3)+s)\n",
    "    for s in stars:\n",
    "        l.append(s*3)\n",
    "    return l\n",
    "\n",
    "m = int(input())\n",
    "print('\\n'.join(dfs(m)))\n",
    "print(dfs(m))"
   ]
  },
  {
   "cell_type": "code",
   "execution_count": 68,
   "metadata": {},
   "outputs": [
    {
     "name": "stdout",
     "output_type": "stream",
     "text": [
      "  *  \n",
      "  * *  \n",
      " ***** \n",
      "  *   *  \n",
      "  * *   * *  \n",
      " ***** ***** \n",
      " *  *  *  *  *  *  *  *  *  * \n",
      " * *  * *  * *  * *  * *  * *  * *  * *  * *  * * \n",
      "**************************************************\n",
      "['  *  ', '  * *  ', ' ***** ', '  *   *  ', '  * *   * *  ', ' ***** ***** ', ' *  *  *  *  *  *  *  *  *  * ', ' * *  * *  * *  * *  * *  * *  * *  * *  * *  * * ', '**************************************************']\n"
     ]
    }
   ],
   "source": [
    "def dfs(n):\n",
    "    if n == 1 :\n",
    "         return [\"*\"]\n",
    "    stars = dfs(n//2)\n",
    "    l = []\n",
    "    \n",
    "    for s in stars:\n",
    "        l.append(\" \" + s + \" \")\n",
    "    for s in stars:\n",
    "        l.append(\" \" + s + \" \" + s + \" \")\n",
    "    for s in stars:\n",
    "        l.append(s * (2*n - n//3))\n",
    "    return l\n",
    "\n",
    "m = int(input())\n",
    "print('\\n'.join(dfs(m)))\n",
    "print(dfs(m))\n",
    "\n",
    "# 2n - n//3"
   ]
  }
 ],
 "metadata": {
  "kernelspec": {
   "display_name": "Python 3",
   "language": "python",
   "name": "python3"
  },
  "language_info": {
   "codemirror_mode": {
    "name": "ipython",
    "version": 3
   },
   "file_extension": ".py",
   "mimetype": "text/x-python",
   "name": "python",
   "nbconvert_exporter": "python",
   "pygments_lexer": "ipython3",
   "version": "3.13.1"
  }
 },
 "nbformat": 4,
 "nbformat_minor": 2
}
