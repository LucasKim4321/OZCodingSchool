{
 "cells": [
  {
   "cell_type": "markdown",
   "metadata": {},
   "source": [
    "튜플은 list와 비슷한 시퀀스 자료형이빈다. 단, list와의 차이점은 요소를 바꿀 수 없다는 점입니다.\n",
    "\n",
    "튜플을 생성할때는 소괄호 \"()\"를 이용합니다.\n",
    "\n",
    "변수명 = (데이터1, 데이터2, 데이터3)"
   ]
  },
  {
   "cell_type": "code",
   "execution_count": 2,
   "metadata": {},
   "outputs": [
    {
     "name": "stdout",
     "output_type": "stream",
     "text": [
      "(1, 2, 3)\n",
      "1\n",
      "2\n",
      "3\n"
     ]
    }
   ],
   "source": [
    "oz_tuple = (1,2,3)\n",
    "\n",
    "print(oz_tuple)\n",
    "print(oz_tuple[0])\n",
    "print(oz_tuple[1])\n",
    "print(oz_tuple[2])\n",
    "# print(oz_tuple[3])  # 없으면 에러"
   ]
  },
  {
   "cell_type": "code",
   "execution_count": 3,
   "metadata": {},
   "outputs": [
    {
     "ename": "TypeError",
     "evalue": "'tuple' object does not support item assignment",
     "output_type": "error",
     "traceback": [
      "\u001b[1;31m---------------------------------------------------------------------------\u001b[0m",
      "\u001b[1;31mTypeError\u001b[0m                                 Traceback (most recent call last)",
      "Cell \u001b[1;32mIn[3], line 2\u001b[0m\n\u001b[0;32m      1\u001b[0m \u001b[38;5;66;03m# 튜플은 데이터 변경이 불가하므로 아래 코드 실행 시 오류 발생!\u001b[39;00m\n\u001b[1;32m----> 2\u001b[0m \u001b[43moz_tuple\u001b[49m\u001b[43m[\u001b[49m\u001b[38;5;241;43m2\u001b[39;49m\u001b[43m]\u001b[49m \u001b[38;5;241m=\u001b[39m \u001b[38;5;241m5\u001b[39m\n",
      "\u001b[1;31mTypeError\u001b[0m: 'tuple' object does not support item assignment"
     ]
    }
   ],
   "source": [
    "# 튜플은 데이터 변경이 불가하므로 아래 코드 실행 시 오류 발생!\n",
    "oz_tuple[2] = 5"
   ]
  },
  {
   "cell_type": "markdown",
   "metadata": {},
   "source": [
    "튜플을 이용해 괄호 없이 여러 값을 할당 할 수 있습니다."
   ]
  },
  {
   "cell_type": "code",
   "execution_count": 6,
   "metadata": {},
   "outputs": [
    {
     "name": "stdout",
     "output_type": "stream",
     "text": [
      "(1, 2, 3, 4)\n",
      "<class 'tuple'>\n",
      "2\n"
     ]
    }
   ],
   "source": [
    "oz_tuple = 1,2,3,4\n",
    "\n",
    "print(oz_tuple)\n",
    "print(type(oz_tuple))\n",
    "print(oz_tuple[1])"
   ]
  },
  {
   "cell_type": "code",
   "execution_count": 38,
   "metadata": {},
   "outputs": [
    {
     "name": "stdout",
     "output_type": "stream",
     "text": [
      "1\n",
      "<class 'int'>\n",
      "(1, 2, 3)\n",
      "<class 'tuple'>\n"
     ]
    }
   ],
   "source": [
    "x, y, z = 1, 2, 3  # 실제론 튜플을 이용함\n",
    "print(x)\n",
    "print(type(x))\n",
    "\n",
    "x, y, z = (1, 2, 3),(1, 2, 3),(1, 2, 3)\n",
    "print(x)\n",
    "print(type(x))"
   ]
  },
  {
   "cell_type": "markdown",
   "metadata": {},
   "source": [
    "튜플 내부의 값을 변경할 수는 없지만 값을 교환할 수는 있습니다."
   ]
  },
  {
   "cell_type": "code",
   "execution_count": 20,
   "metadata": {},
   "outputs": [
    {
     "name": "stdout",
     "output_type": "stream",
     "text": [
      "(1, 2) (3, 4)\n",
      "(3, 4) (1, 2)\n",
      "<class 'tuple'>\n"
     ]
    }
   ],
   "source": [
    "x, y = (1, 2),(3, 4)\n",
    "print(x, y)\n",
    "\n",
    "x, y = y, x\n",
    "print(x, y)\n",
    "print(type(x))"
   ]
  },
  {
   "cell_type": "markdown",
   "metadata": {},
   "source": [
    "튜플을 이용하면 여러 개의 값을 리턴할 수 있습니다."
   ]
  },
  {
   "cell_type": "code",
   "execution_count": 22,
   "metadata": {},
   "outputs": [
    {
     "name": "stdout",
     "output_type": "stream",
     "text": [
      "1\n",
      "<class 'int'>\n",
      "2\n",
      "<class 'int'>\n"
     ]
    }
   ],
   "source": [
    "# 이렇게 하니 tuple안에 내용을 꺼집어내서 x,y에 각 각 대입함\n",
    "# x, y = 1, 2 와 동일 해짐\n",
    "\n",
    "def oz_tuple():\n",
    "    return (1, 2)\n",
    "\n",
    "x, y = oz_tuple()\n",
    "\n",
    "print(x)\n",
    "print(type(x))\n",
    "print(y)\n",
    "print(type(y))"
   ]
  },
  {
   "cell_type": "code",
   "execution_count": 23,
   "metadata": {},
   "outputs": [
    {
     "name": "stdout",
     "output_type": "stream",
     "text": [
      "(1, 2)\n",
      "<class 'tuple'>\n",
      "(3, 4)\n",
      "<class 'tuple'>\n"
     ]
    }
   ],
   "source": [
    "# 이렇게 하면 각 튜플을 각 x, y에 대입함\n",
    "# x, y = (1, 2),(3, 4) 와 동일 해짐\n",
    "\n",
    "def oz_tuple():\n",
    "    return (1, 2),(3, 4)\n",
    "\n",
    "x, y = oz_tuple()\n",
    "\n",
    "print(x)\n",
    "print(type(x))\n",
    "print(y)\n",
    "print(type(y))"
   ]
  },
  {
   "cell_type": "code",
   "execution_count": 35,
   "metadata": {},
   "outputs": [
    {
     "name": "stdout",
     "output_type": "stream",
     "text": [
      "0 1\n",
      "1 2\n",
      "2 3\n",
      "3 4\n",
      "0 (1, 2)\n",
      "<class 'int'>\n",
      "<class 'tuple'>\n",
      "1 (3, 4)\n",
      "<class 'int'>\n",
      "<class 'tuple'>\n",
      "2 (5, 6)\n",
      "<class 'int'>\n",
      "<class 'tuple'>\n",
      "3 (7, 8)\n",
      "<class 'int'>\n",
      "<class 'tuple'>\n"
     ]
    }
   ],
   "source": [
    "# 튜플을 이용한 내부 합수들\n",
    "# enumerate()의 i, fruit는 (i, fruit)이나 괄호를 생략한 상태입니다.\n",
    "\n",
    "# int\n",
    "for i, fruit in enumerate([1,2,3,4]):\n",
    "    print(i, fruit)\n",
    "    # print(type(i))\n",
    "    # print(type(fruit))\n",
    "\n",
    "# tuple\n",
    "for i, fruit in enumerate([(1,2),(3,4),(5,6),(7,8)]):\n",
    "    print(i, fruit)\n",
    "    print(type(i))\n",
    "    print(type(fruit))"
   ]
  },
  {
   "cell_type": "code",
   "execution_count": 42,
   "metadata": {},
   "outputs": [
    {
     "name": "stdout",
     "output_type": "stream",
     "text": [
      "몫: 2\n",
      "나머지: 1\n",
      "<class 'int'>\n",
      "<class 'int'>\n"
     ]
    }
   ],
   "source": [
    "# divmode() 사용 시 튜플 형태로 몫과 나머지를 반환\n",
    "\n",
    "a, b = 7, 3\n",
    "x, y = divmod(a,b)\n",
    "print(\"몫:\",x)\n",
    "print(\"나머지:\",y)\n",
    "\n",
    "print(type(x))\n",
    "print(type(y))\n"
   ]
  },
  {
   "cell_type": "markdown",
   "metadata": {},
   "source": [
    "지금부터는 강의를 잠시 멈추고 아래 2가지 키워드에 대해서 여러분들이 이해한 방식대로 정리하는 시간을 가져보시기 바랍니다.\n",
    "\n",
    "- 튜플의 특징에 대해 설명해주세요\n",
    "- 괄호 없이 여러 개의 값을 할당하는 코드 작성법에 대해 설명해주세요\n"
   ]
  },
  {
   "cell_type": "markdown",
   "metadata": {},
   "source": [
    "### 1. 튜플의 특징\n",
    "튜플(Tuple)은 Python의 내장 자료형 중 하나로, 여러 값을 그룹으로 묶는 데 사용됩니다.\n",
    "\n",
    "#### 주요 특징:\n",
    "1. **불변성(Immutable)**:\n",
    "   - 튜플은 생성된 이후 수정할 수 없습니다. 요소를 추가, 삭제, 변경할 수 없으며, 값이 고정된 데이터 구조로 사용됩니다.\n",
    "\n",
    "2. **순서 보장(Order)**:\n",
    "   - 요소들이 추가된 순서를 유지하며, 인덱스를 통해 요소에 접근할 수 있습니다.\n",
    "   - 예: `my_tuple[0]`으로 첫 번째 요소에 접근.\n",
    "\n",
    "3. **중복 허용**:\n",
    "   - 동일한 값이 여러 번 포함될 수 있습니다.\n",
    "   - 예: `(1, 2, 2, 3)`.\n",
    "\n",
    "4. **다양한 데이터 타입 저장 가능**:\n",
    "   - 문자열, 숫자, 리스트 등 다양한 데이터 타입을 하나의 튜플 안에 저장할 수 있습니다.\n",
    "   - 예: `(1, \"hello\", [3, 4])`.\n",
    "\n",
    "5. **소괄호 사용**:\n",
    "   - 튜플은 보통 소괄호 `()`를 사용해 정의되지만, 소괄호 없이도 튜플로 묶일 수 있습니다.\n",
    "   - 예: `my_tuple = 1, 2, 3`.\n",
    "\n",
    "6. **가볍고 빠름**:\n",
    "   - 리스트보다 메모리를 덜 사용하며, 읽기 전용 데이터에 적합합니다.\n",
    "\n",
    "#### 튜플의 사용 예시:\n",
    "```python\n",
    "# 튜플 생성\n",
    "my_tuple = (1, 2, 3)\n",
    "\n",
    "# 요소 접근\n",
    "print(my_tuple[0])  # 출력: 1\n",
    "\n",
    "# 중첩된 데이터\n",
    "nested_tuple = (1, (2, 3), \"hello\")\n",
    "print(nested_tuple[1][1])  # 출력: 3"
   ]
  },
  {
   "cell_type": "markdown",
   "metadata": {},
   "source": [
    "### 2. 괄호 없이 여러 개의 값을 할당하는 코드 작성법\n",
    "Python에서는 괄호 없이도 여러 값을 **쉼표(,)**로 구분하여 튜플로 할당할 수 있습니다. 이를 **튜플 언패킹(Tuple Unpacking)**이라고도 합니다.\n",
    "\n",
    "#### 예시:\n",
    "```python\n",
    "# 여러 값을 할당\n",
    "a, b, c = 1, 2, 3\n",
    "print(a, b, c)  # 출력: 1 2 3\n",
    "```\n",
    "**특징**:\n",
    "1. **튜플 언패킹**:\n",
    "    - 튜플의 요소를 변수에 각각 할당할 수 있습니다.\n",
    "    - 예: `x, y = (10, 20)`\n",
    "\n",
    "2. **괄호 생략 가능**:\n",
    "    - 튜플을 정의할 때 괄호를 생략해도 Python은 자동으로 튜플로 인식합니다.\n",
    "    - 예: `x, y = 10, 20`는 `x, y = (10, 20)`와 동일.\n",
    "3. **교환(Swap)**:\n",
    "    - 두 변수의 값을 간단히 교환할 수 있습니다.\n",
    "    - 예: `a, b = b, a`\n",
    "\n",
    "**코드 예제**:\n",
    "```python\n",
    "코드 복사\n",
    "# 괄호 없이 튜플 생성 및 할당\n",
    "x, y, z = 4, 5, 6\n",
    "print(x, y, z)  # 출력: 4 5 6\n",
    "\n",
    "# 변수 교환\n",
    "a, b = 1, 2\n",
    "a, b = b, a\n",
    "print(a, b)  # 출력: 2 1\n",
    "\n",
    "# 튜플 언패킹\n",
    "tuple_data = (10, 20, 30)\n",
    "x, y, z = tuple_data\n",
    "print(x, y, z)  # 출력: 10 20 30\n",
    "```"
   ]
  }
 ],
 "metadata": {
  "kernelspec": {
   "display_name": "Python 3",
   "language": "python",
   "name": "python3"
  },
  "language_info": {
   "codemirror_mode": {
    "name": "ipython",
    "version": 3
   },
   "file_extension": ".py",
   "mimetype": "text/x-python",
   "name": "python",
   "nbconvert_exporter": "python",
   "pygments_lexer": "ipython3",
   "version": "3.11.9"
  }
 },
 "nbformat": 4,
 "nbformat_minor": 2
}
