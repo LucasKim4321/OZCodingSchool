{
 "cells": [
  {
   "cell_type": "markdown",
   "metadata": {},
   "source": [
    "## 조기 리턴 (Early Return)\n",
    "\n",
    "- Early Return은 함수나 메서드에서 조건을 만족하면 중간에 반환(return)하여 함수의 실행을 빠르게 종료하는 프로그래밍 기법입니다.<br>\n",
    "이 방식은 코드를 더 간결하고 읽기 쉽게 만드는 데 도움이 됩니다."
   ]
  },
  {
   "cell_type": "code",
   "execution_count": 2,
   "metadata": {},
   "outputs": [
    {
     "name": "stdout",
     "output_type": "stream",
     "text": [
      "피보나치 수열 10을 구하는 중입니다.\n",
      "피보나치 수열 9을 구하는 중입니다.\n",
      "피보나치 수열 8을 구하는 중입니다.\n",
      "피보나치 수열 7을 구하는 중입니다.\n",
      "피보나치 수열 6을 구하는 중입니다.\n",
      "피보나치 수열 5을 구하는 중입니다.\n",
      "피보나치 수열 4을 구하는 중입니다.\n",
      "피보나치 수열 3을 구하는 중입니다.\n",
      "피보나치 수열 2을 구하는 중입니다.\n",
      "피보나치 수열 1을 구하는 중입니다.\n",
      "피보나치 수열 2을 구하는 중입니다.\n",
      "피보나치 수열 3을 구하는 중입니다.\n",
      "피보나치 수열 4을 구하는 중입니다.\n",
      "피보나치 수열 5을 구하는 중입니다.\n",
      "피보나치 수열 6을 구하는 중입니다.\n",
      "피보나치 수열 7을 구하는 중입니다.\n",
      "피보나치 수열 8을 구하는 중입니다.\n",
      "피보나치 수열 10을 구하기 위해 계산된 횟수는 17입니다.\n"
     ]
    }
   ],
   "source": [
    "memo = {\n",
    "    1: 1, \n",
    "    2: 1,\n",
    "}\n",
    "\n",
    "count = 0\n",
    "\n",
    "def oz_fibo(n):\n",
    "    print(f\"피보나치 수열 {n}을 구하는 중입니다.\")\n",
    "    global count  # 함수내에서 전역변수를 사용하기위해 global을 사용.  읽어오는건 global안써도됨.\n",
    "    count += 1\n",
    "\n",
    "    if n in memo:\n",
    "        return memo[n]\n",
    "    \n",
    "    output = oz_fibo(n-1) + oz_fibo(n-2)\n",
    "    memo[n] = output\n",
    "    return output\n",
    "    \n",
    "n = int(input(\"구하고자하는 피보나치 수열의 수를 입력하세요.\").strip()) \n",
    "oz_fibo(n)\n",
    "print(f\"피보나치 수열 {n}을 구하기 위해 계산된 횟수는 {count}입니다.\")"
   ]
  }
 ],
 "metadata": {
  "kernelspec": {
   "display_name": "Python 3",
   "language": "python",
   "name": "python3"
  },
  "language_info": {
   "codemirror_mode": {
    "name": "ipython",
    "version": 3
   },
   "file_extension": ".py",
   "mimetype": "text/x-python",
   "name": "python",
   "nbconvert_exporter": "python",
   "pygments_lexer": "ipython3",
   "version": "3.11.9"
  }
 },
 "nbformat": 4,
 "nbformat_minor": 2
}
