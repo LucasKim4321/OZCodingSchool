{
 "cells": [
  {
   "cell_type": "markdown",
   "metadata": {},
   "source": [
    "사용자의 이름, 나이, 성별을 출력하는 함수 print_info를 작성하세요. 이 때, 모든 매개변수는 키워드 매개변수로만 받도록 하세요."
   ]
  },
  {
   "cell_type": "code",
   "execution_count": 7,
   "metadata": {},
   "outputs": [
    {
     "name": "stdout",
     "output_type": "stream",
     "text": [
      "사용자의 이름: 익명 나이: 99 성별: something\n",
      "사용자의 이름: 태진 나이: 20 성별: 남\n",
      "사용자의 이름: 익명 나이: 20 성별: something\n"
     ]
    }
   ],
   "source": [
    "def print_info(name = '익명', age = 99, gender = 'something'):\n",
    "    print(f\"사용자의 이름: {name} 나이: {age} 성별: {gender}\")\n",
    "\n",
    "print_info()\n",
    "print_info('태진',20,'남')\n",
    "print_info(age=20)"
   ]
  },
  {
   "cell_type": "code",
   "execution_count": 6,
   "metadata": {},
   "outputs": [
    {
     "name": "stdout",
     "output_type": "stream",
     "text": [
      "사용자의 이름: 태진 나이: 20 성별: 남\n",
      "사용자의 이름: 김홍남 나이: 20 성별: trans\n"
     ]
    }
   ],
   "source": [
    "def print_info(name, age = 99, gender = 'something'):\n",
    "    print(f\"사용자의 이름: {name} 나이: {age} 성별: {gender}\")\n",
    "\n",
    "# print_info()\n",
    "print_info('태진',20,'남')\n",
    "print_info(gender=\"trans\", age=20, name='김홍남')"
   ]
  }
 ],
 "metadata": {
  "kernelspec": {
   "display_name": "Python 3",
   "language": "python",
   "name": "python3"
  },
  "language_info": {
   "codemirror_mode": {
    "name": "ipython",
    "version": 3
   },
   "file_extension": ".py",
   "mimetype": "text/x-python",
   "name": "python",
   "nbconvert_exporter": "python",
   "pygments_lexer": "ipython3",
   "version": "3.11.9"
  }
 },
 "nbformat": 4,
 "nbformat_minor": 2
}
