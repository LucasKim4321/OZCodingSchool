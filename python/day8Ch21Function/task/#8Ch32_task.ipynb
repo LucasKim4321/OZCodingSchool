{
 "cells": [
  {
   "cell_type": "markdown",
   "metadata": {},
   "source": [
    "두 문자열을 받아서 긴 문자열을 반환하는 함수 longer_string을 작성하세요. 만약 두 문자열의 길이가 같다면, 첫 번째 문자열을 반환하세요."
   ]
  },
  {
   "cell_type": "code",
   "execution_count": 5,
   "metadata": {},
   "outputs": [
    {
     "name": "stdout",
     "output_type": "stream",
     "text": [
      "가나다라마바사\n",
      "바사바사123\n",
      "456\n"
     ]
    }
   ],
   "source": [
    "def longer_string(string1, string2):\n",
    "    if len(string1) >= len(string2):\n",
    "        return string1\n",
    "    else:\n",
    "        return string2\n",
    "\n",
    "print(longer_string('123','가나다라마바사'))\n",
    "print(longer_string('바사바사123','가나다'))\n",
    "print(longer_string('456','가나다'))\n",
    "\n",
    "    "
   ]
  }
 ],
 "metadata": {
  "kernelspec": {
   "display_name": "Python 3",
   "language": "python",
   "name": "python3"
  },
  "language_info": {
   "codemirror_mode": {
    "name": "ipython",
    "version": 3
   },
   "file_extension": ".py",
   "mimetype": "text/x-python",
   "name": "python",
   "nbconvert_exporter": "python",
   "pygments_lexer": "ipython3",
   "version": "3.11.9"
  }
 },
 "nbformat": 4,
 "nbformat_minor": 2
}
