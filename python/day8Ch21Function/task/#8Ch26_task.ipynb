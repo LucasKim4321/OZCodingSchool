{
 "cells": [
  {
   "cell_type": "markdown",
   "metadata": {},
   "source": [
    "0부터 시작하여 n까지의 숫자 중에서 홀수만 생성하는 제너레이터 odd_numbers를 작성하세요."
   ]
  },
  {
   "cell_type": "code",
   "execution_count": 22,
   "metadata": {},
   "outputs": [
    {
     "name": "stdout",
     "output_type": "stream",
     "text": [
      "1\n",
      "3\n",
      "5\n",
      "7\n",
      "9\n"
     ]
    }
   ],
   "source": [
    "# 제너레이터 함수는 `yield` 키워드를 사용하여 값을 하나씩 반환합니다.\n",
    "# 함수는 호출될 때 실행을 중단하고 `yield`를 통해 값을 반환하며, 이후 호출 시 이전 상태에서 실행을 재개합니다.\n",
    "\n",
    "def odd_numbers(n):\n",
    "    for i in range(n):\n",
    "        if i % 2 != 0:\n",
    "            yield i\n",
    "\n",
    "for num in odd_numbers(10):\n",
    "    print(num)"
   ]
  }
 ],
 "metadata": {
  "kernelspec": {
   "display_name": "Python 3",
   "language": "python",
   "name": "python3"
  },
  "language_info": {
   "codemirror_mode": {
    "name": "ipython",
    "version": 3
   },
   "file_extension": ".py",
   "mimetype": "text/x-python",
   "name": "python",
   "nbconvert_exporter": "python",
   "pygments_lexer": "ipython3",
   "version": "3.11.9"
  }
 },
 "nbformat": 4,
 "nbformat_minor": 2
}
