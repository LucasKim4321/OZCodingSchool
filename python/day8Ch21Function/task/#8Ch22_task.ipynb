{
 "cells": [
  {
   "cell_type": "markdown",
   "metadata": {},
   "source": [
    "여러 숫자를 입력받아 그 합계를 반환하는 함수 sum_numbers를 작성하세요. 이 때, 가변 매개변수를 사용하세요."
   ]
  },
  {
   "cell_type": "code",
   "execution_count": 5,
   "metadata": {},
   "outputs": [
    {
     "name": "stdout",
     "output_type": "stream",
     "text": [
      "<class 'tuple'>\n",
      "20\n"
     ]
    }
   ],
   "source": [
    "def sum_numbers(*nums: int) -> int:\n",
    "    print(type(nums))\n",
    "    \n",
    "    result = 0\n",
    "    for i in nums:\n",
    "        result += i\n",
    "    return result\n",
    "\n",
    "print(sum_numbers(1,4,6,9))"
   ]
  },
  {
   "cell_type": "code",
   "execution_count": 13,
   "metadata": {},
   "outputs": [
    {
     "name": "stdout",
     "output_type": "stream",
     "text": [
      "a [1, 4, 6, 9]\n",
      "a 1 4 6 9\n",
      "nums ([1, 4, 6, 9],)\n",
      "*nums [1, 4, 6, 9]\n",
      "20\n"
     ]
    }
   ],
   "source": [
    "def sum_numbers(*nums: int) -> int:\n",
    "    print('nums',nums)\n",
    "    print('*nums',*nums)\n",
    "    \n",
    "    return sum(*nums)\n",
    "\n",
    "a = list([1,4,6,9])\n",
    "print('a',a)\n",
    "print('a',*a)\n",
    "print(sum_numbers(a))"
   ]
  }
 ],
 "metadata": {
  "kernelspec": {
   "display_name": "Python 3",
   "language": "python",
   "name": "python3"
  },
  "language_info": {
   "codemirror_mode": {
    "name": "ipython",
    "version": 3
   },
   "file_extension": ".py",
   "mimetype": "text/x-python",
   "name": "python",
   "nbconvert_exporter": "python",
   "pygments_lexer": "ipython3",
   "version": "3.13.1"
  }
 },
 "nbformat": 4,
 "nbformat_minor": 2
}
