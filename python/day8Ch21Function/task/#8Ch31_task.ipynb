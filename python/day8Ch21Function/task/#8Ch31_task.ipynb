{
 "cells": [
  {
   "cell_type": "markdown",
   "metadata": {},
   "source": [
    "문자열 리스트를 받아, 각 문자열의 길이를 출력하는 함수 print_lengths를 작성하세요."
   ]
  },
  {
   "cell_type": "code",
   "execution_count": 7,
   "metadata": {},
   "outputs": [
    {
     "name": "stdout",
     "output_type": "stream",
     "text": [
      "문자열 12의 길이 : 2\n",
      "문자열 456789의 길이 : 6\n",
      "문자열 abc의 길이 : 3\n",
      "문자열 가나다라마바사의 길이 : 7\n"
     ]
    }
   ],
   "source": [
    "def print_lengths(str_list):\n",
    "    for i in str_list:\n",
    "        print(f\"문자열 {i}의 길이 : {len(i)}\")\n",
    "\n",
    "my_list = ['12','456789','abc','가나다라마바사']\n",
    "print_lengths(my_list)\n",
    "    "
   ]
  }
 ],
 "metadata": {
  "kernelspec": {
   "display_name": "Python 3",
   "language": "python",
   "name": "python3"
  },
  "language_info": {
   "codemirror_mode": {
    "name": "ipython",
    "version": 3
   },
   "file_extension": ".py",
   "mimetype": "text/x-python",
   "name": "python",
   "nbconvert_exporter": "python",
   "pygments_lexer": "ipython3",
   "version": "3.11.9"
  }
 },
 "nbformat": 4,
 "nbformat_minor": 2
}
