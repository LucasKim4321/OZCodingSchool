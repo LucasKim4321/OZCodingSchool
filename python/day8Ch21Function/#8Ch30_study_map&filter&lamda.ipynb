{
 "cells": [
  {
   "cell_type": "markdown",
   "metadata": {},
   "source": [
    "\n",
    "# 함수의 매개변수로 함수를 전달받아 실행하는 코드\n",
    "\n",
    "앞서 우리는 함수에 매개변수를 전달받아 실행하는 코드를 작성했습니다.\n",
    "\n",
    "기본 방식 외 함수는 더 놀라운 것들을 매개변수로 받아올 수 있습니다.\n",
    "바로, 함수 자체를 매개변수로 받을 수 있다는 사실입니다.\n",
    "\n",
    "이렇게 함수 자체를 매개변수로 사용하기 쉽도록 돕는 기능이 람다입니다.\n",
    "\n",
    "우선, 함수의 매개변수로 함수를 전달하는 방법에 대한 코드로 보겠습니다.  \n",
    "(함수의 매개변수로 사용되는 함수를 <span style=\"color:red\">**콜백 함수**</span>라고 합니다.)"
   ]
  },
  {
   "cell_type": "code",
   "execution_count": 13,
   "metadata": {},
   "outputs": [
    {
     "name": "stdout",
     "output_type": "stream",
     "text": [
      "파이썬 이건 또 무슨 개념이야?\n",
      "파이썬 이건 또 무슨 개념이야?\n",
      "파이썬 이건 또 무슨 개념이야?\n",
      "파이썬 이건 또 무슨 개념이야?\n",
      "파이썬 이건 또 무슨 개념이야?\n"
     ]
    }
   ],
   "source": [
    "def oz_call(function):\n",
    "    for i in range(5):\n",
    "        function()\n",
    "\n",
    "def talk():  # 콜백 함수\n",
    "    print(\"파이썬 이건 또 무슨 개념이야?\")\n",
    "\n",
    "oz_call(talk)\n",
    "# talk()"
   ]
  },
  {
   "cell_type": "markdown",
   "metadata": {},
   "source": [
    "함수를 매개변수로 사용하는 대표적인 내장 함수로 `map()` 함수와 `filter()` 함수가 있습니다.\n",
    "\n",
    "- `map()`: 리스트의 요소를 함수에 넣고 리턴된 값으로 새로운 리스트를 구성해 줌  \n",
    "- `filter()`: 리스트의 요소를 함수에 넣고 리턴된 값이 `True`인 값만을 새로운 리스트로 구성해 줌  "
   ]
  },
  {
   "cell_type": "code",
   "execution_count": 21,
   "metadata": {},
   "outputs": [
    {
     "name": "stdout",
     "output_type": "stream",
     "text": [
      "map 결과: <map object at 0x00000253105E2AA0>\n",
      "map 결과의 list 형변환: [1, 4, 9, 16, 25, 36, 49, 64, 81, 100]\n"
     ]
    }
   ],
   "source": [
    "# 자기 자신을 곱한 결과를 새로운 list를 만들어주는 map() 함수 코드\n",
    "\n",
    "def square(i):\n",
    "    return i * i\n",
    "\n",
    "numbers_list = [1,2,3,4,5,6,7,8,9,10]\n",
    "\n",
    "result = map(square, numbers_list)\n",
    "\n",
    "print(\"map 결과:\", result)\n",
    "print(\"map 결과의 list 형변환:\", list(result))"
   ]
  },
  {
   "cell_type": "code",
   "execution_count": 23,
   "metadata": {},
   "outputs": [
    {
     "name": "stdout",
     "output_type": "stream",
     "text": [
      "filter 결과: <filter object at 0x00000253105E2FB0>\n",
      "filter 결과의 list 형변환: [1, 2, 3, 4]\n"
     ]
    }
   ],
   "source": [
    "# 조건에 맞는 값만을 이용해 새로운 `list`를 만들어주는 `filter()` 함수 코드\n",
    "\n",
    "def under(i):\n",
    "    return i < 5\n",
    "\n",
    "numbers_list = [1,2,3,4,5,6,7,8,9,10]\n",
    "\n",
    "result = filter(under, numbers_list)\n",
    "\n",
    "print(\"filter 결과:\", result)\n",
    "print(\"filter 결과의 list 형변환:\", list(result))\n"
   ]
  },
  {
   "cell_type": "markdown",
   "metadata": {},
   "source": [
    "<map object at 0x10992afe0>, <filter object at 0x10992be50>는 제너레이터라고 부릅니다.\n",
    "\n",
    "지금까지 콜백 함수를 효율적으로 사용할 수 있도록 도와주는 `map()`, `filter()`에 대해 알아보았습니다.\n",
    "\n",
    "지금부터 람다에 대해 알아보겠습니다.\n",
    "\n",
    "lambda : 간단한 함수를 쉽게 선언하는 방법으로 이름이 없는 익명함수를 만들 수 있습니다.  \n",
    "lambda 매개변수 : 리턴값\n",
    "\n",
    "구조가 굉장히 간단합니다.  \n",
    "이전 코드에 lambda를 활용해보겠습니다."
   ]
  },
  {
   "cell_type": "code",
   "execution_count": 2,
   "metadata": {},
   "outputs": [
    {
     "name": "stdout",
     "output_type": "stream",
     "text": [
      "map 결과: <map object at 0x00000199FDEE5540>\n",
      "map 결과의 list 형변환: [1, 4, 9, 16, 25, 36, 49, 64, 81, 100]\n"
     ]
    }
   ],
   "source": [
    "square = lambda i : i * i\n",
    "\n",
    "numbers_list = [1,2,3,4,5,6,7,8,9,10]\n",
    "\n",
    "result = map(square, numbers_list)\n",
    "\n",
    "print(\"map 결과:\", result)\n",
    "print(\"map 결과의 list 형변환:\", list(result))\n"
   ]
  },
  {
   "cell_type": "code",
   "execution_count": 4,
   "metadata": {},
   "outputs": [
    {
     "name": "stdout",
     "output_type": "stream",
     "text": [
      "filter 결과: <filter object at 0x00000199FDEE4F70>\n",
      "filter 결과의 list 형변환: [1, 2, 3, 4]\n"
     ]
    }
   ],
   "source": [
    "square = lambda i : i < 5\n",
    "\n",
    "numbers_list = [1,2,3,4,5,6,7,8,9,10]\n",
    "\n",
    "result = filter(square, numbers_list)\n",
    "\n",
    "print(\"filter 결과:\", result)\n",
    "print(\"filter 결과의 list 형변환:\", list(result))\n"
   ]
  },
  {
   "cell_type": "code",
   "execution_count": 5,
   "metadata": {},
   "outputs": [
    {
     "name": "stdout",
     "output_type": "stream",
     "text": [
      "map 결과: <map object at 0x00000199FDEE7BB0>\n",
      "map 결과의 list 형변환: [1, 4, 9, 16, 25, 36, 49, 64, 81, 100]\n"
     ]
    }
   ],
   "source": [
    "\n",
    "numbers_list = [1,2,3,4,5,6,7,8,9,10]\n",
    "\n",
    "result = map(lambda i : i * i, numbers_list)\n",
    "\n",
    "print(\"map 결과:\", result)\n",
    "print(\"map 결과의 list 형변환:\", list(result))"
   ]
  },
  {
   "cell_type": "code",
   "execution_count": 6,
   "metadata": {},
   "outputs": [
    {
     "name": "stdout",
     "output_type": "stream",
     "text": [
      "filter 결과: <filter object at 0x00000199FDEE4F40>\n",
      "filter 결과의 list 형변환: [1, 2, 3, 4]\n"
     ]
    }
   ],
   "source": [
    "\n",
    "numbers_list = [1,2,3,4,5,6,7,8,9,10]\n",
    "\n",
    "result = filter(lambda i : i < 5, numbers_list)\n",
    "\n",
    "print(\"filter 결과:\", result)\n",
    "print(\"filter 결과의 list 형변환:\", list(result))"
   ]
  },
  {
   "cell_type": "markdown",
   "metadata": {},
   "source": [
    "`filter()`, `map()` 함수에 매개변수로 함수가 들어갔다는 걸 확인하기에도 편하고 코드도 좀 더 간편해졌습니다.\n",
    "\n",
    "지금부터는 강의를 잠시 멈춰두고 아래 2가지 키워드에 대해서 여러분들이 이해한 방식대로 정리하는 시간을 가져보시기 바랍니다.\n",
    "\n",
    "- map(), filter() 함수의 기능에 대해 설명해주세요\n",
    "\n",
    "- lambda를 사용하는 이유에 대해 설명해주세요\n",
    "\n",
    "- lambda를 이용해 함수를 만드는 방법에 대해 설명해주세요\n"
   ]
  },
  {
   "cell_type": "markdown",
   "metadata": {},
   "source": [
    "- map(), filter() 함수의 기능에 대해 설명해주세요\n",
    "\n",
    "- lambda를 사용하는 이유에 대해 설명해주세요\n",
    "\n",
    "- lambda를 이용해 함수를 만드는 방법에 대해 설명해주세요"
   ]
  },
  {
   "cell_type": "markdown",
   "metadata": {},
   "source": [
    "\n",
    "# map(), filter() 함수와 lambda에 대한 설명\n",
    "\n",
    "## 1. map()과 filter() 함수의 기능\n",
    "- **`map()` 함수:**\n",
    "  - 리스트나 다른 반복 가능한 객체의 각 요소에 대해 함수를 적용하고, 결과를 새 리스트로 반환합니다.\n",
    "  - 모든 요소를 일괄적으로 변환하는 데 유용합니다.\n",
    "  - **예시:**\n",
    "    ```python\n",
    "    numbers = [1, 2, 3, 4]\n",
    "    squared_numbers = list(map(lambda x: x**2, numbers))\n",
    "    print(squared_numbers)  # 출력: [1, 4, 9, 16]\n",
    "    ```\n",
    "\n",
    "- **`filter()` 함수:**\n",
    "  - 리스트나 반복 가능한 객체의 요소를 조건에 따라 필터링합니다.\n",
    "  - 함수가 `True`를 반환하는 요소만 새로운 리스트로 반환합니다.\n",
    "  - **예시:**\n",
    "    ```python\n",
    "    numbers = [1, 2, 3, 4, 5]\n",
    "    even_numbers = list(filter(lambda x: x % 2 == 0, numbers))\n",
    "    print(even_numbers)  # 출력: [2, 4]\n",
    "    ```\n",
    "\n",
    "---\n",
    "\n",
    "## 2. lambda를 사용하는 이유\n",
    "- **간결성:**\n",
    "  - 한 줄로 작성 가능하며 코드가 간단해집니다. 별도의 함수를 정의하지 않고도 즉석에서 사용할 수 있습니다.\n",
    "- **임시 함수:**\n",
    "  - 프로그램에서 한 번만 사용하거나 간단한 기능이 필요한 경우 적합합니다.\n",
    "- **코드 가독성:**\n",
    "  - 간단한 연산을 위해 길고 복잡한 함수 정의를 피할 수 있습니다.\n",
    "- **예시:**\n",
    "  ```python\n",
    "  # 일반 함수 정의\n",
    "  def add(x, y):\n",
    "      return x + y\n",
    "\n",
    "  # lambda를 이용한 동일한 기능\n",
    "  add = lambda x, y: x + y\n",
    "  print(add(5, 3))  # 출력: 8\n",
    "  ```\n",
    "\n",
    "---\n",
    "\n",
    "## 3. lambda를 이용해 함수를 만드는 방법\n",
    "- **구문:**\n",
    "  ```python\n",
    "  lambda 매개변수1, 매개변수2, ... : 표현식\n",
    "  ```\n",
    "  - `lambda` 뒤에 매개변수를 나열하고 `:` 다음에 반환할 표현식을 작성합니다.\n",
    "  - 이름이 없는 함수이므로 변수에 할당하거나 다른 함수의 인자로 사용됩니다.\n",
    "\n",
    "- **예시 1: 기본 사용**\n",
    "  ```python\n",
    "  square = lambda x: x**2\n",
    "  print(square(5))  # 출력: 25\n",
    "  ```\n",
    "\n",
    "- **예시 2: 다른 함수와 함께 사용**\n",
    "  ```python\n",
    "  numbers = [1, 2, 3, 4, 5]\n",
    "  squared_numbers = list(map(lambda x: x**2, numbers))\n",
    "  print(squared_numbers)  # 출력: [1, 4, 9, 16, 25]\n",
    "  ```\n",
    "\n",
    "- **주의:**\n",
    "  - `lambda`는 복잡한 로직보다는 간단한 연산에 사용하는 것이 적합합니다.\n",
    "  - 복잡한 작업이 필요한 경우 `def`로 함수를 정의하는 것이 더 읽기 쉽고 관리하기 쉽습니다.\n"
   ]
  }
 ],
 "metadata": {
  "kernelspec": {
   "display_name": "Python 3",
   "language": "python",
   "name": "python3"
  },
  "language_info": {
   "codemirror_mode": {
    "name": "ipython",
    "version": 3
   },
   "file_extension": ".py",
   "mimetype": "text/x-python",
   "name": "python",
   "nbconvert_exporter": "python",
   "pygments_lexer": "ipython3",
   "version": "3.11.9"
  }
 },
 "nbformat": 4,
 "nbformat_minor": 2
}
