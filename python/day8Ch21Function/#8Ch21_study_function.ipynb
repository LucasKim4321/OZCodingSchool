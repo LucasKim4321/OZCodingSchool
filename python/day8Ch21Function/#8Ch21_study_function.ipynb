{
 "cells": [
  {
   "cell_type": "markdown",
   "metadata": {},
   "source": [
    "함수 : 목적이 있는 코드의 집합\n",
    "\n",
    "함수의 구조\n",
    "```\n",
    "def 함수이름():\n",
    "    코드\n",
    "```"
   ]
  },
  {
   "cell_type": "code",
   "execution_count": 2,
   "metadata": {},
   "outputs": [
    {
     "name": "stdout",
     "output_type": "stream",
     "text": [
      "오즈코딩 스쿨\n",
      "오즈코딩 스쿨\n",
      "오즈코딩 스쿨\n",
      "오즈코딩 스쿨\n",
      "오즈코딩 스쿨\n"
     ]
    }
   ],
   "source": [
    "def oz():\n",
    "    for i in range(5):\n",
    "        print('오즈코딩 스쿨')\n",
    "oz()"
   ]
  },
  {
   "cell_type": "markdown",
   "metadata": {},
   "source": [
    "함수 선언부\n",
    "```\n",
    "def oz():\n",
    "    for i in range(5):\n",
    "        print('오즈코딩 스쿨')\n",
    "```"
   ]
  },
  {
   "cell_type": "markdown",
   "metadata": {},
   "source": [
    "\n",
    "\n",
    "함수 실행부\n",
    "```\n",
    "oz()\n",
    "```\n",
    "(함수를 실행하는 것을 개발 언어로 호출이라고 합니다.)"
   ]
  },
  {
   "cell_type": "code",
   "execution_count": 3,
   "metadata": {},
   "outputs": [
    {
     "name": "stdout",
     "output_type": "stream",
     "text": [
      "이것도 함수였어요\n"
     ]
    }
   ],
   "source": [
    "print(\"이것도 함수였어요\")"
   ]
  },
  {
   "cell_type": "markdown",
   "metadata": {},
   "source": [
    "## `print()` 함수의 입력 가능한 값\n",
    "```\n",
    "(*values: object, sep: str | None = \" \", end: str | None = \"\\n\", <br>\n",
    "file: SupportsWrite[str] | None = None, flush: Literal[False] = False) -> None\n",
    "```\n",
    "확인된 내용 중에 익숙한 것들이 보입니다:\n",
    "\n",
    "- sep(separation): str | None = \" \" => 띄어쓰기로 값을 구분\n",
    "- end: str | None = \"\\n\" => 마지막에 줄바꿈 작동\n",
    "\n",
    "이처럼 앞서 설명한 함수의 기본 구조에서 값을 받을 수 있는 형태로 변형이 가능합니다.\n",
    "\n",
    "함수의 구조:\n",
    "```\n",
    "def 함수이름(매개변수, 매개변수):\n",
    "    코드\n",
    "```\n",
    "함수의 괄호 안에 들어오는 값을 매개변수(parameter)라고 합니다.\n",
    "\n",
    "이렇게 입력되는 매개변수들을 구분을 위해서 식별자를 만들어줍니다."
   ]
  },
  {
   "cell_type": "code",
   "execution_count": 4,
   "metadata": {},
   "outputs": [
    {
     "name": "stdout",
     "output_type": "stream",
     "text": [
      "['__call__', '__class__', '__delattr__', '__dir__', '__doc__', '__eq__', '__format__', '__ge__', '__getattribute__', '__getstate__', '__gt__', '__hash__', '__init__', '__init_subclass__', '__le__', '__lt__', '__module__', '__name__', '__ne__', '__new__', '__qualname__', '__reduce__', '__reduce_ex__', '__repr__', '__self__', '__setattr__', '__sizeof__', '__str__', '__subclasshook__', '__text_signature__']\n"
     ]
    }
   ],
   "source": [
    "print(dir(print))"
   ]
  },
  {
   "cell_type": "code",
   "execution_count": 6,
   "metadata": {},
   "outputs": [
    {
     "name": "stdout",
     "output_type": "stream",
     "text": [
      "dz코딩스쿨\n",
      "dz코딩스쿨\n",
      "dz코딩스쿨\n"
     ]
    }
   ],
   "source": [
    "def dz(message, n) :\n",
    "    for i in range(n):\n",
    "        print(message)\n",
    "\n",
    "dz('dz코딩스쿨', 3)"
   ]
  },
  {
   "cell_type": "markdown",
   "metadata": {},
   "source": [
    "위 코드는 앞서 만든 oz()함수에 2개의 매개변수를 받을 수 있도록 수정했습니다.<br>\n",
    "2개의 매개변수는 각각 message와 n이라는 식별자를 만들어주었습니다.<br>\n",
    "이로써 oz()함수 호출시 입력하는 2개의 값 중 첫번째는 출력에 사용되는 값이고 두번째는 for문 반복에 사용된다는걸 알 수 있습니다.<br>\n",
    "구조의 큰 변화는 없지만 이전 oz()함수와는 작동하는 방식에 차이를 보입니다.<br>"
   ]
  },
  {
   "cell_type": "code",
   "execution_count": 7,
   "metadata": {},
   "outputs": [
    {
     "ename": "TypeError",
     "evalue": "dz() takes 2 positional arguments but 3 were given",
     "output_type": "error",
     "traceback": [
      "\u001b[1;31m---------------------------------------------------------------------------\u001b[0m",
      "\u001b[1;31mTypeError\u001b[0m                                 Traceback (most recent call last)",
      "Cell \u001b[1;32mIn[7], line 5\u001b[0m\n\u001b[0;32m      2\u001b[0m     \u001b[38;5;28;01mfor\u001b[39;00m i \u001b[38;5;129;01min\u001b[39;00m \u001b[38;5;28mrange\u001b[39m(n):\n\u001b[0;32m      3\u001b[0m         \u001b[38;5;28mprint\u001b[39m(message)\n\u001b[1;32m----> 5\u001b[0m \u001b[43mdz\u001b[49m\u001b[43m(\u001b[49m\u001b[38;5;124;43m'\u001b[39;49m\u001b[38;5;124;43mdz코딩스쿨\u001b[39;49m\u001b[38;5;124;43m'\u001b[39;49m\u001b[43m,\u001b[49m\u001b[43m \u001b[49m\u001b[38;5;241;43m3\u001b[39;49m\u001b[43m,\u001b[49m\u001b[43m \u001b[49m\u001b[38;5;241;43m4\u001b[39;49m\u001b[43m)\u001b[49m\n",
      "\u001b[1;31mTypeError\u001b[0m: dz() takes 2 positional arguments but 3 were given"
     ]
    }
   ],
   "source": [
    "def dz(message, n) :\n",
    "    for i in range(n):\n",
    "        print(message)\n",
    "\n",
    "dz('dz코딩스쿨', 3, 4)"
   ]
  },
  {
   "cell_type": "markdown",
   "metadata": {},
   "source": [
    "# 함수 선언 시 매개변수의 개수 주의\n",
    "\n",
    "여기서 주의해야 할 점은 함수를 선언할 때 입력을 받을 수 있는 매개변수의 개수입니다.\n",
    "\n",
    "`oz()` 함수의 경우 2개의 매개변수를 받을 수 있도록 정의했습니다. 그런데 1개 또는 3개를 입력하면 실행 시 <b style=\"color:red\">오류</b>가 발생합니다.\n",
    "\n",
    "---\n",
    "\n",
    "지금부터는 강의를 잠시 멈추고 아래 5가지 키워드에 대해서 여러분들이 이해한 방식대로 정리하는 시간을 가져보시기 바랍니다.\n",
    "\n",
    "- 함수의 기본 구조에 대해 설명해보세요.\n",
    "- 함수 호출은 무엇을 의미하고 어떻게 할 수 있나요?\n",
    "- 매개변수란 무엇인가요?\n",
    "- 식별자는 무엇이고 사용하는 이유는 뭔가요?\n",
    "- 식별자는 함수 안에서 어떻게 사용되나요?\n",
    "\n",
    "---\n"
   ]
  },
  {
   "cell_type": "markdown",
   "metadata": {},
   "source": [
    "- 함수의 기본 구조에 대해 설명해보세요.\n",
    "```\n",
    "def oz(매개변수1, 매개변수2 ...):\n",
    "    print(\"가나다라마바사\")\n",
    "```\n",
    "이런식으로 코드를 \n",
    "- 함수 호출은 무엇을 의미하고 어떻게 할 수 있나요?<br>\n",
    "정의된 함수를 사용하기 위해 호출하는 것<br>\n",
    "`oz()`로 사용\n",
    "- 매개변수란 무엇인가요?<br>\n",
    "매개변수(parameter)란 함수에서 변수를 전달받아 사용하기 위해 사용하는 변수\n",
    "- 식별자는 무엇이고 사용하는 이유는 뭔가요?\n",
    "받은 매개변수(parameter)를 구분하기 위해 사용함.\n",
    "식별자를 사용함으로써 여러개의 매개변수를 받을 수 있음.\n",
    "- 식별자는 함수 안에서 어떻게 사용되나요?\n",
    "전달받은 매개변수는 함수 안에서 전역변수와 비슷하게 사용\n",
    "\n",
    "함수 호출시 매개변수의 값으로서 전달해주는 값을 인자(Argument)라고 함.<br>\n",
    "함수 내에서 인자로 전달받은 값을 처리하기 위해 사용하는 변수를 매개변수(parameter)라고 함.<br>\n",
    "각 매개변수는 식별자로 구분됨.<br>\n",
    "\n",
    "위치 매개변수 (Positional Parameters): 전달된 인자의 순서대로 매개변수에 값이 할당됩니다.<br>\n",
    "키워드 매개변수 (Keyword Parameters): 함수 호출 시 매개변수 이름을 지정하여 값을 전달합니다.<br>\n",
    "기본값 매개변수 (Default Parameters): 매개변수에 기본값을 정의하여 인자가 생략될 경우 기본값을 사용합니다.<br>"
   ]
  }
 ],
 "metadata": {
  "kernelspec": {
   "display_name": "Python 3",
   "language": "python",
   "name": "python3"
  },
  "language_info": {
   "codemirror_mode": {
    "name": "ipython",
    "version": 3
   },
   "file_extension": ".py",
   "mimetype": "text/x-python",
   "name": "python",
   "nbconvert_exporter": "python",
   "pygments_lexer": "ipython3",
   "version": "3.11.9"
  }
 },
 "nbformat": 4,
 "nbformat_minor": 2
}
