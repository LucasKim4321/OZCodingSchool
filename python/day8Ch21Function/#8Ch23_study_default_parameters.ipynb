{
 "cells": [
  {
   "cell_type": "markdown",
   "metadata": {},
   "source": [
    "### 기본 매개 변수 (Default Parameters)"
   ]
  },
  {
   "cell_type": "markdown",
   "metadata": {},
   "source": [
    "print() 함수 필요 매개변수\n",
    "```\n",
    "(*values: object, sep: str | None = \" \", end: str | None = \"\\n\", file: SupportsWrite[str] | None = None, flush: Literal[False] = False) -> None\n",
    "```\n",
    "*values 뒤에 오는 매개변수인 sep: str | None = \" \", end: str | None = \"\\n\" 들은\n",
    "마치 값을 할당하는 형태처럼 보이는 이 매개변수들은 모두 기본 매개변수입니다.\n",
    "\n",
    "기본 매개변수는 매개변수를 입력하지 않으면 함수 정의 시 설정해 놓은 기본값으로 대체됩니다.\n",
    "역시나, 기본 매개변수 사용 시에도 제약이 있습니다.\n",
    "\n",
    "- 기본 매개변수 뒤에는 일반 매개변수가 올 수 없다."
   ]
  },
  {
   "cell_type": "code",
   "execution_count": 1,
   "metadata": {},
   "outputs": [
    {
     "name": "stdout",
     "output_type": "stream",
     "text": [
      "일반 매개변수 다음에 기본 매개변수를 배치해야 합니다.\n",
      "일반 매개변수 다음에 기본 매개변수를 배치해야 합니다.\n"
     ]
    }
   ],
   "source": [
    "def oz(value, n=2):\n",
    "    for i in range(n):\n",
    "        print(value)\n",
    "\n",
    "oz(\"일반 매개변수 다음에 기본 매개변수를 배치해야 합니다.\")"
   ]
  },
  {
   "cell_type": "code",
   "execution_count": 2,
   "metadata": {},
   "outputs": [
    {
     "name": "stdout",
     "output_type": "stream",
     "text": [
      "일반 매개변수 다음에 기본 매개변수를 배치해야 합니다.\n",
      "일반 매개변수 다음에 기본 매개변수를 배치해야 합니다.\n",
      "일반 매개변수 다음에 기본 매개변수를 배치해야 합니다.\n",
      "일반 매개변수 다음에 기본 매개변수를 배치해야 합니다.\n",
      "일반 매개변수 다음에 기본 매개변수를 배치해야 합니다.\n"
     ]
    }
   ],
   "source": [
    "def oz(value, n=2):\n",
    "    for i in range(n):\n",
    "        print(value)\n",
    "\n",
    "oz(\"일반 매개변수 다음에 기본 매개변수를 배치해야 합니다.\", n=5)"
   ]
  },
  {
   "cell_type": "code",
   "execution_count": 4,
   "metadata": {},
   "outputs": [
    {
     "name": "stdout",
     "output_type": "stream",
     "text": [
      "일반 매개변수 다음에 기본 매개변수를 배치해야 합니다.\n",
      "일반 매개변수 다음에 기본 매개변수를 배치해야 합니다.\n",
      "일반 매개변수 다음에 기본 매개변수를 배치해야 합니다.\n"
     ]
    }
   ],
   "source": [
    "def oz(value, n=2):\n",
    "    for i in range(n):\n",
    "        print(value)\n",
    "\n",
    "oz(\"일반 매개변수 다음에 기본 매개변수를 배치해야 합니다.\", 3)"
   ]
  },
  {
   "cell_type": "code",
   "execution_count": 5,
   "metadata": {},
   "outputs": [
    {
     "ename": "SyntaxError",
     "evalue": "non-default argument follows default argument (870151067.py, line 1)",
     "output_type": "error",
     "traceback": [
      "\u001b[1;36m  Cell \u001b[1;32mIn[5], line 1\u001b[1;36m\u001b[0m\n\u001b[1;33m    def oz(n=2, value):\u001b[0m\n\u001b[1;37m                ^\u001b[0m\n\u001b[1;31mSyntaxError\u001b[0m\u001b[1;31m:\u001b[0m non-default argument follows default argument\n"
     ]
    }
   ],
   "source": [
    "# 기본 매개 변수를 앞에 쓸 시 에러\n",
    "\n",
    "def oz(n=2, value):\n",
    "    for i in range(n):\n",
    "        print(value)\n",
    "\n",
    "oz(\"일반 매개변수 다음에 기본 매개변수를 배치해야 합니다.\", 3)"
   ]
  },
  {
   "cell_type": "markdown",
   "metadata": {},
   "source": []
  },
  {
   "cell_type": "markdown",
   "metadata": {},
   "source": [
    "기본 매개변수 사용에 문제가 있음을 오류 메시지로 보여주고 있습니다.\n",
    "\n",
    "지금부터는 강의를 잠시 멈춰두고 아래 3가지 키워드에 대해서 여러분들이 이해한 방식대로 정리하는 시간을 가져보시기 바랍니다.\n",
    "\n",
    "- 기본 매개변수 역할은 무엇인가요?\n",
    "- 기본 매개변수를 사용하기 위한 문법은 어떻게 되나요?\n",
    "- 기본 매개변수의 사용 시 제약 조건에 대해 설명해주세요\n"
   ]
  },
  {
   "cell_type": "markdown",
   "metadata": {},
   "source": [
    "- 기본 매개변수 역할은 무엇인가요?<br>\n",
    "인자 값을 주지 않아도 매개변수가 기본적으로 가지고 있는 값\n",
    "\n",
    "\n",
    "- 기본 매개변수를 사용하기 위한 문법은 어떻게 되나요?<br>\n",
    "`def fun(매개변수, 매개변수=5):`\n",
    "\n",
    "- 기본 매개변수의 사용 시 제약 조건에 대해 설명해주세요<br>\n",
    "기본 매개변수는 일반 매개변수 다음에 사용해야 한다.<br>\n",
    "가변 매개변수는 무조건 맨 마지막\n"
   ]
  }
 ],
 "metadata": {
  "kernelspec": {
   "display_name": "Python 3",
   "language": "python",
   "name": "python3"
  },
  "language_info": {
   "codemirror_mode": {
    "name": "ipython",
    "version": 3
   },
   "file_extension": ".py",
   "mimetype": "text/x-python",
   "name": "python",
   "nbconvert_exporter": "python",
   "pygments_lexer": "ipython3",
   "version": "3.11.9"
  }
 },
 "nbformat": 4,
 "nbformat_minor": 2
}
