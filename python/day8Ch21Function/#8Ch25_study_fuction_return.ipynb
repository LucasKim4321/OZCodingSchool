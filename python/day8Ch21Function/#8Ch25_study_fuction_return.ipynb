{
 "cells": [
  {
   "cell_type": "markdown",
   "metadata": {},
   "source": [
    "return 키워드 : 함수를 실행한 위치로 되돌아 감, 일반적으로 함수가 끝나는 위치에 return울 사용함"
   ]
  },
  {
   "cell_type": "code",
   "execution_count": 1,
   "metadata": {},
   "outputs": [
    {
     "name": "stdout",
     "output_type": "stream",
     "text": [
      "파이썬\n",
      "재밌엉\n"
     ]
    }
   ],
   "source": [
    "def oz_return():\n",
    "    print(\"파이썬\")\n",
    "    print(\"재밌엉\")\n",
    "    return\n",
    "    print(\"거짓말 하네\")\n",
    "oz_return()"
   ]
  },
  {
   "cell_type": "markdown",
   "metadata": {},
   "source": [
    "1. oz_return()으로 함수를 호출하면 함수안의 코드가 위에서부터 하나씩 실행됨\n",
    "2. 세번째에서 return을 만나 oz_return()으로 함수를 호출했던 그 위치로 돌아감"
   ]
  },
  {
   "cell_type": "markdown",
   "metadata": {},
   "source": [
    "```python\n",
    "# [1. 함수 정의]\n",
    "\n",
    "def oz_retrun():        # [3. 함수 실행]\n",
    "    print(\"파이썬\")     # [4. print() 함수 실행]\n",
    "    print(\"재미있엉\")   # [5. print() 함수 실행]\n",
    "    return              # [6. return 키워드 만나 함수를 호출했던 위치로 이동하며 함수 종료]\n",
    "    print(\"거짓말하네\")\n",
    "\n",
    "oz_retrun() # [2. 함수 호출]\n",
    "            # [7. 함수 호출한 위치로 이동]\n",
    "```"
   ]
  },
  {
   "cell_type": "markdown",
   "metadata": {},
   "source": [
    "- 값과 함께 리턴하는 경우"
   ]
  },
  {
   "cell_type": "code",
   "execution_count": 6,
   "metadata": {},
   "outputs": [
    {
     "name": "stdout",
     "output_type": "stream",
     "text": [
      "파이썬 재밌엉\n"
     ]
    }
   ],
   "source": [
    "# 값과 함께 리턴하는 \n",
    "\n",
    "def oz_return():\n",
    "    return \"파이썬 재밌엉\"\n",
    "\n",
    "result = oz_return()\n",
    "print(result)"
   ]
  },
  {
   "cell_type": "markdown",
   "metadata": {},
   "source": [
    "- 아무것도 리턴하지 않는 경우"
   ]
  },
  {
   "cell_type": "code",
   "execution_count": 7,
   "metadata": {},
   "outputs": [
    {
     "name": "stdout",
     "output_type": "stream",
     "text": [
      "None\n"
     ]
    }
   ],
   "source": [
    "# 아무것도 리턴하지 않는 경우\n",
    "\n",
    "def oz_return():\n",
    "    return\n",
    "\n",
    "result = oz_return()\n",
    "print(result)"
   ]
  },
  {
   "cell_type": "markdown",
   "metadata": {},
   "source": [
    "None : 아무것도 없다, bool()함수를 이용할 경우 False로 간주됨"
   ]
  },
  {
   "cell_type": "code",
   "execution_count": 8,
   "metadata": {},
   "outputs": [
    {
     "data": {
      "text/plain": [
       "False"
      ]
     },
     "execution_count": 8,
     "metadata": {},
     "output_type": "execute_result"
    }
   ],
   "source": [
    "bool(None)"
   ]
  },
  {
   "cell_type": "markdown",
   "metadata": {},
   "source": [
    "- input() 함수에 대해"
   ]
  },
  {
   "cell_type": "code",
   "execution_count": 9,
   "metadata": {},
   "outputs": [
    {
     "name": "stdout",
     "output_type": "stream",
     "text": [
      "2\n"
     ]
    }
   ],
   "source": [
    "result = input(\"1+1은 ?\")\n",
    "print(result)"
   ]
  },
  {
   "cell_type": "markdown",
   "metadata": {},
   "source": [
    "input() 함수는 값을 입력받을 수 있게 해주는 기능을 가지고 있는 것으로만 생각하고 사용해왔습니다.<br>\n",
    "return이라는 개념을 넣어서 이 과정을 설명해볼 수 있을 것 같습니다.\n",
    "\n",
    "잠시 영상을 멈추고 이 과정을 설명할 방법에 대해 생각을 해보거나 그림을 그려봐도 좋습니다.\n",
    "\n",
    "아주 간단합니다.<br>\n",
    "input() 함수는 입력받은 값을 문자열로 돌려줍니다. 여기서 돌려준다는 의미는 무엇일까요?<br>\n",
    "맞습니다. return을 한다는 의미입니다.\n",
    "\n",
    "그렇기 때문에 input()을 통해 입력받은 값을 변수에 담아 사용할 수 있게 되는 거죠.\n",
    "\n",
    "대부분 무엇인가를 반환하는 함수들은 return을 이용한다고 생각하시면 됩니다.<br>\n",
    "<span style=\"color:gray\">예) type(), str(), int() 등등</span>"
   ]
  },
  {
   "cell_type": "markdown",
   "metadata": {},
   "source": [
    "```py\n",
    "def input(a, b):\n",
    "    print(a)\n",
    "    return b\n",
    "\n",
    "input(\"값을 입력해주세요\", b=20)\n",
    "```\n",
    "a와 b값을 전달받아 a는 그대로 출력하고 b를 리턴하는 그런 구조?\n",
    "b는 입력받아서 전달해줌\n"
   ]
  }
 ],
 "metadata": {
  "kernelspec": {
   "display_name": "Python 3",
   "language": "python",
   "name": "python3"
  },
  "language_info": {
   "codemirror_mode": {
    "name": "ipython",
    "version": 3
   },
   "file_extension": ".py",
   "mimetype": "text/x-python",
   "name": "python",
   "nbconvert_exporter": "python",
   "pygments_lexer": "ipython3",
   "version": "3.11.9"
  }
 },
 "nbformat": 4,
 "nbformat_minor": 2
}
