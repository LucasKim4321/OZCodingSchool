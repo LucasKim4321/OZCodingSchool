{
 "cells": [
  {
   "cell_type": "markdown",
   "metadata": {},
   "source": [
    "### 키워드 매개 변수 (Keyword Parameters)"
   ]
  },
  {
   "cell_type": "code",
   "execution_count": 36,
   "metadata": {},
   "outputs": [
    {
     "ename": "TypeError",
     "evalue": "'str' object cannot be interpreted as an integer",
     "output_type": "error",
     "traceback": [
      "\u001b[1;31m---------------------------------------------------------------------------\u001b[0m",
      "\u001b[1;31mTypeError\u001b[0m                                 Traceback (most recent call last)",
      "Cell \u001b[1;32mIn[36], line 8\u001b[0m\n\u001b[0;32m      5\u001b[0m             \u001b[38;5;28mprint\u001b[39m(value)\n\u001b[0;32m      6\u001b[0m         \u001b[38;5;28mprint\u001b[39m()\n\u001b[1;32m----> 8\u001b[0m \u001b[43moz\u001b[49m\u001b[43m(\u001b[49m\u001b[38;5;124;43m\"\u001b[39;49m\u001b[38;5;124;43m기본 매개변수 다음에\u001b[39;49m\u001b[38;5;124;43m\"\u001b[39;49m\u001b[43m,\u001b[49m\u001b[43m \u001b[49m\u001b[38;5;124;43m\"\u001b[39;49m\u001b[38;5;124;43m가변 매개 변수를\u001b[39;49m\u001b[38;5;124;43m\"\u001b[39;49m\u001b[43m,\u001b[49m\u001b[43m \u001b[49m\u001b[38;5;124;43m\"\u001b[39;49m\u001b[38;5;124;43m넣을 수 있을까요?\u001b[39;49m\u001b[38;5;124;43m\"\u001b[39;49m\u001b[43m)\u001b[49m\n\u001b[0;32m     10\u001b[0m \u001b[38;5;66;03m# 기본 매개 변수에 int타입이 들어가 있기 때문에 매개 변수에 int의 값이 들어가야 한다고 오류가 나온다.\u001b[39;00m\n\u001b[0;32m     11\u001b[0m \u001b[38;5;66;03m# 결국 기본 매개 변수를 사용했지만 인자를 무조건 넘겨 줘야 한다.\u001b[39;00m\n",
      "Cell \u001b[1;32mIn[36], line 3\u001b[0m, in \u001b[0;36moz\u001b[1;34m(n, *values)\u001b[0m\n\u001b[0;32m      2\u001b[0m \u001b[38;5;28;01mdef\u001b[39;00m \u001b[38;5;21moz\u001b[39m(n\u001b[38;5;241m=\u001b[39m\u001b[38;5;241m3\u001b[39m, \u001b[38;5;241m*\u001b[39mvalues):\n\u001b[1;32m----> 3\u001b[0m     \u001b[38;5;28;01mfor\u001b[39;00m i \u001b[38;5;129;01min\u001b[39;00m \u001b[38;5;28;43mrange\u001b[39;49m\u001b[43m(\u001b[49m\u001b[43mn\u001b[49m\u001b[43m)\u001b[49m:\n\u001b[0;32m      4\u001b[0m         \u001b[38;5;28;01mfor\u001b[39;00m value \u001b[38;5;129;01min\u001b[39;00m values:\n\u001b[0;32m      5\u001b[0m             \u001b[38;5;28mprint\u001b[39m(value)\n",
      "\u001b[1;31mTypeError\u001b[0m: 'str' object cannot be interpreted as an integer"
     ]
    }
   ],
   "source": [
    "# 기본 매개변수, 가변 매개변수\n",
    "def oz(n=3, *values):\n",
    "    for i in range(n):\n",
    "        for value in values:\n",
    "            print(value)\n",
    "        print()\n",
    "\n",
    "oz(\"기본 매개변수 다음에\", \"가변 매개 변수를\", \"넣을 수 있을까요?\")\n",
    "\n",
    "# 기본 매개 변수에 int타입이 들어가 있기 때문에 매개 변수에 int의 값이 들어가야 한다고 오류가 나온다.\n",
    "# 결국 기본 매개 변수를 사용했지만 인자를 무조건 넘겨 줘야 한다."
   ]
  },
  {
   "cell_type": "markdown",
   "metadata": {},
   "source": [
    "오류 메시지는 \"숫자형 데이터가 들어와야 하는데 문자열 데이터가 들어와 오류가 발생\"이라고 해석할 수 있습니다.\n",
    "\n",
    "이 오류가 발생했다는 건 oz(\"기본 매개변수 다음에\", \"가변 매개변수를\", \"넣을 수 있을까요?\")로<br>\n",
    "함수를 호출했을 때 <span style=\"color:red\">n에 \"기본 매개변수 다음에\" 값이 들어가고</span><br>\n",
    "<span style=\"color:yellow\">*values에 \"가변 매개변수를\", \"넣을 수 있을까요?\"가</span> 들어갔기 때문입니다.\n",
    "\n",
    "---\n",
    "\n",
    "정리해보자면 각 식별자에는 이러한 데이터가 들어가게 됩니다.\n",
    "\n",
    "oz(\"기본 매개변수 다음에\", \"가변 매개변수를\", \"넣을 수 있을까요?\")<br>\n",
    "n = \"기본 매개변수 다음에\"<br>\n",
    "***values** = \"가변 매개변수를\", \"넣을 수 있을까요?\"<br>\n",
    "\n",
    "결국 기본 매개변수가 가변 매개변수보다 앞에 오게 되면 기본 매개변수는 의미가 없어집니다.\n",
    "\n",
    "그렇다면, 반대로 기본 매개변수가 가변 매개변수보다 앞에 오게 되면 어떻게 될까요?\n",
    "\n",
    "oz 함수에 3개의 가변 매개변수와 하나의 기본 변수를 이루어진 값을 넣어보겠습니다.\n",
    "\n",
    "입력값 : oz(\"기본 매개변수 다음에\", \"가변 매개변수를\", \"넣을 수 있을까요?\", 10)\n",
    "\n",
    "결과는 어떻게 될까요?"
   ]
  },
  {
   "cell_type": "code",
   "execution_count": 16,
   "metadata": {},
   "outputs": [
    {
     "name": "stdout",
     "output_type": "stream",
     "text": [
      "기본 매개변수 다음에\n",
      "가변 매개 변수를\n",
      "넣을 수 있을까요?\n",
      "10\n",
      "\n",
      "기본 매개변수 다음에\n",
      "가변 매개 변수를\n",
      "넣을 수 있을까요?\n",
      "10\n",
      "\n",
      "기본 매개변수 다음에\n",
      "가변 매개 변수를\n",
      "넣을 수 있을까요?\n",
      "10\n",
      "\n"
     ]
    }
   ],
   "source": [
    "# 가변 매개변수, 기본 매개변수\n",
    "def oz(*values, n=3):\n",
    "    for i in range(n):\n",
    "        for value in values:\n",
    "            print(value)\n",
    "        print()\n",
    "\n",
    "oz(\"기본 매개변수 다음에\", \"가변 매개 변수를\", \"넣을 수 있을까요?\",10)\n",
    "\n",
    "# 가변매개 변수가 앞에 있으면 모두다 가변매개 변수로 작동한다.\n",
    "# 가변 매개 변수는 맨 마지막. 불변의 법칙!"
   ]
  },
  {
   "cell_type": "code",
   "execution_count": 20,
   "metadata": {},
   "outputs": [
    {
     "name": "stdout",
     "output_type": "stream",
     "text": [
      "가변 매개 변수를\n",
      "넣을 수 있을까요?\n",
      "\n",
      "가변 매개 변수를\n",
      "넣을 수 있을까요?\n",
      "\n"
     ]
    }
   ],
   "source": [
    "# 기본 매개변수, 가변 매개변수)\n",
    "def oz(n=3, *values):\n",
    "    for i in range(n):\n",
    "        for value in values:\n",
    "            print(value)\n",
    "        print()\n",
    "\n",
    "oz(2, \"가변 매개 변수를\", \"넣을 수 있을까요?\")\n",
    "\n",
    "# 이렇게 해야 제대로 작동한다."
   ]
  },
  {
   "cell_type": "markdown",
   "metadata": {},
   "source": [
    "기본 매개변수에 10을 넣으려 했으나 결과는 3번만 출력되었습니다.\n",
    "\n",
    "oz() 함수 호출시 입력된 매개변수들이 모두 가변 매개변수로 인식되어 oz() 함수 정의시 입력된 기본 매개변수 3이 적용되었습니다.\n",
    "\n",
    "이러한 문제를 해결하기 위해서 나온 개념이 <span style=\"color:red\">키워드 매개변수</span>입니다.\n",
    "<br><br><br>\n",
    "앞서 몇 번 언급했던 print() 함수를 다시 한번 보면 기본 매개변수라 꽤 익숙합니다.<br>\n",
    "그 중에서도 end는 꽤나 익숙합니다.<br>\n",
    "```\n",
    "(*values: object, sep: str | None = \" \", end: str | None = \"\\n\", file: SupportsWrite[str] | None = None, flush: Literal[False] = False) -> None\n",
    "```"
   ]
  },
  {
   "cell_type": "code",
   "execution_count": 18,
   "metadata": {},
   "outputs": [
    {
     "name": "stdout",
     "output_type": "stream",
     "text": [
      "안녕하세요"
     ]
    }
   ],
   "source": [
    "# print() 의 end =\"\" 는 키워드 매개 변수\n",
    "# print() 기본값 end = \\n\n",
    "\n",
    "my_list = ['안','녕','하','세','요']\n",
    "\n",
    "for i in my_list:\n",
    "    print(i, end=\"\")"
   ]
  },
  {
   "cell_type": "markdown",
   "metadata": {},
   "source": [
    "print() 함수를 호출할 때 i는 가변 매개변수로 입력되고 뒤에 나오는 end=\"\" 기본 매개변수가 됩니다.<br>\n",
    "어떻게 가변 매개변수 뒤에 기본 매개변수가 될 수 있었을까요?\n",
    "\n",
    "앞서 예시 코드와 다른 점은 end=\"\"라는 형식으로 값을 지정한 부분입니다.<br>\n",
    "end=\"\" 이 부분이 오늘 수업의 핵심인 <span style=\"color:red\">키워드 매개변수</span>입니다."
   ]
  },
  {
   "cell_type": "code",
   "execution_count": 34,
   "metadata": {},
   "outputs": [
    {
     "name": "stdout",
     "output_type": "stream",
     "text": [
      "2000\n",
      "1000\n",
      "125\n"
     ]
    },
    {
     "ename": "TypeError",
     "evalue": "oz() missing 1 required positional argument: 'x'",
     "output_type": "error",
     "traceback": [
      "\u001b[1;31m---------------------------------------------------------------------------\u001b[0m",
      "\u001b[1;31mTypeError\u001b[0m                                 Traceback (most recent call last)",
      "Cell \u001b[1;32mIn[34], line 19\u001b[0m\n\u001b[0;32m     16\u001b[0m oz(x\u001b[38;5;241m=\u001b[39m\u001b[38;5;241m5\u001b[39m, y\u001b[38;5;241m=\u001b[39m\u001b[38;5;241m5\u001b[39m, h\u001b[38;5;241m=\u001b[39m\u001b[38;5;241m5\u001b[39m)\n\u001b[0;32m     17\u001b[0m \u001b[38;5;66;03m# -> print(5 * 5 * 5)\u001b[39;00m\n\u001b[1;32m---> 19\u001b[0m \u001b[43moz\u001b[49m\u001b[43m(\u001b[49m\u001b[43my\u001b[49m\u001b[38;5;241;43m=\u001b[39;49m\u001b[38;5;241;43m5\u001b[39;49m\u001b[43m,\u001b[49m\u001b[43mh\u001b[49m\u001b[38;5;241;43m=\u001b[39;49m\u001b[38;5;241;43m5\u001b[39;49m\u001b[43m)\u001b[49m\n",
      "\u001b[1;31mTypeError\u001b[0m: oz() missing 1 required positional argument: 'x'"
     ]
    }
   ],
   "source": [
    "# 직육면체의 부피를 구하는 코드를 작성해보자 : 가로 : x, 세로 : y, 높이 : h\n",
    "\n",
    "def oz(x, y=20, h=10):\n",
    "    print(x * y * h)\n",
    "    # return x * y * h\n",
    "\n",
    "# x식별자에 매개변수 10을 넣은 경우\n",
    "oz(10)\n",
    "# -> print(10 * 20 * 10)\n",
    "\n",
    "# x식별자에 10을 넣고 y=10이라는 키워드 매개변수를 이용한 경우\n",
    "oz(10, y=10)\n",
    "# -> print(10 * 10 * 10)\n",
    "\n",
    "# 모든 매개변수를 키워드 매개변수로 넣은 경우\n",
    "oz(x=5, y=5, h=5)\n",
    "# -> print(5 * 5 * 5)"
   ]
  },
  {
   "cell_type": "markdown",
   "metadata": {},
   "source": [
    "---\n",
    "\n",
    "키워드 매개변수는 이렇게 다양하게 사용될 수 있습니다.<br>\n",
    "사용방법에 대해 확실히 알아두시기 바랍니다.\n",
    "\n",
    "지금부터는 강의를 잠시 멈추고 아래 2가지 키워드에 대해서 여러분들이 이해한 방식대로 정리하는 시간을 가져보시기 바랍니다.\n",
    "\n",
    "- 키워드 매개변수를 사용하는 이유에 대해 설명해주세요\n",
    "- 키워드 매개변수를 사용하기 위한 문법에 대해 설명해주세요\n",
    "\n",
    "---\n"
   ]
  },
  {
   "cell_type": "markdown",
   "metadata": {},
   "source": [
    "\n",
    "### 키워드 매개변수를 사용하는 이유에 대해 설명해주세요<br>\n",
    "\n",
    "1. 가독성 향상:\n",
    "- 함수 호출 시 각 매개변수가 어떤 의미를 가지는지 명확하게 표현할 수 있습니다.\n",
    "- 여러 매개변수를 사용하는 함수에서, 키워드 매개변수를 사용하면 코드의 의도를 명확히 알 수 있습니다.\n",
    "2. 매개변수 순서 무관:\n",
    "- 함수 정의에 따라 매개변수를 순서대로 전달하지 않아도 됩니다.\n",
    "- 특정 매개변수만 선택적으로 전달할 수 있어 유연성이 증가합니다.\n",
    "3. 디폴트 값 재정의:\n",
    "- 기본 매개변수와 함께 사용하여 디폴트 값을 원하는 대로 변경할 수 있습니다.\n",
    "\n",
    "### 키워드 매개변수를 사용하기 위한 문법에 대해 설명해주세요\n",
    "```python\n",
    "def example_function(a, b=10, c=20):\n",
    "    print(f\"a: {a}, b: {b}, c: {c}\")\n",
    "\n",
    "# 키워드 매개변수 사용\n",
    "example_function(a=5, c=30)\n",
    "# 출력: a: 5, b: 10, c: 30\n",
    "```\n",
    "매개변수 이름과 값을 키=값 형태로 전달합니다.<br>\n",
    "순서를 지키지 않아도 되며, 원하는 매개변수만 선택적으로 전달할 수 있습니다."
   ]
  }
 ],
 "metadata": {
  "kernelspec": {
   "display_name": "Python 3",
   "language": "python",
   "name": "python3"
  },
  "language_info": {
   "codemirror_mode": {
    "name": "ipython",
    "version": 3
   },
   "file_extension": ".py",
   "mimetype": "text/x-python",
   "name": "python",
   "nbconvert_exporter": "python",
   "pygments_lexer": "ipython3",
   "version": "3.11.9"
  }
 },
 "nbformat": 4,
 "nbformat_minor": 2
}
