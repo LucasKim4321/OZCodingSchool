{
 "cells": [
  {
   "cell_type": "markdown",
   "metadata": {},
   "source": [
    "\n",
    "# 파이썬의 타입 힌트와 어노테이션\n",
    "\n",
    "우선 파이썬의 타입 힌트와 어노테이션에 대해 알아보기 전에  \n",
    "파이썬의 동적 프로그래밍에 대해 다시 한번 간단하게 언급하고 넘어가겠습니다.\n",
    "\n",
    "동적 프로그래밍 언어인 파이썬은 인터프리터(interpreter)가 코드를 실행하면서 타입(type)을 추론합니다.  \n",
    "그리고 파이썬은 변수의 타입(type)이 고정되어 있지 않기 때문에 개발자가 원하면 언제든지 변경할 수 있습니다.\n",
    "\n",
    "아래 예시코드를 작성해서 한번 확인해보겠습니다.\n"
   ]
  },
  {
   "cell_type": "code",
   "execution_count": 1,
   "metadata": {},
   "outputs": [
    {
     "name": "stdout",
     "output_type": "stream",
     "text": [
      "<class 'int'>\n",
      "<class 'str'>\n"
     ]
    }
   ],
   "source": [
    "num = 10\n",
    "print(type(num))\n",
    "\n",
    "num = \"10\"\n",
    "print(type(num))"
   ]
  },
  {
   "cell_type": "markdown",
   "metadata": {},
   "source": [
    "\n",
    "위 코드를 보면 num 변수의 타입이 숫자 10을 넣었을 때는 int였다가 문자 \"10\"을 넣으니 str으로 바뀐걸 확인할 수 있습니다.\n",
    "\n",
    "자바와 같은 정적(static) 프로그래밍 언어에서는 상상도 하기 힘든 일이죠.  \n",
    "컴파일을 통해 이 코드를 실행했다면 에러가 발생했을 겁니다.\n",
    "\n",
    "이렇게 유연한 파이썬의 타입 처리는 다른 언어 대비 간단 명료한 코드를 작성하는 데 최적화 되어있습니다.\n",
    "\n",
    "유연한 파이썬의 타입 처리는 일회성 스크립트나 소규모 개발 프로젝트에서 빠르게 진행하기에는  \n",
    "매력적인 언어일 수 밖에 없습니다.\n",
    "\n",
    "하지만 프로젝트의 규모가 커지면 이러한 파이썬의 다이나믹함이 치명적인 버그로 이어질 확률이 높아지고  \n",
    "결국에는 안정성에 영향을 줄 수 밖에 없습니다.\n",
    "\n",
    "그래서 규모가 어느 정도 커진 프로젝트에서는 타입 힌팅(type hinting)이라는 개발 프로세스를 도입해 사용하는 경우가 많습니다.  \n",
    "\n",
    "참고로, 동적 프로그래밍 언어로 파이썬과 비슷한 문제를 갖고 있는 자바스크립트는  \n",
    "`typescript`라는 프로그래밍 언어로 이러한 문제를 해결하고 있습니다.\n",
    "\n",
    "타입 힌팅은 파이썬 코드를 작성할 때 타입에 대한 메타 정보를 제공하는 개념이라고 생각하시면 됩니다.  \n",
    "\n",
    "이전에는 주석을 통해 타입에 대한 정보를 제공하는 경우도 있었으나 일반적으로 작성하는 주석까지 더해서  \n",
    "가독성이 많이 떨어지는 단점이 있었습니다.\n"
   ]
  },
  {
   "cell_type": "code",
   "execution_count": 2,
   "metadata": {},
   "outputs": [],
   "source": [
    "# 직육면체의 부피를 구하는 함수\n",
    "def oz(x, y, h):\n",
    "    # type:(int, int, int) -> int\n",
    "    return x * y * h\n",
    "\n",
    "oz(10,10,10)"
   ]
  },
  {
   "cell_type": "markdown",
   "metadata": {},
   "source": [
    "#### 타입 어노테이션\n",
    "반면에 타입 힌팅에서는 타입 어노테이션이라는 새로운 방법으로 파이썬 코드의 타입 표시를 표준화할 수 있습니다.  \n",
    "타입 표시가 표준화되면서 코드 편집기에서도 해석이 가능하고 코드 자동 완성이나 정적 타입 체킹에도 사용할 수 있게 되었습니다.  \n",
    "주석으로 타입 정보를 제공했던 코드를 타입 어노테이션으로 변경해보겠습니다.\n"
   ]
  },
  {
   "cell_type": "code",
   "execution_count": 9,
   "metadata": {},
   "outputs": [
    {
     "data": {
      "text/plain": [
       "1000"
      ]
     },
     "execution_count": 9,
     "metadata": {},
     "output_type": "execute_result"
    }
   ],
   "source": [
    "# 직육면체의 부피를 구하는 함수\n",
    "def oz(x: int, y: int, h: int) -> int:\n",
    "    return x * y * h\n",
    "\n",
    "oz(10,10,10)"
   ]
  },
  {
   "cell_type": "markdown",
   "metadata": {},
   "source": [
    "여기서 오해할 수 있는 부분이 있습니다.  \n",
    "타입 힌팅은 어떠한 제약 사항을 만들거나 강요되지 않습니다.  \n",
    "다시 말해 우리가 입력한 타입 어노테이션이 잘못된 내용이어도 어떤 오류나 경고가 발생하지 않습니다.  \n",
    "\n",
    "타입 힌팅은 다른 개발자와의 협업 시 읽기 수월하도록 도움을 주는 도구라고 생각하시면 됩니다.\n",
    "\n",
    "<변수 타입 어노테이션>\n",
    "\n",
    "변수 이름 뒤에 콜론을 붙이고 타입을 명시해줍니다.\n"
   ]
  },
  {
   "cell_type": "code",
   "execution_count": 15,
   "metadata": {},
   "outputs": [
    {
     "name": "stdout",
     "output_type": "stream",
     "text": [
      "hunt\n",
      "7\n",
      "{'닥스훈트': 7, '시바견': 5, '웰시코기': 6, '이탈리안그레이하운드': 3}\n"
     ]
    }
   ],
   "source": [
    "# 3.9버전과 3.9미만 버전의 타입 어노테이션 표현 방식이 차이가 있습니다.\n",
    "# 현재 코드는 3.9이상 버전의 방식으로 작성되었습니다.\n",
    "# 변수 타입 어노테이션 사용법\n",
    "\n",
    "my_dog : str = 'hunt'\n",
    "my_dog_age : int = 7\n",
    "\n",
    "dogs: list[str] = [\"닥스훈트\", \"시바견\", \"웰시코기\", \"이탈리안그레이하운드\"]\n",
    "\n",
    "dogs: dict[str, int] = {\n",
    "    \"닥스훈트\" : 7,\n",
    "    \"시바견\" : 5,\n",
    "    \"웰시코기\" : 6,\n",
    "    \"이탈리안그레이하운드\" : 3,\n",
    "}\n",
    "\n",
    "print(my_dog)\n",
    "print(my_dog_age)\n",
    "print(dogs)"
   ]
  },
  {
   "cell_type": "markdown",
   "metadata": {},
   "source": [
    "\n",
    "# 함수 타입 어노테이션\n",
    "\n",
    "함수에 타입 힌팅을 적용할 때는 인자 타입과 반환 타입 두 곳에 추가할 수 있습니다.  \n",
    "인자에 타입 어노테이션을 추가할 때는 변수와 동일한 문법을 사용하며, 반환값에 대한 타입을 추가할 때는 화살표를 사용합니다.\n"
   ]
  },
  {
   "cell_type": "code",
   "execution_count": 16,
   "metadata": {},
   "outputs": [],
   "source": [
    "def hunt(name: str) -> str:  #매개변수의 타입은 str, 리턴 하는 변수의 타입은 str\n",
    "    return name[0]\n",
    "\n",
    "def hunt_info(name: str, age: int = 7) -> str:\n",
    "    return name + str(age)\n",
    "\n",
    "def hunt_happy_time(name: str) -> None:  #return을 하지 않음을 표현\n",
    "    print(\"간식줄께\" + name)\n",
    "\n",
    "def hunt_bow(message: str, times: int = 10) -> list[str]:\n",
    "    return [message] *times"
   ]
  },
  {
   "cell_type": "markdown",
   "metadata": {},
   "source": [
    "## 타입 힌팅 프로세스\n",
    "타입 힌팅 프로세스는 팀원 간의 합의도 필요하며 합의 이후에도 많은 대화가 필요한 부분이기 때문에  \n",
    "프로젝트에 무조건 도입하기보다 점진적으로 도입할 수 있도록 준비하는 것이 가장 중요하다는 걸 기억해주세요."
   ]
  }
 ],
 "metadata": {
  "kernelspec": {
   "display_name": "Python 3",
   "language": "python",
   "name": "python3"
  },
  "language_info": {
   "codemirror_mode": {
    "name": "ipython",
    "version": 3
   },
   "file_extension": ".py",
   "mimetype": "text/x-python",
   "name": "python",
   "nbconvert_exporter": "python",
   "pygments_lexer": "ipython3",
   "version": "3.11.9"
  }
 },
 "nbformat": 4,
 "nbformat_minor": 2
}
