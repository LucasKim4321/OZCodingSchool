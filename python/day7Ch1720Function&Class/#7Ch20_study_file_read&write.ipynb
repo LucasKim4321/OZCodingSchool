{
 "cells": [
  {
   "cell_type": "markdown",
   "metadata": {},
   "source": [
    "## 파일 입출력\n",
    "\n",
    "### 웹 -> 크롤링 -> 데이터베이스 -> 1차 클렌징 -> 출력 후 담당자에게 전달\n",
    "### -> 2차 클렌징 -> 유용한 데이터셋 ->  csv 데이터베이스 입력 -> 인공지능 학습"
   ]
  },
  {
   "cell_type": "code",
   "execution_count": 13,
   "metadata": {},
   "outputs": [],
   "source": [
    "#pwd 현재 위치 표시\n",
    "\n",
    "# cd 경로   경로로 이동\n",
    "\n",
    "# google drive에서도 됨."
   ]
  },
  {
   "cell_type": "code",
   "execution_count": 6,
   "metadata": {},
   "outputs": [
    {
     "data": {
      "text/plain": [
       "'c:\\\\javaStudy\\\\ozcoding\\\\OZCodingSchool\\\\python\\\\day7Ch1720Function&Class'"
      ]
     },
     "execution_count": 6,
     "metadata": {},
     "output_type": "execute_result"
    }
   ],
   "source": [
    "pwd"
   ]
  },
  {
   "cell_type": "code",
   "execution_count": 11,
   "metadata": {},
   "outputs": [
    {
     "name": "stdout",
     "output_type": "stream",
     "text": [
      "C:\\javaStudy\\ozcoding\\test\n"
     ]
    }
   ],
   "source": [
    "cd C:/javaStudy/ozcoding/test"
   ]
  },
  {
   "cell_type": "markdown",
   "metadata": {},
   "source": [
    "r - 읽기\n",
    "\n",
    "w - 쓰기(주의 : 덮어쓰기)\n",
    "\n",
    "a - 추가"
   ]
  },
  {
   "cell_type": "code",
   "execution_count": 12,
   "metadata": {},
   "outputs": [],
   "source": [
    "# w : write 쓰기 : 없으면 새로 만들고 있으면 덮어씀.\n",
    "#새로운 파일을 만듬\n",
    "\n",
    "f = open('test.txt','w')\n",
    "f.write('수강생 여러분')\n",
    "f.close()"
   ]
  },
  {
   "cell_type": "code",
   "execution_count": 14,
   "metadata": {},
   "outputs": [],
   "source": [
    "# 덮어쓰기함.\n",
    "\n",
    "f = open('test.txt','w')\n",
    "f.write('개발자 여러분')\n",
    "f.close()"
   ]
  },
  {
   "cell_type": "code",
   "execution_count": 20,
   "metadata": {},
   "outputs": [],
   "source": [
    "# 덮어쓰기함.\n",
    "\n",
    "f = open('test.txt','w')\n",
    "f.write('''\n",
    "개발자 여러분\n",
    "개발자 여러분\n",
    "개발자 여러분\n",
    "개발자 여러분\n",
    "개발자 여러분\n",
    "''')\n",
    "f.close()"
   ]
  },
  {
   "cell_type": "code",
   "execution_count": 21,
   "metadata": {},
   "outputs": [],
   "source": [
    "# 덮어쓰기함.\n",
    "\n",
    "f = open('test.txt','w')\n",
    "\n",
    "메시지 = \"\"\n",
    "for i in range(10):\n",
    "    메시지 += \"개발자 여러분\\n\"\n",
    "f.write(메시지)\n",
    "\n",
    "f.close()"
   ]
  },
  {
   "cell_type": "code",
   "execution_count": 32,
   "metadata": {},
   "outputs": [
    {
     "name": "stdout",
     "output_type": "stream",
     "text": [
      "개발자 여러분\n",
      "개발자 여러분\n",
      "개발자 여러분\n",
      "개발자 여러분\n",
      "개발자 여러분\n",
      "개발자 여러분\n",
      "개발자 여러분\n",
      "개발자 여러분\n",
      "개발자 여러분\n",
      "개발자 여러분\n",
      "\n",
      "\n",
      "\n",
      "\n"
     ]
    }
   ],
   "source": [
    "# r : read 읽기\n",
    "\n",
    "f = open('test.txt','r')\n",
    "\n",
    "s = f.read()\n",
    "print(s)\n",
    "\n",
    "f.close()"
   ]
  },
  {
   "cell_type": "code",
   "execution_count": 29,
   "metadata": {},
   "outputs": [
    {
     "name": "stdout",
     "output_type": "stream",
     "text": [
      "개발자 여러분\n",
      "\n",
      "<class 'str'>\n"
     ]
    }
   ],
   "source": [
    "f = open(\"test.txt\", 'r')\n",
    "\n",
    "line = f.readline()  # 한줄 읽어오기\n",
    "print(line)\n",
    "print(type(line))\n",
    "\n",
    "f.close()"
   ]
  },
  {
   "cell_type": "code",
   "execution_count": 30,
   "metadata": {},
   "outputs": [
    {
     "name": "stdout",
     "output_type": "stream",
     "text": [
      "개발자 여러분\n",
      "\n",
      "개발자 여러분\n",
      "\n",
      "개발자 여러분\n",
      "\n",
      "개발자 여러분\n",
      "\n",
      "개발자 여러분\n",
      "\n",
      "개발자 여러분\n",
      "\n",
      "개발자 여러분\n",
      "\n",
      "개발자 여러분\n",
      "\n",
      "개발자 여러분\n",
      "\n",
      "개발자 여러분\n",
      "\n",
      "\n"
     ]
    }
   ],
   "source": [
    "# 읽은 만큼 남아있는 읽을 내용이 줄어듬.\n",
    "# 다 읽으면 더 못 읽음.\n",
    "f = open('test.txt','r')\n",
    "\n",
    "# 반복문을 통해 한줄씩 계속 읽다가 다 읽으면 값이 비어있게 되서 False가 되면서 멈춤\n",
    "while line: #읽을것이 있는 동안 True\n",
    "    line = f.readline()\n",
    "    print(line)\n",
    "\n",
    "f.close()"
   ]
  },
  {
   "cell_type": "code",
   "execution_count": 33,
   "metadata": {},
   "outputs": [],
   "source": [
    "# a : append 추가하기\n",
    "\n",
    "f = open('test.txt','a')\n",
    "\n",
    "f.write('힘내자')\n",
    "\n",
    "f.close()"
   ]
  },
  {
   "cell_type": "code",
   "execution_count": 34,
   "metadata": {},
   "outputs": [],
   "source": [
    "# with as를 쓰면 close()를 안써도 됨.\n",
    "# 종료 후 자동으로 close()사용\n",
    "\n",
    "with open('test.txt','a') as f:\n",
    "    f.write('힘내자!!!')"
   ]
  },
  {
   "cell_type": "code",
   "execution_count": 47,
   "metadata": {},
   "outputs": [],
   "source": [
    "# my_list = [10,20,30]\n",
    "\n",
    "# with open('test.txt','a') as f:\n",
    "    # f.write(str(my_list))  #\n",
    "\n",
    "    \n",
    "my_list = ['가','나','다']\n",
    "\n",
    "with open('test.txt','a') as f:\n",
    "    f.write(str(my_list))  #리스트를 넣고 싶으면 str() 써야함. 숫자 관계없이 리스트 자체가 문자 타입이 아니기 때문\n",
    "    # f.write(my_list)  #형변환 안하면 안됨"
   ]
  },
  {
   "cell_type": "code",
   "execution_count": 51,
   "metadata": {},
   "outputs": [],
   "source": [
    "# 자바 스크립트를 사용하기 위한 방법\n",
    "\n",
    "my_list = [10, 20, 30]\n",
    "\n",
    "with open('test.txt', 'w') as f:\n",
    "    f.write('let test =' + str(my_list))  #let 중복허용x  #자바스크립트 문법 사용 # let test = mylist"
   ]
  },
  {
   "cell_type": "code",
   "execution_count": 52,
   "metadata": {},
   "outputs": [],
   "source": [
    "# writelines\n",
    "# my_list = [10, 20, 30]  # 안됨\n",
    "my_list = ['10', '20', '30']  # 문자형만 가능\n",
    "\n",
    "\n",
    "with open('test.txt','w') as f:\n",
    "    f.writelines(my_list)"
   ]
  },
  {
   "cell_type": "code",
   "execution_count": 57,
   "metadata": {},
   "outputs": [],
   "source": [
    "#csv\n",
    "# my_list = [10,20,30]  # 숫자형 안됨\n",
    "my_list = ['10', '20', '30']\n",
    "\n",
    "with open('test3.csv','w') as f:\n",
    "    f.write(','.join(my_list))"
   ]
  }
 ],
 "metadata": {
  "kernelspec": {
   "display_name": "Python 3",
   "language": "python",
   "name": "python3"
  },
  "language_info": {
   "codemirror_mode": {
    "name": "ipython",
    "version": 3
   },
   "file_extension": ".py",
   "mimetype": "text/x-python",
   "name": "python",
   "nbconvert_exporter": "python",
   "pygments_lexer": "ipython3",
   "version": "3.11.9"
  }
 },
 "nbformat": 4,
 "nbformat_minor": 2
}
