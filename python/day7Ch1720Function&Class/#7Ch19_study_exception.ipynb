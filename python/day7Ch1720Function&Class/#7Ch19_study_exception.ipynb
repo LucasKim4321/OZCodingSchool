{
 "cells": [
  {
   "cell_type": "code",
   "execution_count": 3,
   "metadata": {},
   "outputs": [
    {
     "name": "stdout",
     "output_type": "stream",
     "text": [
      "예외가 발생했습니다.\n"
     ]
    }
   ],
   "source": [
    "# 예외코드 작성\n",
    "# try:\n",
    "#   감시할 블럭\n",
    "# except:\n",
    "#   예외 발생시 실행할 블럭\n",
    "\n",
    "try:\n",
    "    x = int(input('나눌 숫자를 입력하세요'))\n",
    "    y = 10 / x\n",
    "    print(x)\n",
    "except:\n",
    "    print(\"예외가 발생했습니다.\")\n"
   ]
  },
  {
   "cell_type": "code",
   "execution_count": 10,
   "metadata": {},
   "outputs": [
    {
     "name": "stdout",
     "output_type": "stream",
     "text": [
      "10.0\n"
     ]
    }
   ],
   "source": [
    "y = [ 10, 20, 30 ]\n",
    "try:\n",
    "    index, x = map(int, input('나눌 숫자를 입력하세요: ').split(','))\n",
    "    print(y[index]/x)\n",
    "except:\n",
    "    print('오류입니다.')"
   ]
  },
  {
   "cell_type": "code",
   "execution_count": null,
   "metadata": {},
   "outputs": [
    {
     "name": "stdout",
     "output_type": "stream",
     "text": [
      "잘못된 인덱스입니다..\n"
     ]
    }
   ],
   "source": [
    "y = [ 10, 20, 30 ]\n",
    "try:\n",
    "    index, x = map(int, input('나눌 숫자를 입력하세요: ').split(','))\n",
    "    print(y[index]/x)\n",
    "except ZeroDivisionError:  #0으로 나눌시 에러 처리\n",
    "    print('숫자를 0으로 나눌 수 없습니다.')\n",
    "except IndexError:  #잘못된 인덱스 입력시 에러\n",
    "    print('잘못된 인덱스입니다.')"
   ]
  },
  {
   "cell_type": "code",
   "execution_count": null,
   "metadata": {},
   "outputs": [
    {
     "name": "stdout",
     "output_type": "stream",
     "text": [
      "예외가 발생했습니다.\n",
      "코드 실행이 종료되었습니다.\n"
     ]
    }
   ],
   "source": [
    "\n",
    "try:\n",
    "    x = int(input('나눌 숫자를 입력하세요'))\n",
    "    y = 10 / x\n",
    "    raise  # 에러발생 시키는 기능\n",
    "    print(x)\n",
    "except:  #예외 처리\n",
    "    print(\"예외가 발생했습니다.\")\n",
    "else:  #try 성공시 처리\n",
    "    print(y, \"성공하셨습니다.\")\n",
    "finally:  # try 수행 후 에러 여부와 관계없이 무조건 실행됨\n",
    "    print(\"코드 실행이 종료되었습니다.\")"
   ]
  }
 ],
 "metadata": {
  "kernelspec": {
   "display_name": "Python 3",
   "language": "python",
   "name": "python3"
  },
  "language_info": {
   "codemirror_mode": {
    "name": "ipython",
    "version": 3
   },
   "file_extension": ".py",
   "mimetype": "text/x-python",
   "name": "python",
   "nbconvert_exporter": "python",
   "pygments_lexer": "ipython3",
   "version": "3.11.9"
  }
 },
 "nbformat": 4,
 "nbformat_minor": 2
}
