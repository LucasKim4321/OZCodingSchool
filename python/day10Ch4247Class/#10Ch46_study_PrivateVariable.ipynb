{
 "cells": [
  {
   "cell_type": "markdown",
   "metadata": {},
   "source": [
    "# Chapter 8-5. 프라이빗 변수 (Private Variable)\n",
    "\n",
    "## 1. 프라이빗 변수\n",
    "\n",
    "객체 지향 프로그래밍의 최종 목표는 객체를 효율적으로 만들고 사용하는 것입니다."
   ]
  },
  {
   "cell_type": "code",
   "execution_count": 7,
   "metadata": {},
   "outputs": [
    {
     "name": "stdout",
     "output_type": "stream",
     "text": [
      "원의 둘레: 62.83185307179586\n",
      "원의 넓이: 314.1592653589793\n"
     ]
    }
   ],
   "source": [
    "import math  # 수학 관련 함수와 상수를 제공하는 모듈을 임포트\n",
    "\n",
    "# 원의 정보를 저장하는 클래스 정의\n",
    "class OzCircle:\n",
    "    def __init__(self, radius):\n",
    "        self.radius = radius  # 반지름 값을 초기화\n",
    "\n",
    "    def get_circumference(self):\n",
    "        # 원의 둘레를 계산하여 반환\n",
    "        return 2 * math.pi * self.radius\n",
    "\n",
    "    def get_area(self):\n",
    "        # 원의 넓이를 계산하여 반환\n",
    "        return math.pi * (self.radius ** 2)\n",
    "\n",
    "# OzCircle 클래스의 인스턴스를 생성\n",
    "circle = OzCircle(10)\n",
    "\n",
    "# 프라이빗 변수가 아니라면 아래 코드 사용시 값을 임의로 변경 가능\n",
    "# circle.radius = -2\n",
    "\n",
    "# 원의 둘레를 출력\n",
    "print(\"원의 둘레:\", circle.get_circumference())\n",
    "\n",
    "# 원의 넓이를 출력\n",
    "print(\"원의 넓이:\", circle.get_area())\n"
   ]
  },
  {
   "cell_type": "code",
   "execution_count": 5,
   "metadata": {},
   "outputs": [
    {
     "name": "stdout",
     "output_type": "stream",
     "text": [
      "원의 둘레: 62.83185307179586\n",
      "원의 넓이: 314.1592653589793\n"
     ]
    }
   ],
   "source": [
    "# 프라이빗 변수 사용 코드\n",
    "\n",
    "import math  # 수학 관련 함수와 상수를 제공하는 모듈을 임포트\n",
    "\n",
    "# 원의 정보를 저장하는 클래스 정의\n",
    "class OzCircle:\n",
    "    def __init__(self, radius):\n",
    "        self.__radius = radius  # 반지름 값을 초기화\n",
    "\n",
    "    def get_circumference(self):\n",
    "        # 원의 둘레를 계산하여 반환\n",
    "        return 2 * math.pi * self.__radius\n",
    "\n",
    "    def get_area(self):\n",
    "        # 원의 넓이를 계산하여 반환\n",
    "        return math.pi * (self.__radius ** 2)\n",
    "\n",
    "# OzCircle 클래스의 인스턴스를 생성\n",
    "circle = OzCircle(10)\n",
    "\n",
    "# 프라이빗 변수는 값을 임의로 변경할 수 없음.\n",
    "# 아래 코드를 사용해도 적용 안됨.\n",
    "circle.radius = -2\n",
    "\n",
    "# 원의 둘레를 출력\n",
    "print(\"원의 둘레:\", circle.get_circumference())\n",
    "\n",
    "# 원의 넓이를 출력\n",
    "print(\"원의 넓이:\", circle.get_area())\n"
   ]
  },
  {
   "cell_type": "markdown",
   "metadata": {},
   "source": [
    "프라이빗 변수로 인해 외부에서 내부의 변수를 조작하려고 했으나 변경되지 않았습니다.\n",
    "\n",
    "굉장히 유용하게 사용될 수 있는 구문이기에 꼭 기억하시기 바랍니다."
   ]
  }
 ],
 "metadata": {
  "kernelspec": {
   "display_name": "Python 3",
   "language": "python",
   "name": "python3"
  },
  "language_info": {
   "codemirror_mode": {
    "name": "ipython",
    "version": 3
   },
   "file_extension": ".py",
   "mimetype": "text/x-python",
   "name": "python",
   "nbconvert_exporter": "python",
   "pygments_lexer": "ipython3",
   "version": "3.9.6"
  }
 },
 "nbformat": 4,
 "nbformat_minor": 2
}
