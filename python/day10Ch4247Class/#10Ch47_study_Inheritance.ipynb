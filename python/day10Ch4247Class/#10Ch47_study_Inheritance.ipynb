{
 "cells": [
  {
   "cell_type": "markdown",
   "metadata": {},
   "source": [
    "# Chapter 8-6. 상속 (Inheritance)\n",
    "\n",
    "## 1. 상속\n",
    "\n",
    "클래스 기반의 객체 지향 언어에서는 상속이라는 기능이 있습니다.\n",
    "\n",
    "상속: 이는 기존에 만들었던 클래스 (예: 수강생 등록, 원의 둘레와 넓이 계산, 데이터베이스에 등록된 수강생 수 세기 등)의 일부 내용을 추가(예: 수강생 삭제 기능)하거나 변경하는 것을 의미합니다.\n",
    "\n",
    "프로그래밍 언어에서는 원본 클래스를 '부모 클래스'라고 부르고, 이를 기반으로 만든 새 클래스를 '자식 클래스'라고 합니다. 이런 과정을 '상속'이라고 부릅니다.\n",
    "\n",
    "## 2. 다중 상속\n",
    "\n",
    "상속은 기존 클래스를 추가하거나 변경하는 것을 의미하며, 다중 상속은 각 클래스에서 필요한 속성이나 기능을 선택하여 사용하는 것을 말합니다.\n"
   ]
  },
  {
   "cell_type": "code",
   "execution_count": 1,
   "metadata": {},
   "outputs": [
    {
     "name": "stdout",
     "output_type": "stream",
     "text": [
      "Parent 클래스의 __init__ 메소드가 호출되었습니다.\n",
      "Child 클래스의 __init__ 메소드가 호출되었습니다.\n",
      "Parent 클래스의 test() 메소드입니다.\n",
      "테스트\n"
     ]
    }
   ],
   "source": [
    "# 자식클래스를 만들 때 사용할 부모 클래스\n",
    "class Parent:\n",
    "    def __init__(self):\n",
    "        self.value = \"테스트\"\n",
    "        print(\"Parent 클래스의 __init__ 메소드가 호출되었습니다.\")\n",
    "\n",
    "    def test(self):\n",
    "        print(\"Parent 클래스의 test() 메소드입니다.\")\n",
    "\n",
    "class Child(Parent):\n",
    "    def __init__(self):\n",
    "        super().__init__() # 부모 클래스의 생성자 호출\n",
    "        print(\"Child 클래스의 __init__ 메소드가 호출되었습니다.\")\n",
    "\n",
    "# Child 클래스의 인스턴스 생성\n",
    "child = Child()\n",
    "\n",
    "# 부모 클래스의 메서드 호출\n",
    "child.test()\n",
    "\n",
    "# 부모 클래스에서 초기화된 인스턴스 변수 출력\n",
    "print(child.value)"
   ]
  },
  {
   "cell_type": "markdown",
   "metadata": {},
   "source": [
    "Child 클래스 내부에는 별도의 항목이 없지만, Parent 클래스를 상속 받았기 때문에 Parent 클래스의 함수와 변수를 사용할 수 있습니다."
   ]
  }
 ],
 "metadata": {
  "kernelspec": {
   "display_name": "Python 3",
   "language": "python",
   "name": "python3"
  },
  "language_info": {
   "codemirror_mode": {
    "name": "ipython",
    "version": 3
   },
   "file_extension": ".py",
   "mimetype": "text/x-python",
   "name": "python",
   "nbconvert_exporter": "python",
   "pygments_lexer": "ipython3",
   "version": "3.9.6"
  }
 },
 "nbformat": 4,
 "nbformat_minor": 2
}
