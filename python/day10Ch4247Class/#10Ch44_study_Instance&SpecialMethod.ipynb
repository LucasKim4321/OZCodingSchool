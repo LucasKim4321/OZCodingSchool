{
 "cells": [
  {
   "cell_type": "markdown",
   "metadata": {},
   "source": [
    "# Chapter 8-3. 인스턴스와 특수 메소드 (Instance and Sppecial Method)\n",
    "\n",
    "## 1. 인스턴스\n",
    "\n",
    "인스턴스는 클래스에서 생성된 객체를 의미합니다.\n",
    "\n",
    "다양한 클래스가 존재하는 경우, 어떤 클래스에서 생성된 인스턴스인지 파악하기 어려울 수 있습니다. 또한 인스턴스가 생성된 클래스에 따라 다르게 대응해야 하는 상황도 있습니다. 이럴 때, `isinstance()` 함수를 사용하여 인스턴스가 어떤 클래스에서 생성되었는지 파악할 수 있습니다.\n",
    "\n",
    "`isinstance()`: 이 함수는 첫 번째 매개변수로 인스턴스(객체)를, 두 번째 매개변수로 클래스를 입력받습니다. 두 번째 매개변수로 입력한 클래스로 첫 번째 매개변수의 인스턴스가 생성되었는지를 True, False로 판별하여 반환합니다.\n"
   ]
  },
  {
   "cell_type": "code",
   "execution_count": 2,
   "metadata": {},
   "outputs": [
    {
     "name": "stdout",
     "output_type": "stream",
     "text": [
      "instances(student, Student): True\n"
     ]
    }
   ],
   "source": [
    "class Student:\n",
    "    def __init__(self):\n",
    "        pass\n",
    "\n",
    "student = Student()\n",
    "\n",
    "print(\"instances(student, Student):\", isinstance(student, Student))"
   ]
  },
  {
   "cell_type": "markdown",
   "metadata": {},
   "source": [
    "Student 클래스로 만든 클래스가 student이기 때문에 True가 출력된걸 확인할 수 있습니다.\n",
    "\n",
    "지금부터는 instance() 함수를 이용해 여러개의 클래스에서 생성된 인스턴스를 구분해 처리하는 코드를 작성해보겠습니다."
   ]
  },
  {
   "cell_type": "markdown",
   "metadata": {},
   "source": [
    "## 2. 인스턴스의 구분"
   ]
  },
  {
   "cell_type": "code",
   "execution_count": 4,
   "metadata": {},
   "outputs": [
    {
     "name": "stdout",
     "output_type": "stream",
     "text": [
      "파이썬을 수강중입니다.\n",
      "파이썬을 수강중입니다.\n",
      "파이썬을 수강중입니다.\n",
      "자바를 수강중입니다.\n",
      "파이썬을 수강중입니다.\n"
     ]
    }
   ],
   "source": [
    "class Python:\n",
    "    def python(self):\n",
    "        print(\"파이썬을 수강중입니다.\")\n",
    "\n",
    "class Java:\n",
    "    def java(self):\n",
    "        print(\"자바를 수강중입니다.\")\n",
    "    \n",
    "programming_subjects = [Python(), Python(), Python(), Java(), Python()]\n",
    "\n",
    "# 각 프로그래밍 과목 인스턴스를 순회하며 해당 수업을 출력\n",
    "for subject in programming_subjects:\n",
    "    if isinstance(subject, Python):\n",
    "        subject.python()  # subject가 Python 클래스의 인스턴스인 경우, python 메서드 호출\n",
    "    if isinstance(subject, Java):\n",
    "        subject.java()"
   ]
  },
  {
   "cell_type": "markdown",
   "metadata": {},
   "source": [
    "## 3. 특수 메서드의 사용"
   ]
  },
  {
   "cell_type": "code",
   "execution_count": null,
   "metadata": {},
   "outputs": [],
   "source": [
    "class Student:\n",
    "    def __init__(self):\n",
    "        pass\n",
    "\n",
    "student = Student()\n",
    "\n",
    "#student. 하면 사용할 수 있는 기본 메소드가 나옴.\n",
    "student.\n",
    "\n",
    "print(\"instances(student, Student):\", isinstance(student, Student))"
   ]
  },
  {
   "cell_type": "markdown",
   "metadata": {},
   "source": [
    "`__이름__` 이런 형태의 이름을 가집니다.\n",
    "\n",
    "`__str__()`이란 이름으로 기존 to_string 함수의 이름을 대체 해보겠습니다.\n",
    "\n",
    "참고로, `__str__()`로 정의하게 되면 str()만 입력해도 기존 받ㅇ식과 다르 게 자동으로 호출됩니다.\n",
    "\n",
    "그래서 기존에 있는 함수 호출 부분인 코드를\n",
    "\n",
    "`print(student.to_string())`\n",
    "\n",
    "이렇게 변경해서 실행할 수 있습니다.\n",
    "\n",
    "`print(str(student))`"
   ]
  },
  {
   "cell_type": "code",
   "execution_count": 5,
   "metadata": {},
   "outputs": [
    {
     "name": "stdout",
     "output_type": "stream",
     "text": [
      "이름\t총점\t평균\n",
      "백현우\t12\t3.0\n",
      "홍해인\t15\t3.75\n",
      "윤은성\t12\t3.0\n",
      "홍수철\t11\t2.75\n"
     ]
    }
   ],
   "source": [
    "# __str__ 사용\n",
    "# 학생 정보를 저장하는 클래스 정의\n",
    "class CreateOzStudents:\n",
    "    def __init__(self, name, python, database, Django, AWS):\n",
    "        self.name = name  # 학생 이름\n",
    "        self.python = python  # 파이썬 점수\n",
    "        self.database = database  # 데이터베이스 점수\n",
    "        self.Django = Django  # 장고 점수\n",
    "        self.AWS = AWS  # AWS 점수\n",
    "\n",
    "    # 학생의 총점을 계산하는 메소드\n",
    "    def get_sum(self):\n",
    "        return self.python + self.database + self.Django + self.AWS\n",
    "\n",
    "    # 학생의 평균 점수를 계산하는 메소드\n",
    "    def get_average(self):\n",
    "        return self.get_sum() / len(oz_students)\n",
    "\n",
    "    # 학생 정보를 문자열로 반환하는 메소드\n",
    "    def __str__(self):\n",
    "        return f'{self.name}\\t{self.get_sum()}\\t{self.get_average()}'\n",
    "\n",
    "# 학생들의 정보 리스트 생성\n",
    "oz_students = [\n",
    "    CreateOzStudents(\"백현우\", 4, 3, 3, 2),\n",
    "    CreateOzStudents(\"홍해인\", 4, 5, 2, 4),\n",
    "    CreateOzStudents(\"윤은성\", 3, 4, 4, 1),\n",
    "    CreateOzStudents(\"홍수철\", 2, 3, 1, 5)\n",
    "]\n",
    "\n",
    "# 학생들의 이름, 총점, 평균을 출력\n",
    "print(\"이름\", \"총점\", \"평균\", sep=\"\\t\")\n",
    "for student in oz_students:\n",
    "    print(str(student))  # 각 학생 객체의 문자열 표현을 출력"
   ]
  },
  {
   "cell_type": "markdown",
   "metadata": {},
   "source": [
    "`__str__` 외에도 다양한 이름들이 있습니다.\n",
    "\n",
    "예를 하나 더 들어보자면 `__eq__`로 이름을 사용한 경우\n",
    "\n",
    "실행 방법은 '=='을 이용해서 사용할 수 있습니다."
   ]
  },
  {
   "cell_type": "markdown",
   "metadata": {},
   "source": []
  },
  {
   "cell_type": "markdown",
   "metadata": {},
   "source": [
    "\n",
    "## 이해도 체크리스트\n",
    "\n",
    "<aside>\n",
    "⚠️ 해당 체크리스트는 본 챕터의 이해도를 확인하는 문제입니다. 대답에 어려움을 느끼신다면, 다시 한번 강의를 수강하는 것을 추천드립니다.\n",
    "\n",
    "</aside>\n",
    "\n",
    "1. 인스턴스란 무엇인가요?\n",
    "    \n",
    "    a. 클래스에서 생성된 객체\n",
    "    \n",
    "    b. 함수에서 생성된 객체\n",
    "    \n",
    "    c. 모듈에서 생성된 객체\n",
    "    \n",
    "    - 정답\n",
    "        \n",
    "        a\n",
    "        \n",
    "    \n",
    "2. `isinstance()` 함수의 역할은 무엇인가요?\n",
    "    1. 객체의 타입을 확인합니다.\n",
    "    2. 객체가 특정 클래스의 인스턴스인지 확인합니다.\n",
    "    3. 객체의 속성을 확인합니다.\n",
    "    - 정답\n",
    "        \n",
    "        b\n",
    "        \n",
    "    \n",
    "3. 다음 코드의 출력은 무엇인가요?\n",
    "    \n",
    "    ```python\n",
    "    class Student:\n",
    "        def __init__(self):\n",
    "            pass\n",
    "    \n",
    "    student = Student()\n",
    "    print(\"isinstance(student, Student):\", isinstance(student, Student))\n",
    "    ```\n",
    "    \n",
    "    a. `isinstance(student, Student): False`\n",
    "    \n",
    "    b. `isinstance(student, Student): True`\n",
    "    \n",
    "    c. `isinstance(student, Student): Error`\n",
    "    \n",
    "    - 정답\n",
    "        \n",
    "        b\n",
    "        \n",
    "    \n",
    "4. 다음 코드의 출력은 무엇인가요?\n",
    "    \n",
    "    ```python\n",
    "    class Python:\n",
    "        def python(self):\n",
    "            print(\"파이썬을 수강중입니다.\")\n",
    "    \n",
    "    class Java:\n",
    "        def java(self):\n",
    "            print(\"자바를 수강중입니다.\")\n",
    "    \n",
    "    programming_subjects = [Python(), Python(), Python(), Java(), Python()]\n",
    "    \n",
    "    for subject in programming_subjects:\n",
    "        if isinstance(subject, Python):\n",
    "            subject.python()\n",
    "        elif isinstance(subject, Java):\n",
    "            subject.java()\n",
    "    ```\n",
    "    \n",
    "    1. 파이썬을 수강중입니다. (5번 출력)\n",
    "    2. 자바를 수강중입니다. (5번 출력)\n",
    "    3. 파이썬을 수강중입니다. (4번 출력), 자바를 수강중입니다. (1번 출력)\n",
    "\n",
    "1. `__str__` 메서드는 어떤 역할을 하나요?\n",
    "    - a. 객체를 문자열로 반환합니다.\n",
    "    - b. 객체를 숫자로 반환합니다.\n",
    "    - c. 객체를 리스트로 반환합니다.\n",
    "    - 정답\n",
    "        \n",
    "        a"
   ]
  }
 ],
 "metadata": {
  "kernelspec": {
   "display_name": "Python 3",
   "language": "python",
   "name": "python3"
  },
  "language_info": {
   "codemirror_mode": {
    "name": "ipython",
    "version": 3
   },
   "file_extension": ".py",
   "mimetype": "text/x-python",
   "name": "python",
   "nbconvert_exporter": "python",
   "pygments_lexer": "ipython3",
   "version": "3.9.6"
  }
 },
 "nbformat": 4,
 "nbformat_minor": 2
}
