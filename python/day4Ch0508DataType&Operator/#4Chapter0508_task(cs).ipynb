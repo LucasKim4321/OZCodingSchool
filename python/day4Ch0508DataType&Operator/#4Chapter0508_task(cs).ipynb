{
 "cells": [
  {
   "cell_type": "markdown",
   "metadata": {
    "id": "WXEwMsfUct7U"
   },
   "source": [
    "컴퓨터 기초 지식을 의미하는 CS(Computer science)는<br>\n",
    "코딩 테스트와 함께 기술 면접에서 지원자에게 필수적으로 요구합니다.<br>\n",
    "\n",
    "수업 내용 중 기술 면접에 자주 나오는 질문 3가지와 기본적으로 알아야 할 내용 과제로 선정했습니다.<br>\n",
    "\n",
    "관련 내용에 대해서는 구글링 또는 관련 서적을 통해 상세히 공부하시고<br>\n",
    "답변은 최대한 핵심만 담아 간결하게 작성해주세요<br>\n",
    "\n",
    "기술 블로그를 운영 중이신 경우<br>\n",
    "답변 내용을 기술 블로그에 작성하신 후 링크를 답변에 남겨주셔도 됩니다.<br>"
   ]
  },
  {
   "cell_type": "markdown",
   "metadata": {
    "id": "qoyC9wF-3hvs"
   },
   "source": [
    "-----"
   ]
  },
  {
   "cell_type": "markdown",
   "metadata": {
    "id": "rAD_O3Gmc_43"
   },
   "source": [
    "[문제1]\n",
    "\n",
    "Python의 변수 할당 개념을 다른 언어와 비교해 설명해주세요\n"
   ]
  },
  {
   "cell_type": "code",
   "execution_count": 105,
   "metadata": {},
   "outputs": [
    {
     "name": "stdout",
     "output_type": "stream",
     "text": [
      "140711689811016\n",
      "140711689811016\n",
      "140711689811016\n",
      "140711689811016\n",
      "140711689811016\n",
      "1519462625328\n",
      "1519462625328\n",
      "1519462625328\n"
     ]
    }
   ],
   "source": [
    "# 🐍 Python의 변수 할당\n",
    "#     Python에서 변수는 **\"객체(Object)\"**를 참조하는 **\"이름표(Label)\"**와 같습니다.\n",
    "#     변수가 값을 저장하는 것이 아니라, 객체의 메모리 주소를 참조합니다.\n",
    "#     같은 값을 여러 변수에 할당하면, 동일한 객체를 참조합니다.\n",
    "\n",
    "# 🔄 다른 언어와의 비교\n",
    "#      언어             변수 할당 방식                        설명\n",
    "#    Python        참조(Reference) 방식             변수는 객체의 참조를 가짐\n",
    "#    C             값(Value) 복사                   변수에 값 자체를 저장\n",
    "#    Java          원시 타입(Primitive)은 값 복사    객체는 참조를 통해 할당\n",
    "#    JavaScript    원시 타입은 값 복사, 객체는 참조   값/참조로 구분됨\n",
    "\n",
    "\n",
    "# 파이썬의 \"인터닝(interning)\" 최적화 기법\n",
    "# 파이썬에서는 -5 ~ 256 범위의 정수 객체를 미리 캐싱하여 재사용함. 그 외엔 각 각 다른 id값을 가짐.\n",
    "# 문자열도 짧고 자주 사용되는 문자열(예: 'hello', 'world')은 인터닝 처리\n",
    "# 실제 id값을 신경써야할 땐 그냥 다 다르다고 보고 처리해야함.\n",
    "\n",
    "a = 10\n",
    "b = a\n",
    "c = 10\n",
    "d = 100//10\n",
    "e = 5 + 5\n",
    "\n",
    "# a = 20\n",
    "# d = 200//10\n",
    "print(id(a))  # a의 메모리 주소\n",
    "print(id(b))  # b도 같은 메모리 주소를 참조\n",
    "print(id(c))  # c도 같은 메모리 주소를 참조\n",
    "print(id(d))  # d도 같은 메모리 주소를 참조\n",
    "print(id(e))  # e도 같은 메모리 주소를 참조\n",
    "\n",
    "# 같은 id 값을 가짐. 소수점, 특수문자가 들어가면 달라짐\n",
    "f = 'dafdsfdsfasdfdsfdsfu7uiuyiuyiuyvbncvbnbvncvbnvnzxfcfewtgyhtrgjnmhgjnmiuybvcnvbnvcbnvbcncvbnvbnbvncbvncvbnbvnvbniuyiuyds0142132132133'\n",
    "g = f\n",
    "h = 'dafdsfdsfasdfdsfdsfu7uiuyiuyiuyvbncvbnbvncvbnvnzxfcfewtgyhtrgjnmhgjnmiuybvcnvbnvcbnvbcncvbnvbnbvncbvncvbnbvnvbniuyiuyds0142132132133'\n",
    "print(id(f))\n",
    "print(id(g))\n",
    "print(id(h))"
   ]
  },
  {
   "cell_type": "code",
   "execution_count": 115,
   "metadata": {},
   "outputs": [
    {
     "name": "stdout",
     "output_type": "stream",
     "text": [
      "1519462225936\n",
      "1519462225936\n",
      "1519462229232\n",
      "1519462227088\n"
     ]
    }
   ],
   "source": [
    "# 파이썬에서는 -5 ~ 256 범위의 정수 객체를 미리 캐싱하여 재사용함. 그 외엔 각 각 다른 id값을 가짐.\n",
    "a = 1000\n",
    "b = a\n",
    "c = 1000\n",
    "d = 1000\n",
    "\n",
    "# a = 20\n",
    "# d = 200//10\n",
    "print(id(a))  # a의 메모리 주소\n",
    "print(id(b))  # b = a는 같은 주소\n",
    "print(id(c))  # c는 다른 주소\n",
    "print(id(d))  # d도 다른 주소"
   ]
  },
  {
   "cell_type": "markdown",
   "metadata": {},
   "source": [
    "---"
   ]
  },
  {
   "cell_type": "markdown",
   "metadata": {
    "id": "3uK_auXYdgk2"
   },
   "source": [
    "[문제2]\n",
    "\n",
    "Python의 실수형(float) 계산 시 오차가 발생하는 이유에 대해 간단히 설명해 주세요"
   ]
  },
  {
   "cell_type": "code",
   "execution_count": 143,
   "metadata": {},
   "outputs": [
    {
     "name": "stdout",
     "output_type": "stream",
     "text": [
      "0.30000000000000004\n",
      "1519462225808\n",
      "1519462227696\n",
      "1519459792944\n",
      "0.3\n",
      "1519463595600\n",
      "1519463594592\n",
      "1519462228752\n"
     ]
    }
   ],
   "source": [
    "# Python의 **float**는 IEEE 754 부동소수점 표준을 따릅니다.\n",
    "# 실수를 2진법으로 정확하게 표현 할 수 없기 때문에 부동소수점 오차가 발생!\n",
    "# Python에서 decimal 모듈을 사용해 정밀도를 높일 수 있습니다.\n",
    "a = 0.1 + 0.2\n",
    "print(a)  # 정확하게 0.3이 아님\n",
    "print(id(a))\n",
    "print(id(0.3))\n",
    "print(id(0.3))\n",
    "from decimal import Decimal\n",
    "b = Decimal('0.1') + Decimal('0.2')\n",
    "print(b)  # 정확하게 0.3 출력\n",
    "print(id(b))\n",
    "print(id(Decimal('0.3')))\n",
    "print(id(0.3))"
   ]
  },
  {
   "cell_type": "code",
   "execution_count": 189,
   "metadata": {},
   "outputs": [
    {
     "name": "stdout",
     "output_type": "stream",
     "text": [
      "다르다\n",
      "크다\n",
      "다르다\n",
      "같다\n",
      "0.3\n",
      "True\n",
      "True\n",
      "True\n",
      "456\n"
     ]
    }
   ],
   "source": [
    "# 다르다고 하네..\n",
    "if 0.3 == 0.1 + 0.2:\n",
    "    print(\"같다\")\n",
    "else:\n",
    "    print(\"다르다\")\n",
    "\n",
    "if 0.1 + 0.2 > 0.3:\n",
    "    print(\"크다\")\n",
    "else:\n",
    "    print(\"작다\")\n",
    "\n",
    "# Decimal()을 쓰고도 다르다고 하는 이유는 실수값에 이미 부동소수점으로 인한 오차가 포함되어 있기 때문이라고 한다.\n",
    "if Decimal(0.3) == Decimal(0.1) + Decimal(0.2):\n",
    "    print(\"같다\")\n",
    "else:\n",
    "    print(\"다르다\")\n",
    "\n",
    "# 올바른 Decimal()사용법\n",
    "if Decimal('0.3') == Decimal('0.1') + Decimal('0.2'):\n",
    "    print(\"같다\")\n",
    "else:\n",
    "    print(\"다르다\")\n",
    "\n",
    "\n",
    "\n",
    "# 해결법\n",
    "\n",
    "# 1. Decimal()사용. 정확함\n",
    "print(Decimal('0.1') + Decimal('0.2'))  # 이렇게하면 정확하게 0.3이 나옴\n",
    "\n",
    "# 2. 자리수 변경해서 계산. 정확함\n",
    "print(int((0.2 + 0.1) * 10) == int(0.3 * 10))  # True\n",
    "\n",
    "# 3. math.isclose() 사용. 오차 범위 허용.\n",
    "import math\n",
    "print(math.isclose(0.2 + 0.1, 0.3))  # True\n",
    "\n",
    "# 4. round() 반올림. 대충 계산\n",
    "print(round(0.2 + 0.1, 10) == round(0.3, 10))  # True\n",
    "\n",
    "# 금융, 과학, 정밀한 계산이 필요한 분야에서는 반드시 Decimal을 사용"
   ]
  },
  {
   "cell_type": "code",
   "execution_count": 218,
   "metadata": {},
   "outputs": [
    {
     "name": "stdout",
     "output_type": "stream",
     "text": [
      "0.30000000000000004\n",
      "0.3000000000000000444089209850062616169452667236328125\n",
      "0.299999999999999988897769753748434595763683319091796875\n",
      "0.200000000000000011102230246251565404236316680908203125\n",
      "0.1000000000000000055511151231257827021181583404541015625\n",
      "0.3\n",
      "<class 'decimal.Decimal'>\n",
      "0.14285714285714285714\n",
      "0.14285714285714285\n",
      "0.14285714285714285714\n",
      "0.14285714285714288\n"
     ]
    }
   ],
   "source": [
    "a = 0.2+0.1\n",
    "print(a)\n",
    "print(Decimal(a))\n",
    "print(Decimal(0.3))\n",
    "print(Decimal(0.2))\n",
    "print(Decimal(0.1))\n",
    "b = Decimal('0.1')\n",
    "c = Decimal('0.2')\n",
    "d = b+c\n",
    "print(d)\n",
    "print(type(d))\n",
    "\n",
    "from decimal import getcontext\n",
    "\n",
    "# Decimal은 기본적으로 소수점 이하 28자리까지 정확도를 보장\n",
    "\n",
    "# 정확도(정밀도) 변경 가능\n",
    "# 정확도를 10자리로 설정\n",
    "getcontext().prec = 20\n",
    "\n",
    "a = Decimal(\"1\") / Decimal(\"7\")\n",
    "print(a)\n",
    "b = 1/7\n",
    "print(b)\n",
    "a = Decimal(\"0.1\")/ Decimal(\"0.7\")\n",
    "print(a)\n",
    "b = 0.1/0.7\n",
    "print(b)\n",
    "\n",
    "# cpu에 FPU(Floating Point Unit)라는 부동소수점 연산 전용 유닛이 내장 되어있어 하드웨어에서 직접처리함.\n",
    "\n",
    "# 🔹 IEEE 754를 사용해야 하는 경우 (속도 우선)\n",
    "# ✅ 게임 개발: 부동소수점 연산이 많고, 속도가 중요함.\n",
    "# ✅ 물리 시뮬레이션: 약간의 오차가 있어도 문제없으면 빠른 계산이 중요.\n",
    "# ✅ 그래픽 연산, 머신러닝: 하드웨어 가속이 지원됨 (GPU, SIMD 최적화 가능).\n",
    "\n",
    "# 🔹 BigDecimal을 사용해야 하는 경우 (정확성 우선)\n",
    "# ✅ 금융 / 회계 시스템: 0.1 + 0.2가 정확하게 0.3이어야 함.\n",
    "# ✅ 과학 / 공학 계산 (고정밀 필요 시): 작은 오차도 허용되지 않는 계산.\n",
    "# ✅ 암호학, 고정밀 수학 계산: 매우 큰 소수점 이하 자리수를 다룰 때."
   ]
  },
  {
   "cell_type": "markdown",
   "metadata": {},
   "source": [
    "----"
   ]
  },
  {
   "cell_type": "markdown",
   "metadata": {
    "id": "2Jte2VLKdiPm"
   },
   "source": [
    "[문제3]\n",
    "\n",
    "슬라이싱에 대해 간단히 설명해주세요"
   ]
  },
  {
   "cell_type": "code",
   "execution_count": 3,
   "metadata": {
    "id": "XJhvRO-2djBh"
   },
   "outputs": [
    {
     "name": "stdout",
     "output_type": "stream",
     "text": [
      "Hello\n",
      "Hlo yhn\n",
      "!nohtyP ,olleH\n"
     ]
    }
   ],
   "source": [
    "# 슬라이싱은 리스트, 문자열, 튜플 등의 일부를 추출하는 방법입니다.\n",
    "# 시작 인덱스:끝 인덱스:단계 형식으로 사용됩니다.\n",
    "# 인덱스는 0부터 시작하며, 끝 인덱스는 포함되지 않습니다.\n",
    "\n",
    "text = \"Hello, Python!\"\n",
    "\n",
    "# 첫 번째부터 다섯 번째 문자 추출\n",
    "print(text[0:5])  # 출력: Hello\n",
    "\n",
    "# 처음부터 두 칸씩 건너뛰며 추출\n",
    "print(text[::2])  # 출력: Hlo yhn\n",
    "\n",
    "# 문자열을 거꾸로 출력\n",
    "print(text[::-1])  # 출력: !nohtyP ,olleH\n"
   ]
  }
 ],
 "metadata": {
  "colab": {
   "authorship_tag": "ABX9TyP7YKA5FdtGggYfD74V7SMJ",
   "provenance": []
  },
  "kernelspec": {
   "display_name": "Python 3",
   "name": "python3"
  },
  "language_info": {
   "codemirror_mode": {
    "name": "ipython",
    "version": 3
   },
   "file_extension": ".py",
   "mimetype": "text/x-python",
   "name": "python",
   "nbconvert_exporter": "python",
   "pygments_lexer": "ipython3",
   "version": "3.11.9"
  }
 },
 "nbformat": 4,
 "nbformat_minor": 0
}
