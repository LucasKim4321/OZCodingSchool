{
 "cells": [
  {
   "cell_type": "markdown",
   "metadata": {
    "id": "WXEwMsfUct7U"
   },
   "source": [
    "컴퓨터 기초 지식을 의미하는 CS(Computer science)는<br>\n",
    "코딩 테스트와 함께 기술 면접에서 지원자에게 필수적으로 요구합니다.<br>\n",
    "\n",
    "수업 내용 중 기술 면접에 자주 나오는 질문 3가지와 기본적으로 알아야 할 내용 과제로 선정했습니다.<br>\n",
    "\n",
    "관련 내용에 대해서는 구글링 또는 관련 서적을 통해 상세히 공부하시고<br>\n",
    "답변은 최대한 핵심만 담아 간결하게 작성해주세요<br>\n",
    "\n",
    "기술 블로그를 운영 중이신 경우<br>\n",
    "답변 내용을 기술 블로그에 작성하신 후 링크를 답변에 남겨주셔도 됩니다.<br>"
   ]
  },
  {
   "cell_type": "markdown",
   "metadata": {
    "id": "qoyC9wF-3hvs"
   },
   "source": [
    "-----"
   ]
  },
  {
   "cell_type": "markdown",
   "metadata": {
    "id": "rAD_O3Gmc_43"
   },
   "source": [
    "[문제1]\n",
    "\n",
    "Python의 변수 할당 개념을 다른 언어와 비교해 설명해주세요\n"
   ]
  },
  {
   "cell_type": "code",
   "execution_count": 2,
   "metadata": {},
   "outputs": [
    {
     "name": "stdout",
     "output_type": "stream",
     "text": [
      "140709984433224\n",
      "140709984433224\n"
     ]
    }
   ],
   "source": [
    "# 🐍 Python의 변수 할당\n",
    "#     Python에서 변수는 **\"객체(Object)\"**를 참조하는 **\"이름표(Label)\"**와 같습니다.\n",
    "#     변수가 값을 저장하는 것이 아니라, 객체의 메모리 주소를 참조합니다.\n",
    "#     같은 값을 여러 변수에 할당하면, 동일한 객체를 참조합니다.\n",
    "\n",
    "# 🔄 다른 언어와의 비교\n",
    "#      언어             변수 할당 방식                        설명\n",
    "#    Python        참조(Reference) 방식             변수는 객체의 참조를 가짐\n",
    "#    C             값(Value) 복사                   변수에 값 자체를 저장\n",
    "#    Java          원시 타입(Primitive)은 값 복사    객체는 참조를 통해 할당\n",
    "#    JavaScript    원시 타입은 값 복사, 객체는 참조   값/참조로 구분됨\n",
    "\n",
    "a = 10\n",
    "b = a\n",
    "print(id(a))  # a의 메모리 주소\n",
    "print(id(b))  # b도 같은 메모리 주소를 참조"
   ]
  },
  {
   "cell_type": "markdown",
   "metadata": {},
   "source": [
    "---"
   ]
  },
  {
   "cell_type": "markdown",
   "metadata": {
    "id": "3uK_auXYdgk2"
   },
   "source": [
    "[문제2]\n",
    "\n",
    "Python의 실수형(float) 계산 시 오차가 발생하는 이유에 대해 간단히 설명해 주세요"
   ]
  },
  {
   "cell_type": "code",
   "execution_count": 2,
   "metadata": {},
   "outputs": [
    {
     "name": "stdout",
     "output_type": "stream",
     "text": [
      "0.30000000000000004\n",
      "0.3\n"
     ]
    }
   ],
   "source": [
    "# Python의 **float**는 IEEE 754 부동소수점 표준을 따릅니다.\n",
    "# 실수를 2진법으로 정확하게 표현 할 수 없기 때문에 부동소수점 오차가 발생!\n",
    "# Python에서 decimal 모듈을 사용해 정밀도를 높일 수 있습니다.\n",
    "\n",
    "print(0.1 + 0.2)\n",
    "from decimal import Decimal\n",
    "print(Decimal('0.1') + Decimal('0.2'))  # 정확하게 0.3 출력\n"
   ]
  },
  {
   "cell_type": "markdown",
   "metadata": {},
   "source": [
    "----"
   ]
  },
  {
   "cell_type": "markdown",
   "metadata": {
    "id": "2Jte2VLKdiPm"
   },
   "source": [
    "[문제3]\n",
    "\n",
    "슬라이싱에 대해 간단히 설명해주세요"
   ]
  },
  {
   "cell_type": "code",
   "execution_count": 3,
   "metadata": {
    "id": "XJhvRO-2djBh"
   },
   "outputs": [
    {
     "name": "stdout",
     "output_type": "stream",
     "text": [
      "Hello\n",
      "Hlo yhn\n",
      "!nohtyP ,olleH\n"
     ]
    }
   ],
   "source": [
    "# 슬라이싱은 리스트, 문자열, 튜플 등의 일부를 추출하는 방법입니다.\n",
    "# 시작 인덱스:끝 인덱스:단계 형식으로 사용됩니다.\n",
    "# 인덱스는 0부터 시작하며, 끝 인덱스는 포함되지 않습니다.\n",
    "\n",
    "text = \"Hello, Python!\"\n",
    "\n",
    "# 첫 번째부터 다섯 번째 문자 추출\n",
    "print(text[0:5])  # 출력: Hello\n",
    "\n",
    "# 처음부터 두 칸씩 건너뛰며 추출\n",
    "print(text[::2])  # 출력: Hlo yhn\n",
    "\n",
    "# 문자열을 거꾸로 출력\n",
    "print(text[::-1])  # 출력: !nohtyP ,olleH\n"
   ]
  }
 ],
 "metadata": {
  "colab": {
   "authorship_tag": "ABX9TyP7YKA5FdtGggYfD74V7SMJ",
   "provenance": []
  },
  "kernelspec": {
   "display_name": "Python 3",
   "name": "python3"
  },
  "language_info": {
   "codemirror_mode": {
    "name": "ipython",
    "version": 3
   },
   "file_extension": ".py",
   "mimetype": "text/x-python",
   "name": "python",
   "nbconvert_exporter": "python",
   "pygments_lexer": "ipython3",
   "version": "3.11.9"
  }
 },
 "nbformat": 4,
 "nbformat_minor": 0
}
