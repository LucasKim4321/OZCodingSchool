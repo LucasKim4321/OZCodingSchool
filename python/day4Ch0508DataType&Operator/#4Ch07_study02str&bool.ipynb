{
 "cells": [
  {
   "cell_type": "code",
   "execution_count": 91,
   "metadata": {},
   "outputs": [],
   "source": [
    "#1. int(integer) : 정수\n",
    "#2. float(float) : 실수\n",
    "#3. str(string) : 문자\n",
    "#4. bool(bool, boolean) : c참 또는 거짓, true 또는 false, 1 또는 0\n",
    "\n",
    "#5. list\n",
    "#6. turple\n",
    "#7. dict\n",
    "#8. set"
   ]
  },
  {
   "cell_type": "code",
   "execution_count": 92,
   "metadata": {},
   "outputs": [],
   "source": [
    "이름 = '김오즈'\n",
    "나이 = 30\n",
    "키 = 180.3\n",
    "소속 = 's매직 서울북부'"
   ]
  },
  {
   "cell_type": "code",
   "execution_count": 93,
   "metadata": {},
   "outputs": [
    {
     "name": "stdout",
     "output_type": "stream",
     "text": [
      "<class 'str'>\n",
      "<class 'int'>\n",
      "<class 'float'>\n",
      "<class 'str'>\n"
     ]
    }
   ],
   "source": [
    "print(type(이름))\n",
    "print(type(나이))\n",
    "print(type(키))\n",
    "print(type(소속))"
   ]
  },
  {
   "cell_type": "code",
   "execution_count": 94,
   "metadata": {},
   "outputs": [
    {
     "name": "stdout",
     "output_type": "stream",
     "text": [
      "5.0\n",
      "5\n",
      "5 5.0\n",
      "<class 'str'> <class 'str'>\n"
     ]
    }
   ],
   "source": [
    "print(float(5))\n",
    "print(int(5.09))\n",
    "print('5', '5.0')\n",
    "print(type('5'), type('5.0'))"
   ]
  },
  {
   "cell_type": "markdown",
   "metadata": {},
   "source": [
    "str : 문자열\n",
    "특징 : 시퀸스 자료형\n",
    "시퀸스란? 요소들이 연속적으로 이어진 자료형\n",
    "값 하나하나를 요소라고 합니다."
   ]
  },
  {
   "cell_type": "code",
   "execution_count": 95,
   "metadata": {},
   "outputs": [
    {
     "name": "stdout",
     "output_type": "stream",
     "text": [
      "s매직 서울북부\n",
      "s\n",
      "매\n",
      "직\n",
      " \n",
      "서\n",
      "울\n",
      "북\n",
      "부\n"
     ]
    }
   ],
   "source": [
    "# [숫자] : 인덱스\n",
    "print(소속)\n",
    "print(소속[0])\n",
    "print(소속[1])\n",
    "print(소속[2])\n",
    "print(소속[3])\n",
    "print(소속[4])\n",
    "print(소속[5])\n",
    "print(소속[6])\n",
    "print(소속[7])"
   ]
  },
  {
   "cell_type": "code",
   "execution_count": 96,
   "metadata": {},
   "outputs": [
    {
     "name": "stdout",
     "output_type": "stream",
     "text": [
      "True\n",
      "False\n"
     ]
    }
   ],
   "source": [
    "print(\"매\" in 소속)\n",
    "print(\"3\" in 소속)"
   ]
  },
  {
   "cell_type": "code",
   "execution_count": 97,
   "metadata": {},
   "outputs": [
    {
     "name": "stdout",
     "output_type": "stream",
     "text": [
      "13금요일\n"
     ]
    }
   ],
   "source": [
    "# 문자열 즉 시퀀스끼리 합치기\n",
    "# print(13+\"금요일\")  #에러남\n",
    "print(\"13\"+\"금요일\")"
   ]
  },
  {
   "cell_type": "code",
   "execution_count": 98,
   "metadata": {},
   "outputs": [
    {
     "name": "stdout",
     "output_type": "stream",
     "text": [
      "바니바니 당근당근바니바니 당근당근바니바니 당근당근바니바니 당근당근바니바니 당근당근바니바니 당근당근바니바니 당근당근바니바니 당근당근바니바니 당근당근바니바니 당근당근바니바니 당근당근바니바니 당근당근바니바니 당근당근바니바니 당근당근바니바니 당근당근바니바니 당근당근바니바니 당근당근바니바니 당근당근바니바니 당근당근바니바니 당근당근\n",
      "180\n",
      "10\n"
     ]
    }
   ],
   "source": [
    "#복사가 가능합니다\n",
    "옛날게임 = \"바니바니 당근당근\" *20\n",
    "print(옛날게임)\n",
    "print(len(옛날게임)) #길이 표시\n",
    "print(len(\"아이가 타고 있어요\"))"
   ]
  },
  {
   "cell_type": "code",
   "execution_count": 99,
   "metadata": {},
   "outputs": [
    {
     "name": "stdout",
     "output_type": "stream",
     "text": [
      "차 4대가 고장나면? 카포에라차 4대가 고장나면? 카포에라차 4대가 고장나면? 카포에라\n",
      "카포에라\n",
      "고장나면? 카포에\n"
     ]
    }
   ],
   "source": [
    "퀴즈 = \"차 4대가 고장나면? 카포에라\"*3\n",
    "print(퀴즈)\n",
    "print(퀴즈[12:16])\n",
    "print(퀴즈[-10:-1])"
   ]
  },
  {
   "cell_type": "code",
   "execution_count": 100,
   "metadata": {},
   "outputs": [
    {
     "name": "stdout",
     "output_type": "stream",
     "text": [
      "2000,12,25\n"
     ]
    }
   ],
   "source": [
    "생년월일 = '2000.12.25'\n",
    "년 = 생년월일[0:4]\n",
    "월 = 생년월일[5:7]\n",
    "일 = 생년월일[8:10]\n",
    "\n",
    "print(f'{년},{월},{일}')\n",
    "#2000 12 25"
   ]
  },
  {
   "cell_type": "code",
   "execution_count": 101,
   "metadata": {},
   "outputs": [
    {
     "name": "stdout",
     "output_type": "stream",
     "text": [
      "123451231231469867233\n",
      "332768964132132154321\n",
      "13521349623\n",
      "32694312531\n",
      "543\n",
      "345\n"
     ]
    }
   ],
   "source": [
    "숫자 = \"123451231231469867233\"\n",
    "# 전체 출력\n",
    "print(숫자[::])\n",
    "\n",
    "# 거꾸로 전체 출력\n",
    "print(숫자[::-1])\n",
    "\n",
    "# 첫번째 인덱스를 기준으로 2칸씩 띄어서 출력하기기\n",
    "print(숫자[::2])\n",
    "\n",
    "# 마지막 인덱스를 기준으로 역으로 2칸씩 띄어서 출력하기기\n",
    "print(숫자[::-2])\n",
    "\n",
    "# 마지막 인덱스를 기준으로 역으로 1칸씩 띄어서 출력하기기\n",
    "print(숫자[4:1:-1])\n",
    "# 네번째 인덱스부터 출력\n",
    "print(숫자[2:5])"
   ]
  },
  {
   "cell_type": "code",
   "execution_count": 102,
   "metadata": {},
   "outputs": [
    {
     "data": {
      "text/plain": [
       "2"
      ]
     },
     "execution_count": 102,
     "metadata": {},
     "output_type": "execute_result"
    }
   ],
   "source": [
    "과일 = \"apple\"\n",
    "과일.count('p')"
   ]
  },
  {
   "cell_type": "code",
   "execution_count": 103,
   "metadata": {},
   "outputs": [
    {
     "name": "stdout",
     "output_type": "stream",
     "text": [
      "l\n"
     ]
    },
    {
     "data": {
      "text/plain": [
       "1"
      ]
     },
     "execution_count": 103,
     "metadata": {},
     "output_type": "execute_result"
    }
   ],
   "source": [
    "print(과일[3])\n",
    "과일.index('p')"
   ]
  },
  {
   "cell_type": "code",
   "execution_count": 104,
   "metadata": {},
   "outputs": [],
   "source": [
    "라라랜드 = \"사람들은 다른 사람들의 열정에 끌리게 되어있어 자신이 잊은 걸 상기시켜 주니까\""
   ]
  },
  {
   "cell_type": "code",
   "execution_count": 105,
   "metadata": {},
   "outputs": [
    {
     "name": "stdout",
     "output_type": "stream",
     "text": [
      "은\n",
      " 열정에 끌리게\n",
      "2\n"
     ]
    }
   ],
   "source": [
    "print(라라랜드[3])\n",
    "print(라라랜드[12:20])\n",
    "print(라라랜드.index('들'))"
   ]
  }
 ],
 "metadata": {
  "kernelspec": {
   "display_name": "Python 3",
   "language": "python",
   "name": "python3"
  },
  "language_info": {
   "codemirror_mode": {
    "name": "ipython",
    "version": 3
   },
   "file_extension": ".py",
   "mimetype": "text/x-python",
   "name": "python",
   "nbconvert_exporter": "python",
   "pygments_lexer": "ipython3",
   "version": "3.11.9"
  }
 },
 "nbformat": 4,
 "nbformat_minor": 2
}
