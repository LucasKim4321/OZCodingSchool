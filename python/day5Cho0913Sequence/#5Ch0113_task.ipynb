{
 "cells": [
  {
   "cell_type": "markdown",
   "metadata": {
    "id": "fD4Qab2qYgOm"
   },
   "source": [
    "안녕하세요. 수강생 여러분~! \n",
    "\n",
    "Chapter01 ~ 13의 수업 내용을 바탕으로 아래 문제를 풀어주시면 됩니다 !\n",
    "\n",
    "지금까지 잘 해오셨으니까, 총 복습한다고 생각하시고 한번 도전해보세요 !!!\n",
    "\n",
    "\n",
    "<br>\n",
    "\n",
    "\n",
    "[**답변 입력 방법**]\n",
    "\n",
    "문제 아래에 있는 코드 입력창에 정답코드를 작성하신 후  __▷ 버튼을 클릭해 코드를 실행__ 해보세요<br>"
   ]
  },
  {
   "cell_type": "markdown",
   "metadata": {},
   "source": [
    "---"
   ]
  },
  {
   "cell_type": "markdown",
   "metadata": {},
   "source": [
    "### 프로젝트: 간단한 ATM 관리 시스템\n",
    "<br>\n",
    "\n",
    "__[문제 1: 잔액 확인]__\n",
    "\n",
    "현재 잔액은 1000원입니다. 현재 잔액을 출력하세요. \n",
    "\n",
    "(변수명 예시 : 잔액 - balance)"
   ]
  },
  {
   "cell_type": "code",
   "execution_count": 51,
   "metadata": {},
   "outputs": [
    {
     "name": "stdout",
     "output_type": "stream",
     "text": [
      "현재 잔액은 1000원입니다.\n"
     ]
    }
   ],
   "source": [
    "balance = 1000\n",
    "print(f'현재 잔액은 {balance}원입니다.')"
   ]
  },
  {
   "cell_type": "markdown",
   "metadata": {},
   "source": [
    "__[문제 2: 입금]__\n",
    "\n",
    "가지고 있는 돈을 입금합니다.\n",
    "\n",
    "입금 금액을 입력받고, 잔액을 갱신한 후 새로운 잔액을 출력하세요. 입금 거래를 영수증 리스트에 기록하세요.\n",
    "\n",
    "- 입금 금액은 input()을 이용해 받습니다.\n",
    "- 영수증은 list()로 선언합니다.\n",
    "- 영수증에 들어가는 정보는 튜플 형태입니다.\n",
    "- 튜플에 담기는 정보는 (입금 or 출금, 입금 or 출금 금액, 현재 잔액)순 입니다.\n",
    "\n",
    "(변수명 예시: 영수증 리스트 - receipts, 입금 금액 - deposit_amount)\n"
   ]
  },
  {
   "cell_type": "code",
   "execution_count": 52,
   "metadata": {},
   "outputs": [
    {
     "name": "stdout",
     "output_type": "stream",
     "text": [
      "이전 영수증 리스트: [(2000, 3000), (-1000, 2000), (5000, 7000)]\n",
      "거래 정보: (5000, 12000)\n",
      "영수증 리스트: [(2000, 3000), (-1000, 2000), (5000, 7000), (5000, 12000)]\n",
      "************************\n",
      "영수증\n",
      "****\n",
      "입금: 5000원. \n",
      "현재 잔액은 12000원입니다.\n",
      "****\n",
      "************************\n"
     ]
    }
   ],
   "source": [
    "# 영수증 구조 [ (입금 or 출금 금액 , 현재잔액), (이하 동일) ... ]\n",
    "\n",
    "receipts = [ (2000, 3000), (-1000, 2000), (5000, 7000) ]\n",
    "print(\"이전 영수증 리스트:\",receipts)\n",
    "\n",
    "balance = 7000\n",
    "\n",
    "입출금_여부 = input('입금 또는 출금을 입력하세요').strip()  #strip() 양쪽 공백 제거\n",
    "amount = int(input('금액을 입력하세요. :b').strip())  #strip() 없어도 문제없긴 함.\n",
    "\n",
    "if(입출금_여부 == '출금'):\n",
    "    amount = -amount\n",
    "\n",
    "balance += amount\n",
    "거래_정보 = (amount, balance)\n",
    "receipts.append(거래_정보)\n",
    "print(\"거래 정보:\",거래_정보)\n",
    "print(\"영수증 리스트:\",receipts)\n",
    "\n",
    "print(f'************************\\n영수증\\n****\\n{입출금_여부}: {abs(amount)}원. \\n현재 잔액은 {balance}원입니다.\\n****\\n************************')\n",
    "\n"
   ]
  },
  {
   "cell_type": "markdown",
   "metadata": {},
   "source": [
    "__[문제 3: 출금]__\n",
    "\n",
    "사용자가 돈을 출금합니다. 출금 금액을 입력받고, 잔액을 갱신한 후 새로운 잔액을 출력하세요. 출금 거래를 영수증 리스트에 기록하세요. \n",
    "\n",
    "- 출금 금액은 input()을 이용해 받습니다.\n",
    "- 현재 잔액보다 출금 요청 금액이 많을 경우 현재 잔액 만큼만 출금되도록 합니다.\n",
    "- 영수증에 들어가는 정보는 튜플 형태입니다.\n",
    "- 튜플에 담기는 정보는 (입금 or 출금, 입금 or 출금 금액, 현재 잔액)순 입니다.\n",
    "\n",
    "(변수명 예시: 출금금액 - withdraw_amount)"
   ]
  },
  {
   "cell_type": "code",
   "execution_count": 56,
   "metadata": {},
   "outputs": [
    {
     "name": "stdout",
     "output_type": "stream",
     "text": [
      "이전 영수증 리스트: [(2000, 3000), (-1000, 2000), (5000, 7000)]\n",
      "거래 정보: (-7000, 0)\n",
      "영수증 리스트: [(2000, 3000), (-1000, 2000), (5000, 7000), (-7000, 0)]\n",
      "************************\n",
      "영수증\n",
      "****\n",
      "출금 가능한 금액을 초과하여 현재 잔액 만큼만 출금합니다!\n",
      "****\n",
      "출금: 7000원. \n",
      "현재 잔액은 0원입니다.\n",
      "****\n",
      "************************\n"
     ]
    }
   ],
   "source": [
    "# 영수증 구조 [ (입금 or 출금 금액 , 현재잔액), (이하 동일) ... ]\n",
    "\n",
    "receipts = [ (2000, 3000), (-1000, 2000), (5000, 7000) ]\n",
    "print(\"이전 영수증 리스트:\",receipts)\n",
    "\n",
    "balance = 7000\n",
    "\n",
    "입출금_여부 = input('입금 또는 출금을 입력하세요').strip()  #strip() 양쪽 공백 제거\n",
    "amount = int(input('금액을 입력하세요. :b').strip())  #strip() 없어도 문제없긴 함.\n",
    "초과_여부 = False\n",
    "\n",
    "if(입출금_여부 == '출금'):\n",
    "    if(amount > balance):\n",
    "        amount = balance\n",
    "        초과_여부 = True\n",
    "    amount = -amount\n",
    "\n",
    "balance += amount\n",
    "거래_정보 = (amount, balance)\n",
    "receipts.append(거래_정보)\n",
    "print(\"거래 정보:\",거래_정보)\n",
    "print(\"영수증 리스트:\",receipts)\n",
    "\n",
    "if(초과_여부 == True):\n",
    "    print(f'************************\\n영수증\\n****\\n출금 가능한 금액을 초과하여 현재 잔액 만큼만 출금합니다!\\n****\\n{입출금_여부}: {abs(amount)}원. \\n현재 잔액은 {balance}원입니다.\\n****\\n************************')\n",
    "\n",
    "else:\n",
    "    print(f'************************\\n영수증\\n****\\n{입출금_여부}: {abs(amount)}원. \\n현재 잔액은 {balance}원입니다.\\n****\\n************************')\n",
    "\n"
   ]
  },
  {
   "cell_type": "markdown",
   "metadata": {},
   "source": [
    "__[문제 4: 모든 거래 내역 확인]__\n",
    "\n",
    "모든 거래 내역(영수증)을 요청받았을 때 출력하세요.\n",
    "- 지금까지 영수증에 추가된 정보를 출력합니다.\n",
    "- 출력 형태는 자유입니다."
   ]
  },
  {
   "cell_type": "code",
   "execution_count": 2,
   "metadata": {},
   "outputs": [
    {
     "name": "stdout",
     "output_type": "stream",
     "text": [
      "현재 잔액: 7000\n",
      "모든 거래 내역\n",
      "입금 : 2000, 잔액 : 3000\n",
      "출금 : 1000, 잔액 : 2000\n",
      "입금 : 5000, 잔액 : 7000\n"
     ]
    }
   ],
   "source": [
    "receipts = [ (2000, 3000), (-1000, 2000), (5000, 7000) ]\n",
    "balance = 7000\n",
    "\n",
    "print('현재 잔액:', balance)\n",
    "print(\"모든 거래 내역\")  #반복문 사용시 더 간단\n",
    "# print(f\"{'입금' if receipts[2][0] > 0 else '출금'} : {abs(receipts[2][0])}, 잔액 : {receipts[2][1]}\")\n",
    "# print(f\"{'입금' if receipts[1][0] > 0 else '출금'} : {abs(receipts[1][0])}, 잔액 : {receipts[1][1]}\")\n",
    "# print(f\"{'입금' if receipts[0][0] > 0 else '출금'} : {abs(receipts[0][0])}, 잔액 : {receipts[0][1]}\")\n",
    "\n",
    "for i in range(len(receipts)):\n",
    "    print(f\"{'입금' if receipts[i][0] > 0 else '출금'} : {abs(receipts[i][0])}, 잔액 : {receipts[i][1]}\")\n",
    "\n"
   ]
  },
  {
   "cell_type": "code",
   "execution_count": 5,
   "metadata": {},
   "outputs": [
    {
     "name": "stdout",
     "output_type": "stream",
     "text": [
      "이전 영수증 리스트: [(2000, 3000), (-1000, 2000), (5000, 7000)]\n",
      "************************\n",
      "영수증\n",
      "****\n",
      "입금: 20000원. \n",
      "현재 잔액은 27000원입니다.\n",
      "****\n",
      "************************\n",
      "************************\n",
      "영수증\n",
      "****\n",
      "출금 가능한 금액을 초과하여 현재 잔액 만큼만 출금합니다!\n",
      "****\n",
      "출금: 27000원. \n",
      "현재 잔액은 0원입니다.\n",
      "****\n",
      "************************\n",
      "현재 잔액: 0\n",
      "모든 거래 내역 (최근 거래순)\n",
      "출금 : 27000, 잔액 : 0\n",
      "입금 : 20000, 잔액 : 27000\n",
      "입금 : 5000, 잔액 : 7000\n",
      "출금 : 1000, 잔액 : 2000\n",
      "입금 : 2000, 잔액 : 3000\n",
      "서비스를 종료하겠습니다.\n",
      "현재 잔액은 0원 입니다!\n",
      "안녕히가십시오!\n"
     ]
    }
   ],
   "source": [
    "# while문을 사용해 개선\n",
    "\n",
    "receipts = [ (2000, 3000), (-1000, 2000), (5000, 7000) ]\n",
    "print(\"이전 영수증 리스트:\",receipts)\n",
    "\n",
    "balance = 7000\n",
    "\n",
    "# 종료 할 때까지 무한 반복\n",
    "while True:\n",
    "\n",
    "    # 서비스 코드 입력\n",
    "    service_num = input(\"사용하실 기능을 선택해주세요 (1:입금, 2:출금, 3:영수증 보기, 4:종료)\")\n",
    "\n",
    "    # 입출금\n",
    "    if service_num == '1' or  service_num == '2':\n",
    "        amount = int(input(f\"{'입금' if service_num == '1' else '출금'}하실 금액을 입력하세요. :b  \").strip())  #strip() 없어도 문제없긴 함.\n",
    "\n",
    "        초과_여부 = False\n",
    "\n",
    "        if service_num == '2':\n",
    "            if amount > balance :\n",
    "                amount = balance\n",
    "                초과_여부 = True\n",
    "            amount = -amount\n",
    "        \n",
    "        balance += amount\n",
    "        거래_정보 = (amount, balance)\n",
    "        receipts.append(거래_정보)\n",
    "        \n",
    "        if(초과_여부 == True):\n",
    "            print(f\"************************\\n영수증\\n****\\n출금 가능한 금액을 초과하여 현재 잔액 만큼만 출금합니다!\\n****\\n{'입금' if service_num == '1' else '출금'}: {abs(amount)}원. \\n현재 잔액은 {balance}원입니다.\\n****\\n************************\")\n",
    "        else:\n",
    "            print(f\"************************\\n영수증\\n****\\n{'입금' if service_num == '1' else '출금'}: {abs(amount)}원. \\n현재 잔액은 {balance}원입니다.\\n****\\n************************\")\n",
    "\n",
    "    # 영수증 출력\n",
    "    if service_num == '3':\n",
    "        print('현재 잔액:', balance)\n",
    "        print(\"모든 거래 내역 (최근 거래순)\")\n",
    "        for i in reversed(range(len(receipts))):\n",
    "            print(f\"{'입금' if receipts[i][0] > 0 else '출금'} : {abs(receipts[i][0])}, 잔액 : {receipts[i][1]}\")\n",
    "\n",
    "    # 종료\n",
    "    if service_num == '4':\n",
    "        print(\"서비스를 종료하겠습니다.\")\n",
    "        print(f\"현재 잔액은 {balance}원 입니다!\")\n",
    "        print(\"안녕히가십시오!\")\n",
    "        break\n"
   ]
  }
 ],
 "metadata": {
  "colab": {
   "authorship_tag": "ABX9TyOA/CeX7CUdbTKFxV0fsocV",
   "provenance": []
  },
  "kernelspec": {
   "display_name": "Python 3",
   "name": "python3"
  },
  "language_info": {
   "codemirror_mode": {
    "name": "ipython",
    "version": 3
   },
   "file_extension": ".py",
   "mimetype": "text/x-python",
   "name": "python",
   "nbconvert_exporter": "python",
   "pygments_lexer": "ipython3",
   "version": "3.11.9"
  }
 },
 "nbformat": 4,
 "nbformat_minor": 0
}
