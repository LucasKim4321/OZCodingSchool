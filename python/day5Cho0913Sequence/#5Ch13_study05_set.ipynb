{
 "cells": [
  {
   "cell_type": "markdown",
   "metadata": {},
   "source": [
    "## 시퀀스 자료형\n",
    "* 문자열 : \n",
    "    * 시퀀스형에서 사용할 수 있는 메소드(count(), index(), split() 등)\n",
    "    * 슬라이싱 ( [:],[::])\n",
    "    * 요소들로 이루어져 가능했던 기능들(요소 합치기, 요소 찾기 등등)\n",
    "* list : \n",
    "    * 시퀀스형에서 사용할 수 있는 메소드(count(), index(), split() 등)\n",
    "    * 슬라이싱 ( [:],[::])\n",
    "    * 요소들로 이루어져 가가능했던 기능들(요소 합치기, 요소 찾기 등등)\n",
    "    * list 지원하는 다양한 메소드 append(), insert(), del, sort(), reverse()\n",
    "    * 대괄호[] = 리스트\n",
    "* tuple :\n",
    "    * 리스트처럼 요소를 일렬로 저장하지만 안에 저장된 요소를 변경, 추가, 삭제 할 수 없다.\n",
    "    * 값을 추가, 삭제, 변경 할 수 없기 때문에, 사용하지 못하는 메소드가 많다.\n",
    "    * tuple의 생성 방법은 tuple = 값, 값 또는 tuple = (값, 값)\n",
    "    * 소괄호() = 튜플\n",
    "    * 그외 먼가 있음!\n",
    "* dict(dictionary) :\n",
    "    * list, tuple, str, range : 공통적으로 데이터의 연관성이 없다.\n",
    "    * dict는 여러개의 값이 일렬로 정렬되면서도 값끼리의 연관성이 존재\n",
    "        (예시 : 게임 케릭터 힘:30, 지능:20, 체력:40, 민첩:90)\n",
    "    * 중괄호{} = dict\n",
    "* set\n",
    "    * set은 수학의 집합을 의미합니다.\n",
    "    * 딕셔너리와 같이 순서가 없습니다.\n",
    "    * 값의 중복을 허락하지 않습니다. *중요*\n",
    "    * set 생성 방법도 중괄호{}\n"
   ]
  },
  {
   "cell_type": "code",
   "execution_count": 87,
   "metadata": {},
   "outputs": [
    {
     "name": "stdout",
     "output_type": "stream",
     "text": [
      "{'배추', '당근', '양파', '대파'}\n",
      "set()\n",
      "{}\n"
     ]
    }
   ],
   "source": [
    "채소 = {'당근', '배추', '대파', '양파'}\n",
    "type(채소)\n",
    "print(채소)\n",
    "\n",
    "# 순서가 없고, 출력하면 요소가 다르ㅏ게 나오는것도 특징입니다.\n",
    "# 세트를 만드는 다양한 방법\n",
    "\n",
    "세트 = set()\n",
    "print(세트)\n",
    "\n",
    "세트2 = {}\n",
    "print(세트2)"
   ]
  },
  {
   "cell_type": "code",
   "execution_count": 88,
   "metadata": {},
   "outputs": [
    {
     "name": "stdout",
     "output_type": "stream",
     "text": [
      "['a', 'p', 'p', 'l', 'e']\n",
      "('a', 'p', 'p', 'l', 'e')\n",
      "{'l', 'p', 'a', 'e'}\n"
     ]
    }
   ],
   "source": [
    "# 중복을 제일 싫어하는 set !!\n",
    "\n",
    "사과_리스트 = list('apple')\n",
    "print(사과_리스트)\n",
    "\n",
    "사과_튜플 = tuple('apple')\n",
    "print(사과_튜플)\n",
    "\n",
    "사과_set = set('apple')\n",
    "print(사과_set)"
   ]
  },
  {
   "cell_type": "code",
   "execution_count": 103,
   "metadata": {},
   "outputs": [
    {
     "name": "stdout",
     "output_type": "stream",
     "text": [
      "{'배추', '당근', '양파', '대파'}\n",
      "{'배추', '양파', '토마토', '당근', '대파'}\n",
      "{'배추', '양파', '잎', '토마토', '당근', '대파', '깻'}\n",
      "{'배추', '양파', '토마토', '당근', '대파', '깻'}\n",
      "{'배추', '양파', '토마토', '당근', '대파'}\n",
      "{'양파', '토마토', '당근', '대파'}\n"
     ]
    }
   ],
   "source": [
    "# set() 자료형의 데이터 추가, 삭제, 변경\n",
    "\n",
    "채소 = {'당근', '배추', '대파', '양파'}\n",
    "print(채소)\n",
    "\n",
    "#set() 함수의 데이터 삽입\n",
    "채소.add('토마토')\n",
    "print(채소)\n",
    "\n",
    "채소.update(\"깻잎\")\n",
    "print(채소)\n",
    "\n",
    "#set() 함수의 데이터 삭제\n",
    "채소.remove('잎')  #지울 값이 존재 하지 않으면 에러\n",
    "print(채소)\n",
    "\n",
    "\n",
    "채소.discard('깻')  #존재 여부에 관계없이 에러가 생기지 않음\n",
    "print(채소)\n",
    "\n",
    "채소.pop() #임의의 요소 삭제\n",
    "print(채소)"
   ]
  },
  {
   "cell_type": "code",
   "execution_count": 90,
   "metadata": {},
   "outputs": [
    {
     "name": "stdout",
     "output_type": "stream",
     "text": [
      "{}\n",
      "{'배추', '당근', '양파', '대파'}\n",
      "배추는 내다버린 채소입니다.\n"
     ]
    }
   ],
   "source": [
    "채소 = {}\n",
    "print(채소)\n",
    "채소 = {'당근', '배추', '대파', '양파'}\n",
    "print(채소)\n",
    "\n",
    "반환된_채소 = 채소.pop()\n",
    "\n",
    "print(f'{반환된_채소}는 내다버린 채소입니다.')"
   ]
  },
  {
   "cell_type": "code",
   "execution_count": 91,
   "metadata": {},
   "outputs": [
    {
     "name": "stdout",
     "output_type": "stream",
     "text": [
      "{'당근', '양파', '대파'}\n"
     ]
    }
   ],
   "source": [
    "print(채소)"
   ]
  },
  {
   "cell_type": "code",
   "execution_count": 100,
   "metadata": {},
   "outputs": [
    {
     "data": {
      "text/plain": [
       "{'당근', '배추'}"
      ]
     },
     "execution_count": 100,
     "metadata": {},
     "output_type": "execute_result"
    }
   ],
   "source": [
    "# set = 집합, 합집합, 교집합, 차지합 기타 등등 ~ !\n",
    "# 대표적으로 합집합, 교집합, 차집합\n",
    "\n",
    "채소1 = {\"당근\", \"양파\", \"오이\", \"배추\"}\n",
    "채소2 = {\"양파\", \"오이\", \"대파\", \"가지\"}\n",
    "\n",
    "# 합집합(union) : 두 집합을 합치고 중복되는 부분은 한번만\n",
    "채소1 | 채소2\n",
    "set.union(채소1, 채소2)\n",
    "\n",
    "# 교집합(intersection) 중복되는 값만 합침\n",
    "채소1 & 채소2\n",
    "set.intersection(채소1, 채소2)\n",
    "\n",
    "# 차집합(difference) : 첫번째 집합에서 두번째 집합과 중복되는 부분을 뺌\n",
    "채소1 - 채소2\n",
    "set.difference(채소1, 채소2)"
   ]
  }
 ],
 "metadata": {
  "kernelspec": {
   "display_name": "Python 3",
   "language": "python",
   "name": "python3"
  },
  "language_info": {
   "codemirror_mode": {
    "name": "ipython",
    "version": 3
   },
   "file_extension": ".py",
   "mimetype": "text/x-python",
   "name": "python",
   "nbconvert_exporter": "python",
   "pygments_lexer": "ipython3",
   "version": "3.11.9"
  }
 },
 "nbformat": 4,
 "nbformat_minor": 2
}
