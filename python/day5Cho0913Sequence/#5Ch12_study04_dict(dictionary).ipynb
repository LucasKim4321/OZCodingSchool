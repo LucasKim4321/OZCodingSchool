{
 "cells": [
  {
   "cell_type": "markdown",
   "metadata": {},
   "source": [
    "## 시퀀스 자료형\n",
    "* 문자열 : \n",
    "    * 시퀀스형에서 사용할 수 있는 메소드(count(), index(), split() 등)\n",
    "    * 슬라이싱 ( [:],[::])\n",
    "    * 요소들로 이루어져 가능했던 기능들(요소 합치기, 요소 찾기 등등)\n",
    "* list : \n",
    "    * 시퀀스형에서 사용할 수 있는 메소드(count(), index(), split() 등)\n",
    "    * 슬라이싱 ( [:],[::])\n",
    "    * 요소들로 이루어져 가가능했던 기능들(요소 합치기, 요소 찾기 등등)\n",
    "    * list 지원하는 다양한 메소드 append(), insert(), del, sort(), reverse()\n",
    "    * 대괄호[] = 리스트\n",
    "* tuple :\n",
    "    * 리스트처럼 요소를 일렬로 저장하지만 안에 저장된 요소를 변경, 추가, 삭제 할 수 없다.\n",
    "    * 값을 추가, 삭제, 변경 할 수 없기 때문에, 사용하지 못하는 메소드가 많다.\n",
    "    * tuple의 생성 방법은 tuple = 값, 값 또는 tuple = (값, 값)\n",
    "    * 소괄호() = 튜플\n",
    "    * 그외 먼가 있음!\n",
    "* dict(dictionary) :\n",
    "    * list, tuple, str, range : 공통적으로 데이터의 연관성이 없다.\n",
    "    * dict는 여러개의 값이 일렬로 정렬되면서도 값끼리의 연관성이 존재\n",
    "        (예시 : 게임 케릭터 힘:30, 지능:20, 체력:40, 민첩:90)\n",
    "    * 중괄호{} = dict\n"
   ]
  },
  {
   "cell_type": "code",
   "execution_count": 11,
   "metadata": {},
   "outputs": [
    {
     "name": "stdout",
     "output_type": "stream",
     "text": [
      "짱짱쌔용님은 힘이 30입니다.\n"
     ]
    }
   ],
   "source": [
    "# 리스트 대괄호[], 튜플 소괄호(), dict 중괄호{}\n",
    "# 자바의 [],{} 랑 비슷\n",
    "\n",
    "짱짱쌔용 = {'힘':30, '지능':20, '체력':40, '민첩':90}\n",
    "짱짱쌔용\n",
    "\n",
    "# {키 : 값}\n",
    "# {key1:value1, key2:value2}\n",
    "\n",
    "# 시퀀스 데이터는 인덱싱을 이용해 데이터를 찾았습니다.\n",
    "\n",
    "# 짱짱쌔용[1]\n",
    "짱짱쌔용['힘']\n",
    "print(f'짱짱쌔용님은 힘이 {짱짱쌔용[\"힘\"]}입니다.')"
   ]
  },
  {
   "cell_type": "code",
   "execution_count": 23,
   "metadata": {},
   "outputs": [
    {
     "name": "stdout",
     "output_type": "stream",
     "text": [
      "{}\n",
      "{}\n",
      "{'힘': 30, '지능': 20, '체력': 40, '민첩': 90}\n",
      "{'힘': 30, '지능': 20, '체력': 40, '민첩': 90}\n"
     ]
    }
   ],
   "source": [
    "# 딕셔너리를 만드는 다양한 방법\n",
    "\n",
    "# 빈 딕셔너리 만들기\n",
    "\n",
    "딕셔너리 = {}\n",
    "print(딕셔너리)\n",
    "\n",
    "dictionary2 = dict()\n",
    "print(dictionary2)\n",
    "\n",
    "#값을 넣어 만드는 방법\n",
    "#dict()로 생성시 값을 넣는 기호 \"\", :\n",
    "딕셔너리3 = dict(힘=30, 지능=20, 체력=40, 민첩=90)\n",
    "print(딕셔너리3)\n",
    "\n",
    "#zip() : 병렬처리를 도와줍니다. 배열의 개수를 맞춰줘야함.(적은 배열 기준으로 잘림림)\n",
    "딕셔너리4 = dict(zip(['힘','지능','체력','민첩'],[30,20,40,90]))\n",
    "print(딕셔너리4)"
   ]
  },
  {
   "cell_type": "code",
   "execution_count": 25,
   "metadata": {},
   "outputs": [
    {
     "name": "stdout",
     "output_type": "stream",
     "text": [
      "{'힘': 40, '지능': 20, '체력': 40, '민첩': 90, '지구력': 90}\n"
     ]
    },
    {
     "data": {
      "text/plain": [
       "True"
      ]
     },
     "execution_count": 25,
     "metadata": {},
     "output_type": "execute_result"
    }
   ],
   "source": [
    "# 값의 중복은 허락되는데, 키의 중복은 허락되지 않습니다.\n",
    "\n",
    "짱짱쌔용 = {'힘':30, '지능':20, '체력':40, '민첩':90, '힘':40, '지구력':90}\n",
    "print(짱짱쌔용)\n",
    "\n",
    "# 키를 통해 찾을 수 있음.\n",
    "\"체력\" in 짱짱쌔용"
   ]
  },
  {
   "cell_type": "code",
   "execution_count": 36,
   "metadata": {},
   "outputs": [
    {
     "name": "stdout",
     "output_type": "stream",
     "text": [
      "dict_keys(['힘', '지능', '체력', '민첩', '지구력'])\n",
      "dict_values([40, 20, 40, 90, 90])\n",
      "dict_items([('힘', 40), ('지능', 20), ('체력', 40), ('민첩', 90), ('지구력', 90)])\n",
      "<class 'dict_items'>\n",
      "<class 'list'>\n",
      "[('힘', 40), ('지능', 20), ('체력', 40), ('민첩', 90), ('지구력', 90)]\n",
      "('힘', 40)\n",
      "40\n"
     ]
    }
   ],
   "source": [
    "# 딕셔너리의 다양한 메소드\n",
    "\n",
    "print(짱짱쌔용.keys())\n",
    "print(짱짱쌔용.values())\n",
    "\n",
    "print(짱짱쌔용.items())\n",
    "print(type(짱짱쌔용.items()))\n",
    "\n",
    "리스트화된_짱짱쌔용= list(짱짱쌔용.items())\n",
    "print(type(리스트화된_짱짱쌔용))\n",
    "print(리스트화된_짱짱쌔용)\n",
    "print(리스트화된_짱짱쌔용[0])\n",
    "print(리스트화된_짱짱쌔용[0][1])"
   ]
  },
  {
   "cell_type": "code",
   "execution_count": 47,
   "metadata": {},
   "outputs": [
    {
     "name": "stdout",
     "output_type": "stream",
     "text": [
      "{'힘': 40, '지능': 20, '체력': 40, '민첩': 90, '지구력': 90}\n",
      "{'힘': 40, '지능': 20, '체력': 40, '민첩': 90}\n",
      "{'힘': 100, '지능': 20, '체력': 40, '민첩': 90}\n",
      "{'힘': 100, '지능': 20, '체력': 40, '민첩': 90, '손재주': 44, '매력': 100}\n"
     ]
    }
   ],
   "source": [
    "# 딕셔너리 값 추가, 삭제, 변경\n",
    "\n",
    "짱짱쌔용 = {'힘':30, '지능':20, '체력':40, '민첩':90, '힘':40, '지구력':90}\n",
    "print(짱짱쌔용)\n",
    "\n",
    "del 짱짱쌔용['지구력']\n",
    "print(짱짱쌔용)\n",
    "\n",
    "# 딕셔너리 값 변경\n",
    "짱짱쌔용['힘'] = 100\n",
    "print(짱짱쌔용)\n",
    "\n",
    "# 딕셔너리 값 추가\n",
    "짱짱쌔용.update({'손재주':44, '매력': 100})\n",
    "print(짱짱쌔용)"
   ]
  },
  {
   "cell_type": "code",
   "execution_count": 51,
   "metadata": {},
   "outputs": [
    {
     "data": {
      "text/plain": [
       "'발랜시아'"
      ]
     },
     "execution_count": 51,
     "metadata": {},
     "output_type": "execute_result"
    }
   ],
   "source": [
    "코디 = {\n",
    "    '모자' : {\n",
    "        '캡' : '발랜시아',\n",
    "        '비니' : '셀린느'\n",
    "    },\n",
    "    '상의' : {\n",
    "        '후드티' : '칼하트',\n",
    "        '맨투맨' : '슈프림림'\n",
    "    }\n",
    "}\n",
    "코디\n",
    "코디['모자']\n",
    "코디['모자']['캡']"
   ]
  },
  {
   "cell_type": "markdown",
   "metadata": {},
   "source": [
    "* 해시, 해시맵, 해시테이블"
   ]
  },
  {
   "cell_type": "code",
   "execution_count": 54,
   "metadata": {},
   "outputs": [
    {
     "name": "stdout",
     "output_type": "stream",
     "text": [
      "주문이 완료되었습니다. 붕어빵(슈크림) 2개, 붕어빵(잡채) 3개 총 5개 결제 금액은 14000원 입니다.\n"
     ]
    }
   ],
   "source": [
    "# dictionary를 이용해 개선\n",
    "\n",
    "#레거시 : 누군가 남겨두고간 코드\n",
    "#리팩토링 : 결과의 변경 없이 코드의 구조를 재조정하는 것입니다.\n",
    "\n",
    "# 변수 입력\n",
    "# fish_p_name, fish_s_name, fish_j_name = \"붕어빵(팥)\",\"붕어빵(슈크림)\",\"붕어빵(잡채)\"\n",
    "# 붕어빵(팥).붕어빵(슈크림).붕어빵(잡채)\n",
    "fish_p_name, fish_s_name, fish_j_name = input(\"붕어빵(팥), 붕어빵(슈크림), 붕어빵(잡채)를 순서대로 입력하고 쉽표'.'로 구분하시오.\").split('.')\n",
    "fish_p_price, fish_s_price, fish_j_price = 2000, 2500, 3000\n",
    "order_p, order_s, order_j = 0,2,3\n",
    "\n",
    "# 구매 총 금액\n",
    "order =  fish_p_price * order_p + fish_s_price * order_s + fish_j_price * order_j\n",
    "\n",
    "# 구매 총 개수\n",
    "total = order_p + order_s + order_j\n",
    "\n",
    "#출력\n",
    "print(f\"주문이 완료되었습니다. {fish_s_name} {order_s}개, {fish_j_name} {order_j}개 총 {total}개 결제 금액은 {order}원 입니다.\")\n",
    "\n"
   ]
  },
  {
   "cell_type": "code",
   "execution_count": 1,
   "metadata": {},
   "outputs": [
    {
     "name": "stdout",
     "output_type": "stream",
     "text": [
      "주문이 완료되었습니다. 팥 1개, 슈크림 2개, 잡채 3개 총 6개 결제 금액은 16000원 입니다.\n"
     ]
    }
   ],
   "source": [
    "# dictionary를 이용해 개선\n",
    "주문_개수 = map(int, input(f'붕어빵 맛 순서대로 개수를 입력해주세요. 안살꺼면 0입력(팥, 슈크림, 잡채 순으로 입력)(각 개수를 입력하고 공백으로 구분하세요.)').split(' '))\n",
    "\n",
    "품목별_가격 = {\"팥\":2000, \"슈크림\":2500,\"잡채\":3000}\n",
    "\n",
    "주문_개수 = list(주문_개수)\n",
    "총_주문_개수 = sum(주문_개수)\n",
    "total = 0\n",
    "\n",
    "total += 품목별_가격['팥'] * 주문_개수[0]\n",
    "total += 품목별_가격['슈크림'] * 주문_개수[1]\n",
    "total += 품목별_가격['잡채'] * 주문_개수[2]\n",
    "\n",
    "#출력\n",
    "print(f\"주문이 완료되었습니다. 팥 {주문_개수[0]}개, 슈크림 {주문_개수[1]}개, 잡채 {주문_개수[2]}개 총 {총_주문_개수}개 결제 금액은 {total}원 입니다.\")\n"
   ]
  }
 ],
 "metadata": {
  "kernelspec": {
   "display_name": "Python 3",
   "language": "python",
   "name": "python3"
  },
  "language_info": {
   "codemirror_mode": {
    "name": "ipython",
    "version": 3
   },
   "file_extension": ".py",
   "mimetype": "text/x-python",
   "name": "python",
   "nbconvert_exporter": "python",
   "pygments_lexer": "ipython3",
   "version": "3.11.9"
  }
 },
 "nbformat": 4,
 "nbformat_minor": 2
}
