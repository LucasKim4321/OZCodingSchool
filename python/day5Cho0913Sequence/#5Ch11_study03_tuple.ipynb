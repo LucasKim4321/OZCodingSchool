{
 "cells": [
  {
   "cell_type": "markdown",
   "metadata": {},
   "source": [
    "## 시퀀스 자료형\n",
    "* 문자열 : \n",
    "    * 시퀀스형에서 사용할 수 있는 메소드(count(), index(), split() 등)\n",
    "    * 슬라이싱 ( [:],[::])\n",
    "    * 요소들로 이루어져 가능했던 기능들(요소 합치기, 요소 찾기 등등)\n",
    "* list : \n",
    "    * 시퀀스형에서 사용할 수 있는 메소드(count(), index(), split() 등)\n",
    "    * 슬라이싱 ( [:],[::])\n",
    "    * 요소들로 이루어져 가가능했던 기능들(요소 합치기, 요소 찾기 등등)\n",
    "    * list 지원하는 다양한 메소드 append(), insert(), del, sort(), reverse()\n",
    "    * [] = 리스트\n",
    "* tuple :\n",
    "    * 리스트처럼 요소를 일렬로 저장하지만 안에 저장된 요소를 변경, 추가, 삭제 할 수 없다.\n",
    "    * 값을 추가, 삭제, 변경 할 수 없기 때문에, 사용하지 못하는 메소드가 많다.\n",
    "    * tuple의 생성 방법은 tuple = 값, 값 또는 tuple = (값, 값)\n",
    "    * () = 튜플\n",
    "    * 그외 먼가 있음!"
   ]
  },
  {
   "cell_type": "code",
   "execution_count": 15,
   "metadata": {},
   "outputs": [
    {
     "name": "stdout",
     "output_type": "stream",
     "text": [
      "=========== 1 ===========\n",
      "<class 'tuple'>\n",
      "(1, '이', 3.0)\n",
      "=========== 2 ===========\n",
      "<class 'tuple'>\n",
      "(1, '이', 3.0)\n",
      "=========== 3 ===========\n",
      "<class 'tuple'>\n",
      "(1,)\n",
      "=========== 4 ===========\n",
      "<class 'int'>\n",
      "1\n"
     ]
    }
   ],
   "source": [
    "# 리스트 [], 튜플은 소괄호 ()\n",
    "\n",
    "print(\"=========== 1 ===========\")\n",
    "튜플 = (1, '이', 3.0)\n",
    "print(type(튜플))\n",
    "print(튜플)\n",
    "\n",
    "# 리스트 = [1, '이', 3.0]\n",
    "# print(type(리스트))\n",
    "# print(리스트)\n",
    "\n",
    "print(\"=========== 2 ===========\")\n",
    "# 튜플만 가능능\n",
    "튜플2 = 1, '이', 3.0\n",
    "print(type(튜플2))\n",
    "print(튜플2)\n",
    "\n",
    "print(\"=========== 3 ===========\")\n",
    "#하나의 값만 들어있는 튜플만 만들고 싶다면\n",
    "튜플_솔로 = (1,)\n",
    "print(type(튜플_솔로))\n",
    "print(튜플_솔로)\n",
    "\n",
    "print(\"=========== 4 ===========\")\n",
    "튜플_솔로2 = (1) #이렇게 하면 int가 됨. 사칙연산의 괄호()로 인식식\n",
    "print(type(튜플_솔로2))\n",
    "print(튜플_솔로2)"
   ]
  },
  {
   "cell_type": "code",
   "execution_count": 25,
   "metadata": {},
   "outputs": [
    {
     "name": "stdout",
     "output_type": "stream",
     "text": [
      "<class 'tuple'>\n",
      "(1, '이', 3.0)\n",
      "['__add__', '__class__', '__class_getitem__', '__contains__', '__delattr__', '__dir__', '__doc__', '__eq__', '__format__', '__ge__', '__getattribute__', '__getitem__', '__getnewargs__', '__getstate__', '__gt__', '__hash__', '__init__', '__init_subclass__', '__iter__', '__le__', '__len__', '__lt__', '__mul__', '__ne__', '__new__', '__reduce__', '__reduce_ex__', '__repr__', '__rmul__', '__setattr__', '__sizeof__', '__str__', '__subclasshook__', 'count', 'index']\n",
      "['__add__', '__class__', '__class_getitem__', '__contains__', '__delattr__', '__delitem__', '__dir__', '__doc__', '__eq__', '__format__', '__ge__', '__getattribute__', '__getitem__', '__getstate__', '__gt__', '__hash__', '__iadd__', '__imul__', '__init__', '__init_subclass__', '__iter__', '__le__', '__len__', '__lt__', '__mul__', '__ne__', '__new__', '__reduce__', '__reduce_ex__', '__repr__', '__reversed__', '__rmul__', '__setattr__', '__setitem__', '__sizeof__', '__str__', '__subclasshook__', 'append', 'clear', 'copy', 'count', 'extend', 'index', 'insert', 'pop', 'remove', 'reverse', 'sort']\n",
      "<class 'list'>\n",
      "[1, '이', 3.0]\n"
     ]
    }
   ],
   "source": [
    "# tuple 값 추가 삭제, 변경 불가\n",
    "\n",
    "print(type(튜플))\n",
    "print(튜플)\n",
    "\n",
    "print(dir(튜플))\n",
    "print(dir(list))\n",
    "\n",
    "튜플_리스트화 = list(튜플)\n",
    "print(type(튜플_리스트화))\n",
    "print(튜플_리스트화)"
   ]
  },
  {
   "cell_type": "code",
   "execution_count": 31,
   "metadata": {},
   "outputs": [
    {
     "data": {
      "text/plain": [
       "(1, '이', 3.0)"
      ]
     },
     "execution_count": 31,
     "metadata": {},
     "output_type": "execute_result"
    }
   ],
   "source": [
    "# tuple 값 추가 삭제, 변경 불가\n",
    "\n",
    "# 튜플.append(\"두리안\")  #안됨\n",
    "# del 튜플[2]  #안됨\n",
    "# 튜플[1] = \"너만 믿는다\"  #안됨\n",
    "튜플"
   ]
  },
  {
   "cell_type": "code",
   "execution_count": 39,
   "metadata": {},
   "outputs": [
    {
     "name": "stdout",
     "output_type": "stream",
     "text": [
      "['중', '꺾', '그', '마']\n",
      "('중', '꺾', '그', '마')\n",
      "['중', '뿌', '그', '마']\n",
      "중뿌그마\n",
      "중123뿌123그123마\n"
     ]
    }
   ],
   "source": [
    "#번외\n",
    "\n",
    "수강생 = \"중꺾그마\"\n",
    "\n",
    "수강생_list = list(수강생)\n",
    "수강생_tuple = tuple(수강생)\n",
    "\n",
    "print(수강생_list)\n",
    "print(수강생_tuple)\n",
    "\n",
    "수강생_list[1] = '뿌'\n",
    "print(수강생_list)\n",
    "\n",
    "#join 함수 공부. 알고 있으면 코테에 좋아요.\n",
    "취뽀_수강생 = \"\".join(수강생_list)\n",
    "print(취뽀_수강생)\n",
    "취뽀_수강생 = \"123\".join(수강생_list)\n",
    "print(취뽀_수강생)"
   ]
  },
  {
   "cell_type": "code",
   "execution_count": 58,
   "metadata": {},
   "outputs": [
    {
     "name": "stdout",
     "output_type": "stream",
     "text": [
      "(1, '이', 3.0)\n",
      "3\n",
      "(1, '이', 3.0, 1, '이', 3.0, 1, '이', 3.0)\n",
      "(1, '이', 3.0, 1, '이', 3.0)\n",
      "3.0\n",
      "2\n",
      "1\n",
      "('이', 3.0)\n"
     ]
    }
   ],
   "source": [
    "# 공통점 뭔가요?\n",
    "print(튜플)\n",
    "\n",
    "#길이를 구할 수 있어요.\n",
    "print(len(튜플))\n",
    "\n",
    "#곱하기 연산으로 요소를 복사할 수 있어요.\n",
    "print(튜플*3)\n",
    "\n",
    "#튜플은 요소들끼리 더할 수 있어요.\n",
    "print(튜플+튜플)\n",
    "\n",
    "#튜플은 인덱싱이 가능하다.\n",
    "print(튜플[2])\n",
    "\n",
    "#튜플의 인덱스\n",
    "print(튜플.index(3.0))\n",
    "\n",
    "#튜플 요소의 개수\n",
    "print(튜플.count('이'))\n",
    "\n",
    "#튜플도 슬라이싱이 가능하다.\n",
    "print(튜플[1:3])\n",
    "\n",
    "\n"
   ]
  },
  {
   "cell_type": "markdown",
   "metadata": {},
   "source": [
    "# tuple은 왜 쓸까요?\n",
    "(여러분을 다른 수강생들 보다 더 돋보이게 만들어 줄 수 있어요.)\n",
    "\n",
    "1. 3GO가 불가하기 때문입니다. (넣고, 삭제하고, 바꾸고) 무슨 소리 GO?\n",
    "    * 여러명이 코딩을 할 때 변경되면 안되는 변수를 건드리는 경우 방지.\n",
    "    * 값이 변경되면 안되는 중요한 데이터를 넣어서 보안적으로 관리하기 좋다. (은행계좌, 비밀번호 등등)\n",
    "2. list는 tuple보다 무겁다.\n",
    "    단지 기능이 많아서 무거운걸까요? ㄴㄴ\n",
    "    파이썬은 c로 만들어졌습니다.\n",
    "    \n",
    "    파이썬은 동적배열을 지원합니다.\n",
    "    - 처음 list = [1,2,3,4] 생성해서 4개에 값을 모두 넣었습니다.\n",
    "    - 문제는 그 다음 값을 추가할 때 이미 공간이 다 찼기 때문에 추가 할당을 진행합니다.\n",
    "    - 추가 할당 시 메모리 크기는 4, 8, 16, 25, 35, 46 .... 더블링을 해줍니다.\n",
    "\n",
    "    때문에 코딩테스트 시 list를 쓰면 속도가 느려 통과 못할 때도 있음.\n",
    "\n",
    "3. 리스트는 가변, 튜플은 불변\n",
    "    값이 고정 되어야 하거나 크기가 작을 경우 튜플을 권장한다."
   ]
  },
  {
   "cell_type": "markdown",
   "metadata": {},
   "source": [
    "* 가변객체와 불변객체\n",
    "* 파이썬 리스트의 동적배열\n",
    "* 자료구조 책을 한번 사보는것도 추천. (파이썬 클린코드)"
   ]
  }
 ],
 "metadata": {
  "kernelspec": {
   "display_name": "Python 3",
   "language": "python",
   "name": "python3"
  },
  "language_info": {
   "codemirror_mode": {
    "name": "ipython",
    "version": 3
   },
   "file_extension": ".py",
   "mimetype": "text/x-python",
   "name": "python",
   "nbconvert_exporter": "python",
   "pygments_lexer": "ipython3",
   "version": "3.11.9"
  }
 },
 "nbformat": 4,
 "nbformat_minor": 2
}
