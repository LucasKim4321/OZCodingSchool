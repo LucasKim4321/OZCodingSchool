{
 "cells": [
  {
   "cell_type": "markdown",
   "metadata": {},
   "source": [
    "### list\n",
    "* list란? 원소들이 연속적으로 저장되는 형태의 자료형을 말합니다.\n",
    "* 시퀀스 자료형!!\n",
    "  * str(), list(), tuple(), dict, set\n",
    "* 대괄호로 묶어주고, 값들은 콤마로 구분합니다.\n",
    "  "
   ]
  },
  {
   "cell_type": "code",
   "execution_count": 4,
   "metadata": {},
   "outputs": [
    {
     "name": "stdout",
     "output_type": "stream",
     "text": [
      "[]\n",
      "[23, '이게 리스트다.', 3, 23, True, False]\n",
      "이게 리스트다.\n"
     ]
    }
   ],
   "source": [
    "# 첫 리스트 두근두근\n",
    "\n",
    "리스트 = []\n",
    "print(리스트)\n",
    "\n",
    "리스트 = [23, \"이게 리스트다.\", 3,23,True,False]\n",
    "print(리스트)\n",
    "print(리스트[1])"
   ]
  },
  {
   "cell_type": "code",
   "execution_count": 28,
   "metadata": {},
   "outputs": [
    {
     "name": "stdout",
     "output_type": "stream",
     "text": [
      "리스트 = ['이', '렇', '게', '만', '들', '어', '요']\n",
      "리스트2 = []\n",
      "리스트2 = [0, 1, 2, 3, 4, 5, 6, 7, 8, 9]\n",
      "리스트_매직_들어간다 = [0, 1, 2, 3, 4, 5, 6, 7, 8, 9, 10, 11, 12, 13, 14, 15, 16, 17, 18, 19]\n"
     ]
    }
   ],
   "source": [
    "# 리스트를 다시 한번 선언해 보자\n",
    "리스트 = ['이','렇','게','만','들','어','요']\n",
    "print(\"리스트 =\",리스트)\n",
    "리스트2 = list()  #int(),float()와 같은 형태\n",
    "print(\"리스트2 =\",리스트2)\n",
    "\n",
    "#range? 연속된 숫자를 생성하는 기능입니다.\n",
    "# 기본값 : 숫자를 입력하면 1씩 증가하는 값을 생성, 0부터 시작\n",
    "range(10)\n",
    "\n",
    "#list(range(시작, 끝))\n",
    "print(\"리스트2 =\",list(range(10)))\n",
    "리스트_매직_들어간다 = list(range(0,20))\n",
    "print(\"리스트_매직_들어간다 =\",리스트_매직_들어간다)"
   ]
  },
  {
   "cell_type": "code",
   "execution_count": 32,
   "metadata": {},
   "outputs": [
    {
     "name": "stdout",
     "output_type": "stream",
     "text": [
      "리스트_매직2 = [0, 2, 4, 6, 8, 10, 12, 14, 16, 18]\n",
      "리스트_매직3 = [20, 19, 18, 17, 16, 15, 14, 13, 12, 11, 10, 9, 8, 7, 6, 5, 4, 3, 2, 1]\n",
      "리스트_매직4 = []\n"
     ]
    }
   ],
   "source": [
    "#list(range(시작, 끝, 증가))\n",
    "\n",
    "리스트_매직2 = list(range(0,20,2))\n",
    "print(\"리스트_매직2 =\",리스트_매직2)\n",
    "\n",
    "리스트_매직3 = list(range(20,0,-1))  #반대로하면 20부터 시작해서 1로 끝남\n",
    "print(\"리스트_매직3 =\",리스트_매직3)\n",
    "\n",
    "리스트_매직4 = list(range(20,0))\n",
    "print(\"리스트_매직4 =\",리스트_매직4)"
   ]
  },
  {
   "cell_type": "code",
   "execution_count": 42,
   "metadata": {},
   "outputs": [
    {
     "name": "stdout",
     "output_type": "stream",
     "text": [
      "들f 어 가\n",
      "들f\n",
      "7 7 8\n",
      "10000 2장, 5000 3장, 1000 1장\n"
     ]
    }
   ],
   "source": [
    "# 끝나지 않는 리스트 매직\n",
    "# 리스트를 이용해 변수에 값 넣기\n",
    "\n",
    "a, b, c = ['들f','어','가']\n",
    "print(a, b, c)\n",
    "print(a)\n",
    "\n",
    "d, e, f = [7, 7, 8]\n",
    "print(d, e, f)\n",
    "\n",
    "지갑 = [10000, 5000, 1000]\n",
    "만원, 오천원, 천원 = 지갑\n",
    "print(f'{만원} 2장, {오천원} 3장, {천원} 1장')"
   ]
  },
  {
   "cell_type": "code",
   "execution_count": 44,
   "metadata": {},
   "outputs": [
    {
     "data": {
      "text/plain": [
       "['fff', 'eee', 'ㄹㄹㄹ', '222']"
      ]
     },
     "execution_count": 44,
     "metadata": {},
     "output_type": "execute_result"
    }
   ],
   "source": [
    "#  **리스트 패킹**   **리스트 언패킹**\n",
    "\n",
    "input().split() #split()기본값 ' ' 공백"
   ]
  },
  {
   "cell_type": "code",
   "execution_count": 128,
   "metadata": {},
   "outputs": [
    {
     "name": "stdout",
     "output_type": "stream",
     "text": [
      "[5, 15]\n",
      "44\n",
      "[44, 41, 33, 15, 5, 3]\n",
      "True\n",
      "[3, 5, 15, 33, 41, 44, 4, 6, 25, 44, 61, 84]\n",
      "[3, 5, 15, 33, 41, 44, 4, 6, 25, 44, 61, 84]\n",
      "리스트:  [2, 4, 6, 8, 10]\n",
      "값을 2배 늘린 리스트:  [2, 4, 6, 8, 10, 2, 4, 6, 8, 10]\n",
      "요소의 개수: 10\n",
      "3번째 인덱스: 8\n",
      "10\n"
     ]
    }
   ],
   "source": [
    "# 슬라이싱\n",
    "\n",
    "로또 = [3, 5, 15, 33, 41, 44]\n",
    "#로또 변수에 있는 리스트의 인덱스 1번부터 2번가지의 값을 출력해보기\n",
    "print(로또[1:3])\n",
    "\n",
    "#로또 변수의 마지막 위치 출력.\n",
    "print(로또[-1])\n",
    "\n",
    "#반대로 출력해보기.\n",
    "print(로또[::-1])\n",
    "\n",
    "#로또 리스트안에 33이 있는지 확인해보세요.\n",
    "print(33 in 로또)\n",
    "# print(로또.index(33))\n",
    "\n",
    "#로또 리스트를 로또2 리스트와 합쳐보세요.\n",
    "로또2 = [4, 6, 25, 44, 61, 84]\n",
    "로또3 = 로또 + 로또2\n",
    "# 로또3 = 로또2 + 로또\n",
    "print(로또3)\n",
    "print(로또+로또2)\n",
    "\n",
    "#range를 이용해서 1부터 10사이의 짝수만 들어있는 짝수(변수명) 리스트를 만들어주세요.\n",
    "짝수 = list(range(2,11,2))\n",
    "print('리스트: ', 짝수)\n",
    "\n",
    "#짝수 리스트에 들어있는 값을 2배 늘리고 다시 짝수 변수에 담아주세요.\n",
    "짝수 = 짝수*2\n",
    "print('값을 2배 늘린 리스트: ', 짝수)\n",
    "\n",
    "#짝수 리스트에 들어있는 요소의 개수를 구해주세요.\n",
    "print(\"요소의 개수:\",len(짝수))\n",
    "\n",
    "#짝수 리스트에 3번째 인덱스를 출력해주세요.\n",
    "print(\"3번째 인덱스:\",짝수[3])\n",
    "\n",
    "#len()함수를 이용해 인덱스 마지막 값을 출력해주세요.\n",
    "# len()가 10이 나오면 인덱스는 0부터 9까지 10개가 존재\n",
    "print(짝수[len(짝수)-1])"
   ]
  },
  {
   "cell_type": "code",
   "execution_count": 222,
   "metadata": {},
   "outputs": [
    {
     "name": "stdout",
     "output_type": "stream",
     "text": [
      "고수 추가: ['숙주', '분모자', ' 마라', '소세지', '소고기', '옥수수면', '고수']\n",
      "\n",
      "인덱스 0번에 추가: ['탕후루', '숙주', '분모자', ' 마라', '소세지', '소고기', '옥수수면', '고수']\n",
      "\n",
      "인덱스 -1번 고수 지움: ['탕후루', '숙주', '분모자', ' 마라', '소세지', '소고기', '옥수수면']\n",
      "\n",
      "인덱스 0번 탕후루 지움: ['숙주', '분모자', ' 마라', '소세지', '소고기', '옥수수면']\n",
      "\n",
      "인덱스 -2번 양고기로 바꿈: ['숙주', '분모자', ' 마라', '소세지', '양고기', '옥수수면']\n",
      "반가워\n",
      "워\n"
     ]
    }
   ],
   "source": [
    "# list 값, 넣고, 바꾸고, 지우고\n",
    "\n",
    "mzfood = ['숙주', '분모자',' 마라','소세지','소고기','옥수수면']\n",
    "\n",
    "# 값을 넣는 방법 2가지 : append() 마지막 요소에 값을 대입, insert() : 원하는 곳에 값을 대입\n",
    "\n",
    "mzfood.append(\"고수\")\n",
    "print(\"고수 추가:\",mzfood)\n",
    "\n",
    "mzfood.insert(0,\"탕후루\")\n",
    "print(\"\\n인덱스 0번에 추가:\",mzfood)\n",
    "\n",
    "#값 지우기\n",
    "del mzfood[-1]  #값 지움\n",
    "print(\"\\n인덱스 -1번 고수 지움:\",mzfood)\n",
    "\n",
    "del mzfood[0]  #탕후루 지움\n",
    "print(\"\\n인덱스 0번 탕후루 지움:\",mzfood)\n",
    "\n",
    "#값 바꾸고\n",
    "mzfood[-2] = '양고기'\n",
    "print(\"\\n인덱스 -2번 양고기로 바꿈:\",mzfood)\n",
    "\n",
    "# 문자열은 시퀀스값 바꾸기 불가\n",
    "인사 = \"반가워\"\n",
    "print(인사)\n",
    "print(인사[2])\n",
    "# 인사[2] = \"웡\"  #에러\n",
    "# print(인사)"
   ]
  },
  {
   "cell_type": "code",
   "execution_count": 213,
   "metadata": {},
   "outputs": [
    {
     "name": "stdout",
     "output_type": "stream",
     "text": [
      "['__add__', '__class__', '__class_getitem__', '__contains__', '__delattr__', '__delitem__', '__dir__', '__doc__', '__eq__', '__format__', '__ge__', '__getattribute__', '__getitem__', '__getstate__', '__gt__', '__hash__', '__iadd__', '__imul__', '__init__', '__init_subclass__', '__iter__', '__le__', '__len__', '__lt__', '__mul__', '__ne__', '__new__', '__reduce__', '__reduce_ex__', '__repr__', '__reversed__', '__rmul__', '__setattr__', '__setitem__', '__sizeof__', '__str__', '__subclasshook__', 'append', 'clear', 'copy', 'count', 'extend', 'index', 'insert', 'pop', 'remove', 'reverse', 'sort']\n"
     ]
    }
   ],
   "source": [
    "print(dir(list))"
   ]
  },
  {
   "cell_type": "code",
   "execution_count": 253,
   "metadata": {},
   "outputs": [
    {
     "name": "stdout",
     "output_type": "stream",
     "text": [
      "['숙주', '분모자', ' 마라', '소세지', '양고기', '옥수수면']\n",
      "['옥수수면', '양고기', '소세지', ' 마라', '분모자', '숙주']\n",
      "[' 마라', '분모자', '소세지', '숙주', '양고기', '옥수수면']\n",
      "None\n",
      "None\n"
     ]
    }
   ],
   "source": [
    "mzfood = ['숙주', '분모자', ' 마라', '소세지', '양고기', '옥수수면']\n",
    "print(mzfood)\n",
    "\n",
    "#메소드 실행하면 기존 변수에 변경된 값을 자동으로 대입\n",
    "mzfood.reverse()\n",
    "print(mzfood)\n",
    "\n",
    "mzfood.sort()\n",
    "print(mzfood)\n",
    "\n",
    "# print문 안에 reverse() 나 sort()를 쓰면 None이 나옴\n",
    "print(mzfood.reverse())\n",
    "print(mzfood.sort())"
   ]
  },
  {
   "cell_type": "code",
   "execution_count": 266,
   "metadata": {},
   "outputs": [
    {
     "name": "stdout",
     "output_type": "stream",
     "text": [
      "[[2, 0], [3, 1]]\n",
      "[2, 0]\n",
      "3\n",
      "[[2, 0], [3, 1], [4, 1]]\n",
      "[[4, 1], [3, 1], [2, 0]]\n",
      "[[3, 1], [4, 1]]\n"
     ]
    }
   ],
   "source": [
    "# 리스트 까도까도 또 나오네?\n",
    "# 2차원 리스트에 대해서도 공부는 필수 !!!\n",
    "\n",
    "양파같은 = [[2,0],[3,1]]\n",
    "print(양파같은)\n",
    "print(양파같은[0])\n",
    "print(양파같은[1][0])\n",
    "\n",
    "양파같은.append([4,1])\n",
    "print(양파같은)\n",
    "print(양파같은[::-1])\n",
    "print(양파같은[1:3])\n"
   ]
  }
 ],
 "metadata": {
  "kernelspec": {
   "display_name": "Python 3",
   "language": "python",
   "name": "python3"
  },
  "language_info": {
   "codemirror_mode": {
    "name": "ipython",
    "version": 3
   },
   "file_extension": ".py",
   "mimetype": "text/x-python",
   "name": "python",
   "nbconvert_exporter": "python",
   "pygments_lexer": "ipython3",
   "version": "3.11.9"
  }
 },
 "nbformat": 4,
 "nbformat_minor": 2
}
