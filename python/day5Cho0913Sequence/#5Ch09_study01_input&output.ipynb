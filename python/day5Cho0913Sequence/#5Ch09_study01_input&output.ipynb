{
 "cells": [
  {
   "cell_type": "markdown",
   "metadata": {},
   "source": [
    "## 입력과 출력\n",
    "\n",
    "* 입력 : input()\n",
    "* 출력 : print()\n",
    "\n",
    "\n",
    "#### 함수와 메서드\n",
    "> 함수 : 어디에 속해있지 않고 단독 모듈이라 함수를 그냥 호출하여 사용이 가능합니다. 예) print(), input()\n",
    "\n",
    "https://docs.python.org/ko/3/library/functions.html\n",
    "\n",
    ">메소드 : 함수의 클래스 안에 속해 있고 클래스의 멤버 변수들을 이용해서 구현된 것\n",
    "예) \"까먹으신건가요?\".count(\"까\")  /  \"까먹으신건가요?\".indexs(\"까\")"
   ]
  },
  {
   "cell_type": "code",
   "execution_count": 8,
   "metadata": {},
   "outputs": [
    {
     "name": "stdout",
     "output_type": "stream",
     "text": [
      "count:  1\n",
      "index:  0\n"
     ]
    }
   ],
   "source": [
    "print(\"count: \", \"까먹으신건가요?\".count(\"까\"))\n",
    "print(\"index: \", \"까먹으신건가요?\".index(\"까\"))"
   ]
  },
  {
   "cell_type": "code",
   "execution_count": 10,
   "metadata": {},
   "outputs": [
    {
     "name": "stdout",
     "output_type": "stream",
     "text": [
      "5 5\n"
     ]
    }
   ],
   "source": [
    "숫자, 문자 = 5, \"5\"\n",
    "print (숫자, 문자)"
   ]
  },
  {
   "cell_type": "code",
   "execution_count": 16,
   "metadata": {},
   "outputs": [
    {
     "name": "stdout",
     "output_type": "stream",
     "text": [
      "print  ㄹㄹ <class 'str'>\n"
     ]
    }
   ],
   "source": [
    "# 인사 = input()\n",
    "인사 = input(\"(우리학교 최고 존잘남)아.... 안녕\") #입력창에 내용이 나옴옴\n",
    "print(\"print \", 인사, type(인사))"
   ]
  },
  {
   "cell_type": "code",
   "execution_count": 22,
   "metadata": {},
   "outputs": [
    {
     "name": "stdout",
     "output_type": "stream",
     "text": [
      "5 <class 'int'>\n",
      "5.0 <class 'float'>\n"
     ]
    }
   ],
   "source": [
    "#int(), float(), str(), bool()\n",
    "\n",
    "정수 = input()\n",
    "정수 = int(정수)  #input으로 입력된 숫자는 str이지만 int로 형변환 가능\n",
    "print(정수, type(정수))\n",
    "\n",
    "실수 = float(input())\n",
    "print(실수, type(실수))"
   ]
  },
  {
   "cell_type": "markdown",
   "metadata": {},
   "source": [
    "그 외 입력값의 형변환이 가능한 종류\n",
    "* tuple()\n",
    "* list()\n",
    "* dict()\n",
    "* set()"
   ]
  },
  {
   "cell_type": "code",
   "execution_count": null,
   "metadata": {},
   "outputs": [
    {
     "name": "stdout",
     "output_type": "stream",
     "text": [
      "넌센스: 가\n",
      "정답: 나\n"
     ]
    }
   ],
   "source": [
    "# 두글자 이상 에러, 두글자로 입력하면 에러안남\n",
    "넌센스, 정답 = input()\n",
    "\n",
    "print(\"넌센스: \"+넌센스)\n",
    "print(\"정답: \"+정답)"
   ]
  },
  {
   "cell_type": "code",
   "execution_count": 42,
   "metadata": {},
   "outputs": [
    {
     "name": "stdout",
     "output_type": "stream",
     "text": [
      "넌센스: 스페인에서 에스파를 만나면?\n",
      "정답: 에스파냐?\n"
     ]
    }
   ],
   "source": [
    "# 넌센스, 정답 = input().split() #스페이스 바를 기준으로 나누는데 3개 이상으로 나누면 변수에 넣을 자리가 없어서 에러\n",
    "넌센스, 정답 = input().split(\".\")\n",
    "\n",
    "print(\"넌센스: \"+넌센스)\n",
    "print(\"정답: \"+정답)"
   ]
  },
  {
   "cell_type": "code",
   "execution_count": 44,
   "metadata": {},
   "outputs": [
    {
     "name": "stdout",
     "output_type": "stream",
     "text": [
      "<class 'int'> 123123 123123 123123\n"
     ]
    }
   ],
   "source": [
    "# 시퀀스 자료형에 다 지원되는 메소드\n",
    "번호1, 번호2, 번호3, 번호4 = input().split(\".\")\n",
    "\n",
    "번호1 = int(번호1)\n",
    "번호2 = int(번호2)\n",
    "번호3 = int(번호3)\n",
    "번호4 = int(번호4)\n",
    "\n",
    "print(type(번호1), 번호2, 번호3, 번호4)"
   ]
  },
  {
   "cell_type": "code",
   "execution_count": 48,
   "metadata": {},
   "outputs": [
    {
     "name": "stdout",
     "output_type": "stream",
     "text": [
      "<class 'int'> 12312312 3123 123\n"
     ]
    }
   ],
   "source": [
    "# map()\n",
    "번호1, 번호2, 번호3, 번호4 = map(int, input().split(\".\"))\n",
    "print(type(번호1), 번호2, 번호3, 번호4)"
   ]
  },
  {
   "cell_type": "code",
   "execution_count": 5,
   "metadata": {},
   "outputs": [
    {
     "name": "stdout",
     "output_type": "stream",
     "text": [
      "주문이 완료되었습니다. 붕어빵(슈크림) 2개, 붕어빵(잡채) 3개 총 5개 결제 금액은 14000원 입니다.\n"
     ]
    }
   ],
   "source": [
    "#레거시 : 누군가 남겨두고간 코드\n",
    "#리팩토링 : 결과의 변경 없이 코드의 구조를 재조정하는 것입니다.\n",
    "\n",
    "# 변수 입력\n",
    "# fish_p_name, fish_s_name, fish_j_name = \"붕어빵(팥)\",\"붕어빵(슈크림)\",\"붕어빵(잡채)\"\n",
    "# 붕어빵(팥).붕어빵(슈크림).붕어빵(잡채)\n",
    "fish_p_name, fish_s_name, fish_j_name = input(\"붕어빵(팥), 붕어빵(슈크림), 붕어빵(잡채)를 순서대로 입력하고 쉽표'.'로 구분하시오.\").split('.')\n",
    "fish_p_price, fish_s_price, fish_j_price = 2000, 2500, 3000\n",
    "order_p, order_s, order_j = 0,2,3\n",
    "\n",
    "# 구매 총 금액\n",
    "order =  fish_p_price * order_p + fish_s_price * order_s + fish_j_price * order_j\n",
    "\n",
    "# 구매 총 개수\n",
    "total = order_p + order_s + order_j\n",
    "\n",
    "#출력\n",
    "print(f\"주문이 완료되었습니다. {fish_s_name} {order_s}개, {fish_j_name} {order_j}개 총 {total}개 결제 금액은 {order}원 입니다.\")\n",
    "\n"
   ]
  },
  {
   "cell_type": "code",
   "execution_count": 10,
   "metadata": {},
   "outputs": [
    {
     "name": "stdout",
     "output_type": "stream",
     "text": [
      "초코칩 민트 샷추가 휘핑크림\n",
      "초코칩/민트/샷추가/휘핑크림\n",
      "초코칩:민트:샷추가:휘핑크림\n",
      "초코칩    민트    샷추가    휘핑크림\n",
      "초코칩\n",
      "민트\n",
      "샷추가\n",
      "휘핑크림\n"
     ]
    }
   ],
   "source": [
    "#print() 함수에 기능을 이용해보겠습니다.\n",
    "#sep\n",
    "#구분된 입력된 값들을 어떻게 구분지을지 설정 기본값 ' '(공백)\n",
    "\n",
    "print(\"초코칩\", \"민트\", \"샷추가\", \"휘핑크림\")\n",
    "print(\"초코칩\", \"민트\", \"샷추가\", \"휘핑크림\", sep=\"/\")\n",
    "print(\"초코칩\", \"민트\", \"샷추가\", \"휘핑크림\", sep=\":\")\n",
    "print(\"초코칩\", \"민트\", \"샷추가\", \"휘핑크림\", sep=\"    \")\n",
    "print(\"초코칩\", \"민트\", \"샷추가\", \"휘핑크림\", sep=\"\\n\")"
   ]
  },
  {
   "cell_type": "code",
   "execution_count": 9,
   "metadata": {},
   "outputs": [
    {
     "name": "stdout",
     "output_type": "stream",
     "text": [
      "초코칩 민트 샷추가 휘핑크림 초코칩 민트 샷추가 휘핑크림 초코칩 민트 샷추가 휘핑크림 "
     ]
    }
   ],
   "source": [
    "#end\n",
    "#끝날때 어떻게 끝날지 설정 기본값 '\\n'(엔터)\n",
    "\n",
    "print(\"초코칩\", \"민트\", \"샷추가\", \"휘핑크림\", end=' ')\n",
    "print(\"초코칩\", \"민트\", \"샷추가\", \"휘핑크림\", end=' ')\n",
    "print(\"초코칩\", \"민트\", \"샷추가\", \"휘핑크림\", end=' ')"
   ]
  }
 ],
 "metadata": {
  "kernelspec": {
   "display_name": "Python 3",
   "language": "python",
   "name": "python3"
  },
  "language_info": {
   "codemirror_mode": {
    "name": "ipython",
    "version": 3
   },
   "file_extension": ".py",
   "mimetype": "text/x-python",
   "name": "python",
   "nbconvert_exporter": "python",
   "pygments_lexer": "ipython3",
   "version": "3.11.9"
  }
 },
 "nbformat": 4,
 "nbformat_minor": 2
}
