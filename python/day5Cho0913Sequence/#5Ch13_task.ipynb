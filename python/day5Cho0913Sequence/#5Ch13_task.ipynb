{
 "cells": [
  {
   "cell_type": "markdown",
   "metadata": {},
   "source": [
    "<span style=\"font-size:100%\">\n",
    "\n",
    "수업은 모두 열심히 들으셨나요?\n",
    "\n",
    "간혹 강의에서 언급되지 않은 내용이 문제로 나올 수 있습니다.<br>\n",
    "그럴땐 강의 내용 외 문제는 구글링을 통해 해결해주세요<br></span>\n",
    "<span style=\"font-size:80%\">\n",
    "(구글링 또한 개발자가 갖쳐야할 역량 중에 하나랍니다 😊)\n",
    "</span>\n",
    "\n",
    "---"
   ]
  },
  {
   "cell_type": "markdown",
   "metadata": {},
   "source": [
    "<span style=\"font-size:80%\">[문제1]<br><br></span>\n",
    "세트 money의 결과로 올바른 것을 골라주세요\n",
    "\n",
    "money = { '만원', '만원', '오만원', '백원', '오만원', '십원' }\n",
    "\n",
    "1. { '백원', '십원' }\n",
    "2. {'만원', '백원', '십원', '오만원'}\n",
    "3. {'만원', '백원', '십원'}\n",
    "4. {'만원',  '오만원'}"
   ]
  },
  {
   "cell_type": "markdown",
   "metadata": {},
   "source": [
    "<span style=\"color:red\">답변</span>"
   ]
  },
  {
   "cell_type": "markdown",
   "metadata": {},
   "source": [
    "정답 2번!!\n",
    "\n",
    "set은 중복을 싫어한다!!"
   ]
  },
  {
   "cell_type": "code",
   "execution_count": 1,
   "metadata": {},
   "outputs": [
    {
     "name": "stdout",
     "output_type": "stream",
     "text": [
      "{'십원', '오만원', '백원', '만원'}\n"
     ]
    }
   ],
   "source": [
    "money = { '만원', '만원', '오만원', '백원', '오만원', '십원' }\n",
    "\n",
    "print(money)"
   ]
  },
  {
   "cell_type": "markdown",
   "metadata": {},
   "source": [
    "----"
   ]
  },
  {
   "cell_type": "markdown",
   "metadata": {},
   "source": [
    "<span style=\"font-size:80%\">[문제2]<br><br></span>\n",
    "세트 x = {3, 6, 9} 그리고 y = {1, 2, 3}가 있을 때, 집합 연산의 결과로 잘못된 것을 모두 고르세요\n",
    "\n",
    "1. set.union(x, y)는 {1, 2, 3, 6, 9}\n",
    "2. x ^ y는 {1, 3, 6}\n",
    "3. x - y는 {6, 9}\n",
    "4. x & y는 { 3 }\n",
    "5. set.difference(y, x)는 { 2 }"
   ]
  },
  {
   "cell_type": "markdown",
   "metadata": {},
   "source": [
    "<span style=\"color:red\">답변</span>"
   ]
  },
  {
   "cell_type": "markdown",
   "metadata": {},
   "source": [
    "정답 2번, 5번!\n",
    "\n",
    "둘 다 결과 값이 틀림!\n",
    "2번 {1, 2, 6, 9}\n",
    "5번 {1, 2}"
   ]
  },
  {
   "cell_type": "code",
   "execution_count": 4,
   "metadata": {},
   "outputs": [
    {
     "data": {
      "text/plain": [
       "{1, 2, 6, 9}"
      ]
     },
     "execution_count": 4,
     "metadata": {},
     "output_type": "execute_result"
    }
   ],
   "source": [
    "x = {3, 6, 9}\n",
    "y = {1, 2, 3}\n",
    "\n",
    "# 대칭 차집합 : 두 집합의 서로 겹치지 않는 요소들의 집합.\n",
    "x ^ y  # 겹치는 값 3 빼고 집합이 됨.\n",
    "\n",
    "# 차집합 : 첫번째 집합에서 두번째 집합을 뺀 집합\n",
    "# set.difference(y, x)"
   ]
  },
  {
   "cell_type": "markdown",
   "metadata": {},
   "source": [
    "----"
   ]
  },
  {
   "cell_type": "markdown",
   "metadata": {},
   "source": [
    "<span style=\"font-size:80%\">[문제3]<br><br></span>\n",
    "과일 바구니 안에 두리안이 있는지 확인하기 위한 코드를 작성해 주세요\n",
    "\n",
    "과일_바구니 = {'사과', '포도', '샤인머스켓', '두리안'}"
   ]
  },
  {
   "cell_type": "markdown",
   "metadata": {},
   "source": [
    "<span style=\"color:red\">답변</span>"
   ]
  },
  {
   "cell_type": "code",
   "execution_count": 8,
   "metadata": {},
   "outputs": [
    {
     "data": {
      "text/plain": [
       "True"
      ]
     },
     "execution_count": 8,
     "metadata": {},
     "output_type": "execute_result"
    }
   ],
   "source": [
    "과일_바구니 = {'사과', '포도', '샤인머스켓', '두리안'}\n",
    "\n",
    "'두리안' in 과일_바구니"
   ]
  },
  {
   "cell_type": "markdown",
   "metadata": {},
   "source": [
    "----"
   ]
  },
  {
   "cell_type": "markdown",
   "metadata": {},
   "source": [
    "<span style=\"font-size:80%\">[문제4]<br><br></span>\n",
    "메서드와 연산자의 기능이 잘못 짝지어진 것을 골라주세요\n",
    "\n",
    "1. set.intersection은 &와 같다.\n",
    "2. set.update는 |=와 같다.\n",
    "3. symmetric_difference_update는 -=와 같다.\n",
    "4. issuperset은 >와 같다.\n",
    "5. set.union은 |와 같다."
   ]
  },
  {
   "cell_type": "markdown",
   "metadata": {},
   "source": [
    "<span style=\"color:red\">답변</span>"
   ]
  },
  {
   "cell_type": "markdown",
   "metadata": {},
   "source": [
    "정답 3번!!\n",
    "\n",
    "1번 set.intersection과 &는 **두 집합의 교집합(Intersection)**을 구합니다.\n",
    "\n",
    "2번 set.update와 |=는 **합집합(Union)**을 수행하고 결과를 set에 반영합니다.\n",
    "\n",
    "3번 symmetric_difference_update는 **대칭 차집합(Symmetric Difference)**을 수행하고 결과를 set에 반영합니다.\n",
    "\n",
    "4번 issuperset는 >와 같으며, 한 집합이 다른 집합의 모든 요소를 포함하는지를 확인합니다.\n",
    "\n",
    "5번 set.union과 |는 **합집합(Union)**을 반환합니다."
   ]
  },
  {
   "cell_type": "markdown",
   "metadata": {},
   "source": [
    "----"
   ]
  },
  {
   "cell_type": "markdown",
   "metadata": {},
   "source": [
    "<span style=\"font-size:80%\">[문제5]<br><br></span>\n",
    "세트를 만드는 방법으로 올바르지 않은 것을 골라주세요\n",
    "\n",
    "1. x = {1, 2, 3, 4, 5}\n",
    "2. x = { }\n",
    "3. x = set('hello')\n",
    "4. x  = set(range(10))\n",
    "5. x = set()"
   ]
  },
  {
   "cell_type": "markdown",
   "metadata": {},
   "source": [
    "<span style=\"color:red\">답변</span>"
   ]
  },
  {
   "cell_type": "markdown",
   "metadata": {},
   "source": [
    "정답 2번!\n",
    "\n",
    "빈 {}는 **세트가 아닌 딕셔너리(Dictionary)**로 인식됩니다."
   ]
  },
  {
   "cell_type": "code",
   "execution_count": 11,
   "metadata": {},
   "outputs": [
    {
     "name": "stdout",
     "output_type": "stream",
     "text": [
      "<class 'set'>\n",
      "<class 'dict'>\n",
      "<class 'set'>\n",
      "<class 'set'>\n",
      "<class 'set'>\n"
     ]
    }
   ],
   "source": [
    "x = {1, 2, 3, 4, 5}\n",
    "print(type(x))\n",
    "\n",
    "x = { }\n",
    "print(type(x))\n",
    "\n",
    "x = set('hello')\n",
    "print(type(x))\n",
    "\n",
    "x  = set(range(10))\n",
    "print(type(x))\n",
    "\n",
    "x = set()\n",
    "print(type(x))"
   ]
  }
 ],
 "metadata": {
  "kernelspec": {
   "display_name": "Python 3",
   "language": "python",
   "name": "python3"
  },
  "language_info": {
   "codemirror_mode": {
    "name": "ipython",
    "version": 3
   },
   "file_extension": ".py",
   "mimetype": "text/x-python",
   "name": "python",
   "nbconvert_exporter": "python",
   "pygments_lexer": "ipython3",
   "version": "3.11.9"
  }
 },
 "nbformat": 4,
 "nbformat_minor": 2
}
