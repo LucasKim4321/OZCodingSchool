{
 "cells": [
  {
   "cell_type": "markdown",
   "metadata": {},
   "source": [
    "<span style=\"font-size:100%\">\n",
    "\n",
    "수업은 모두 열심히 들으셨나요?\n",
    "\n",
    "간혹 강의에서 언급되지 않은 내용이 문제로 나올 수 있습니다.<br>\n",
    "그럴땐 강의 내용 외 문제는 구글링을 통해 해결해주세요<br></span>\n",
    "<span style=\"font-size:80%\">\n",
    "(구글링 또한 개발자가 갖쳐야할 역량 중에 하나랍니다 😊)\n",
    "</span>\n",
    "\n",
    "---"
   ]
  },
  {
   "cell_type": "markdown",
   "metadata": {},
   "source": [
    "<span style=\"font-size:80%\">[문제1]<br><br></span>\n",
    "아래 리스트에 들어있는 값의 평균을 구하는 코드를 작성해주세요\n",
    "\n",
    "x = [34, 22, 10, 3, 55, 66]"
   ]
  },
  {
   "cell_type": "markdown",
   "metadata": {},
   "source": [
    "<span style=\"color:red\">답변</span>"
   ]
  },
  {
   "cell_type": "code",
   "execution_count": 11,
   "metadata": {},
   "outputs": [
    {
     "name": "stdout",
     "output_type": "stream",
     "text": [
      "31.666666666666668\n"
     ]
    }
   ],
   "source": [
    "x = [34, 22, 10, 3, 55, 66]\n",
    "print(sum(x)/len(x))"
   ]
  },
  {
   "cell_type": "markdown",
   "metadata": {},
   "source": [
    "----"
   ]
  },
  {
   "cell_type": "markdown",
   "metadata": {},
   "source": [
    "<span style=\"font-size:80%\">[문제2]<br><br></span>\n",
    "리스트 안에 있는 데이터를 오름차순으로 정렬하는 메소드를 모두 골라주세요\n",
    "\n",
    "1. upper()\n",
    "2. low()\n",
    "3. sort()\n",
    "4. hight()\n",
    "5. sorted()"
   ]
  },
  {
   "cell_type": "markdown",
   "metadata": {},
   "source": [
    "<span style=\"color:red\">답변</span>"
   ]
  },
  {
   "cell_type": "markdown",
   "metadata": {},
   "source": [
    "정답 3번, 5번!"
   ]
  },
  {
   "cell_type": "code",
   "execution_count": 13,
   "metadata": {},
   "outputs": [
    {
     "name": "stdout",
     "output_type": "stream",
     "text": [
      "[3, 10, 22, 34, 55, 66]\n"
     ]
    }
   ],
   "source": [
    "# x.sort()\n",
    "# print(x)\n",
    "print(sorted(x))\n",
    "\n",
    "#내림차순 reverse=True 사용"
   ]
  },
  {
   "cell_type": "markdown",
   "metadata": {},
   "source": [
    "----"
   ]
  },
  {
   "cell_type": "markdown",
   "metadata": {},
   "source": [
    "<span style=\"font-size:80%\">[문제3]<br><br></span>\n",
    "리스트 x가 있을 때 x.append(7)과 결과가 동일한 것을 모두 골라주세요\n",
    "\n",
    "\n",
    "1. x[-1:] = [7]\n",
    "2. x.insert(len(x), 7)\n",
    "3. x[0:] = 7\n",
    "4. x[len(x):] = 7\n",
    "5. x[len(x):] = [7]"
   ]
  },
  {
   "cell_type": "markdown",
   "metadata": {},
   "source": [
    "<span style=\"color:red\">답변</span>"
   ]
  },
  {
   "cell_type": "markdown",
   "metadata": {},
   "source": [
    "정답 2번, 5번!"
   ]
  },
  {
   "cell_type": "code",
   "execution_count": 41,
   "metadata": {},
   "outputs": [
    {
     "name": "stdout",
     "output_type": "stream",
     "text": [
      "6\n",
      "[34, 22, 10, 3, 55, 66, 7]\n"
     ]
    }
   ],
   "source": [
    "x = [34, 22, 10, 3, 55, 66]\n",
    "print(len(x))\n",
    "\n",
    "# x[-1:] = [7]  # 마지막 값을 7로 변경\n",
    "# print(x)\n",
    "# x.insert(len(x), 7)  # 마지막에 추가됨\n",
    "# print(x)\n",
    "# x[0:] = 7  #에러\n",
    "# x[len(x):] = 7   #에러\n",
    "x[len(x):] = [7]  # 마지막에 추가됨\n",
    "print(x)"
   ]
  },
  {
   "cell_type": "markdown",
   "metadata": {},
   "source": [
    "----"
   ]
  },
  {
   "cell_type": "markdown",
   "metadata": {},
   "source": [
    "<span style=\"font-size:80%\">[문제4]<br><br></span>\n",
    "리스트의 모든 요소를 삭제하는 메서드를 골라주세요\n",
    "\n",
    "1. remove\n",
    "2. clean\n",
    "3. pop\n",
    "4. clear\n",
    "5. reverse"
   ]
  },
  {
   "cell_type": "markdown",
   "metadata": {},
   "source": [
    "<span style=\"color:red\">답변</span>"
   ]
  },
  {
   "cell_type": "markdown",
   "metadata": {},
   "source": [
    "정답 4번 clear!!\n",
    "\n",
    "remove는 특정 요소 제거\n",
    "\n",
    "clean은 존재하지 않는 메소드\n",
    "\n",
    "pop은 마지막 요소 제거\n",
    "\n",
    "clear는 모든 요소 삭제!\n",
    "\n",
    "reverse는 요소 뒤집기"
   ]
  },
  {
   "cell_type": "markdown",
   "metadata": {},
   "source": [
    "----"
   ]
  },
  {
   "cell_type": "markdown",
   "metadata": {},
   "source": [
    "<span style=\"font-size:80%\">[문제5]<br><br></span>\n",
    "[3.1, 6.7, 4.4]가 들어있는 리스트의 값을 문자열로 변환 후 다시 리스트로 만들어 변수 x에 담는 코드를 골라주세요\n",
    "\n",
    "1. x = list(str, [3.1, 6.7, 4.4])\n",
    "2. x = map(str, [3.1, 6.7, 4.4])\n",
    "3. x = str([3.1, 6.7, 4.4])\n",
    "4. x = list(map(str, [3.1, 6.7, 4.4]))\n",
    "5. x = map(int, [3.1, 6.7, 4.4])"
   ]
  },
  {
   "cell_type": "markdown",
   "metadata": {},
   "source": [
    "<span style=\"color:red\">답변</span>"
   ]
  },
  {
   "cell_type": "markdown",
   "metadata": {},
   "source": [
    "정답 4번!"
   ]
  },
  {
   "cell_type": "code",
   "execution_count": 72,
   "metadata": {},
   "outputs": [
    {
     "name": "stdout",
     "output_type": "stream",
     "text": [
      "<map object at 0x0000012902764F40>\n",
      "['3.1', '6.7', '4.4']\n",
      "for문 사용: ['3.1', '6.7', '4.4']\n",
      "언패킹 연산자 * 사용: ['3.1', '6.7', '4.4']\n"
     ]
    }
   ],
   "source": [
    "x = map(str, [3.1, 6.7, 4.4])  #iterator 값 반환, 메모리 주소 표시\n",
    "print(x)    \n",
    "\n",
    "x = list(map(str, [3.1, 6.7, 4.4]))  #정상적으로 문자열로 바뀐 뒤 리스트로 저장됨\n",
    "print(x)\n",
    "\n",
    "# for문 이용\n",
    "x = map(str, [3.1, 6.7, 4.4])\n",
    "y = []\n",
    "for item in x:\n",
    "    y.append(item)\n",
    "print(\"for문 사용:\",y)\n",
    "\n",
    "# 언패킹 연산자 *사용\n",
    "x = map(str, [3.1, 6.7, 4.4])\n",
    "x = [*x]\n",
    "print(\"언패킹 연산자 * 사용:\", x)\n"
   ]
  },
  {
   "cell_type": "code",
   "execution_count": null,
   "metadata": {},
   "outputs": [],
   "source": []
  }
 ],
 "metadata": {
  "kernelspec": {
   "display_name": "Python 3",
   "language": "python",
   "name": "python3"
  },
  "language_info": {
   "codemirror_mode": {
    "name": "ipython",
    "version": 3
   },
   "file_extension": ".py",
   "mimetype": "text/x-python",
   "name": "python",
   "nbconvert_exporter": "python",
   "pygments_lexer": "ipython3",
   "version": "3.11.9"
  }
 },
 "nbformat": 4,
 "nbformat_minor": 2
}
