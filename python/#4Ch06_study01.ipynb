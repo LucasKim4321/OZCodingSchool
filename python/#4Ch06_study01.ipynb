{
 "cells": [
  {
   "cell_type": "code",
   "execution_count": 1,
   "metadata": {},
   "outputs": [
    {
     "name": "stdout",
     "output_type": "stream",
     "text": [
      "3\n",
      "2.0\n"
     ]
    }
   ],
   "source": [
    "#1. int(integer) : 정수\n",
    "#2. float(float) : 실수\n",
    "#3. str(string) : 문자\n",
    "#4. bool(bool, boolean) : c참 또는 거짓, true 또는 false, 1 또는 0\n",
    "\n",
    "#5. list\n",
    "#6. turple\n",
    "#7. dict\n",
    "#8. set\n",
    "\n",
    "print( 1 + 2 )\n",
    "print ( 4 / 2)"
   ]
  },
  {
   "cell_type": "code",
   "execution_count": 2,
   "metadata": {},
   "outputs": [
    {
     "name": "stdout",
     "output_type": "stream",
     "text": [
      "11.0\n"
     ]
    }
   ],
   "source": [
    "# 정수 : 1, 2, 3, 4, -1, -2, -3, -4\n",
    "# 실수 : 1.2, 3.3, 4.5, 4.0\n",
    "\n",
    "# 정수 + 실수 = 실수\n",
    "print( 9.0 + 2 )"
   ]
  },
  {
   "cell_type": "code",
   "execution_count": 3,
   "metadata": {},
   "outputs": [
    {
     "ename": "TypeError",
     "evalue": "can only concatenate str (not \"int\") to str",
     "output_type": "error",
     "traceback": [
      "\u001b[1;31m---------------------------------------------------------------------------\u001b[0m",
      "\u001b[1;31mTypeError\u001b[0m                                 Traceback (most recent call last)",
      "Cell \u001b[1;32mIn[3], line 4\u001b[0m\n\u001b[0;32m      1\u001b[0m \u001b[38;5;66;03m#box_num에 숫자만 넣자는 약속을 했어요. 누군가가 한글 표기법으로 숫자를 넣었을 때 에러 발생\u001b[39;00m\n\u001b[0;32m      3\u001b[0m box_num \u001b[38;5;241m=\u001b[39m \u001b[38;5;124m\"\u001b[39m\u001b[38;5;124m하나\u001b[39m\u001b[38;5;124m\"\u001b[39m\n\u001b[1;32m----> 4\u001b[0m \u001b[43mbox_num\u001b[49m\u001b[43m \u001b[49m\u001b[38;5;241;43m+\u001b[39;49m\u001b[38;5;241;43m=\u001b[39;49m\u001b[43m \u001b[49m\u001b[38;5;241;43m1\u001b[39;49m \n\u001b[0;32m      5\u001b[0m \u001b[38;5;28mprint\u001b[39m( box_num )\n",
      "\u001b[1;31mTypeError\u001b[0m: can only concatenate str (not \"int\") to str"
     ]
    }
   ],
   "source": [
    "#box_num에 숫자만 넣자는 약속을 했어요. 누군가가 한글 표기법으로 숫자를 넣었을 때 에러 발생\n",
    "\n",
    "box_num = \"하나\"\n",
    "box_num += 1 \n",
    "print( box_num )"
   ]
  },
  {
   "cell_type": "code",
   "execution_count": 12,
   "metadata": {},
   "outputs": [
    {
     "data": {
      "text/plain": [
       "str"
      ]
     },
     "execution_count": 12,
     "metadata": {},
     "output_type": "execute_result"
    }
   ],
   "source": [
    "type(box_num)  #타입표시"
   ]
  },
  {
   "cell_type": "code",
   "execution_count": 10,
   "metadata": {},
   "outputs": [
    {
     "data": {
      "text/plain": [
       "int"
      ]
     },
     "execution_count": 10,
     "metadata": {},
     "output_type": "execute_result"
    }
   ],
   "source": [
    "type (1)"
   ]
  },
  {
   "cell_type": "code",
   "execution_count": 11,
   "metadata": {},
   "outputs": [
    {
     "data": {
      "text/plain": [
       "float"
      ]
     },
     "execution_count": 11,
     "metadata": {},
     "output_type": "execute_result"
    }
   ],
   "source": [
    "type (1.2)"
   ]
  },
  {
   "cell_type": "code",
   "execution_count": 14,
   "metadata": {},
   "outputs": [
    {
     "data": {
      "text/plain": [
       "2.0"
      ]
     },
     "execution_count": 14,
     "metadata": {},
     "output_type": "execute_result"
    }
   ],
   "source": [
    "# 나누기 시 실수로 표현\n",
    "4 / 2"
   ]
  },
  {
   "cell_type": "markdown",
   "metadata": {},
   "source": [
    "### 형변환\n",
    "\n",
    "int(정수), float(실수)\n",
    "int ->float 예) 5 -> 5.0  float(5)"
   ]
  },
  {
   "cell_type": "code",
   "execution_count": 26,
   "metadata": {},
   "outputs": [
    {
     "name": "stdout",
     "output_type": "stream",
     "text": [
      "5.0\n",
      "5\n",
      "5\n"
     ]
    }
   ],
   "source": [
    "print(float(5))  #실수로 변환\n",
    "print(int(5.0))  #정수로 변환환\n",
    "print(int(5.045454))"
   ]
  },
  {
   "cell_type": "code",
   "execution_count": 27,
   "metadata": {},
   "outputs": [
    {
     "name": "stdout",
     "output_type": "stream",
     "text": [
      "['__abs__', '__add__', '__and__', '__bool__', '__ceil__', '__class__', '__delattr__', '__dir__', '__divmod__', '__doc__', '__eq__', '__float__', '__floor__', '__floordiv__', '__format__', '__ge__', '__getattribute__', '__getnewargs__', '__getstate__', '__gt__', '__hash__', '__index__', '__init__', '__init_subclass__', '__int__', '__invert__', '__le__', '__lshift__', '__lt__', '__mod__', '__mul__', '__ne__', '__neg__', '__new__', '__or__', '__pos__', '__pow__', '__radd__', '__rand__', '__rdivmod__', '__reduce__', '__reduce_ex__', '__repr__', '__rfloordiv__', '__rlshift__', '__rmod__', '__rmul__', '__ror__', '__round__', '__rpow__', '__rrshift__', '__rshift__', '__rsub__', '__rtruediv__', '__rxor__', '__setattr__', '__sizeof__', '__str__', '__sub__', '__subclasshook__', '__truediv__', '__trunc__', '__xor__', 'as_integer_ratio', 'bit_count', 'bit_length', 'conjugate', 'denominator', 'from_bytes', 'imag', 'numerator', 'real', 'to_bytes']\n"
     ]
    }
   ],
   "source": [
    "나이 = 10\n",
    "type(나이)\n",
    "#\n",
    "print(dir(나이))\n",
    "# print(dir(int))\n",
    "# print(dir(type))"
   ]
  },
  {
   "cell_type": "code",
   "execution_count": 40,
   "metadata": {},
   "outputs": [
    {
     "name": "stdout",
     "output_type": "stream",
     "text": [
      "4\n",
      "4\n",
      "0b1010\n",
      "-0b1010\n",
      "-0b1\n",
      "0b1\n",
      "0b0\n"
     ]
    }
   ],
   "source": [
    "#bit의 길이\n",
    "print(나이.bit_length()) #1010 4자리\n",
    "print((-10).bit_length()) #1010 4자리\n",
    "print(bin(나이))\n",
    "print(bin(-10))\n",
    "print(bin(-1))\n",
    "print(bin(1))\n",
    "print(bin(0))"
   ]
  },
  {
   "cell_type": "markdown",
   "metadata": {},
   "source": [
    "메소드 / 내장함수 / 함수\n",
    "\n",
    "구분          정의                          호출 방식               예시\n",
    "함수          독립적으로 정의된 코드 블록     함수명(인자)            add(3, 5)\n",
    "메소드        객체에 속한 함수               객체.메소드명(인자)     list.append(3)\n",
    "내장함수      파이썬에 내장된 함수            함수명(인자)           len([1, 2, 3])\n",
    "\n",
    "✅ 핵심 포인트\n",
    "함수: 독립적, 재사용 가능\n",
    "메소드: 특정 객체에 종속, 객체의 상태나 속성 조작\n",
    "내장함수: 파이썬이 제공하는 기본 함수, 별도 정의 불필요\n",
    "\n",
    "1️⃣ 함수 (Function)\n",
    "정의:\n",
    "\n",
    "특정 작업을 수행하는 코드 블록으로, 필요할 때마다 호출해서 사용할 수 있음.\n",
    "코드의 재사용성을 높이고, 가독성을 개선하며 유지보수를 용이하게 함.\n",
    "def 키워드를 사용해 정의함.\n",
    "특징:\n",
    "\n",
    "입력값(매개변수, Parameter)을 받을 수 있음.\n",
    "출력값(반환값, Return)을 반환할 수 있음.\n",
    "함수는 독립적으로 사용될 수 있음.\n",
    "예시:\n",
    "\n",
    "python\n",
    "코드 복사\n",
    "def add(a, b):  # 함수 정의\n",
    "    return a + b\n",
    "\n",
    "result = add(3, 5)  # 함수 호출\n",
    "print(result)  # 출력: 8\n",
    "\n",
    "2️⃣ 메소드 (Method)\n",
    "정의:\n",
    "\n",
    "특정 객체(object)에 종속된 함수.\n",
    "객체의 상태나 속성을 조작하거나 반환할 때 사용함.\n",
    "일반적으로 클래스 내부에서 정의되며, 객체를 통해 호출됨.\n",
    "첫 번째 매개변수로 self를 받아 객체 자신을 참조함.\n",
    "특징:\n",
    "\n",
    "특정 객체나 클래스에 종속됨.\n",
    "클래스나 객체에 대한 동작을 정의함.\n",
    ". 연산자를 통해 호출됨.\n",
    "예시:\n",
    "\n",
    "python\n",
    "코드 복사\n",
    "class Calculator:\n",
    "    def add(self, a, b):  # 메소드 정의\n",
    "        return a + b\n",
    "\n",
    "calc = Calculator()  # 객체 생성\n",
    "result = calc.add(3, 5)  # 메소드 호출\n",
    "print(result)  # 출력: 8\n",
    "\n",
    "3️⃣ 내장함수 (Built-in Function)\n",
    "정의:\n",
    "\n",
    "파이썬에서 기본적으로 제공하는 함수로, 별도의 정의 없이 바로 사용할 수 있음.\n",
    "Python 인터프리터에 미리 정의되어 있음.\n",
    "주요 내장함수 예시:\n",
    "\n",
    "함수\t설명\n",
    "print()\t화면에 출력\n",
    "len()\t길이를 반환\n",
    "type()\t데이터 타입을 반환\n",
    "int()\t문자열이나 실수를 정수로 변환\n",
    "str()\t데이터를 문자열로 변환\n",
    "max()\t최댓값 반환\n",
    "min()\t최솟값 반환\n",
    "sum()\t합계 반환\n",
    "range()\t연속된 숫자 범위 생성\n",
    "예시:\n",
    "\n",
    "python\n",
    "코드 복사\n",
    "numbers = [1, 2, 3, 4, 5]\n",
    "\n",
    "# 내장함수 사용\n",
    "print(len(numbers))  # 출력: 5\n",
    "print(max(numbers))  # 출력: 5\n",
    "print(sum(numbers))  # 출력: 15\n"
   ]
  }
 ],
 "metadata": {
  "kernelspec": {
   "display_name": "Python 3",
   "language": "python",
   "name": "python3"
  },
  "language_info": {
   "codemirror_mode": {
    "name": "ipython",
    "version": 3
   },
   "file_extension": ".py",
   "mimetype": "text/x-python",
   "name": "python",
   "nbconvert_exporter": "python",
   "pygments_lexer": "ipython3",
   "version": "3.11.9"
  }
 },
 "nbformat": 4,
 "nbformat_minor": 2
}
