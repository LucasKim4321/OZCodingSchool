{
 "cells": [
  {
   "cell_type": "markdown",
   "metadata": {},
   "source": [
    "<span style=\"font-size:100%\">\n",
    "\n",
    "수업은 모두 열심히 들으셨나요?\n",
    "\n",
    "간혹 강의에서 언급되지 않은 내용이 문제로 나올 수 있습니다.<br>\n",
    "그럴땐 강의 내용 외 문제는 구글링을 통해 해결해주세요<br></span>\n",
    "<span style=\"font-size:80%\">\n",
    "(구글링 또한 개발자가 갖쳐야할 역량 중에 하나랍니다 😊)\n",
    "</span>\n",
    "\n",
    "---"
   ]
  },
  {
   "cell_type": "markdown",
   "metadata": {},
   "source": [
    "<span style=\"font-size:80%\">[문제1]<br><br></span>\n",
    "```인터프리트 방식에 대해 설명하고 2개 이상의 장점을 설명해주세요```"
   ]
  },
  {
   "cell_type": "markdown",
   "metadata": {},
   "source": [
    "<span style=\"color:red\">답변</span>"
   ]
  },
  {
   "cell_type": "markdown",
   "metadata": {},
   "source": [
    "인터프리터 방식은 한줄씩 해석해서 실행하는 언어로. 번역 속도가 빠르지만 컴파일 방식에 비해 실행 속도가 느림\n",
    "코드 수정이 용이. 개발 속도가 빠름.\n",
    "인터프리터 언어는 실행 전에 기계어로 번역하지 않기 때문에 특정 운영체제나 하드웨어에 의존하지 않습니다."
   ]
  },
  {
   "cell_type": "markdown",
   "metadata": {},
   "source": [
    "---"
   ]
  },
  {
   "cell_type": "markdown",
   "metadata": {},
   "source": [
    "<span style=\"font-size:80%\">[문제2]<br><br></span>\n",
    "```동적 타입 방식의 장점과 단점을 간략히 설명해주세요```"
   ]
  },
  {
   "cell_type": "markdown",
   "metadata": {},
   "source": [
    "<span style=\"color:red\">답변</span>"
   ]
  },
  {
   "cell_type": "markdown",
   "metadata": {},
   "source": [
    "코드가 간결하고 타입에 제한이 없기 때문에 유연성이 높고 효율적임. 단점은 코드가 간결해 타입에 의한 문제 발생 시 해결하기 어려움."
   ]
  },
  {
   "cell_type": "markdown",
   "metadata": {},
   "source": [
    "---"
   ]
  },
  {
   "cell_type": "markdown",
   "metadata": {},
   "source": [
    "<span style=\"font-size:80%\">[문제3]<br><br></span>\n",
    "```Python으로 정적타입 방식의 코드를 작성할 수 있는 방법을 구글링을 통해 검색 후 설명해주세요```"
   ]
  },
  {
   "cell_type": "markdown",
   "metadata": {},
   "source": [
    "<span style=\"color:red\">답변</span>"
   ]
  },
  {
   "cell_type": "markdown",
   "metadata": {},
   "source": [
    "1. Python 3.5부터 **타입 힌트(Type Hints)**를 사용하여 변수와 함수의 타입을 명시할 수 있습니다.\n",
    "2. Python 인터프리터는 런타임에만 오류를 확인하지만, mypy는 코드 작성 시 타입을 정적으로 검사합니다.\n",
    "3. Python의 @dataclass는 정적 타입 언어에서 클래스의 속성과 타입을 명확하게 정의할 수 있습니다.\n",
    "4. Python에는 상수를 정의하는 키워드가 없지만, 명명 규칙과 **typing.Final**로 상수를 표현할 수 있습니다.\n",
    "5. Pydantic은 정적 타입 검증을 더 강력하게 지원합니다."
   ]
  },
  {
   "cell_type": "markdown",
   "metadata": {},
   "source": [
    "---"
   ]
  },
  {
   "cell_type": "markdown",
   "metadata": {},
   "source": [
    "<span style=\"font-size:80%\">[문제4]<br><br></span>\n",
    "```프로세스와 스레드의 차이점을 설명해주세요```"
   ]
  },
  {
   "cell_type": "markdown",
   "metadata": {},
   "source": [
    "<span style=\"color:red\">답변</span>"
   ]
  },
  {
   "cell_type": "markdown",
   "metadata": {},
   "source": [
    "프로세스와 스레드는 운영체제에서 프로그램을 실행하는 기본 단위입니다. 두 개념은 비슷해 보일 수 있지만, 중요한 차이점이 있습니다.\n",
    "\n",
    "📌 프로세스(Process)란?\n",
    "\n",
    "프로세스는 실행 중인 프로그램의 인스턴스입니다.\n",
    "각 프로세스는 독립적인 메모리 공간(코드, 데이터, 스택, 힙)을 할당받습니다.\n",
    "하나의 프로세스는 여러 개의 스레드를 가질 수 있습니다.\n",
    "\n",
    "예시:\n",
    "웹 브라우저를 실행하면 하나의 프로세스가 생성됩니다.\n",
    "브라우저 내에서 여러 탭은 각기 다른 스레드일 수 있습니다.\n",
    "\n",
    "\n",
    "📌 스레드(Thread)란?\n",
    "\n",
    "스레드는 프로세스 내에서 실행되는 작업의 단위입니다.\n",
    "스레드는 프로세스의 메모리 공간을 공유합니다.\n",
    "각 스레드는 **독립적인 스택(Stack)**을 가지고 있습니다.\n",
    "\n",
    "예시:\n",
    "웹 브라우저 탭마다 하나의 스레드가 할당될 수 있습니다.\n",
    "음악을 재생하면서 페이지를 로드하는 작업은 별도의 스레드에서 수행됩니다."
   ]
  },
  {
   "cell_type": "markdown",
   "metadata": {},
   "source": [
    "---"
   ]
  },
  {
   "cell_type": "markdown",
   "metadata": {},
   "source": [
    "<span style=\"font-size:80%\">[문제5]<br><br></span>\n",
    "```Python 2버전대와 3버전대의 차이를 성명해주세요```"
   ]
  },
  {
   "cell_type": "markdown",
   "metadata": {},
   "source": [
    "<span style=\"color:red\">답변</span>"
   ]
  },
  {
   "cell_type": "markdown",
   "metadata": {},
   "source": [
    "\n",
    "비교 항목\t            Python 2.x\t                         Python 3.x\n",
    "최신 지원\t        2020년 1월 공식 지원 종료\t        현재 활발히 지원 중\n",
    "문법 호환성\t        Python 3와 호환되지 않음\t        Python 2와 호환되지 않음\n",
    "유니코드\t        str는 ASCII, unicode 필요\t       모든 문자열은 str이며 유니코드 지원\n",
    "출력문(print)\t    print는 문법이 아님\t                print() 함수로 사용\n",
    "나눗셈(/)\t        int 간 나눗셈은 정수 반환\t        /는 항상 float 반환\n",
    "입력(input)\t        raw_input() 사용\t               input() 사용\n",
    "예외 처리\t        as 없이 예외 처리\t                as 키워드 필수\n",
    "range()\t            range()는 리스트 반환\t           range()는 이터레이터 반환\n",
    "반복자(iterator)\txrange() 존재\t                   xrange() 제거"
   ]
  },
  {
   "cell_type": "markdown",
   "metadata": {},
   "source": [
    "---"
   ]
  },
  {
   "cell_type": "markdown",
   "metadata": {},
   "source": [
    "<span style=\"font-size:80%\">[문제6]<br><br></span>\n",
    "```Python에서 메모리 관리는 어떻게 이루어지는지 설명해주세요```"
   ]
  },
  {
   "cell_type": "markdown",
   "metadata": {},
   "source": [
    "<span style=\"color:red\">답변</span>"
   ]
  },
  {
   "cell_type": "markdown",
   "metadata": {},
   "source": [
    "Python은 **동적 메모리 관리(Dynamic Memory Management)**를 사용하여 프로그램 실행 중 필요한 메모리를 자동으로 할당하고 해제합니다. Python의 메모리 관리는 주로 **Garbage Collection (가비지 컬렉션)**과 **참조 카운팅(Reference Counting)**에 의해 이루어집니다.\n",
    "\n",
    "Python의 메모리 구조는 크게 다섯 가지 영역으로 나눌 수 있습니다.\n",
    "\n",
    " 1. 메모리 구조\n",
    "Python의 메모리 구조는 크게 다섯 가지 영역으로 나눌 수 있습니다.\n",
    "\n",
    "📊 Python 메모리 구조\n",
    "코드 영역 (Code/Executable Space)\n",
    "소스 코드가 실행 가능한 형태로 저장됩니다.\n",
    "함수와 클래스 정의가 여기에 저장됩니다.\n",
    "\n",
    "힙 영역 (Heap Space)\n",
    "객체, 리스트, 딕셔너리 등 동적으로 할당되는 메모리입니다.\n",
    "개발자가 명시적으로 해제할 필요가 없으며 가비지 컬렉터가 관리합니다.\n",
    "\n",
    "스택 영역 (Stack Space)\n",
    "함수 호출과 지역 변수 저장을 위한 메모리입니다.\n",
    "함수가 호출되면 스택에 메모리가 쌓이고, 함수가 종료되면 제거됩니다.\n",
    "\n",
    "정적 영역 (Static/Global Space)\n",
    "전역 변수와 정적 변수 등이 저장됩니다.\n",
    "프로그램 종료 시까지 유지됩니다.\n",
    "\n",
    "캐시 영역 (Object Cache)\n",
    "자주 사용되는 객체(예: 작은 정수, 짧은 문자열)를 캐싱합니다.\n",
    "메모리 할당 비용을 줄입니다.\n",
    "\n",
    "2. 메모리 관리 기법\n",
    "\n",
    "📌 1. 참조 카운팅 (Reference Counting)\n",
    "설명: Python은 각 객체에 대해 **참조 횟수(reference count)**를 관리합니다.\n",
    "작동 방식:\n",
    "객체가 생성되면 참조 카운트가 1 증가합니다.\n",
    "다른 변수에 할당되면 카운트가 증가합니다.\n",
    "참조가 사라지거나 del로 객체가 제거되면 카운트가 감소합니다.\n",
    "참조 카운트가 0이 되면 객체는 즉시 메모리에서 해제됩니다.\n",
    "\n",
    "장점:\n",
    "즉각적인 메모리 해제 가능\n",
    "단점:\n",
    "순환 참조(Circular Reference) 문제 발생 가능\n",
    "\n",
    "📌 2. 가비지 컬렉션 (Garbage Collection, GC)\n",
    "설명: Python은 gc 모듈을 통해 가비지 컬렉션을 수행합니다.\n",
    "주요 역할: 순환 참조 문제 해결\n",
    "작동 방식:\n",
    "객체 그래프를 탐색해 **순환 참조(Circular Reference)**가 있는 객체를 찾아 제거합니다.\n",
    "Python의 GC는 주기적으로 실행됩니다.\n",
    "\n",
    "장점:\n",
    "순환 참조 문제 해결\n",
    "자동으로 메모리 해제\n",
    "단점:\n",
    "오버헤드가 발생할 수 있음\n",
    "예측 불가능한 타이밍에 작동할 수 있음\n",
    "\n",
    "📌 3. 메모리 풀 (Memory Pool)\n",
    "Python은 메모리 풀링(Memory Pooling) 방식을 사용합니다.\n",
    "작동 방식: 작은 객체(256바이트 이하)는 **메모리 풀(PyMalloc)**에 저장됩니다.\n",
    "효과: 메모리 할당과 해제 비용 절감"
   ]
  }
 ],
 "metadata": {
  "language_info": {
   "name": "python"
  }
 },
 "nbformat": 4,
 "nbformat_minor": 2
}
