{
 "cells": [
  {
   "cell_type": "markdown",
   "metadata": {},
   "source": [
    "<span style=\"font-size:100%\">\n",
    "\n",
    "수업은 모두 열심히 들으셨나요?\n",
    "\n",
    "간혹 강의에서 언급되지 않은 내용이 문제로 나올 수 있습니다.<br>\n",
    "그럴땐 강의 내용 외 문제는 구글링을 통해 해결해주세요<br></span>\n",
    "<span style=\"font-size:80%\">\n",
    "(구글링 또한 개발자가 갖쳐야할 역량 중에 하나랍니다 😊)\n",
    "</span>\n",
    "\n",
    "---"
   ]
  },
  {
   "cell_type": "markdown",
   "metadata": {},
   "source": [
    "<span style=\"font-size:80%\">[문제1]<br><br></span>\n",
    "```주로 작성 중인 코드의 끝을 알리는 기호로 사용되며 파이썬에서 한 줄에 작성된 서로 다른 코드를 구분 지을 때 사용할 수 있는 기호를 골라주세요```\n",
    "\n",
    "1. ' , ' (쉼표)\n",
    "2. ' + ' (더하기 기호)\n",
    "3. ' ; ' (세미콜론)\n",
    "4. ' / ' (슬래시)"
   ]
  },
  {
   "cell_type": "markdown",
   "metadata": {},
   "source": [
    "<span style=\"color:red\">답변</span> :"
   ]
  },
  {
   "cell_type": "markdown",
   "metadata": {},
   "source": [
    "정답 3번. ';'(세미콜론론)"
   ]
  },
  {
   "cell_type": "code",
   "execution_count": 3,
   "metadata": {},
   "outputs": [
    {
     "name": "stdout",
     "output_type": "stream",
     "text": [
      "안녕하세요\n",
      "반갑습니다\n"
     ]
    }
   ],
   "source": [
    "print(\"안녕하세요\");print(\"반갑습니다\")"
   ]
  },
  {
   "cell_type": "markdown",
   "metadata": {},
   "source": [
    "----"
   ]
  },
  {
   "cell_type": "markdown",
   "metadata": {},
   "source": [
    "<span style=\"font-size:80%\">[문제2]<br><br></span>\n",
    "```Python의 PEP 8은 무엇인지 설명하고 PEP 8의 핵심적인 규칙을 1개 이상을 설명해주세요```"
   ]
  },
  {
   "cell_type": "markdown",
   "metadata": {},
   "source": [
    "<span style=\"color:red\">답변</span>"
   ]
  },
  {
   "cell_type": "markdown",
   "metadata": {},
   "source": [
    "PEP 8은 Python 코드 스타일 가이드라인입니다.\n",
    "\n",
    "Python 코드가 일관성 있고 가독성 높게 작성되도록 지침을 제공합니다.\n",
    "Guido van Rossum(Python의 창시자)과 Python 개발자들이 작성한 공식 문서입니다.\n",
    "목적: Python 코드의 일관성 유지 및 가독성 향상.\n",
    "\n",
    " 1. 들여쓰기 (Indentation)\n",
    "공식 권장: 4개의 공백을 사용하여 들여쓰기 합니다.\n",
    "탭(Tab) 사용 금지: 공백과 탭을 혼합해서 사용하지 않습니다.\n",
    "\n",
    "2. 줄 길이 (Line Length)\n",
    "한 줄의 최대 길이는 79자로 제한합니다.\n",
    "긴 줄은 \\ 또는 괄호로 나누어 작성합니다.\n",
    "\n",
    "3. 공백 (Whitespace)\n",
    "연산자 양쪽에 공백을 넣습니다.\n",
    "괄호 안쪽에는 공백을 넣지 않습니다.\n",
    "\n",
    "4. 함수와 클래스 정의 사이 공백\n",
    "클래스 사이에는 두 줄의 공백을 둡니다.\n",
    "함수 사이에는 한 줄의 공백을 둡니다.\n",
    "\n",
    "5. 주석 (Comments)\n",
    "주석은 코드의 목적을 설명해야 합니다.\n",
    "주석은 완전한 문장으로 작성합니다.\n",
    "주석 앞에는 공백을 넣습니다.\n",
    "\n",
    "6. 모듈 임포트 (Imports)\n",
    "한 줄에 하나의 모듈만 임포트합니다.\n",
    "임포트 순서: 표준 라이브러리 → 서드파티 라이브러리 → 로컬 라이브러리\n",
    "\n",
    "7. 네이밍 컨벤션 (Naming Conventions)\n",
    "변수, 함수: snake_case (예: my_variable)\n",
    "클래스: PascalCase (예: MyClass)\n",
    "상수: UPPER_CASE (예: MAX_LIMIT)"
   ]
  },
  {
   "cell_type": "markdown",
   "metadata": {},
   "source": [
    "----"
   ]
  },
  {
   "cell_type": "markdown",
   "metadata": {},
   "source": [
    "<span style=\"font-size:80%\">[문제3]<br><br></span>\n",
    "```Python에서 \"#\"이 의마하는 것은 무엇인지 설명해주세요```"
   ]
  },
  {
   "cell_type": "markdown",
   "metadata": {},
   "source": [
    "<span style=\"color:red\">답변</span>"
   ]
  },
  {
   "cell_type": "markdown",
   "metadata": {},
   "source": [
    "한줄 주석을 만들 때 사용용"
   ]
  },
  {
   "cell_type": "markdown",
   "metadata": {},
   "source": [
    "----"
   ]
  },
  {
   "cell_type": "markdown",
   "metadata": {},
   "source": [
    "<span style=\"font-size:80%\">[문제4]<br><br></span>\n",
    "```Python의 들여쓰기 장점과 기능에 대해 설명해주세요```"
   ]
  },
  {
   "cell_type": "markdown",
   "metadata": {},
   "source": [
    "<span style=\"color:red\">답변</span>"
   ]
  },
  {
   "cell_type": "markdown",
   "metadata": {},
   "source": [
    "가독성 상승.\n",
    "python에서 들여쓰기는 단순한 가독성 상승용이 아닌 문법으로 사용."
   ]
  },
  {
   "cell_type": "markdown",
   "metadata": {},
   "source": [
    "----"
   ]
  },
  {
   "cell_type": "markdown",
   "metadata": {},
   "source": [
    "<span style=\"font-size:80%\">[문제5]<br><br></span>\n",
    "```print( )문의 기능 및 특징에 대해 설명해주세요```"
   ]
  },
  {
   "cell_type": "markdown",
   "metadata": {},
   "source": [
    "<span style=\"color:red\">답변</span>"
   ]
  },
  {
   "cell_type": "markdown",
   "metadata": {},
   "source": [
    "print()의 기능은 ()안의 문자,숫자,변수를 단순 출력하거나 연산 후 출력\n",
    "\n",
    "✅ 1. print() 함수의 기본 기능\n",
    "출력: 데이터를 화면에 출력합니다.\n",
    "여러 항목 출력: 여러 값을 ,로 구분해 한 번에 출력할 수 있습니다.\n",
    "개행 문자: 기본적으로 출력 후 줄바꿈(\\n)이 추가됩니다.\n",
    "형식 지정: sep와 end 매개변수를 사용해 출력 형식을 조정할 수 있습니다.\n",
    "\n",
    "✅ 3. 다양한 데이터 타입 출력\n",
    "print()는 다양한 데이터 타입을 출력할 수 있습니다.\n",
    "문자열(str), 정수(int), 실수(float), 리스트(list) 등 모두 가능합니다.\n",
    "\n",
    "✅ 4. 문자열 포매팅과 함께 사용\n",
    "print()는 문자열 포매팅을 사용해 값을 포맷해서 출력할 수 있습니다.\n",
    "\n",
    "✅ 5. print() 함수의 특징 요약\n",
    "다양한 데이터 출력: 문자열, 숫자, 리스트, 객체 등\n",
    "여러 값 출력: ,로 여러 값을 나열해 출력 가능\n",
    "포맷팅 지원: f-string, format() 등 사용 가능\n",
    "출력 제어: sep, end, file, flush 매개변수로 출력 제어\n",
    "자동 개행: 기본적으로 줄바꿈(\\n)을 포함"
   ]
  },
  {
   "cell_type": "markdown",
   "metadata": {},
   "source": []
  }
 ],
 "metadata": {
  "kernelspec": {
   "display_name": "Python 3",
   "language": "python",
   "name": "python3"
  },
  "language_info": {
   "codemirror_mode": {
    "name": "ipython",
    "version": 3
   },
   "file_extension": ".py",
   "mimetype": "text/x-python",
   "name": "python",
   "nbconvert_exporter": "python",
   "pygments_lexer": "ipython3",
   "version": "3.11.9"
  }
 },
 "nbformat": 4,
 "nbformat_minor": 2
}
