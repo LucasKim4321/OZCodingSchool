{
 "cells": [
  {
   "cell_type": "code",
   "execution_count": 10,
   "metadata": {},
   "outputs": [
    {
     "name": "stdout",
     "output_type": "stream",
     "text": [
      "10\n",
      "<class 'str'>\n",
      "https://search.naver.com/search.naver?ssc=tab.blog.all&sm=tab_jum&query=시그니엘\n"
     ]
    },
    {
     "data": {
      "text/plain": [
       "str"
      ]
     },
     "execution_count": 10,
     "metadata": {},
     "output_type": "execute_result"
    }
   ],
   "source": [
    "a = str(10)\n",
    "print(a)\n",
    "print(type(a))\n",
    "\n",
    "# https://search.naver.com/search.naver?ssc=tab.blog.all&sm=tab_jum&query=손흥민\n",
    "\n",
    "keyword = \"시그니엘\"\n",
    "# keyword = input(\"검색어를 입력하세요\")\n",
    "\n",
    "url = \"https://search.naver.com/search.naver?ssc=tab.blog.all&sm=tab_jum&query=\"\n",
    "\n",
    "url += keyword\n",
    "\n",
    "print(url)\n",
    "\n",
    "# 시퀀스 자료형\n",
    "# 리스트(List)  사용하기 쉽고, 여러개의 데이터 저장 가능\n",
    "# 튜플(Tuple)  불변형!!\n",
    "# 문자열(String)\n",
    "# range\n",
    "\n",
    "a = ''\n",
    "type(a)"
   ]
  }
 ],
 "metadata": {
  "kernelspec": {
   "display_name": "Python 3",
   "language": "python",
   "name": "python3"
  },
  "language_info": {
   "codemirror_mode": {
    "name": "ipython",
    "version": 3
   },
   "file_extension": ".py",
   "mimetype": "text/x-python",
   "name": "python",
   "nbconvert_exporter": "python",
   "pygments_lexer": "ipython3",
   "version": "3.11.9"
  }
 },
 "nbformat": 4,
 "nbformat_minor": 2
}
