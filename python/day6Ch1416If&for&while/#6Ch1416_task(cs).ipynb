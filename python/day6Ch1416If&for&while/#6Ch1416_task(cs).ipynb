{
 "cells": [
  {
   "cell_type": "markdown",
   "metadata": {
    "id": "WXEwMsfUct7U"
   },
   "source": [
    "컴퓨터 기초 지식을 의미하는 CS(Computer science)는<br>\n",
    "코딩 테스트와 함께 기술 면접에서 지원자에게 필수적으로 요구합니다.<br>\n",
    "\n",
    "수업 내용 중 기술 면접에 자주 나오는 질문 3가지와 기본적으로 알아야 할 내용 과제로 선정했습니다.<br>\n",
    "\n",
    "관련 내용에 대해서는 구글링 또는 관련 서적을 통해 상세히 공부하시고<br>\n",
    "답변은 최대한 핵심만 담아 간결하게 작성해주세요<br>\n",
    "\n",
    "기술 블로그를 운영 중이신 경우<br>\n",
    "답변 내용을 기술 블로그에 작성하신 후 링크를 답변에 남겨주셔도 됩니다.<br>"
   ]
  },
  {
   "cell_type": "markdown",
   "metadata": {
    "id": "qoyC9wF-3hvs"
   },
   "source": [
    "-----"
   ]
  },
  {
   "cell_type": "markdown",
   "metadata": {
    "id": "rAD_O3Gmc_43"
   },
   "source": [
    "[문제1]\n",
    "\n",
    "파이썬 2.7 버전과 파이썬 3에서 range 차이를 설명해주세요"
   ]
  },
  {
   "cell_type": "markdown",
   "metadata": {},
   "source": [
    "## 파이썬 2.7 ver\n",
    "* 'range' 함수는 실제 리스트를 생성한다.\n",
    "```\n",
    "range(5)\n",
    "'[0, 1, 2, 3, 4]' // 리스트 생성됨 \n",
    "```\n",
    "* 이와 같은 리스트가 생성이 되는데 큰 범위로 갈 수록 메모리 사용량이 높기에 주의해야 한다.\n",
    "\n",
    "## 파이썬 3 ver\n",
    "* 3버전 'range'함수는 이터레이터(iterator)를 반환한다. \n",
    "* 파이썬에서 반복을 지원하기 위한 객체이며 내부적으로 '_ _ iter _ ()' 와 ' _ next _ _()' 메서드를 가지고 있다. 주로 for루프 와 같은 반복문에서 사용하며, 요소를 필요할 때마다 생성하므로, 메모리를 효율적으로 사용할 수 있다.\n",
    "* 'range' 함수를 호출해도 결과를 바로 리스트에 반환하지 않으므로, 필요한 경우에만 리스트로 변환하여 사용할수 있다."
   ]
  },
  {
   "cell_type": "markdown",
   "metadata": {},
   "source": [
    "---"
   ]
  },
  {
   "cell_type": "markdown",
   "metadata": {
    "id": "3uK_auXYdgk2"
   },
   "source": [
    "[문제2]\n",
    "\n",
    "Python의 얕은 복사와 깊은 복사에 대해서 설명하세요"
   ]
  },
  {
   "cell_type": "markdown",
   "metadata": {
    "id": "9kvBxa6PdhgA"
   },
   "source": [
    "## 파이썬에서의 복사는 '얕은 복사', '깊은 복사' 두 가지 방식으로 이루어진다.\n",
    "\n",
    "### 얕은 복사 :\n",
    "```\n",
    "새로_가져올_객체 = copy.copy(복사할_객체명)\n",
    "```\n",
    "\n",
    "* (1) 얕은 복사는 원본 객체의 최상위 레벨만 복사한다. 한마디로 겉만 복사하는 형식이다.\n",
    "* (2) 새로운 리스트를 만들지만, 그 안의 요소들은 원본 리스트와 같은 객체를 참조한다.\n",
    "\n",
    "### 깊은 복사 :\n",
    "\n",
    "```\n",
    "새로_가져올_객체 = copy.deepcopy(복사할_객체명)\n",
    "```\n",
    "* (1) 깊은 복사는 원본 객체의 모든 레벨을 재귀적으로 복사한다. 즉, 원본 객체와 완전히 다른 새로운 복사본을 만든다.\n",
    "* (2) 깊은 복사는 주로 중첩된 리스트나 딕셔너리와 같이 내부 객체까지 모두 복사해야 할 때 사용된다.\n"
   ]
  }
 ],
 "metadata": {
  "colab": {
   "authorship_tag": "ABX9TyP7YKA5FdtGggYfD74V7SMJ",
   "provenance": []
  },
  "kernelspec": {
   "display_name": "Python 3",
   "name": "python3"
  },
  "language_info": {
   "name": "python"
  }
 },
 "nbformat": 4,
 "nbformat_minor": 0
}
