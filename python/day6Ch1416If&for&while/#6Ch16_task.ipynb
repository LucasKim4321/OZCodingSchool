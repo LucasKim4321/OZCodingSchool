{
 "cells": [
  {
   "cell_type": "markdown",
   "metadata": {},
   "source": [
    "<span style=\"font-size:100%\">\n",
    "\n",
    "수업은 모두 열심히 들으셨나요?\n",
    "\n",
    "간혹 강의에서 언급되지 않은 내용이 문제로 나올 수 있습니다.<br>\n",
    "그럴땐 강의 내용 외 문제는 구글링을 통해 해결해주세요<br></span>\n",
    "<span style=\"font-size:80%\">\n",
    "(구글링 또한 개발자가 갖쳐야할 역량 중에 하나랍니다 😊)\n",
    "</span>\n",
    "\n",
    "---"
   ]
  },
  {
   "cell_type": "markdown",
   "metadata": {},
   "source": [
    "<span style=\"font-size:80%\">[문제1]<br><br></span>\n",
    "아래 코드의 올바른 실행 결과를 골라주세요\n",
    "```\n",
    "i = 10\n",
    "\n",
    "while i < 19:\n",
    "    print(i, end=' ')\n",
    "    i += 2\n",
    "```\n",
    "\n",
    "1. 10, 11, 12, 13, 14, 15, 16, 17, 18, 19\n",
    "2. 10 11 12 13 14 15 16 17 18\n",
    "3. 10 12 14 16 18 19\n",
    "4. 10 12 14 16 18\n",
    "5. 10 12 14 16"
   ]
  },
  {
   "cell_type": "markdown",
   "metadata": {},
   "source": [
    "<span style=\"color:red\">답변</span>"
   ]
  },
  {
   "cell_type": "markdown",
   "metadata": {},
   "source": [
    "정답 4번!!"
   ]
  },
  {
   "cell_type": "markdown",
   "metadata": {},
   "source": [
    "----"
   ]
  },
  {
   "cell_type": "markdown",
   "metadata": {},
   "source": [
    "<span style=\"font-size:80%\">[문제2]<br><br></span>\n",
    "다음 중 while 반복문에 대한 설명으로 잘못된 것을 모두 골라주세요\n",
    "\n",
    "1. while 반복문에는 조건식 또는 값을 지정하면 된다.\n",
    "2. while 반복문은 조건식의 결과가 True이면 반복을 끝낸다.\n",
    "3. while 반복문은 반복 횟수가 정해져 있을 때만 사용할 수 있다.\n",
    "4. while 반복문의 다음 줄은 반드시 들여쓰기를 해야 한다.\n",
    "5. while 반복문의 조건식에 True를 지정하면 무한 루프가 된다."
   ]
  },
  {
   "cell_type": "markdown",
   "metadata": {},
   "source": [
    "<span style=\"color:red\">답변</span>"
   ]
  },
  {
   "cell_type": "markdown",
   "metadata": {},
   "source": [
    "정답 2번, 3번!!"
   ]
  },
  {
   "cell_type": "markdown",
   "metadata": {},
   "source": [
    "----"
   ]
  },
  {
   "cell_type": "markdown",
   "metadata": {},
   "source": [
    "<span style=\"font-size:80%\">[문제3]<br><br></span>\n",
    "while문을 사용하여, 100 이상의 자연수 중 가장 작은 23의 배수를 츨력하는 코드를 작성해주세요"
   ]
  },
  {
   "cell_type": "markdown",
   "metadata": {},
   "source": [
    "<span style=\"color:red\">답변</span>"
   ]
  },
  {
   "cell_type": "code",
   "execution_count": 6,
   "metadata": {},
   "outputs": [
    {
     "name": "stdout",
     "output_type": "stream",
     "text": [
      "정답: 115\n"
     ]
    }
   ],
   "source": [
    "#코딩으로 똑똑하게 푼거 같지만 무식하게 반복문으로 푸는 방법 = 리소스 낭비\n",
    "\n",
    "i = 100\n",
    "while True:\n",
    "    if i % 23 == 0:\n",
    "        print(\"정답:\",i)\n",
    "        break\n",
    "    i += 1"
   ]
  },
  {
   "cell_type": "code",
   "execution_count": 5,
   "metadata": {},
   "outputs": [
    {
     "name": "stdout",
     "output_type": "stream",
     "text": [
      "100 이상의 자연수 중 가장 작은 23의 배수: 115\n"
     ]
    }
   ],
   "source": [
    "# 수학 계산식으로 반복하지 않고 찾아내는 식\n",
    "\n",
    "number = 100\n",
    "number += (23 - (number % 23)) if number % 23 != 0 else 0\n",
    "\n",
    "print(f\"100 이상의 자연수 중 가장 작은 23의 배수: {number}\")\n",
    "\n",
    "# 어떤 숫자 n가 주어질 때, k의 배수로 올림하려면:\n",
    "\n",
    "# n+(k−(n%k)) (if 나머지가 0이 아닐 때)\n",
    "# 예시:\n",
    "\n",
    "# n = 100, k = 23\n",
    "# 나머지: 100 % 23 = 8\n",
    "# 23 - 8 = 15\n",
    "# 100 + 15 = 115\n",
    "\n",
    "# 100을 23으로 나눴을 때 8이 남으니까 8이 남지 않도록 a만큼 더해서 23으로 나누어 떨어지게하는 숫자\n",
    "# '8 + a = 23' 식을 만족하는 a의 값을 더함! 'a = 23 - 8'  =>  'a = 15'\n",
    "# 결과적으로 15를 더하면 23으로 나누어 떨어짐!"
   ]
  },
  {
   "cell_type": "markdown",
   "metadata": {},
   "source": [
    "----"
   ]
  }
 ],
 "metadata": {
  "kernelspec": {
   "display_name": "Python 3",
   "language": "python",
   "name": "python3"
  },
  "language_info": {
   "codemirror_mode": {
    "name": "ipython",
    "version": 3
   },
   "file_extension": ".py",
   "mimetype": "text/x-python",
   "name": "python",
   "nbconvert_exporter": "python",
   "pygments_lexer": "ipython3",
   "version": "3.11.9"
  }
 },
 "nbformat": 4,
 "nbformat_minor": 2
}
