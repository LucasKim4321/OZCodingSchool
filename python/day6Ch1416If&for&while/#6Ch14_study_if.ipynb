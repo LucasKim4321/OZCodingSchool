{
 "cells": [
  {
   "cell_type": "markdown",
   "metadata": {},
   "source": [
    "### if문이란?\n",
    "* 특정 조건일 때 코드를 실행하는 문법\n",
    "\n",
    "```\n",
    "if 파이썬을 정복한다면:\n",
    "    개발자로 취직할 수 있다.\n",
    "```/.\n",
    "\n",
    "if 문법과 주의사항(콤마, 들여쓰기)\n",
    "\n",
    "if(조건식):\n",
    "    실행문장\n",
    "\n",
    "if 괄호 없이 조건식:\n",
    "    실행문장\n",
    "    \n",
    "else:\n",
    "    실행문장\n",
    "\n"
   ]
  },
  {
   "cell_type": "code",
   "execution_count": 4,
   "metadata": {},
   "outputs": [
    {
     "name": "stdout",
     "output_type": "stream",
     "text": [
      "개당 1800원 입니다!\n"
     ]
    }
   ],
   "source": [
    "#2. if문 문법과 주의사항(콜론, 들여쓰기)\n",
    "\n",
    "개수 = int(input(\"붕어빵 몇개 사실껀가요?\"))\n",
    "\n",
    "if 개수 > 3:\n",
    "    print(\"개당 1800원 입니다!\")"
   ]
  },
  {
   "cell_type": "code",
   "execution_count": 6,
   "metadata": {},
   "outputs": [
    {
     "name": "stdout",
     "output_type": "stream",
     "text": [
      "개당 2000원 입니다!\n"
     ]
    }
   ],
   "source": [
    "#3. if문의 흐름 (작동원리)\n",
    "# 코드는 위에서 아래 순서대로 작동합니다.\n",
    "\n",
    "# 1) 입력을 받음\n",
    "# 2) 개수라는 변수에 담음 \n",
    "개수 = int(input(\"붕어빵 몇개 사실껀가요?\"))\n",
    "\n",
    "# 3) 개수 변수 값을 찾아서 비교.  True 또는 False\n",
    "if 개수 > 3:\n",
    "    # 4) 조건이 True면 if문 안의 코드가 실행됨됨\n",
    "    print(\"개당 1800원 입니다!\")\n",
    "\n",
    "if 개수 <= 3:\n",
    "    print(\"개당 2000원 입니다!\")"
   ]
  },
  {
   "cell_type": "code",
   "execution_count": 8,
   "metadata": {},
   "outputs": [
    {
     "name": "stdout",
     "output_type": "stream",
     "text": [
      "의문의 숫자는 5보다 크고 10보다 작습니다.\n"
     ]
    }
   ],
   "source": [
    "#4. if 중첩문\n",
    "\n",
    "의문의_숫자 = 10\n",
    "\n",
    "if 의문의_숫자 > 5:\n",
    "    if 의문의_숫자 < 15:\n",
    "        print(\"의문의 숫자는 5보다 크고 10보다 작습니다.\")"
   ]
  },
  {
   "cell_type": "code",
   "execution_count": 13,
   "metadata": {},
   "outputs": [
    {
     "name": "stdout",
     "output_type": "stream",
     "text": [
      "개당 2000원 입니다!\n"
     ]
    }
   ],
   "source": [
    "#5. if ~ else 문법과 주의사항 (콜론, 들여쓰기)\n",
    "\n",
    "# if가 True일 때는 if문 안에 작성된 코드가 실행됩니다.\n",
    "# if가 False일 때는 else문 안에 작성된 코드가 실행됩니다.\n",
    "\n",
    "개수 = int(input(\"붕어빵 몇개 사실껀가요?\"))\n",
    "\n",
    "if 개수 > 3:\n",
    "    print(\"개당 1800원 입니다!\")\n",
    "\n",
    "else:\n",
    "    print(\"개당 2000원 입니다!\")"
   ]
  },
  {
   "cell_type": "code",
   "execution_count": 14,
   "metadata": {},
   "outputs": [
    {
     "name": "stdout",
     "output_type": "stream",
     "text": [
      "개당 2000원 입니다!\n"
     ]
    }
   ],
   "source": [
    "#6. if ~ else문 흐름 (작동원리)\n",
    "\n",
    "# 1) input\n",
    "# 2) 변수\n",
    "개수 = int(input(\"붕어빵 몇개 사실껀가요?\"))\n",
    "\n",
    "# 3) if 조건 비교\n",
    "if 개수 > 3:\n",
    "    print(\"개당 1800원 입니다!\") # 4) 조건이 맞으면 실행\n",
    "\n",
    "# 4) if 조건이 틀릴 때 실행 \n",
    "else:\n",
    "    print(\"개당 2000원 입니다!\")"
   ]
  },
  {
   "cell_type": "code",
   "execution_count": 4,
   "metadata": {},
   "outputs": [
    {
     "name": "stdout",
     "output_type": "stream",
     "text": [
      "------True------\n",
      "True\n",
      "------False------\n",
      "False\n",
      "------None------\n",
      "False\n",
      "------0------\n",
      "False\n",
      "------1------\n",
      "True\n",
      "------1.1------\n",
      "True\n",
      "------Hello------\n",
      "True\n",
      "------빈 문자열------\n",
      "False\n",
      "------not------\n",
      "False\n",
      "------not ''------\n",
      "True\n"
     ]
    }
   ],
   "source": [
    "#7. 조건문 조건(True, False)\n",
    "\n",
    "# True\n",
    "print(\"------True------\")\n",
    "if True:\n",
    "    print(True)\n",
    "else:\n",
    "    print(False)\n",
    "\n",
    "# False\n",
    "print(\"------False------\")\n",
    "if False:\n",
    "    print(True)\n",
    "else:\n",
    "    print(False)\n",
    "\n",
    "# None : False : None은 조건문에서 False로 간주되지만 실제론 같지않다.\n",
    "print(\"------None------\")\n",
    "if None:\n",
    "    print(True)\n",
    "else:\n",
    "    print(False)\n",
    "\n",
    "# 0\n",
    "print(\"------0------\")\n",
    "if 0:\n",
    "    print(True)\n",
    "else:\n",
    "    print(False)\n",
    "\n",
    "# 1\n",
    "print(\"------1------\")\n",
    "if 1:\n",
    "    print(True)\n",
    "else:\n",
    "    print(False)\n",
    "\n",
    "# 1.1\n",
    "print(\"------1.1------\")\n",
    "if 1.1:\n",
    "    print(True)\n",
    "else:\n",
    "    print(False)\n",
    "\n",
    "# Hello : 문자열은 True 공백도 True\n",
    "print(\"------Hello------\")\n",
    "if 'Hello':\n",
    "    print(True)\n",
    "else:\n",
    "    print(False)\n",
    "\n",
    "# 빈 문자열\n",
    "print(\"------빈 문자열------\")\n",
    "if '':  #빈문자열은 if문에서 None으로 인식함\n",
    "    print(True)\n",
    "else:\n",
    "    print(False)\n",
    "\n",
    "# not\n",
    "print(\"------not------\")\n",
    "if not True:\n",
    "    print(True)\n",
    "else:\n",
    "    print(False)\n",
    "\n",
    "# not ''\n",
    "print(\"------not ''------\")\n",
    "if not '':\n",
    "    print(True)\n",
    "else:\n",
    "    print(False)"
   ]
  },
  {
   "cell_type": "code",
   "execution_count": 27,
   "metadata": {},
   "outputs": [
    {
     "name": "stdout",
     "output_type": "stream",
     "text": [
      "\n"
     ]
    }
   ],
   "source": [
    "#8. 조건식 여러개 설정하기\n",
    "\n",
    "a, b = 10, 30\n",
    "\n",
    "if a==10 and b==30:\n",
    "    print()"
   ]
  },
  {
   "cell_type": "code",
   "execution_count": null,
   "metadata": {},
   "outputs": [
    {
     "name": "stdout",
     "output_type": "stream",
     "text": [
      "1\n",
      "ㄳ\n"
     ]
    }
   ],
   "source": [
    "# 예제)\n",
    "\n",
    "# 문제 : 단어 a의 가운데 글자를 반환하는 코드\n",
    "# 조건: 단어의 길이가 짝수라면 가운데 두글자를 출력하면 됩니다.\n",
    "\n",
    "# 입력값1 : \"abcde\"  =>  c\n",
    "# 입력값2 : \"qwer\"  => we\n",
    "\n",
    "a = input()\n",
    "# 코드를 작성해주세요\n",
    "\n",
    "# 가운데_인덱스 = int(len(a)/2)\n",
    "가운데_인덱스 = len(a)//2\n",
    "print(가운데_인덱스)\n",
    "\n",
    "if len(a)%2 != 0: #홀수\n",
    "    print(a[가운데_인덱스])\n",
    "else: #짝수\n",
    "    print(a[가운데_인덱스-1:가운데_인덱스+1])\n",
    "    \n",
    "    "
   ]
  },
  {
   "cell_type": "code",
   "execution_count": 5,
   "metadata": {},
   "outputs": [
    {
     "name": "stdout",
     "output_type": "stream",
     "text": [
      "같다\n",
      "0.0\n",
      "0.5\n"
     ]
    }
   ],
   "source": [
    "if(2.000000 == 2):\n",
    "    print(\"같다\")\n",
    "\n",
    "a = 2.0 - int(2.0)\n",
    "type(a)\n",
    "print(a)\n",
    "\n",
    "a = 2.5 - int(2.5)\n",
    "type(a)\n",
    "print(a)\n",
    "\n"
   ]
  },
  {
   "cell_type": "code",
   "execution_count": 6,
   "metadata": {},
   "outputs": [
    {
     "ename": "TypeError",
     "evalue": "can only concatenate str (not \"int\") to str",
     "output_type": "error",
     "traceback": [
      "\u001b[1;31m---------------------------------------------------------------------------\u001b[0m",
      "\u001b[1;31mTypeError\u001b[0m                                 Traceback (most recent call last)",
      "Cell \u001b[1;32mIn[6], line 2\u001b[0m\n\u001b[0;32m      1\u001b[0m 나이 \u001b[38;5;241m=\u001b[39m \u001b[38;5;124m'\u001b[39m\u001b[38;5;124m10\u001b[39m\u001b[38;5;124m'\u001b[39m\n\u001b[1;32m----> 2\u001b[0m name \u001b[38;5;241m=\u001b[39m \u001b[43m나이\u001b[49m\u001b[38;5;241;43m+\u001b[39;49m\u001b[38;5;241;43m10\u001b[39;49m\n",
      "\u001b[1;31mTypeError\u001b[0m: can only concatenate str (not \"int\") to str"
     ]
    }
   ],
   "source": [
    "나이 = '10'\n",
    "name = 나이+10\n"
   ]
  }
 ],
 "metadata": {
  "kernelspec": {
   "display_name": "Python 3",
   "language": "python",
   "name": "python3"
  },
  "language_info": {
   "codemirror_mode": {
    "name": "ipython",
    "version": 3
   },
   "file_extension": ".py",
   "mimetype": "text/x-python",
   "name": "python",
   "nbconvert_exporter": "python",
   "pygments_lexer": "ipython3",
   "version": "3.11.9"
  }
 },
 "nbformat": 4,
 "nbformat_minor": 2
}
