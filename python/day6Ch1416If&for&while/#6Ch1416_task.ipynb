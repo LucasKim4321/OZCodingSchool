{
 "cells": [
  {
   "cell_type": "markdown",
   "metadata": {
    "id": "BX7SgOeWu86I"
   },
   "source": [
    "안녕하세요. 수강생 여러분~! Chapter14 ~ 16 수업은 잘 들으셨나요?\n",
    "\n",
    "Chapter14 ~ 16의 수업 내용을 바탕으로 아래 문제를 풀어주시면 됩니다.\n",
    "\n",
    "<br>\n",
    "\n",
    "\n",
    "[**답변 입력 방법**]\n",
    "\n",
    "문제 아래에 있는 코드 입력창에 정답코드를 작성하신 후  __▷ 버튼을 클릭해 코드를 실행__ 해보세요<br>"
   ]
  },
  {
   "cell_type": "markdown",
   "metadata": {},
   "source": [
    "---"
   ]
  },
  {
   "cell_type": "markdown",
   "metadata": {
    "id": "7kQJMRuFu-6s"
   },
   "source": [
    "__[문제1]__\n",
    "\n",
    "주어진 정수 x와 자연수 n을 이용해, x부터 시작해 x씩 증가하는 숫자를 n개 지니는 리스트를 출력해주세요   \n",
    "<br>\n",
    "\n",
    "x = 2, n =5"
   ]
  },
  {
   "cell_type": "code",
   "execution_count": 1,
   "metadata": {},
   "outputs": [
    {
     "name": "stdout",
     "output_type": "stream",
     "text": [
      "<class 'list'>\n",
      "[2, 4, 6, 8, 10]\n"
     ]
    }
   ],
   "source": [
    "# 2부터 시작해 2씩 증가하는 숫자를 5개 지니는 리스트\n",
    "\n",
    "# 시작, 증가 값\n",
    "x = 2\n",
    "n = 0\n",
    "\n",
    "nums = list()\n",
    "print(type(nums))\n",
    "\n",
    "for i in range(x,100,x):\n",
    "    nums.append(i)\n",
    "    n += 1\n",
    "    if n >= 5:\n",
    "        break\n",
    "\n",
    "print(nums)"
   ]
  },
  {
   "cell_type": "code",
   "execution_count": 3,
   "metadata": {
    "id": "juUF2KYbu0DX"
   },
   "outputs": [
    {
     "name": "stdout",
     "output_type": "stream",
     "text": [
      "[[2, 4, 6, 8], [2, 4, 6, 8], [2, 4, 6, 8], [2, 4, 6, 8], [2, 4, 6, 8]]\n"
     ]
    }
   ],
   "source": [
    "# 문제 잘못 이해해서 만듬\n",
    "\n",
    "# 시작, 증가 값\n",
    "x = 2\n",
    "# 종료값\n",
    "end = 10\n",
    "\n",
    "# 리스트 개수\n",
    "n = 5\n",
    "\n",
    "nlist = list()\n",
    "\n",
    "# xlist = list()\n",
    "# 여기에 xlist를 추가할 경우\n",
    "# 리스트가 순서대로 증가하지 않고 처음 부터 마지막 증가 값을 가지고 있음.\n",
    "# 구조 nlist = [xlist,xlist,xlist] 결과는 동일한 xlist값\n",
    "\n",
    "# 숫자의 경우 다름\n",
    "\n",
    "for i in range(n):\n",
    "\n",
    "    xlist = list()\n",
    "\n",
    "    for j in range(x,end,x):\n",
    "        # print(j)\n",
    "        xlist.append(j)\n",
    "\n",
    "    nlist.append(xlist)\n",
    "\n",
    "# print(xlist)\n",
    "print(nlist)"
   ]
  },
  {
   "cell_type": "code",
   "execution_count": 2,
   "metadata": {},
   "outputs": [
    {
     "name": "stdout",
     "output_type": "stream",
     "text": [
      "[20, 40, 60]\n"
     ]
    }
   ],
   "source": [
    "# 숫자로 test\n",
    "\n",
    "# 시작, 증가 값\n",
    "x = 2\n",
    "# 종료값\n",
    "end = 10\n",
    "\n",
    "# 리스트 개수\n",
    "n = 3\n",
    "\n",
    "nlist = list()\n",
    "\n",
    "sum = 0\n",
    "\n",
    "for i in range(n):\n",
    "\n",
    "    xlist = list()\n",
    "\n",
    "    for j in range(x,end,x):\n",
    "        sum += j\n",
    "\n",
    "    nlist.append(sum)\n",
    "\n",
    "# print(xlist)\n",
    "print(nlist)"
   ]
  },
  {
   "cell_type": "markdown",
   "metadata": {},
   "source": [
    "---"
   ]
  },
  {
   "cell_type": "markdown",
   "metadata": {
    "id": "4BPXMLXUvBVL"
   },
   "source": [
    "__[문제2]__\n",
    "\n",
    "전화번호가 문자열 phone_number로 주어졌을 때, 전화번호의 뒷 4자리를 *으로 가린 문자열이 출력되도록 코드를 작성해주세요\n",
    "\n",
    "phone_number = \"01012347890\"  \n",
    "<br>\n",
    "\n",
    "출력 예) \"0101234****\""
   ]
  },
  {
   "cell_type": "code",
   "execution_count": 6,
   "metadata": {
    "id": "P0fY7CYUvC_j"
   },
   "outputs": [
    {
     "name": "stdout",
     "output_type": "stream",
     "text": [
      "0101234****\n"
     ]
    }
   ],
   "source": [
    "phone_number = \"01012347890\"\n",
    "\n",
    "count = 0\n",
    "\n",
    "changed_phone_number = ''\n",
    "\n",
    "for i in phone_number:\n",
    "    # print(type(i))\n",
    "    count += 1\n",
    "\n",
    "    if count > 7:\n",
    "        changed_phone_number += '*'\n",
    "        continue\n",
    "\n",
    "    changed_phone_number += i\n",
    "\n",
    "print(changed_phone_number)\n"
   ]
  },
  {
   "cell_type": "markdown",
   "metadata": {},
   "source": [
    "---"
   ]
  },
  {
   "cell_type": "markdown",
   "metadata": {
    "id": "uUdOU9cFvDsq"
   },
   "source": [
    "__[문제3]__\n",
    "\n",
    "숫자를 건넬 때 일부 자릿수를 영단어로 바꾼 카드를 건네주면 프로도는 원래 숫자를 찾는 게임입니다.\n",
    "\n",
    "다음은 숫자의 일부 자릿수를 영단어로 바꾸는 예시입니다.\n",
    "\n",
    "1478 → \"one4seveneight\"  \n",
    "234567 → \"23four5six7\"  \n",
    "10203 → \"1zerotwozero3\"    \n",
    "\n",
    "이렇게 숫자의 일부 자릿수가 영단어로 바뀌어졌거나,   \n",
    "혹은 바뀌지 않고 그대로인 문자열 s가 주어졌을때\n",
    "s가 의미하는 원래 숫자를 출력하도록 코드를 작성해주세요\n",
    "\n",
    "s = \"77three4one\n",
    "\n",
    "---\n",
    "참고로 각 숫자에 대응되는 영단어는 다음 표와 같습니다.\n",
    "\n",
    "숫자\t영단어  \n",
    "0\tzero  \n",
    "1\tone  \n",
    "2\ttwo  \n",
    "3\tthree  \n",
    "4\tfour  \n",
    "5\tfive  \n",
    "6\tsix  \n",
    "7\tseven  \n",
    "8\teight  \n",
    "9\tnine  "
   ]
  },
  {
   "cell_type": "code",
   "execution_count": 53,
   "metadata": {
    "id": "2NmqRFgDvFtz"
   },
   "outputs": [
    {
     "name": "stdout",
     "output_type": "stream",
     "text": [
      "77341\n",
      "977341346555\n"
     ]
    }
   ],
   "source": [
    "nums = {'zero':'0', 'one':'1', 'two':'2', 'three':'3', 'four':'4', 'five':'5', 'six':'6', 'seven':'7', 'eight':'8', 'nine':'9'}\n",
    "\n",
    "s = \"77three4one\"\n",
    "for i in nums:\n",
    "    # print(i)\n",
    "    s = s.replace(i,nums[i])\n",
    "print(s)\n",
    "\n",
    "s = \"nine77three4onethreefoursix555\"\n",
    "for i in nums:\n",
    "    # print(i)\n",
    "    s = s.replace(i,nums[i])\n",
    "print(s)\n",
    "\n",
    "# 사용 가능\n",
    "# 문자형 숫자로 구분분\n",
    "# char.isdigit()  #문자형 숫자인지\n",
    "# '0' <= char <= '9'  #실제로는 ASCII코드로 비교\n",
    "# 48 <= ord(char) <= 57  #ASCII코드로 비교\n",
    "# re.match(r'[0-9]', char)  #정규식 이용"
   ]
  },
  {
   "cell_type": "markdown",
   "metadata": {},
   "source": [
    "---"
   ]
  },
  {
   "cell_type": "markdown",
   "metadata": {
    "id": "J0Tha6AdvGL3"
   },
   "source": [
    "__[문제4]__\n",
    "\n",
    "행렬의 덧셈은 행과 열의 크기가 같은 두 행렬의 같은 행, 같은 열의 값을 서로 더한 결과가 됩니다. \n",
    "\n",
    " 행렬 arr1과 arr2가 주어졌을 때, 행렬 덧셈의 결과를 출력하는 코드를 작성해주세요(result와 같은 결과가 출력되도록 작성)\n",
    "\n",
    "arr1 = [[1,2],[2,3]]\n",
    "\n",
    "arr2 = [[3,4],[5,6]]\n",
    "\n",
    "result = [[4,6],[7,9]]"
   ]
  },
  {
   "cell_type": "code",
   "execution_count": 4,
   "metadata": {
    "id": "ujiXrEhJvIV0"
   },
   "outputs": [
    {
     "name": "stdout",
     "output_type": "stream",
     "text": [
      "[[4, 6], [7, 9]]\n"
     ]
    }
   ],
   "source": [
    "arr1 = [[1,2],[2,3]]\n",
    "arr2 = [[3,4],[5,6]]\n",
    "# result = [[4,6],[7,9]]\n",
    "\n",
    "result = list()\n",
    "\n",
    "for i in range(len(arr1)):\n",
    "    # print(arr1[i])\n",
    "    temp = list()\n",
    "\n",
    "    for j in range(len(arr1[0])):\n",
    "        # print(arr1[i][j])\n",
    "        temp.append(arr1[i][j] + arr2[i][j])\n",
    "\n",
    "    result.append(temp)\n",
    "\n",
    "print(result)\n",
    "    "
   ]
  },
  {
   "cell_type": "markdown",
   "metadata": {},
   "source": [
    "---"
   ]
  },
  {
   "cell_type": "markdown",
   "metadata": {
    "id": "eLdrWVkavJEN"
   },
   "source": [
    "__[문제5]__\n",
    "\n",
    "양의 정수 x가 하샤드 수이려면 x의 자릿수의 합으로 x가 나누어져야 합니다.   \n",
    "예를 들어 18의 자릿수 합은 1+8=9이고, 18은 9로 나누어 떨어지므로 18은 하샤드 수입니다.   \n",
    "주어진 x를 이용해 x가 하샤드 수인지 아닌지 검사하는 코드를 작성해주세요\n",
    "\n",
    "x = 17\n",
    "\n",
    "----\n",
    "\n",
    "입출력 예시\n",
    "x\t결과값  \n",
    "10\ttrue  \n",
    "12\ttrue  \n",
    "11\tfalse  \n",
    "13\tfalse  "
   ]
  },
  {
   "cell_type": "code",
   "execution_count": 23,
   "metadata": {
    "id": "EULD-IOrvKmG"
   },
   "outputs": [
    {
     "name": "stdout",
     "output_type": "stream",
     "text": [
      "---------------------\n",
      "x: 10\n",
      "sum: 1\n",
      "x는 하샤드 수입니다\n",
      "---------------------\n",
      "x: 11\n",
      "sum: 2\n",
      "x는 하샤드 수가 아닙니다!\n",
      "---------------------\n",
      "x: 12\n",
      "sum: 3\n",
      "x는 하샤드 수입니다\n",
      "---------------------\n",
      "x: 13\n",
      "sum: 4\n",
      "x는 하샤드 수가 아닙니다!\n",
      "---------------------\n",
      "x: 14\n",
      "sum: 5\n",
      "x는 하샤드 수가 아닙니다!\n",
      "---------------------\n",
      "x: 15\n",
      "sum: 6\n",
      "x는 하샤드 수가 아닙니다!\n",
      "---------------------\n",
      "x: 16\n",
      "sum: 7\n",
      "x는 하샤드 수가 아닙니다!\n",
      "---------------------\n",
      "x: 17\n",
      "sum: 8\n",
      "x는 하샤드 수가 아닙니다!\n",
      "---------------------\n",
      "x: 18\n",
      "sum: 9\n",
      "x는 하샤드 수입니다\n",
      "---------------------\n",
      "x: 19\n",
      "sum: 10\n",
      "x는 하샤드 수가 아닙니다!\n"
     ]
    }
   ],
   "source": [
    "x = 17\n",
    "\n",
    "for j in range(10,20):\n",
    "    print(\"---------------------\")\n",
    "    x = j\n",
    "    print(\"x:\",x)\n",
    "\n",
    "    sum = 0\n",
    "    for i in str(x):\n",
    "        # print(i)\n",
    "        sum += int(i)\n",
    "    print(\"sum:\",sum)\n",
    "    # print(type(sum))\n",
    "    # print(type(x))\n",
    "\n",
    "    Harshad_number = False\n",
    "    if x % sum == 0:\n",
    "        Harshad_number = True\n",
    "\n",
    "    print(f\"x는 하샤드 수{'입니다' if Harshad_number else '가 아닙니다!'}\")\n"
   ]
  },
  {
   "cell_type": "markdown",
   "metadata": {},
   "source": [
    "---"
   ]
  },
  {
   "cell_type": "markdown",
   "metadata": {
    "id": "GeS6hZhivLMZ"
   },
   "source": [
    "__[문제6]__\n",
    "\n",
    "String형 배열 seoul의 element중 \"Kim\"의 인덱스 x를 찾아, \"김서방은 x에 있다\"는 String을 출력하는 코드를 작성해주세요.   \n",
    "\n",
    "seoul에 \"Kim\"은 오직 한 번만 나타나며 잘못된 값이 입력되는 경우는 없습니다.\n",
    "\n",
    "seoul = [\"Jane\", \"Kim\"]\n",
    "\n",
    "<br>\n",
    "출력 예) \"김서방은 1에 있다\""
   ]
  },
  {
   "cell_type": "code",
   "execution_count": 28,
   "metadata": {
    "id": "e4LXat3BvRRg"
   },
   "outputs": [
    {
     "name": "stdout",
     "output_type": "stream",
     "text": [
      "김서방은 1에 있다!!\n"
     ]
    }
   ],
   "source": [
    "seoul = [\"Jane\",\"Kim\"]\n",
    "\n",
    "print(f\"김서방은 {seoul.index('Kim')}에 있다!!\")"
   ]
  },
  {
   "cell_type": "markdown",
   "metadata": {},
   "source": [
    "---"
   ]
  },
  {
   "cell_type": "markdown",
   "metadata": {
    "id": "iZjKl-ZqvOkm"
   },
   "source": [
    "__[문제7]__\n",
    "\n",
    "0부터 9까지의 숫자 중 일부가 들어있는 정수 배열 numbers가 주어집니다.   \n",
    "numbers에서 찾을 수 없는 0부터 9까지의 숫자를 모두 찾아 더한 수를 출력해주세요\n",
    "\n",
    "numbers = [5,8,1,0,6,9]"
   ]
  },
  {
   "cell_type": "code",
   "execution_count": 33,
   "metadata": {
    "id": "598DAkIHvQav"
   },
   "outputs": [
    {
     "name": "stdout",
     "output_type": "stream",
     "text": [
      "numbers에서 찾을 수 없는 숫자 2\n",
      "numbers에서 찾을 수 없는 숫자 3\n",
      "numbers에서 찾을 수 없는 숫자 4\n",
      "numbers에서 찾을 수 없는 숫자 7\n",
      "합: 16\n"
     ]
    }
   ],
   "source": [
    "numbers = [5,8,1,0,6,9]\n",
    "\n",
    "sum = 0\n",
    "\n",
    "for i in range(10):\n",
    "    if not i in numbers:\n",
    "        print(\"numbers에서 찾을 수 없는 숫자\",i)\n",
    "        sum += i\n",
    "\n",
    "print(\"합:\",sum)"
   ]
  }
 ],
 "metadata": {
  "colab": {
   "authorship_tag": "ABX9TyMLQjyUmELFyKkx1AyovOFZ",
   "provenance": []
  },
  "kernelspec": {
   "display_name": "Python 3",
   "name": "python3"
  },
  "language_info": {
   "codemirror_mode": {
    "name": "ipython",
    "version": 3
   },
   "file_extension": ".py",
   "mimetype": "text/x-python",
   "name": "python",
   "nbconvert_exporter": "python",
   "pygments_lexer": "ipython3",
   "version": "3.11.9"
  }
 },
 "nbformat": 4,
 "nbformat_minor": 0
}
