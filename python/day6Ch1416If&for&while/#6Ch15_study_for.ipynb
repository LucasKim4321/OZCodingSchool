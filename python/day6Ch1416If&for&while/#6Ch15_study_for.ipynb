{
 "cells": [
  {
   "cell_type": "markdown",
   "metadata": {},
   "source": [
    "### for문 목차\n",
    "1. for문(반복문)이란?\n",
    "2. for문 문법과 주의사항(콜론, 들여쓰기)\n",
    "3. for문 만들어 보기\n",
    "4. for문 작동원리\n",
    "5. for문에서 range()함수 활용하기\n",
    "6. for문에서 시퀀스 객체로 반복하기\n",
    "7. 예제로 for문 익혀보기"
   ]
  },
  {
   "cell_type": "markdown",
   "metadata": {},
   "source": [
    "## 1. for문이란?\n",
    "* 프로그래밍 언어에서 반복되는 작업을 간단하게 처리하기 위해서 사용하는 기능"
   ]
  },
  {
   "cell_type": "markdown",
   "metadata": {},
   "source": [
    "## 2. for문 문법과 주의사항(콜론, 들여쓰기)\n",
    "if문과 동일하게 콜론과 들여쓰기 사용\n",
    "\n",
    "```\n",
    "for 동물 in (\"토끼\",\"사자\",\"푸바오\",\"호랑이\"):\n",
    "    print(동물)\n",
    "    print(\"보러갈래요?\")\n",
    "```\n"
   ]
  },
  {
   "cell_type": "markdown",
   "metadata": {},
   "source": [
    "## 3. for문 만들어 보기"
   ]
  },
  {
   "cell_type": "code",
   "execution_count": 2,
   "metadata": {},
   "outputs": [
    {
     "name": "stdout",
     "output_type": "stream",
     "text": [
      "반복이 되네 신기해!!\n",
      "반복이 되네 신기해!!\n",
      "반복이 되네 신기해!!\n",
      "반복이 되네 신기해!!\n",
      "반복이 되네 신기해!!\n"
     ]
    }
   ],
   "source": [
    "# for 변수 in range(횟수):\n",
    "#     print()\n",
    "\n",
    "#range(개수) : 0부터 개수만큼 숫자를 생성. 예) range(3) : 0,1,2  /  range(1,4) : 1,2,3 /  range(3,0,-1) : 3,2,1\n",
    "\n",
    "for i in range(5):\n",
    "    print(\"반복이 되네 신기해!!\")"
   ]
  },
  {
   "cell_type": "markdown",
   "metadata": {},
   "source": [
    "## 4. for문 작동원리"
   ]
  },
  {
   "cell_type": "code",
   "execution_count": 14,
   "metadata": {},
   "outputs": [
    {
     "name": "stdout",
     "output_type": "stream",
     "text": [
      "반복이 되네 신기해!! 0\n",
      "반복이 되네 신기해!! 1\n",
      "반복이 되네 신기해!! 2\n"
     ]
    }
   ],
   "source": [
    "for i in range(3):\n",
    "    print(\"반복이 되네 신기해!!\", i)"
   ]
  },
  {
   "cell_type": "markdown",
   "metadata": {},
   "source": [
    "## 5. for문에서 range()함수 활용하기"
   ]
  },
  {
   "cell_type": "code",
   "execution_count": 23,
   "metadata": {},
   "outputs": [
    {
     "name": "stdout",
     "output_type": "stream",
     "text": [
      "for i in range(4,10)\n",
      "4 5 6 7 8 9 \n",
      "\n",
      "for i in range(4,10,2)\n",
      "4 6 8 \n",
      "\n",
      "for i in range(10,4,-1)\n",
      "10 9 8 7 6 5 \n",
      "\n",
      "for i in reversed(range(10))\n",
      "9 8 7 6 5 4 3 2 1 0 "
     ]
    }
   ],
   "source": [
    "print(\"for i in range(4,10)\")\n",
    "for i in range(4,10):\n",
    "    print(i, end=' ')\n",
    "\n",
    "print(\"\\n\\nfor i in range(4,10,2)\")\n",
    "for i in range(4,10,2):\n",
    "    print(i, end=' ')\n",
    "\n",
    "print(\"\\n\\nfor i in range(10,4,-1)\")\n",
    "for i in range(10,4,-1):\n",
    "    print(i, end=' ')\n",
    "\n",
    "print(\"\\n\\nfor i in reversed(range(10))\")\n",
    "for i in reversed(range(10)):\n",
    "    print(i, end=' ')"
   ]
  },
  {
   "cell_type": "markdown",
   "metadata": {},
   "source": [
    "## 6. for문에서 시퀀스 객체로 반복하기"
   ]
  },
  {
   "cell_type": "code",
   "execution_count": 30,
   "metadata": {},
   "outputs": [
    {
     "name": "stdout",
     "output_type": "stream",
     "text": [
      "트훈스닥"
     ]
    }
   ],
   "source": [
    "과일 = ['두리안','망고','바나나','멜론']\n",
    "\n",
    "# for i in \"닥스훈트\":\n",
    "#     print(i)\n",
    "\n",
    "# for i in \"닥스훈트\":\n",
    "#     print(i, end='')\n",
    "\n",
    "for i in reversed(\"닥스훈트\"):\n",
    "    print(i, end='')\n"
   ]
  },
  {
   "cell_type": "markdown",
   "metadata": {},
   "source": [
    "## 7. 예제로 for문 익혀보기"
   ]
  },
  {
   "cell_type": "code",
   "execution_count": 39,
   "metadata": {},
   "outputs": [
    {
     "name": "stdout",
     "output_type": "stream",
     "text": [
      "[(True, 10), (False, 5), (True, 8)]\n",
      "13\n"
     ]
    }
   ],
   "source": [
    "# 문제 : 절대값 정수가 담긴 정수 변수와 그 정수의 부호를 차례로 담은 부호 변수가 있다\n",
    "# 두 변수를 이용해 실제 정수의 합을 구해주세요 (True : 양수, False : 음수)\n",
    "\n",
    "정수 = [10,5,8]\n",
    "부호 = [True, False, True]\n",
    "\n",
    "합 = 0\n",
    "\n",
    "리스트 = list(zip(부호, 정수))\n",
    "print(리스트)\n",
    "\n",
    "for k, v in zip(부호, 정수):\n",
    "    if k:\n",
    "        합 += v\n",
    "    else:\n",
    "        합 -= v\n",
    "\n",
    "print(합)"
   ]
  }
 ],
 "metadata": {
  "kernelspec": {
   "display_name": "Python 3",
   "language": "python",
   "name": "python3"
  },
  "language_info": {
   "codemirror_mode": {
    "name": "ipython",
    "version": 3
   },
   "file_extension": ".py",
   "mimetype": "text/x-python",
   "name": "python",
   "nbconvert_exporter": "python",
   "pygments_lexer": "ipython3",
   "version": "3.11.9"
  }
 },
 "nbformat": 4,
 "nbformat_minor": 2
}
