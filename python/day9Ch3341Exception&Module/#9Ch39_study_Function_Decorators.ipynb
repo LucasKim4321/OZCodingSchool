{
 "cells": [
  {
   "cell_type": "markdown",
   "metadata": {},
   "source": []
  },
  {
   "cell_type": "markdown",
   "metadata": {},
   "source": [
    "# Chapter 7-7. 함수 데코레이터 (Function Decorators)\n",
    "\n",
    "## 1. 데코레이터\n",
    "\n",
    "@으로 시작하는 구문을 데코레이터라고 합니다.\n",
    "\n",
    "데코레이터는 방법에 따라 함수 데코레이터와 클래스 데코레이터로 나뉘어집니다.\n",
    "\n",
    "## 2. 함수 데코레이터\n",
    "\n",
    "함수에 사용되는 데코레이터는 함수 앞뒤에 붙일 내용이나 반복할 내용이 있을 때 사용합니다.\n",
    "\n",
    "```python\n",
    "# 데코레이터 함수를 정의합니다. 이 함수는 다른 함수를 인자로 받아, 추가 기능을 부여한 새 함수를 반환합니다.\n",
    "def test(function):\n",
    "    # wrapper 함수를 정의합니다. 이 함수는 데코레이터가 적용된 원래 함수를 호출하기 전에\n",
    "    # 추가 동작을 수행하고, 호출한 후에도 추가 동작을 수행합니다.\n",
    "    def wrapper():\n",
    "        # 원래 함수 호출 전에 출력할 메시지\n",
    "        print(\"허언증이 재발했습니다.\")\n",
    "        # 원래 함수를 호출합니다.\n",
    "        function()\n",
    "        # 원래 함수 호출 후에 출력할 메시지\n",
    "        print(\"격리 되었습니다.\")\n",
    "    # wrapper 함수를 반환하여 데코레이터가 적용된 새로운 함수를 반환합니다.\n",
    "    return wrapper\n",
    "\n",
    "# oz 함수를 데코레이터로 감싸줍니다. 즉, oz 함수가 호출될 때마다 test 데코레이터가 적용된 wrapper 함수가 호출됩니다.\n",
    "@test\n",
    "def oz():\n",
    "    # 원래 oz 함수의 기능: 메시지를 출력합니다.\n",
    "    print(\"파이썬 진짜 재미있엉 하하\")\n",
    "\n",
    "# oz 함수를 호출합니다. 이때 실제로는 데코레이터가 적용된 wrapper 함수가 호출됩니다.\n",
    "oz()\n",
    "\n",
    "# 출력:\n",
    "허언증이 재발했습니다.\n",
    "파이썬 진짜 재미있엉 하하\n",
    "격리 되었습니다.\n",
    "```\n"
   ]
  },
  {
   "cell_type": "code",
   "execution_count": 1,
   "metadata": {},
   "outputs": [
    {
     "name": "stdout",
     "output_type": "stream",
     "text": [
      "파이선 진짜 재미있엉 하하\n"
     ]
    }
   ],
   "source": [
    "def oz():\n",
    "    print(\"파이선 진짜 재미있엉 하하\")\n",
    "\n",
    "oz()"
   ]
  },
  {
   "cell_type": "code",
   "execution_count": 17,
   "metadata": {},
   "outputs": [
    {
     "name": "stdout",
     "output_type": "stream",
     "text": [
      "허언증이 재발했습니다.\n",
      "파이선 진짜 재미있엉 하하\n",
      "격리 되었습니다.\n"
     ]
    }
   ],
   "source": [
    "def test(function):\n",
    "    def wrapper():\n",
    "        print(\"허언증이 재발했습니다.\")\n",
    "        function()\n",
    "        print(\"격리 되었습니다.\")\n",
    "    return wrapper\n",
    "\n",
    "@test # 이거 없어도 오류는 안남\n",
    "def oz():\n",
    "    print(\"파이선 진짜 재미있엉 하하\")\n",
    "\n",
    "oz()"
   ]
  },
  {
   "cell_type": "code",
   "execution_count": 10,
   "metadata": {},
   "outputs": [
    {
     "name": "stdout",
     "output_type": "stream",
     "text": [
      "허언증이 재발했스빈다.\n",
      "파이선 진짜 재미있엉 하하\n",
      "격리 되었습니다.\n",
      "허언증이 재발했스빈다.\n",
      "파이선 진짜 재미있엉 하하2\n",
      "격리 되었습니다.\n",
      "허언증이 재발했스빈다.\n",
      "파이선 진짜 재미있엉 하하3\n",
      "격리 되었습니다.\n"
     ]
    }
   ],
   "source": [
    "def test(function=oz):\n",
    "    print(\"허언증이 재발했습니니다.\")\n",
    "    function()\n",
    "    print(\"격리 되었습니다.\")\n",
    "\n",
    "def oz():\n",
    "    print(\"파이선 진짜 재미있엉 하하\")\n",
    "def oz2():\n",
    "    print(\"파이선 진짜 재미있엉 하하2\")\n",
    "def oz3():\n",
    "    print(\"파이선 진짜 재미있엉 하하3\")\n",
    "\n",
    "test()\n",
    "test(oz2)\n",
    "test(oz3)"
   ]
  },
  {
   "cell_type": "markdown",
   "metadata": {},
   "source": [
    "\n",
    "## 이해도 체크리스트\n",
    "\n",
    "<aside>\n",
    "⚠️ 해당 체크리스트는 본 챕터의 이해도를 확인하는 문제입니다. 대답에 어려움을 느끼신다면, 다시 한번 강의를 수강하는 것을 추천드립니다.\n",
    "\n",
    "</aside>\n",
    "\n",
    "1. 다음 중 함수 데코레이터에 대한 설명으로 옳지 않은 것을 고르세요.\n",
    "    \n",
    "    a) 함수 데코레이터는 함수 앞뒤에 반복할 내용을 쉽게 추가할 수 있게 해줍니다.\n",
    "    \n",
    "    b) 함수 데코레이터는 `@` 기호를 사용하여 함수에 적용합니다.\n",
    "    \n",
    "    c) 함수 데코레이터는 함수를 다른 함수의 인자로 전달하고, 수정된 함수를 반환합니다.\n",
    "    \n",
    "    d) 함수 데코레이터는 클래스에서만 사용할 수 있습니다.\n",
    "    \n",
    "    - 정답\n",
    "        \n",
    "        d\n",
    "        \n",
    "        함수 데코레이터는 함수뿐만 아니라 클래스에서도 사용할 수 있지만, 함수에만 적용할 수 있는 것은 아닙니다. 함수 데코레이터는 함수의 동작을 수정하거나 확장하는 데 주로 사용됩니다.\n",
    "        \n",
    "    \n",
    "2. 다음 중 함수 데코레이터를 사용하는 이유로 적절하지 않은 것을 고르세요.\n",
    "    \n",
    "    a) 함수 호출 전후로 공통된 작업을 수행하기 위해\n",
    "    \n",
    "    b) 함수의 이름을 변경하기 위해\n",
    "    \n",
    "    c) 함수의 성능을 측정하기 위해\n",
    "    \n",
    "    d) 함수 호출을 로깅하기 위해\n",
    "    \n",
    "    - 정답\n",
    "        \n",
    "        b\n",
    "        \n",
    "        함수 데코레이터는 함수의 동작을 수정하거나 확장하는 데 사용되며, 함수의 이름을 변경하는 데는 사용되지 않습니다. 함수의 이름을 변경하려면 다른 방법을 사용해야 합니다.\n",
    "        \n",
    "\n",
    "<aside>\n",
    "⚠️\n",
    "\n",
    "해당 체크리스트는 본 챕터의 이해도를 확인하는 문제입니다. 대답에 어려움을 느끼신다면, 다시 한번 강의를 수강하는 것을 추천드립니다.\n",
    "\n",
    "</aside>"
   ]
  }
 ],
 "metadata": {
  "kernelspec": {
   "display_name": "Python 3",
   "language": "python",
   "name": "python3"
  },
  "language_info": {
   "codemirror_mode": {
    "name": "ipython",
    "version": 3
   },
   "file_extension": ".py",
   "mimetype": "text/x-python",
   "name": "python",
   "nbconvert_exporter": "python",
   "pygments_lexer": "ipython3",
   "version": "3.11.9"
  }
 },
 "nbformat": 4,
 "nbformat_minor": 2
}
