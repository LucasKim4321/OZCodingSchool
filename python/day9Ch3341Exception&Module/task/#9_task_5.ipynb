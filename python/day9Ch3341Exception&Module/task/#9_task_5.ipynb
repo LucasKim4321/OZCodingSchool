{
 "cells": [
  {
   "cell_type": "markdown",
   "metadata": {},
   "source": [
    "datetime 모듈을 사용하여 현재 날짜와 시간을 출력하는 프로그램을 작성하세요. \n",
    "\n",
    "또한, 사용자로부터 태어난 년도를 입력받아 현재 나이를 계산하여 출력하세요."
   ]
  },
  {
   "cell_type": "code",
   "execution_count": 22,
   "metadata": {},
   "outputs": [
    {
     "name": "stdout",
     "output_type": "stream",
     "text": [
      "현재 날짜와 시간은\n",
      "2025-01-10 16:46:07.630136\n",
      "2025 년\n",
      "1 월\n",
      "10 일\n",
      "16 시\n",
      "46 분\n",
      "7 초\n",
      "[1992, 1, 31]\n",
      "33\n"
     ]
    }
   ],
   "source": [
    "import datetime as d\n",
    "\n",
    "print(\"현재 날짜와 시간은\")\n",
    "now = d.datetime.now()\n",
    "# print(type(now))\n",
    "# print(dir(now))\n",
    "print(now)\n",
    "print(now.year, \"년\")\n",
    "print(now.month, \"월\")\n",
    "print(now.day, \"일\")\n",
    "print(now.hour, \"시\")\n",
    "print(now.minute, \"분\")\n",
    "print(now.second, \"초\")\n",
    "\n",
    "birthday = list(map(int, input(\"태어난 년도를 입력하세요~\").strip().replace(',',' ').replace('.',' ').split(' ')))\n",
    "print(birthday)\n",
    "\n",
    "now_year = now.year\n",
    "now_month = now.month\n",
    "now_day = now.day\n",
    "\n",
    "birth_year = birthday[0]\n",
    "birth_month = birthday[0]\n",
    "birth_day = birthday[0]\n",
    "\n",
    "if now_month > birth_month:\n",
    "    age = now_year - birth_year +1\n",
    "elif now_month == birth_month and now_day >= birth_day:\n",
    "    age = now_year - birth_year +1\n",
    "else:\n",
    "    age = now_year - birth_year\n",
    "    \n",
    "print(age)"
   ]
  }
 ],
 "metadata": {
  "kernelspec": {
   "display_name": "Python 3",
   "language": "python",
   "name": "python3"
  },
  "language_info": {
   "codemirror_mode": {
    "name": "ipython",
    "version": 3
   },
   "file_extension": ".py",
   "mimetype": "text/x-python",
   "name": "python",
   "nbconvert_exporter": "python",
   "pygments_lexer": "ipython3",
   "version": "3.11.9"
  }
 },
 "nbformat": 4,
 "nbformat_minor": 2
}
