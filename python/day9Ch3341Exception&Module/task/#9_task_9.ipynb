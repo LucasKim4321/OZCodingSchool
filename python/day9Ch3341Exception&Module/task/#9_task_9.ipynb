{
 "cells": [
  {
   "cell_type": "markdown",
   "metadata": {},
   "source": [
    "animals라는 패키지를 만들고, 이 패키지 내에 mammals, birds라는 두 개의 서브 모듈을 생성하세요. \n",
    "\n",
    "- 각 모듈에는 최소한 한 개 이상의 동물에 관한 클래스를 정의하세요<br>\n",
    "  (예: mammals에는 Dog, birds에는 Eagle)\n",
    "- 이 패키지와 모듈을 사용하여 동물들의 정보를 출력하는 프로그램을 작성\n",
    "\n",
    "폴더 및 파일 구조\n",
    "```\n",
    "animals/(폴더)\n",
    "├── __init__.py\n",
    "├── mammals.py\n",
    "└── birds.py\n",
    "```\n"
   ]
  },
  {
   "cell_type": "code",
   "execution_count": 1,
   "metadata": {},
   "outputs": [
    {
     "name": "stdout",
     "output_type": "stream",
     "text": [
      "start animals\n",
      "start mammals\n",
      "start birds\n",
      "{'mammals': {'Placental Mammals': {'Primates': ['Monkeys', 'Apes', 'Humans'], 'Carnivores': ['Lions', 'Tigers', 'Bears', 'Wolves'], 'Rodents': ['Rats', 'Mice', 'Squirrels'], 'Cetaceans': ['Whales', 'Dolphins', 'Porpoises'], 'Ungulates': {'Even-toed': ['Cows', 'Deer', 'Giraffes'], 'Odd-toed': ['Horses', 'Zebras', 'Rhinoceroses']}, 'Bats': ['Bats'], 'Lagomorphs': ['Rabbits', 'Hares'], 'Insectivores': ['Hedgehogs', 'Moles', 'Shrews'], 'Elephants': ['Elephants']}, 'Marsupials': ['Kangaroos', 'Koalas', 'Wombats', 'Opossums', 'Tasmanian Devils'], 'Monotremes': ['Platypus', 'Echidnas (Spiny Anteaters)']}, 'birds': {'Raptors (Birds of Prey)': ['Eagles', 'Hawks', 'Falcons', 'Owls', 'Kites'], 'Waterfowl': ['Ducks', 'Swans', 'Geese'], 'Songbirds (Passerines)': ['Sparrows', 'Robins', 'Finches', 'Thrushes', 'Wrens'], 'Flightless Birds': ['Ostriches', 'Emus', 'Penguins', 'Kiwis', 'Cassowaries'], 'Seabirds': ['Albatrosses', 'Gulls', 'Pelicans', 'Terns', 'Puffins'], 'Wading Birds': ['Herons', 'Egrets', 'Flamingos', 'Storks'], 'Game Birds': ['Pheasants', 'Quails', 'Turkeys', 'Grouse'], 'Parrots': ['Macaws', 'Cockatoos', 'Parakeets', 'Lovebirds'], 'Pigeons and Doves': ['Rock Pigeons', 'Turtledoves', 'Mourning Doves'], 'Woodpeckers': ['Woodpeckers', 'Sapsuckers', 'Flickers'], 'Hummingbirds': ['Ruby-throated Hummingbirds', \"Anna's Hummingbirds\", 'Bee Hummingbirds'], 'Others': ['Crows', 'Ravens', 'Magpies', 'Kingfishers']}}\n",
      "{'Placental Mammals': {'Primates': ['Monkeys', 'Apes', 'Humans'], 'Carnivores': ['Lions', 'Tigers', 'Bears', 'Wolves'], 'Rodents': ['Rats', 'Mice', 'Squirrels'], 'Cetaceans': ['Whales', 'Dolphins', 'Porpoises'], 'Ungulates': {'Even-toed': ['Cows', 'Deer', 'Giraffes'], 'Odd-toed': ['Horses', 'Zebras', 'Rhinoceroses']}, 'Bats': ['Bats'], 'Lagomorphs': ['Rabbits', 'Hares'], 'Insectivores': ['Hedgehogs', 'Moles', 'Shrews'], 'Elephants': ['Elephants']}, 'Marsupials': ['Kangaroos', 'Koalas', 'Wombats', 'Opossums', 'Tasmanian Devils'], 'Monotremes': ['Platypus', 'Echidnas (Spiny Anteaters)']}\n",
      "{'Raptors (Birds of Prey)': ['Eagles', 'Hawks', 'Falcons', 'Owls', 'Kites'], 'Waterfowl': ['Ducks', 'Swans', 'Geese'], 'Songbirds (Passerines)': ['Sparrows', 'Robins', 'Finches', 'Thrushes', 'Wrens'], 'Flightless Birds': ['Ostriches', 'Emus', 'Penguins', 'Kiwis', 'Cassowaries'], 'Seabirds': ['Albatrosses', 'Gulls', 'Pelicans', 'Terns', 'Puffins'], 'Wading Birds': ['Herons', 'Egrets', 'Flamingos', 'Storks'], 'Game Birds': ['Pheasants', 'Quails', 'Turkeys', 'Grouse'], 'Parrots': ['Macaws', 'Cockatoos', 'Parakeets', 'Lovebirds'], 'Pigeons and Doves': ['Rock Pigeons', 'Turtledoves', 'Mourning Doves'], 'Woodpeckers': ['Woodpeckers', 'Sapsuckers', 'Flickers'], 'Hummingbirds': ['Ruby-throated Hummingbirds', \"Anna's Hummingbirds\", 'Bee Hummingbirds'], 'Others': ['Crows', 'Ravens', 'Magpies', 'Kingfishers']}\n"
     ]
    }
   ],
   "source": [
    "# __init__.py에 패키지 내부 모듈을 자동 로드가 가능하게 설정시\n",
    "\n",
    "import animals\n",
    "\n",
    "# 패키지 내부 딕셔너리 사용\n",
    "print(animals.animals[\"mammals\"])  # {'Primates': [...], 'Carnivores': [...]}\n",
    "print(animals.animals[\"birds\"])    # {'Raptors': [...], 'Waterfowl': [...]}\n"
   ]
  },
  {
   "cell_type": "code",
   "execution_count": 2,
   "metadata": {},
   "outputs": [
    {
     "ename": "AttributeError",
     "evalue": "'dict' object has no attribute 'mammals'",
     "output_type": "error",
     "traceback": [
      "\u001b[1;31m---------------------------------------------------------------------------\u001b[0m",
      "\u001b[1;31mAttributeError\u001b[0m                            Traceback (most recent call last)",
      "Cell \u001b[1;32mIn[2], line 6\u001b[0m\n\u001b[0;32m      3\u001b[0m \u001b[38;5;28;01mimport\u001b[39;00m \u001b[38;5;21;01manimals\u001b[39;00m\u001b[38;5;21;01m.\u001b[39;00m\u001b[38;5;21;01mmammals\u001b[39;00m\n\u001b[0;32m      4\u001b[0m \u001b[38;5;28;01mimport\u001b[39;00m \u001b[38;5;21;01manimals\u001b[39;00m\u001b[38;5;21;01m.\u001b[39;00m\u001b[38;5;21;01mbirds\u001b[39;00m\n\u001b[1;32m----> 6\u001b[0m \u001b[38;5;28mprint\u001b[39m(\u001b[43manimals\u001b[49m\u001b[38;5;241;43m.\u001b[39;49m\u001b[43mmammals\u001b[49m\u001b[38;5;241;43m.\u001b[39;49m\u001b[43mmammals\u001b[49m)\n\u001b[0;32m      7\u001b[0m \u001b[38;5;28mprint\u001b[39m(animals\u001b[38;5;241m.\u001b[39mbirds\u001b[38;5;241m.\u001b[39mbirds)\n",
      "\u001b[1;31mAttributeError\u001b[0m: 'dict' object has no attribute 'mammals'"
     ]
    }
   ],
   "source": [
    "# __init__.py만 만들고 아무 내용을 포함하지 않을 시\n",
    "# 모듈을 조금 손보고 난 후 이렇게 사용 가능\n",
    "\n",
    "import animals.mammals\n",
    "import animals.birds\n",
    "\n",
    "print(animals.mammals.mammals)\n",
    "print(animals.birds.birds)\n"
   ]
  }
 ],
 "metadata": {
  "kernelspec": {
   "display_name": "Python 3",
   "language": "python",
   "name": "python3"
  },
  "language_info": {
   "codemirror_mode": {
    "name": "ipython",
    "version": 3
   },
   "file_extension": ".py",
   "mimetype": "text/x-python",
   "name": "python",
   "nbconvert_exporter": "python",
   "pygments_lexer": "ipython3",
   "version": "3.11.9"
  }
 },
 "nbformat": 4,
 "nbformat_minor": 2
}
