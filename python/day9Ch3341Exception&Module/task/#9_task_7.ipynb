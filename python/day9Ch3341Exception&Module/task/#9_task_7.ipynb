{
 "cells": [
  {
   "cell_type": "markdown",
   "metadata": {},
   "source": [
    "함수 실행 시간을 측정하는 데코레이터 timer_decorator를 작성하세요. \n",
    "\n",
    "임의의 함수가 실행되는 시간을 측정하여 \"함수 실행 시간: x.xx초\" 형태로 출력하세요."
   ]
  },
  {
   "cell_type": "markdown",
   "metadata": {},
   "source": []
  },
  {
   "cell_type": "code",
   "execution_count": null,
   "metadata": {},
   "outputs": [
    {
     "name": "stdout",
     "output_type": "stream",
     "text": [
      "강제로 실행 속도를 늦추기 위한 장치입니다. :b\n"
     ]
    }
   ],
   "source": [
    "import time\n",
    "\n",
    "def test(function):\n",
    "    def wrapper():\n",
    "        start_time = time.time()\n",
    "        function()\n",
    "        end_time = time.time()\n",
    "        print(\"start_time:\",start_time)\n",
    "        print(\"end_time:\",end_time)\n",
    "        print(f\"함수 실행 시간 : {end_time - start_time:.2f}초\")\n",
    "\n",
    "    return wrapper\n",
    "\n",
    "@test # 이거 없어도 오류는 안남\n",
    "def oz():\n",
    "    print(\"강제로 실행 속도를 늦추기 위한 장치입니다. :b\")\n",
    "    time.sleep(3)\n",
    "\n",
    "oz()"
   ]
  }
 ],
 "metadata": {
  "kernelspec": {
   "display_name": "Python 3",
   "language": "python",
   "name": "python3"
  },
  "language_info": {
   "codemirror_mode": {
    "name": "ipython",
    "version": 3
   },
   "file_extension": ".py",
   "mimetype": "text/x-python",
   "name": "python",
   "nbconvert_exporter": "python",
   "pygments_lexer": "ipython3",
   "version": "3.11.9"
  }
 },
 "nbformat": 4,
 "nbformat_minor": 2
}
