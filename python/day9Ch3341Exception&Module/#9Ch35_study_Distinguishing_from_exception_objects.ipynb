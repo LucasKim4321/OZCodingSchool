{
 "cells": [
  {
   "cell_type": "markdown",
   "metadata": {},
   "source": [
    "## 예외 객체와 구분하기\n",
    "\n",
    "[예외객체]\n",
    "- Exception을 사용하면 예외의 종류에 대해 알 수 있습니다."
   ]
  },
  {
   "cell_type": "code",
   "execution_count": null,
   "metadata": {},
   "outputs": [],
   "source": [
    "try:\n",
    "    x,y = map(int, input(\"밑변과 높이를 입력해주세요.\").strip().split(\" \"))\n",
    "    print(f'삼각형의 넓이는 {x*y/2}입니다.')\n",
    "except:\n",
    "    print(\"정수로 입력하지 않아 계산이 불가합니다.\")\n"
   ]
  },
  {
   "cell_type": "code",
   "execution_count": 2,
   "metadata": {},
   "outputs": [
    {
     "name": "stdout",
     "output_type": "stream",
     "text": [
      "정수로 입력하지 않아 계산이 불가합니다.\n",
      "type(exception) <class 'ValueError'>\n",
      "exception: invalid literal for int() with base 10: '3cm'\n"
     ]
    }
   ],
   "source": [
    "try:\n",
    "    x,y = map(int, input(\"밑변과 높이를 입력해주세요.\").strip().split(\" \"))\n",
    "    print(f'삼각형의 넓이는 {x*y/2}입니다.')\n",
    "except Exception as exception:\n",
    "    print(\"정수로 입력하지 않아 계산이 불가합니다.\")\n",
    "    print(\"type(exception)\", type(exception))\n",
    "    print(\"exception:\", exception)\n"
   ]
  },
  {
   "cell_type": "markdown",
   "metadata": {},
   "source": [
    "예외 객체 자료형은 Value Error이고  \n",
    "내용은 invalid literal for int() with base 10: '3cm' 입니다.\n",
    "\n",
    "## 2. 예외 구분하기\n",
    "\n",
    "여러 가지 예외가 발생하는 상황을 구분지어 대비하기 위하여 예외 구분을 합니다.\n",
    "\n",
    "파이썬은 **에러를 구분하고 처리**할 수 있는 기능을 제공합니다."
   ]
  },
  {
   "cell_type": "code",
   "execution_count": 12,
   "metadata": {},
   "outputs": [
    {
     "name": "stdout",
     "output_type": "stream",
     "text": [
      "type(exception) <class 'IndexError'>\n",
      "exception: list index out of range\n"
     ]
    }
   ],
   "source": [
    "numbers = [23, 11, 7, 4, 12]\n",
    "\n",
    "try:\n",
    "    number_input = int(input(\"찾고싶은 값의 위치를 입력해주세요\"))\n",
    "    print(f\"{number_input}번째 요소 : {numbers[number_input]}\")\n",
    "except Exception as exception:\n",
    "    print(\"type(exception)\", type(exception))   \n",
    "    print(\"exception:\", exception)\n",
    "\n",
    "# 오류를 발생 시키고 그 타입을 찾는 방법으로 원하는 오류를 찾으면 좋을 듯"
   ]
  },
  {
   "cell_type": "markdown",
   "metadata": {},
   "source": [
    "[exception: list index out of range] 와 같은 에러를 구분하고 처리할 수 있는 기능을 파이썬에서 제공합니다.\n",
    "```\n",
    "try:\n",
    "    예외가 발생할 가능성이 있는 코드\n",
    "except 예외 a:\n",
    "    예외 a가 발생 했을 때 실행할 코드\n",
    "except 예외 b:\n",
    "    예외 b가 발생 했을 때 실행할 코드\n",
    "except 예외 c:\n",
    "    예외 c가 발생 했을 때 실행할 코드\n",
    "```"
   ]
  },
  {
   "cell_type": "code",
   "execution_count": 9,
   "metadata": {},
   "outputs": [
    {
     "name": "stdout",
     "output_type": "stream",
     "text": [
      "리스트의 범위를 벗어났습니다. 입력값을 다시 확인해주세요\n"
     ]
    }
   ],
   "source": [
    "numbers = [23, 11, 7, 4, 12]\n",
    "\n",
    "try:\n",
    "    number_input = int(input(\"찾고싶은 값의 위치를 입력해주세요\"))\n",
    "    print(f\"{number_input}번째 요소 : {numbers[number_input]}\")\n",
    "except ValueError:\n",
    "    print(\"정수로 입력해주세요\")\n",
    "except IndexError:\n",
    "    print(\"리스트의 범위를 벗어났습니다. 입력값을 다시 확인해주세요\")\n"
   ]
  },
  {
   "cell_type": "markdown",
   "metadata": {},
   "source": [
    "[예외 구분 구문과 예외 객체]\n",
    "\n",
    "as 키워드를 이용해 as exception을 사용할 수 있음"
   ]
  },
  {
   "cell_type": "code",
   "execution_count": null,
   "metadata": {},
   "outputs": [
    {
     "name": "stdout",
     "output_type": "stream",
     "text": [
      "정수로 입력해주세요\n",
      "type(exception) <class 'ValueError'>\n",
      "exception: invalid literal for int() with base 10: 'oz'\n"
     ]
    }
   ],
   "source": [
    "numbers = [23, 11, 7, 4, 12]\n",
    "\n",
    "try:\n",
    "    number_input = int(input(\"찾고싶은 값의 위치를 입력해주세요\"))\n",
    "    print(f\"{number_input}번째 요소 : {numbers[number_input]}\")\n",
    "except ValueError as exception:\n",
    "    print(\"정수로 입력해주세요\")\n",
    "    print(\"exception:\", exception)\n",
    "except IndexError:\n",
    "    print(\"리스트의 범위를 벗어났습니다. 입력값을 다시 확인해주세요\")\n",
    "    print(\"exception:\", exception)\n"
   ]
  },
  {
   "cell_type": "markdown",
   "metadata": {},
   "source": [
    "모든 예외 처리가 가능한 Exception을 이용해 대처"
   ]
  },
  {
   "cell_type": "code",
   "execution_count": null,
   "metadata": {},
   "outputs": [
    {
     "name": "stdout",
     "output_type": "stream",
     "text": [
      "3번째 요소 : 4\n",
      "대처 불가한 예외가 발생했습니다.\n",
      "exception: name '에러' is not defined\n"
     ]
    }
   ],
   "source": [
    "numbers = [23, 11, 7, 4, 12]\n",
    "\n",
    "try:\n",
    "    number_input = int(input(\"찾고싶은 값의 위치를 입력해주세요\"))\n",
    "    print(f\"{number_input}번째 요소 : {numbers[number_input]}\")\n",
    "    에러.만들자\n",
    "except ValueError as exception:\n",
    "    print(\"정수로 입력해주세요\")\n",
    "    print(\"exception:\", exception)\n",
    "except IndexError:\n",
    "    print(\"리스트의 범위를 벗어났습니다. 입력값을 다시 확인해주세요\")\n",
    "    print(\"exception:\", exception)\n",
    "except Exception as exception:\n",
    "    print(\"대처 불가한 예외가 발생했습니다.\")\n",
    "    print(\"exception:\", exception)\n"
   ]
  },
  {
   "cell_type": "markdown",
   "metadata": {},
   "source": [
    "지금부터는 강의를 잠시 멈춰두고 아래 2가지 키워드에 대해서 여러분들이 이해한 방식대로 정리하는 시간을 가져보시기 바랍니다.\n",
    "- 예외 종류와 그에 대한 설명을 해주세요(구글링 필요)"
   ]
  },
  {
   "cell_type": "markdown",
   "metadata": {},
   "source": [
    "## 예외 종류\n",
    "\n",
    "## 1. 예외 클래스 계층 구조\n",
    "- BaseException: 모든 예외의 최상위 클래스.\n",
    "    - Exception: 일반적인 예외의 기본 클래스.\n",
    "        - ArithmeticError: 산술 연산 관련 예외.\n",
    "            - ZeroDivisionError: 0으로 나누는 경우 발생.\n",
    "            - OverflowError: 수치 연산 결과가 너무 큰 경우 발생.\n",
    "            - FloatingPointError: 부동소수점 연산 오류.\n",
    "        - LookupError: 시퀀스나 매핑에서 잘못된 키나 인덱스를 참조할 때 발생.\n",
    "            - IndexError: 시퀀스의 잘못된 인덱스 접근.\n",
    "            - KeyError: 딕셔너리의 잘못된 키 접근.\n",
    "        - ValueError: 값이 적합하지 않은 경우 발생.\n",
    "            - UnicodeError: 유니코드 관련 오류.\n",
    "                - UnicodeEncodeError: 유니코드 인코딩 실패.\n",
    "                - UnicodeDecodeError: 유니코드 디코딩 실패.\n",
    "                - UnicodeTranslateError: 유니코드 변환 실패.\n",
    "        - TypeError: 연산이나 함수의 인수가 부적합한 경우 발생.\n",
    "        - NameError: 존재하지 않는 변수 이름 참조.\n",
    "            - UnboundLocalError: 로컬 변수 참조 전에 할당되지 않은 경우.\n",
    "        - ImportError: 모듈 또는 특정 속성 불러오기 실패.\n",
    "            - ModuleNotFoundError: 모듈을 찾을 수 없는 경우.\n",
    "        - FileNotFoundError: 파일이 존재하지 않는 경우 발생.\n",
    "        - OSError: 운영체제 관련 예외.\n",
    "            - PermissionError: 권한 문제로 작업이 실패한 경우.\n",
    "            - TimeoutError: 작업 시간 초과.\n",
    "\n",
    "\n",
    "## 2. 주요 예외 클래스\n",
    "\n",
    "### 일반적인 예외\n",
    "\n",
    "- **`Exception`**: 대부분의 사용자 정의 예외는 이 클래스에서 파생됩니다.\n",
    "\n",
    "- **`ValueError`**: 함수에 부적절한 값을 전달했을 때.\n",
    "  ```python\n",
    "  int(\"not_a_number\")  # ValueError\n",
    "  ```\n",
    "\n",
    "- **`TypeError`**: 데이터 타입이 맞지 않을 때.\n",
    "  ```python\n",
    "  \"text\" + 5  # TypeError\n",
    "  ```\n",
    "\n",
    "- **`IndexError`**: 리스트나 튜플에서 잘못된 인덱스 접근.\n",
    "  ```python\n",
    "  lst = [1, 2, 3]\n",
    "  print(lst[5])  # IndexError\n",
    "  ```\n",
    "\n",
    "### 산술 연산 관련\n",
    "\n",
    "- **`ZeroDivisionError`**: 0으로 나눌 때.\n",
    "  ```python\n",
    "  1 / 0  # ZeroDivisionError\n",
    "  ```\n",
    "\n",
    "- **`OverflowError`**: 매우 큰 수치 연산이 발생할 때.\n",
    "  ```python\n",
    "  import math\n",
    "  print(math.exp(1000))  # OverflowError\n",
    "  ```\n",
    "\n",
    "### 파일 및 입출력 관련\n",
    "\n",
    "- **`FileNotFoundError`**: 존재하지 않는 파일 접근.\n",
    "  ```python\n",
    "  open(\"non_existent_file.txt\")  # FileNotFoundError\n",
    "  ```\n",
    "\n",
    "- **`PermissionError`**: 파일 권한 부족.\n",
    "\n",
    "- **`OSError`**: 파일 또는 운영체제 관련 일반적인 오류.\n",
    "\n",
    "### 키와 이름 관련\n",
    "\n",
    "- **`KeyError`**: 딕셔너리에서 없는 키 접근.\n",
    "  ```python\n",
    "  d = {\"a\": 1}\n",
    "  print(d[\"b\"])  # KeyError\n",
    "  ```\n",
    "\n",
    "- **`NameError`**: 정의되지 않은 변수 사용.\n",
    "  ```python\n",
    "  print(undeclared_variable)  # NameError\n",
    "  ```\n",
    "\n",
    "### 모듈 및 임포트 관련\n",
    "\n",
    "- **`ImportError`**: 모듈 불러오기 실패.\n",
    "  ```python\n",
    "  from non_existent_module import something  # ImportError\n",
    "  ```\n",
    "\n",
    "- **`ModuleNotFoundError`**: 존재하지 않는 모듈을 임포트하려고 할 때.\n",
    "  ```python\n",
    "  import non_existent_module  # ModuleNotFoundError\n",
    "  ```\n",
    "\n",
    "### 사용자 정의 예외\n",
    "\n",
    "- 사용자 정의 예외는 기본적으로 `Exception`을 상속받아 생성합니다.\n",
    "  ```python\n",
    "  class MyCustomError(Exception):\n",
    "      pass\n",
    "\n",
    "  raise MyCustomError(\"This is a custom exception\")\n",
    "  ```\n",
    "\n",
    "---\n",
    "\n",
    "## 3. 모든 예외 목록\n",
    "\n",
    "아래는 파이썬 표준 라이브러리에서 제공하는 주요 예외 클래스들입니다:\n",
    "\n",
    "- **`ArithmeticError`**, **`AssertionError`**, **`AttributeError`**\n",
    "- **`EOFError`**, **`FloatingPointError`**\n",
    "- **`GeneratorExit`**, **`KeyboardInterrupt`**, **`MemoryError`**\n",
    "- **`NotImplementedError`**, **`RecursionError`**, **`RuntimeError`**\n",
    "- **`StopIteration`**, **`SyntaxError`**, **`IndentationError`**, **`TabError`**\n",
    "- **`SystemError`**, **`SystemExit`**, **`TypeError`**\n",
    "- **`UnboundLocalError`**, **`ValueError`**, **`ZeroDivisionError`**\n"
   ]
  }
 ],
 "metadata": {
  "kernelspec": {
   "display_name": "Python 3",
   "language": "python",
   "name": "python3"
  },
  "language_info": {
   "codemirror_mode": {
    "name": "ipython",
    "version": 3
   },
   "file_extension": ".py",
   "mimetype": "text/x-python",
   "name": "python",
   "nbconvert_exporter": "python",
   "pygments_lexer": "ipython3",
   "version": "3.11.9"
  }
 },
 "nbformat": 4,
 "nbformat_minor": 2
}
