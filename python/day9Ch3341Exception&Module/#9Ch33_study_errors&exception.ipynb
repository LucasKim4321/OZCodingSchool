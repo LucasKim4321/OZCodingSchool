{
 "cells": [
  {
   "cell_type": "markdown",
   "metadata": {},
   "source": [
    "오류의 종류\n",
    "\n",
    "프로그램 언어의 오류에는 크게 두 가지 종류가 있습니다.\n",
    "\n",
    "- 프로그램 실행 전에 발생하는 오류를 구문 오류라고 함\n",
    "- 프로그램 실행 중에 발생 하는 오류를 예외 또는 런타임 오류라고 함\n",
    "\n",
    "[구문 오류]\n",
    "\n",
    "- 괄호의 개수, 들여쓰기 문제 등으로 프로그램이 실행되기도 전에 발생하는 오류"
   ]
  },
  {
   "cell_type": "code",
   "execution_count": 3,
   "metadata": {},
   "outputs": [
    {
     "name": "stdout",
     "output_type": "stream",
     "text": [
      "오류는 아주 사소한것부터 발생합니다.\n"
     ]
    }
   ],
   "source": [
    "# 구문오류 예제\n",
    "print(\"오류는 아주 사소한것부터 발생합니다.\")"
   ]
  },
  {
   "cell_type": "code",
   "execution_count": 4,
   "metadata": {},
   "outputs": [
    {
     "ename": "SyntaxError",
     "evalue": "incomplete input (3234582578.py, line 2)",
     "output_type": "error",
     "traceback": [
      "\u001b[1;36m  Cell \u001b[1;32mIn[4], line 2\u001b[1;36m\u001b[0m\n\u001b[1;33m    print(\"오류는 아주 사소한것부터 발생합니다.\"\u001b[0m\n\u001b[1;37m                                ^\u001b[0m\n\u001b[1;31mSyntaxError\u001b[0m\u001b[1;31m:\u001b[0m incomplete input\n"
     ]
    }
   ],
   "source": [
    "# 닫는 괄호를 생략한 경우\n",
    "print(\"오류는 아주 사소한것부터 발생합니다.\"\n",
    "      \n",
    "# SyntaxError : 구문 오류"
   ]
  },
  {
   "cell_type": "markdown",
   "metadata": {},
   "source": [
    "SyntaxError : 구문에 문제가 발생해 프로그램이 실행조차 되지 않는 오류\n",
    "\n",
    "-> 이런경우 구문 오류를 해결하지 않으면 프로그램을 실행할 수 없음"
   ]
  },
  {
   "cell_type": "markdown",
   "metadata": {},
   "source": [
    "[예외]\n",
    "\n",
    "- 예외 또는 런타임 오류는 실행 중에 발생하는 오류를 의미함"
   ]
  },
  {
   "cell_type": "code",
   "execution_count": 5,
   "metadata": {},
   "outputs": [
    {
     "name": "stdout",
     "output_type": "stream",
     "text": [
      "오류는 아주 사소한것부터 발생합니다.\n"
     ]
    },
    {
     "ename": "NameError",
     "evalue": "name 'dogs' is not defined",
     "output_type": "error",
     "traceback": [
      "\u001b[1;31m---------------------------------------------------------------------------\u001b[0m",
      "\u001b[1;31mNameError\u001b[0m                                 Traceback (most recent call last)",
      "Cell \u001b[1;32mIn[5], line 5\u001b[0m\n\u001b[0;32m      2\u001b[0m \u001b[38;5;28mprint\u001b[39m(\u001b[38;5;124m\"\u001b[39m\u001b[38;5;124m오류는 아주 사소한것부터 발생합니다.\u001b[39m\u001b[38;5;124m\"\u001b[39m)\n\u001b[0;32m      4\u001b[0m \u001b[38;5;66;03m# 예외 발생\u001b[39;00m\n\u001b[1;32m----> 5\u001b[0m \u001b[43mdogs\u001b[49m\u001b[38;5;241m.\u001b[39mappend(\u001b[38;5;124m\"\u001b[39m\u001b[38;5;124m말티즈\u001b[39m\u001b[38;5;124m\"\u001b[39m)\n",
      "\u001b[1;31mNameError\u001b[0m: name 'dogs' is not defined"
     ]
    }
   ],
   "source": [
    "# 정상 실행\n",
    "print(\"오류는 아주 사소한것부터 발생합니다.\")\n",
    "\n",
    "# 예외 발생\n",
    "dogs.append(\"말티즈\")\n",
    "\n",
    "# NameError : 변수가 정의 되지 않음"
   ]
  },
  {
   "cell_type": "code",
   "execution_count": 7,
   "metadata": {},
   "outputs": [
    {
     "name": "stdout",
     "output_type": "stream",
     "text": [
      "오류는 아주 사소한것부터 발생합니다.\n",
      "['닥스훈트', '시바견', '말티즈']\n"
     ]
    }
   ],
   "source": [
    "# 정상 실행\n",
    "print(\"오류는 아주 사소한것부터 발생합니다.\")\n",
    "\n",
    "# 예외 발생\n",
    "dogs = ['닥스훈트','시바견']\n",
    "dogs.append(\"말티즈\")\n",
    "\n",
    "print(dogs)\n",
    "\n",
    "# NameError : 변수가 정의 되지 않음"
   ]
  },
  {
   "cell_type": "markdown",
   "metadata": {},
   "source": [
    "[기본 예외 처리]\n",
    "예외를 해결하는 모든것을 예외 처리라고 함\n",
    "\n",
    "예외 처리하는 2가지 방법\n",
    "- 조건문을 사용하는 방법\n",
    "- try 구문을 사용하는 방법"
   ]
  },
  {
   "cell_type": "code",
   "execution_count": 9,
   "metadata": {},
   "outputs": [
    {
     "name": "stdout",
     "output_type": "stream",
     "text": [
      "삼각형의 넓이는 7.5입니다.\n"
     ]
    }
   ],
   "source": [
    "x,y = map(int, input(\"밑변과 높이를 입력해주세요.\").strip().split(\" \"))\n",
    "\n",
    "\n",
    "print(f'삼각형의 넓이는 {x*y/2}입니다.')"
   ]
  },
  {
   "cell_type": "code",
   "execution_count": 10,
   "metadata": {},
   "outputs": [
    {
     "ename": "ValueError",
     "evalue": "invalid literal for int() with base 10: '3cm'",
     "output_type": "error",
     "traceback": [
      "\u001b[1;31m---------------------------------------------------------------------------\u001b[0m",
      "\u001b[1;31mValueError\u001b[0m                                Traceback (most recent call last)",
      "Cell \u001b[1;32mIn[10], line 3\u001b[0m\n\u001b[0;32m      1\u001b[0m \u001b[38;5;66;03m# x=3cm, y=5cm\u001b[39;00m\n\u001b[1;32m----> 3\u001b[0m x,y \u001b[38;5;241m=\u001b[39m \u001b[38;5;28mmap\u001b[39m(\u001b[38;5;28mint\u001b[39m, \u001b[38;5;28minput\u001b[39m(\u001b[38;5;124m\"\u001b[39m\u001b[38;5;124m밑변과 높이를 입력해주세요.\u001b[39m\u001b[38;5;124m\"\u001b[39m)\u001b[38;5;241m.\u001b[39mstrip()\u001b[38;5;241m.\u001b[39msplit(\u001b[38;5;124m\"\u001b[39m\u001b[38;5;124m \u001b[39m\u001b[38;5;124m\"\u001b[39m))\n\u001b[0;32m      6\u001b[0m \u001b[38;5;28mprint\u001b[39m(\u001b[38;5;124mf\u001b[39m\u001b[38;5;124m'\u001b[39m\u001b[38;5;124m삼각형의 넓이는 \u001b[39m\u001b[38;5;132;01m{\u001b[39;00mx\u001b[38;5;241m*\u001b[39my\u001b[38;5;241m/\u001b[39m\u001b[38;5;241m2\u001b[39m\u001b[38;5;132;01m}\u001b[39;00m\u001b[38;5;124m입니다.\u001b[39m\u001b[38;5;124m'\u001b[39m)\n",
      "\u001b[1;31mValueError\u001b[0m: invalid literal for int() with base 10: '3cm'"
     ]
    }
   ],
   "source": [
    "# x=3cm, y=5cm\n",
    "\n",
    "x,y = map(int, input(\"밑변과 높이를 입력해주세요.\").strip().split(\" \"))\n",
    "\n",
    "print(f'삼각형의 넓이는 {x*y/2}입니다.')"
   ]
  },
  {
   "cell_type": "code",
   "execution_count": 12,
   "metadata": {},
   "outputs": [
    {
     "name": "stdout",
     "output_type": "stream",
     "text": [
      "정수로 입력하지 않아 계산이 불가합니다.\n"
     ]
    }
   ],
   "source": [
    "# x=3cm, y=5cm\n",
    "\n",
    "x,y = input(\"밑변과 높이를 입력해주세요.\").strip().split(\" \")\n",
    "\n",
    "if x.isdigit() and y.isdigit():\n",
    "    x, y = int(x), int(y)\n",
    "    print(f'삼각형의 넓이는 {x*y/2}입니다.')\n",
    "else:\n",
    "    print(\"정수로 입력하지 않아 계산이 불가합니다.\")\n"
   ]
  },
  {
   "cell_type": "markdown",
   "metadata": {},
   "source": [
    "지금부터는 강의를 잠시 멈춰두고 아래 3가지 키워드에 대해서 여러분들이 이해한 방식대로 정리하는 시간을 가져보시기 바랍니다.\n",
    "- 오류의 종류에 대해 설명해주세요\n",
    "    - SyntaxError(구문오류), NameError(변수 미정의),ValueError(잘못된 값) 등이 있음.\n",
    "\n",
    "- 오류 종류별로 해결할 수 있는 방법에 대해 설명해주세요  \n",
    "    - if 조건 문을 사용하거나 try 구문을 이용해서 예외 처리\n",
    "\n",
    "- isdigit() 함수에 대해 설명해주세요  \n",
    "    - isdigit()함수는 문자타입 숫자인지 판단하는 함수로 숫자 문자만 입력했을 경우에만 True를 반환함.  \n",
    "    - 음수 -10와 같은 거는 False  '-'가 숫자가 아님."
   ]
  }
 ],
 "metadata": {
  "kernelspec": {
   "display_name": "Python 3",
   "language": "python",
   "name": "python3"
  },
  "language_info": {
   "codemirror_mode": {
    "name": "ipython",
    "version": 3
   },
   "file_extension": ".py",
   "mimetype": "text/x-python",
   "name": "python",
   "nbconvert_exporter": "python",
   "pygments_lexer": "ipython3",
   "version": "3.11.9"
  }
 },
 "nbformat": 4,
 "nbformat_minor": 2
}
