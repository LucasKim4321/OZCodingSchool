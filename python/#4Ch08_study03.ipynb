{
 "cells": [
  {
   "cell_type": "code",
   "execution_count": 1,
   "metadata": {},
   "outputs": [],
   "source": [
    "#1. int(integer) : 정수\n",
    "#2. float(float) : 실수\n",
    "#3. str(string) : 문자\n",
    "#4. bool(bool, boolean) : c참 또는 거짓, true 또는 false, 1 또는 0\n",
    "\n",
    "#5. list\n",
    "#6. turple\n",
    "#7. dict\n",
    "#8. set"
   ]
  },
  {
   "cell_type": "code",
   "execution_count": 8,
   "metadata": {},
   "outputs": [
    {
     "name": "stdout",
     "output_type": "stream",
     "text": [
      "True\n",
      "False\n",
      "True\n",
      "True\n",
      "False\n"
     ]
    }
   ],
   "source": [
    "#bool의 쇼타임\n",
    "# 주의할점 True x true False x false\n",
    "\n",
    "#부등호\n",
    "print(3 > 1)\n",
    "print(3 == 1)\n",
    "print(3 == 3)\n",
    "print( 20 != 5)\n",
    "print( 20 != 20)"
   ]
  },
  {
   "cell_type": "code",
   "execution_count": 12,
   "metadata": {},
   "outputs": [
    {
     "data": {
      "text/plain": [
       "True"
      ]
     },
     "execution_count": 12,
     "metadata": {},
     "output_type": "execute_result"
    }
   ],
   "source": [
    "#문자열 비교\n",
    "\"python\" == \"Python\"\n",
    "\"Python\" == \"Python\"\n",
    "\"python\" != \"Python\""
   ]
  },
  {
   "cell_type": "code",
   "execution_count": 15,
   "metadata": {},
   "outputs": [
    {
     "data": {
      "text/plain": [
       "False"
      ]
     },
     "execution_count": 15,
     "metadata": {},
     "output_type": "execute_result"
    }
   ],
   "source": [
    "# 부등호\n",
    "5 >= 5\n",
    "5 < 4"
   ]
  },
  {
   "cell_type": "code",
   "execution_count": 93,
   "metadata": {},
   "outputs": [
    {
     "name": "stdout",
     "output_type": "stream",
     "text": [
      "2796903113680\n",
      "140709860504424\n"
     ]
    },
    {
     "name": "stderr",
     "output_type": "stream",
     "text": [
      "<>:4: SyntaxWarning: \"is\" with a literal. Did you mean \"==\"?\n",
      "<>:6: SyntaxWarning: \"is\" with a literal. Did you mean \"==\"?\n",
      "<>:4: SyntaxWarning: \"is\" with a literal. Did you mean \"==\"?\n",
      "<>:6: SyntaxWarning: \"is\" with a literal. Did you mean \"==\"?\n",
      "C:\\Users\\xowls\\AppData\\Local\\Temp\\ipykernel_17636\\2769069186.py:4: SyntaxWarning: \"is\" with a literal. Did you mean \"==\"?\n",
      "  3 is 3 # True\n",
      "C:\\Users\\xowls\\AppData\\Local\\Temp\\ipykernel_17636\\2769069186.py:6: SyntaxWarning: \"is\" with a literal. Did you mean \"==\"?\n",
      "  3.0 is 3  # False\n"
     ]
    }
   ],
   "source": [
    "# 중요\n",
    "# ==, is\n",
    "\n",
    "3 is 3 # True\n",
    "3 == 3  # True\n",
    "3.0 is 3  # False\n",
    "3.0 ==3  # True\n",
    "\n",
    "print(id(3.0))\n",
    "print(id(3))\n"
   ]
  },
  {
   "cell_type": "markdown",
   "metadata": {},
   "source": [
    "미션 : 값 비교에는 is를 쓰면 안되는데 그 이유를 찾아서 기술 블로그에 작성해보세요\n",
    "\n",
    "is 연산자는 **객체의 ID(메모리 주소)**를 비교하는 연산자입니다. 반면, 값 비교는 == 연산자를 사용해야 합니다. 두 연산자의 차이점과 is를 값 비교에 사용하면 안 되는 이유를 자세히 설명하겠습니다.\n",
    "\n",
    "🔍 1. is와 ==의 차이\n",
    "is\n",
    "\n",
    "두 객체가 동일한 메모리 위치에 존재하는지를 확인합니다.\n",
    "즉, 두 변수가 동일한 객체를 참조하는지 검사합니다.\n",
    "==\n",
    "\n",
    "두 객체의 값이 같은지를 확인합니다.\n",
    "객체가 서로 다른 메모리 위치에 있더라도 값이 같다면 ==는 True를 반환합니다."
   ]
  },
  {
   "cell_type": "code",
   "execution_count": 99,
   "metadata": {},
   "outputs": [
    {
     "data": {
      "text/plain": [
       "False"
      ]
     },
     "execution_count": 99,
     "metadata": {},
     "output_type": "execute_result"
    }
   ],
   "source": [
    "# 본격적인 논리연산자\n",
    "# True : 1 / False : 0\n",
    "\n",
    "True and True # 1 * 1 = 1\n",
    "True and False # 1 * 0 = 0\n",
    "False and True  # 0 * 1 - 0\n",
    "False and False  # 0 * 0 = 0\n"
   ]
  },
  {
   "cell_type": "code",
   "execution_count": null,
   "metadata": {},
   "outputs": [],
   "source": [
    "# 본격적인 논리연산자\n",
    "# True : 1 / False : 0\n",
    "\n",
    "True and True # 1 * 1 = 1\n",
    "True and False # 1 * 0 = 1\n",
    "False and True  # 0 * 1 - 1\n",
    "False and False  # 0 * 0 = 0"
   ]
  },
  {
   "cell_type": "code",
   "execution_count": 103,
   "metadata": {},
   "outputs": [
    {
     "data": {
      "text/plain": [
       "True"
      ]
     },
     "execution_count": 103,
     "metadata": {},
     "output_type": "execute_result"
    }
   ],
   "source": [
    "# not\n",
    "\n",
    "not True\n",
    "\n",
    "not False"
   ]
  },
  {
   "cell_type": "code",
   "execution_count": 113,
   "metadata": {},
   "outputs": [
    {
     "name": "stderr",
     "output_type": "stream",
     "text": [
      "<>:6: SyntaxWarning: \"is not\" with a literal. Did you mean \"!=\"?\n",
      "<>:6: SyntaxWarning: \"is not\" with a literal. Did you mean \"!=\"?\n",
      "C:\\Users\\xowls\\AppData\\Local\\Temp\\ipykernel_17636\\761492978.py:6: SyntaxWarning: \"is not\" with a literal. Did you mean \"!=\"?\n",
      "  not 7 is 7.0  # false -> true\n"
     ]
    },
    {
     "data": {
      "text/plain": [
       "True"
      ]
     },
     "execution_count": 113,
     "metadata": {},
     "output_type": "execute_result"
    }
   ],
   "source": [
    "# 점점 복잡해지는 조건들!\n",
    "\n",
    "10 == 12 or 6 != 2  #false\n",
    "2 > 5 and 7 == 7  #false\n",
    "not 14 <= 15 # true -> false\n",
    "not 7 is 7.0  # false -> true"
   ]
  },
  {
   "cell_type": "code",
   "execution_count": 118,
   "metadata": {},
   "outputs": [
    {
     "data": {
      "text/plain": [
       "True"
      ]
     },
     "execution_count": 118,
     "metadata": {},
     "output_type": "execute_result"
    }
   ],
   "source": [
    "# 문자열?? 너 뭐야 True 트루야?\n",
    "bool(\"힘들어요 여러분\")"
   ]
  },
  {
   "cell_type": "code",
   "execution_count": 126,
   "metadata": {},
   "outputs": [
    {
     "name": "stdout",
     "output_type": "stream",
     "text": [
      "False\n",
      "False\n",
      "False\n",
      "True\n",
      "힘들어요\n",
      "42\n"
     ]
    }
   ],
   "source": [
    "# 굉장히 중요한 내용\n",
    "\n",
    "# 단락 평가\n",
    "# False와 and가 동시에 나왔기 때문에 무조건 False (뒤에까지 비교하지 않음)\n",
    "print(False and True)  # False\n",
    "print(False and \"힘들어요\")  # False\n",
    "\n",
    "print(True and False)  # False\n",
    "\n",
    "print(True or '힘들어요')  # True\n",
    "print(True and '힘들어요')  # 힘들어요\n",
    "print(True and 42)\n",
    "\n",
    "\"\"\"\n",
    "A and B 표현식에서 Python은 다음과 같은 규칙을 따릅니다:\n",
    "A가 False라면: A를 반환합니다. (B는 검사하지 않음)\n",
    "A가 True라면: B를 반환합니다.\n",
    "즉:\n",
    "\n",
    "첫 번째 값(A)이 False라면 두 번째 값(B)는 검사하지 않고 A가 반환됩니다.\n",
    "첫 번째 값(A)이 True라면 두 번째 값(B)의 자체 값이 반환됩니다.\n",
    "\n",
    "\n",
    "and 연산자는 논리적으로 True/False를 반환하는 것 같지만, 실제로는 두 값 중 하나를 반환합니다.\n",
    "True와 False는 Python에서 모든 객체가 bool()로 평가될 때의 논리적 의미입니다.\n",
    "문자열 '힘들어요'는 비어있지 않기 때문에 True로 평가됩니다.\n",
    "따라서 True and '힘들어요'는 '힘들어요'를 반환합니다.\n",
    "\"\"\"\n"
   ]
  }
 ],
 "metadata": {
  "kernelspec": {
   "display_name": "Python 3",
   "language": "python",
   "name": "python3"
  },
  "language_info": {
   "codemirror_mode": {
    "name": "ipython",
    "version": 3
   },
   "file_extension": ".py",
   "mimetype": "text/x-python",
   "name": "python",
   "nbconvert_exporter": "python",
   "pygments_lexer": "ipython3",
   "version": "3.11.9"
  }
 },
 "nbformat": 4,
 "nbformat_minor": 2
}
