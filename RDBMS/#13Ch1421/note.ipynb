{
 "cells": [
  {
   "cell_type": "markdown",
   "metadata": {},
   "source": [
    "1) 효율적인 데이터베이스 스키마 설계를 위해 반드시 고려해야 하는 요소들은 무엇인가요?\n",
    "2) 동시성 이슈를 해결하거나 최소화하기 위해 실무에서 자주 사용하는 패턴이나 기법이 있나요?\n",
    "3) 데이터베이스 성능 병목 현상을 분석할 때 사용하는 도구나 접근 방식은 무엇인가요?\n",
    "4) SQL 쿼리 성능을 측정하거나 개선하기 위해 자주 사용하는 전략은 무엇인가요?\n",
    "\n",
    "---\n",
    "\n",
    "1) 효율적인 쿼리는 인덱스를 통해 가능. 인덱스가 잘 활용되고 있는지는 쿼리의 실행 계획 확인\n",
    "2) 격리수준, 락. 격리수준에 따라 락의 수준도 달라짐.\n",
    "3) 3-1) 인덱스를 잘 타지 못해서 병목: 쿼리의 실행 계획 확인  \n",
    "3-2) 락: 락 조회 쿼리\n",
    "4) 쿼리의 실행 계획"
   ]
  },
  {
   "cell_type": "code",
   "execution_count": null,
   "metadata": {},
   "outputs": [],
   "source": []
  },
  {
   "cell_type": "markdown",
   "metadata": {},
   "source": [
    "Marmaid 코드로 짜줘"
   ]
  }
 ],
 "metadata": {
  "language_info": {
   "name": "python"
  }
 },
 "nbformat": 4,
 "nbformat_minor": 2
}
