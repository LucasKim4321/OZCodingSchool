{
 "cells": [
  {
   "cell_type": "markdown",
   "metadata": {},
   "source": []
  },
  {
   "cell_type": "code",
   "execution_count": null,
   "metadata": {},
   "outputs": [
    {
     "data": {
      "text/plain": [
       "'/Users/taejin/.wdm/drivers/chromedriver/mac64/132.0.6834.83/chromedriver-mac-arm64/chromedriver'"
      ]
     },
     "execution_count": 1,
     "metadata": {},
     "output_type": "execute_result"
    }
   ],
   "source": [
    "# webdriver-manager 라이브러리 불러오기, 크롬드라이버 설치\n",
    "# from webdriver_manager.chrome import ChromeDriverManager\n",
    "# ChromeDriverManager().install()"
   ]
  },
  {
   "cell_type": "code",
   "metadata": {
    "ExecuteTime": {
     "end_time": "2025-01-22T02:42:16.502238Z",
     "start_time": "2025-01-22T02:42:15.506895Z"
    }
   },
   "source": [
    "# 브라우저 실행\n",
    "from selenium import webdriver\n",
    "browser = webdriver.Chrome()"
   ],
   "outputs": [],
   "execution_count": 1
  },
  {
   "cell_type": "code",
   "metadata": {
    "ExecuteTime": {
     "end_time": "2025-01-22T02:40:42.980907Z",
     "start_time": "2025-01-22T02:40:42.846111Z"
    }
   },
   "source": [
    "# url 실행\n",
    "# url = 'https://google.com'\n",
    "url = 'https://www.yes24.com/Product/Category/BestSeller?CategoryNumber=001&sumgb=06'\n",
    "browser.get(url)"
   ],
   "outputs": [
    {
     "ename": "NoSuchWindowException",
     "evalue": "Message: no such window: target window already closed\nfrom unknown error: web view not found\n  (Session info: chrome=132.0.6834.84)\nStacktrace:\n0   chromedriver                        0x0000000102b677a4 cxxbridge1$str$ptr + 2589716\n1   chromedriver                        0x0000000102b6005c cxxbridge1$str$ptr + 2559180\n2   chromedriver                        0x0000000102703f5c cxxbridge1$string$len + 88260\n3   chromedriver                        0x00000001026df87c chromedriver + 129148\n4   chromedriver                        0x000000010276f91c cxxbridge1$string$len + 529028\n5   chromedriver                        0x0000000102782800 cxxbridge1$string$len + 606568\n6   chromedriver                        0x000000010273ce40 cxxbridge1$string$len + 321448\n7   chromedriver                        0x000000010273da88 cxxbridge1$string$len + 324592\n8   chromedriver                        0x0000000102b328a0 cxxbridge1$str$ptr + 2372880\n9   chromedriver                        0x0000000102b35bc4 cxxbridge1$str$ptr + 2385972\n10  chromedriver                        0x0000000102b196e0 cxxbridge1$str$ptr + 2270032\n11  chromedriver                        0x0000000102b36484 cxxbridge1$str$ptr + 2388212\n12  chromedriver                        0x0000000102b0b324 cxxbridge1$str$ptr + 2211732\n13  chromedriver                        0x0000000102b510a0 cxxbridge1$str$ptr + 2497808\n14  chromedriver                        0x0000000102b5121c cxxbridge1$str$ptr + 2498188\n15  chromedriver                        0x0000000102b5fcd0 cxxbridge1$str$ptr + 2558272\n16  libsystem_pthread.dylib             0x000000018bbbf2e4 _pthread_start + 136\n17  libsystem_pthread.dylib             0x000000018bbba0fc thread_start + 8\n",
     "output_type": "error",
     "traceback": [
      "\u001B[0;31m---------------------------------------------------------------------------\u001B[0m",
      "\u001B[0;31mNoSuchWindowException\u001B[0m                     Traceback (most recent call last)",
      "Cell \u001B[0;32mIn[3], line 4\u001B[0m\n\u001B[1;32m      1\u001B[0m \u001B[38;5;66;03m# url 실행\u001B[39;00m\n\u001B[1;32m      2\u001B[0m \u001B[38;5;66;03m# url = 'https://google.com'\u001B[39;00m\n\u001B[1;32m      3\u001B[0m url \u001B[38;5;241m=\u001B[39m \u001B[38;5;124m'\u001B[39m\u001B[38;5;124mhttps://www.yes24.com/Product/Category/BestSeller?CategoryNumber=001&sumgb=06\u001B[39m\u001B[38;5;124m'\u001B[39m\n\u001B[0;32m----> 4\u001B[0m \u001B[43mbrowser\u001B[49m\u001B[38;5;241;43m.\u001B[39;49m\u001B[43mget\u001B[49m\u001B[43m(\u001B[49m\u001B[43murl\u001B[49m\u001B[43m)\u001B[49m\n",
      "File \u001B[0;32m/Library/Frameworks/Python.framework/Versions/3.13/lib/python3.13/site-packages/selenium/webdriver/remote/webdriver.py:454\u001B[0m, in \u001B[0;36mWebDriver.get\u001B[0;34m(self, url)\u001B[0m\n\u001B[1;32m    436\u001B[0m \u001B[38;5;28;01mdef\u001B[39;00m\u001B[38;5;250m \u001B[39m\u001B[38;5;21mget\u001B[39m(\u001B[38;5;28mself\u001B[39m, url: \u001B[38;5;28mstr\u001B[39m) \u001B[38;5;241m-\u001B[39m\u001B[38;5;241m>\u001B[39m \u001B[38;5;28;01mNone\u001B[39;00m:\n\u001B[1;32m    437\u001B[0m \u001B[38;5;250m    \u001B[39m\u001B[38;5;124;03m\"\"\"Navigate the browser to the specified URL in the current window or\u001B[39;00m\n\u001B[1;32m    438\u001B[0m \u001B[38;5;124;03m    tab.\u001B[39;00m\n\u001B[1;32m    439\u001B[0m \n\u001B[0;32m   (...)\u001B[0m\n\u001B[1;32m    452\u001B[0m \u001B[38;5;124;03m    >>> driver.get(\"https://example.com\")\u001B[39;00m\n\u001B[1;32m    453\u001B[0m \u001B[38;5;124;03m    \"\"\"\u001B[39;00m\n\u001B[0;32m--> 454\u001B[0m     \u001B[38;5;28;43mself\u001B[39;49m\u001B[38;5;241;43m.\u001B[39;49m\u001B[43mexecute\u001B[49m\u001B[43m(\u001B[49m\u001B[43mCommand\u001B[49m\u001B[38;5;241;43m.\u001B[39;49m\u001B[43mGET\u001B[49m\u001B[43m,\u001B[49m\u001B[43m \u001B[49m\u001B[43m{\u001B[49m\u001B[38;5;124;43m\"\u001B[39;49m\u001B[38;5;124;43murl\u001B[39;49m\u001B[38;5;124;43m\"\u001B[39;49m\u001B[43m:\u001B[49m\u001B[43m \u001B[49m\u001B[43murl\u001B[49m\u001B[43m}\u001B[49m\u001B[43m)\u001B[49m\n",
      "File \u001B[0;32m/Library/Frameworks/Python.framework/Versions/3.13/lib/python3.13/site-packages/selenium/webdriver/remote/webdriver.py:429\u001B[0m, in \u001B[0;36mWebDriver.execute\u001B[0;34m(self, driver_command, params)\u001B[0m\n\u001B[1;32m    427\u001B[0m response \u001B[38;5;241m=\u001B[39m \u001B[38;5;28mself\u001B[39m\u001B[38;5;241m.\u001B[39mcommand_executor\u001B[38;5;241m.\u001B[39mexecute(driver_command, params)\n\u001B[1;32m    428\u001B[0m \u001B[38;5;28;01mif\u001B[39;00m response:\n\u001B[0;32m--> 429\u001B[0m     \u001B[38;5;28;43mself\u001B[39;49m\u001B[38;5;241;43m.\u001B[39;49m\u001B[43merror_handler\u001B[49m\u001B[38;5;241;43m.\u001B[39;49m\u001B[43mcheck_response\u001B[49m\u001B[43m(\u001B[49m\u001B[43mresponse\u001B[49m\u001B[43m)\u001B[49m\n\u001B[1;32m    430\u001B[0m     response[\u001B[38;5;124m\"\u001B[39m\u001B[38;5;124mvalue\u001B[39m\u001B[38;5;124m\"\u001B[39m] \u001B[38;5;241m=\u001B[39m \u001B[38;5;28mself\u001B[39m\u001B[38;5;241m.\u001B[39m_unwrap_value(response\u001B[38;5;241m.\u001B[39mget(\u001B[38;5;124m\"\u001B[39m\u001B[38;5;124mvalue\u001B[39m\u001B[38;5;124m\"\u001B[39m, \u001B[38;5;28;01mNone\u001B[39;00m))\n\u001B[1;32m    431\u001B[0m     \u001B[38;5;28;01mreturn\u001B[39;00m response\n",
      "File \u001B[0;32m/Library/Frameworks/Python.framework/Versions/3.13/lib/python3.13/site-packages/selenium/webdriver/remote/errorhandler.py:232\u001B[0m, in \u001B[0;36mErrorHandler.check_response\u001B[0;34m(self, response)\u001B[0m\n\u001B[1;32m    230\u001B[0m         alert_text \u001B[38;5;241m=\u001B[39m value[\u001B[38;5;124m\"\u001B[39m\u001B[38;5;124malert\u001B[39m\u001B[38;5;124m\"\u001B[39m]\u001B[38;5;241m.\u001B[39mget(\u001B[38;5;124m\"\u001B[39m\u001B[38;5;124mtext\u001B[39m\u001B[38;5;124m\"\u001B[39m)\n\u001B[1;32m    231\u001B[0m     \u001B[38;5;28;01mraise\u001B[39;00m exception_class(message, screen, stacktrace, alert_text)  \u001B[38;5;66;03m# type: ignore[call-arg]  # mypy is not smart enough here\u001B[39;00m\n\u001B[0;32m--> 232\u001B[0m \u001B[38;5;28;01mraise\u001B[39;00m exception_class(message, screen, stacktrace)\n",
      "\u001B[0;31mNoSuchWindowException\u001B[0m: Message: no such window: target window already closed\nfrom unknown error: web view not found\n  (Session info: chrome=132.0.6834.84)\nStacktrace:\n0   chromedriver                        0x0000000102b677a4 cxxbridge1$str$ptr + 2589716\n1   chromedriver                        0x0000000102b6005c cxxbridge1$str$ptr + 2559180\n2   chromedriver                        0x0000000102703f5c cxxbridge1$string$len + 88260\n3   chromedriver                        0x00000001026df87c chromedriver + 129148\n4   chromedriver                        0x000000010276f91c cxxbridge1$string$len + 529028\n5   chromedriver                        0x0000000102782800 cxxbridge1$string$len + 606568\n6   chromedriver                        0x000000010273ce40 cxxbridge1$string$len + 321448\n7   chromedriver                        0x000000010273da88 cxxbridge1$string$len + 324592\n8   chromedriver                        0x0000000102b328a0 cxxbridge1$str$ptr + 2372880\n9   chromedriver                        0x0000000102b35bc4 cxxbridge1$str$ptr + 2385972\n10  chromedriver                        0x0000000102b196e0 cxxbridge1$str$ptr + 2270032\n11  chromedriver                        0x0000000102b36484 cxxbridge1$str$ptr + 2388212\n12  chromedriver                        0x0000000102b0b324 cxxbridge1$str$ptr + 2211732\n13  chromedriver                        0x0000000102b510a0 cxxbridge1$str$ptr + 2497808\n14  chromedriver                        0x0000000102b5121c cxxbridge1$str$ptr + 2498188\n15  chromedriver                        0x0000000102b5fcd0 cxxbridge1$str$ptr + 2558272\n16  libsystem_pthread.dylib             0x000000018bbbf2e4 _pthread_start + 136\n17  libsystem_pthread.dylib             0x000000018bbba0fc thread_start + 8\n"
     ]
    }
   ],
   "execution_count": 3
  },
  {
   "cell_type": "code",
   "metadata": {
    "ExecuteTime": {
     "end_time": "2025-01-22T02:27:39.137946Z",
     "start_time": "2025-01-22T02:27:39.053431Z"
    }
   },
   "source": [
    "# 요소 가져오기기\n",
    "from selenium.webdriver.common.by import By\n",
    "# browser.find_element(By.CLASS_NAME, 'RNmpXc').text\n",
    "# browser.find_element(By.CLASS_NAME, 'RNmpXc').get_attribute('value')\n",
    "# <input class=\"RNmpXc\" value=\"I’m Feeling Lucky\" aria-label=\"I’m Feeling Lucky\" name=\"btnI\" type=\"submit\" jsaction=\"trigger.kWlxhc\" data-ved=\"0ahUKEwjqpdiAu4SLAxVF1zQHHY5tMUIQ19QECBQ\">\n",
    "\n",
    "# 1페이지의 링크 데이터 전부 수집\n",
    "\n",
    "# 1개의 베스트 셀러 링크 수집\n",
    "# browser.find_element(By.CLASS_NAME, 'gd_name').get_attribute('href')\n",
    "\n",
    "# 여러개의 베스트 셀러 링크 수집\n",
    "datas = browser.find_elements(By.CLASS_NAME, 'gd_name')\n",
    "\n",
    "for i in datas:\n",
    "    # print(i)\n",
    "    print(i.get_attribute('href'))"
   ],
   "outputs": [
    {
     "name": "stdout",
     "output_type": "stream",
     "text": [
      "https://www.yes24.com/Product/Goods/140285749\n",
      "https://www.yes24.com/Product/Goods/126590468\n",
      "https://www.yes24.com/Product/Goods/13137546\n",
      "https://www.yes24.com/Product/Goods/140199250\n",
      "https://www.yes24.com/Product/Goods/140199263\n",
      "https://www.yes24.com/Product/Goods/138282792\n",
      "https://www.yes24.com/Product/Goods/108422348\n",
      "https://www.yes24.com/Product/Goods/125557465\n",
      "https://www.yes24.com/Product/Goods/103495056\n",
      "https://www.yes24.com/Product/Goods/140231250\n",
      "https://www.yes24.com/Product/Goods/136298166\n",
      "https://www.yes24.com/Product/Goods/124043812\n",
      "https://www.yes24.com/Product/Goods/124043802\n",
      "https://www.yes24.com/Product/Goods/140371473\n",
      "https://www.yes24.com/Product/Goods/81003394\n",
      "https://www.yes24.com/Product/Goods/141377991\n",
      "https://www.yes24.com/Product/Goods/123400303\n",
      "https://www.yes24.com/Product/Goods/141378033\n",
      "https://www.yes24.com/Product/Goods/8759796\n",
      "https://www.yes24.com/Product/Goods/122120495\n",
      "https://www.yes24.com/Product/Goods/140537260\n",
      "https://www.yes24.com/Product/Goods/133809700\n",
      "https://www.yes24.com/Product/Goods/141311100\n",
      "https://www.yes24.com/Product/Goods/141311145\n"
     ]
    }
   ],
   "execution_count": 6
  },
  {
   "cell_type": "code",
   "metadata": {
    "ExecuteTime": {
     "end_time": "2025-01-22T02:28:04.642520Z",
     "start_time": "2025-01-22T02:27:52.306342Z"
    }
   },
   "source": [
    "# 3페이지까지의 링크 데이터 전부 수집\n",
    "# https://www.yes24.com/Product/Category/BestSeller?categoryNumber=001&pageNumber=3&pageSize=24\n",
    "import time\n",
    "\n",
    "link_list = []\n",
    "for i in range(1,4):\n",
    "    print(\"*\"*10,f\"현재 {i} 페이지 수집 중 입니다.\",\"*\"*10)\n",
    "    url = f'https://www.yes24.com/Product/Category/BestSeller?categoryNumber=001&pageNumber={i}&pageSize=24'\n",
    "    # print(url)\n",
    "\n",
    "    browser.get(url)\n",
    "    datas = browser.find_elements(By.CLASS_NAME, 'gd_name')\n",
    "\n",
    "    for i in datas:\n",
    "        # print(i)\n",
    "        link = i.get_attribute('href')\n",
    "        link_list.append(link)\n",
    "\n",
    "    time.sleep(3)\n",
    "    \n",
    "print(link_list)\n"
   ],
   "outputs": [
    {
     "name": "stdout",
     "output_type": "stream",
     "text": [
      "********** 현재 1 페이지 수집 중 입니다. **********\n",
      "********** 현재 2 페이지 수집 중 입니다. **********\n",
      "********** 현재 3 페이지 수집 중 입니다. **********\n",
      "['https://www.yes24.com/Product/Goods/140285749', 'https://www.yes24.com/Product/Goods/126590468', 'https://www.yes24.com/Product/Goods/13137546', 'https://www.yes24.com/Product/Goods/140199250', 'https://www.yes24.com/Product/Goods/140199263', 'https://www.yes24.com/Product/Goods/138282792', 'https://www.yes24.com/Product/Goods/108422348', 'https://www.yes24.com/Product/Goods/125557465', 'https://www.yes24.com/Product/Goods/103495056', 'https://www.yes24.com/Product/Goods/140231250', 'https://www.yes24.com/Product/Goods/136298166', 'https://www.yes24.com/Product/Goods/124043812', 'https://www.yes24.com/Product/Goods/124043802', 'https://www.yes24.com/Product/Goods/140371473', 'https://www.yes24.com/Product/Goods/81003394', 'https://www.yes24.com/Product/Goods/141377991', 'https://www.yes24.com/Product/Goods/123400303', 'https://www.yes24.com/Product/Goods/141378033', 'https://www.yes24.com/Product/Goods/8759796', 'https://www.yes24.com/Product/Goods/122120495', 'https://www.yes24.com/Product/Goods/140537260', 'https://www.yes24.com/Product/Goods/133809700', 'https://www.yes24.com/Product/Goods/141311100', 'https://www.yes24.com/Product/Goods/141311145', 'https://www.yes24.com/Product/Goods/67362730', 'https://www.yes24.com/Product/Goods/141403153', 'https://www.yes24.com/Product/Goods/140450264', 'https://www.yes24.com/Product/Goods/11467936', 'https://www.yes24.com/Product/Goods/116586303', 'https://www.yes24.com/Product/Goods/141311162', 'https://www.yes24.com/Product/Goods/133213071', 'https://www.yes24.com/Product/Goods/117014613', 'https://www.yes24.com/Product/Goods/141198750', 'https://www.yes24.com/Product/Goods/135854080', 'https://www.yes24.com/Product/Goods/141231108', 'https://www.yes24.com/Product/Goods/134602629', 'https://www.yes24.com/Product/Goods/60524285', 'https://www.yes24.com/Product/Goods/136734901', 'https://www.yes24.com/Product/Goods/139753235', 'https://www.yes24.com/Product/Goods/5926713', 'https://www.yes24.com/Product/Goods/140836732', 'https://www.yes24.com/Product/Goods/141267375', 'https://www.yes24.com/Product/Goods/138831340', 'https://www.yes24.com/Product/Goods/140072103', 'https://www.yes24.com/Product/Goods/139870454', 'https://www.yes24.com/Product/Goods/138336669', 'https://www.yes24.com/Product/Goods/140075936', 'https://www.yes24.com/Product/Goods/141267373', 'https://www.yes24.com/Product/Goods/131930939', 'https://www.yes24.com/Product/Goods/96547408', 'https://www.yes24.com/Product/Goods/141263396', 'https://www.yes24.com/Product/Goods/140001692', 'https://www.yes24.com/Product/Goods/138479783', 'https://www.yes24.com/Product/Goods/141325413', 'https://www.yes24.com/Product/Goods/140536812', 'https://www.yes24.com/Product/Goods/133755473', 'https://www.yes24.com/Product/Goods/116467955', 'https://www.yes24.com/Product/Goods/116020437', 'https://www.yes24.com/Product/Goods/140861138', 'https://www.yes24.com/Product/Goods/124219505', 'https://www.yes24.com/Product/Goods/140377474', 'https://www.yes24.com/Product/Goods/141180543', 'https://www.yes24.com/Product/Goods/138503348', 'https://www.yes24.com/Product/Goods/79297023', 'https://www.yes24.com/Product/Goods/140189194', 'https://www.yes24.com/Product/Goods/141327431', 'https://www.yes24.com/Product/Goods/102502665', 'https://www.yes24.com/Product/Goods/139999483', 'https://www.yes24.com/Product/Goods/133339464', 'https://www.yes24.com/Product/Goods/141324697', 'https://www.yes24.com/Product/Goods/139853780', 'https://www.yes24.com/Product/Goods/91868954']\n"
     ]
    }
   ],
   "execution_count": 7
  },
  {
   "cell_type": "code",
   "execution_count": 24,
   "metadata": {},
   "outputs": [
    {
     "data": {
      "text/plain": [
       "72"
      ]
     },
     "execution_count": 24,
     "metadata": {},
     "output_type": "execute_result"
    }
   ],
   "source": [
    "len(link_list)"
   ]
  },
  {
   "cell_type": "code",
   "execution_count": 5,
   "metadata": {},
   "outputs": [
    {
     "data": {
      "text/plain": [
       "('미국 주식 투자의 정석',\n",
       " '최철 저',\n",
       " '황금부엉이',\n",
       " '2025년 01월 21일',\n",
       " '9.8',\n",
       " '48',\n",
       " '139,257',\n",
       " '29,000',\n",
       " '1',\n",
       " '1')"
      ]
     },
     "execution_count": 5,
     "metadata": {},
     "output_type": "execute_result"
    }
   ],
   "source": [
    "# for link in link_list:\n",
    "    # 상세 페이지로 이동\n",
    "    # browser.get(link)\n",
    "\n",
    "browser.get(link_list[0])\n",
    "\n",
    "title = browser.find_element(By.CLASS_NAME, 'gd_name').text\n",
    "author = browser.find_element(By.CLASS_NAME, 'gd_auth').text\n",
    "publisher = browser.find_element(By.CLASS_NAME, 'gd_pub').text\n",
    "publishing = browser.find_element(By.CLASS_NAME, 'gd_date').text\n",
    "rating = browser.find_element(By.CLASS_NAME, 'yes_b').text\n",
    "review = browser.find_element(By.CLASS_NAME, 'txC_blue').text\n",
    "sales = browser.find_element(By.CLASS_NAME, 'gd_sellNum').text.split(' ')[2]\n",
    "price = browser.find_element(By.CLASS_NAME, 'yes_m').text[:-1]\n",
    "# ranking = browser.find_element(By.CLASS_NAME, 'gd_best').find_element(By.TAG_NAME, 'a').text\n",
    "ranking = browser.find_element(By.CLASS_NAME, 'gd_best').text.split(\" | \")[1].split(\" \")[1][:-1]\n",
    "# ranking_weeks = browser.find_element(By.CLASS_NAME, 'gd_best').text.split(\" | \")[1]\n",
    "ranking_weeks = browser.find_element(By.CLASS_NAME, 'gd_best').text.split(\" | \")[1].split(\" \")[2][:-1]\n",
    "\n",
    "title, author,publisher,publishing,rating,review,sales,price,ranking,ranking_weeks"
   ]
  },
  {
   "cell_type": "code",
   "execution_count": 6,
   "metadata": {},
   "outputs": [
    {
     "name": "stdout",
     "output_type": "stream",
     "text": [
      "parts ['베스트 국내도서 1위', '국내도서 1위 1주']\n"
     ]
    },
    {
     "data": {
      "text/plain": [
       "('미국 주식 투자의 정석',\n",
       " '최철 저',\n",
       " '황금부엉이',\n",
       " '2025-01-21',\n",
       " '9.8',\n",
       " 48,\n",
       " 139257,\n",
       " 29000,\n",
       " '1',\n",
       " '1')"
      ]
     },
     "execution_count": 6,
     "metadata": {},
     "output_type": "execute_result"
    }
   ],
   "source": [
    "import re\n",
    "from datetime import datetime\n",
    "\n",
    "\n",
    "title = browser.find_element(By.CLASS_NAME, 'gd_name').text\n",
    "author = browser.find_element(By.CLASS_NAME, 'gd_auth').text\n",
    "publisher = browser.find_element(By.CLASS_NAME, 'gd_pub').text\n",
    "\n",
    "# '2025년 01월 21일' -> 2025-01-21\n",
    "publishing = browser.find_element(By.CLASS_NAME, 'gd_date').text\n",
    "match = re.search(r'(\\d+)년 (\\d+)월 (\\d+)일', publishing)\n",
    "if match:\n",
    "    year, month, day = match.groups()\n",
    "    data_obj = datetime(int(year), int(month), int(day)) #\n",
    "    publishing = data_obj.strftime(\"%Y-%m-%d\")\n",
    "else:\n",
    "    publishing = \"2023-01-01\"\n",
    "\n",
    "rating = browser.find_element(By.CLASS_NAME, 'yes_b').text\n",
    "\n",
    "review = browser.find_element(By.CLASS_NAME, 'txC_blue').text\n",
    "review =  int(review.replace(\",\",\"\"))\n",
    "\n",
    "sales = browser.find_element(By.CLASS_NAME, 'gd_sellNum').text.split(' ')[2]\n",
    "sales =  int(sales.replace(\",\",\"\"))\n",
    "\n",
    "price = browser.find_element(By.CLASS_NAME, 'yes_m').text[:-1]\n",
    "price =  int(price.replace(\",\",\"\"))\n",
    "\n",
    "full_text = browser.find_element(By.CLASS_NAME, 'gd_best').text\n",
    "parts = full_text.split(\" | \")\n",
    "print(\"parts\",parts)\n",
    "\n",
    "\n",
    "if len(parts) == 1:\n",
    "    ranking = 0\n",
    "    ranking_weeks = 0\n",
    "else:\n",
    "    try:\n",
    "        ranking_part = parts[0]\n",
    "        ranking = ''.join(filter(str.isdigit, ranking_part))  # 숫자만 추출\n",
    "    except:\n",
    "        ranking = 0\n",
    "\n",
    "    try:\n",
    "        ranking_weeks_part = parts[1]\n",
    "        ranking_weeks = ''.join(filter(str.isdigit, ranking_weeks_part.split()[-1]))  # 숫자만 추출\n",
    "    except:\n",
    "        ranking_weeks = 0\n",
    "\n",
    "\n",
    "title, author,publisher,publishing,rating,review,sales,price,ranking,ranking_weeks"
   ]
  },
  {
   "cell_type": "code",
   "execution_count": null,
   "metadata": {},
   "outputs": [],
   "source": [
    "# 상세 페이지 이동 후 데이터 크롤링"
   ]
  },
  {
   "cell_type": "code",
   "execution_count": 7,
   "metadata": {},
   "outputs": [
    {
     "name": "stdout",
     "output_type": "stream",
     "text": [
      "parts ['베스트 국내도서 1위', '국내도서 1위 1주']\n",
      "parts ['베스트 국내도서 2위', '국내도서 1위 14주']\n",
      "parts ['베스트 국내도서 3위', '국내도서 top20 10주']\n",
      "parts ['베스트 국내도서 4위', '국내도서 top20 4주']\n",
      "parts ['베스트 국내도서 5위', '국내도서 top20 4주']\n",
      "parts ['베스트 국내도서 6위', '국내도서 top20 6주']\n",
      "parts ['베스트 국내도서 7위', '국내도서 top20 15주']\n",
      "parts ['베스트 국내도서 8위', '국내도서 1위 3주']\n",
      "parts ['베스트 국내도서 9위', '국내도서 top20 28주']\n",
      "parts ['베스트 국내도서 10위', '국내도서 top20 2주']\n",
      "parts ['베스트 국내도서 11위', '국내도서 top20 10주']\n",
      "parts ['베스트 국내도서 12위', '국내도서 top20 38주']\n",
      "parts ['베스트 국내도서 13위', '국내도서 top20 32주']\n",
      "parts ['베스트 국내도서 14위', '국내도서 top20 3주']\n",
      "parts ['베스트 국내도서 15위', '국내도서 top20 21주']\n",
      "parts ['베스트 국내도서 16위', '국내도서 top20 1주']\n"
     ]
    },
    {
     "ename": "DataError",
     "evalue": "(1366, \"Incorrect decimal value: '43,200' for column 'rating' at row 1\")",
     "output_type": "error",
     "traceback": [
      "\u001B[0;31m---------------------------------------------------------------------------\u001B[0m",
      "\u001B[0;31mDataError\u001B[0m                                 Traceback (most recent call last)",
      "Cell \u001B[0;32mIn[7], line 81\u001B[0m\n\u001B[1;32m     74\u001B[0m         ranking_weeks \u001B[38;5;241m=\u001B[39m \u001B[38;5;241m0\u001B[39m\n\u001B[1;32m     76\u001B[0m sql \u001B[38;5;241m=\u001B[39m \u001B[38;5;124m\"\"\"\u001B[39m\n\u001B[1;32m     77\u001B[0m \u001B[38;5;124mINSERT INTO Books(title, author,publisher,publishing,rating,review,sales,price,ranking,ranking_weeks)\u001B[39m\n\u001B[1;32m     78\u001B[0m \u001B[38;5;124mVAlues (\u001B[39m\u001B[38;5;132;01m%s\u001B[39;00m\u001B[38;5;124m, \u001B[39m\u001B[38;5;132;01m%s\u001B[39;00m\u001B[38;5;124m, \u001B[39m\u001B[38;5;132;01m%s\u001B[39;00m\u001B[38;5;124m, \u001B[39m\u001B[38;5;132;01m%s\u001B[39;00m\u001B[38;5;124m, \u001B[39m\u001B[38;5;132;01m%s\u001B[39;00m\u001B[38;5;124m, \u001B[39m\u001B[38;5;132;01m%s\u001B[39;00m\u001B[38;5;124m, \u001B[39m\u001B[38;5;132;01m%s\u001B[39;00m\u001B[38;5;124m, \u001B[39m\u001B[38;5;132;01m%s\u001B[39;00m\u001B[38;5;124m, \u001B[39m\u001B[38;5;132;01m%s\u001B[39;00m\u001B[38;5;124m, \u001B[39m\u001B[38;5;132;01m%s\u001B[39;00m\u001B[38;5;124m)\u001B[39m\n\u001B[1;32m     79\u001B[0m \u001B[38;5;124m\u001B[39m\u001B[38;5;124m\"\"\"\u001B[39m\n\u001B[0;32m---> 81\u001B[0m \u001B[43mcursor\u001B[49m\u001B[38;5;241;43m.\u001B[39;49m\u001B[43mexecute\u001B[49m\u001B[43m(\u001B[49m\u001B[43msql\u001B[49m\u001B[43m,\u001B[49m\u001B[43m \u001B[49m\u001B[43m(\u001B[49m\u001B[43mtitle\u001B[49m\u001B[43m,\u001B[49m\u001B[43m \u001B[49m\u001B[43mauthor\u001B[49m\u001B[43m,\u001B[49m\u001B[43mpublisher\u001B[49m\u001B[43m,\u001B[49m\u001B[43mpublishing\u001B[49m\u001B[43m,\u001B[49m\u001B[43mrating\u001B[49m\u001B[43m,\u001B[49m\u001B[43mreview\u001B[49m\u001B[43m,\u001B[49m\u001B[43msales\u001B[49m\u001B[43m,\u001B[49m\u001B[43mprice\u001B[49m\u001B[43m,\u001B[49m\u001B[43mranking\u001B[49m\u001B[43m,\u001B[49m\u001B[43mranking_weeks\u001B[49m\u001B[43m)\u001B[49m\u001B[43m)\u001B[49m\n\u001B[1;32m     83\u001B[0m conn\u001B[38;5;241m.\u001B[39mcommit()\n\u001B[1;32m     85\u001B[0m time\u001B[38;5;241m.\u001B[39msleep(\u001B[38;5;241m2\u001B[39m)\n",
      "File \u001B[0;32m/Library/Frameworks/Python.framework/Versions/3.13/lib/python3.13/site-packages/pymysql/cursors.py:153\u001B[0m, in \u001B[0;36mCursor.execute\u001B[0;34m(self, query, args)\u001B[0m\n\u001B[1;32m    149\u001B[0m     \u001B[38;5;28;01mpass\u001B[39;00m\n\u001B[1;32m    151\u001B[0m query \u001B[38;5;241m=\u001B[39m \u001B[38;5;28mself\u001B[39m\u001B[38;5;241m.\u001B[39mmogrify(query, args)\n\u001B[0;32m--> 153\u001B[0m result \u001B[38;5;241m=\u001B[39m \u001B[38;5;28;43mself\u001B[39;49m\u001B[38;5;241;43m.\u001B[39;49m\u001B[43m_query\u001B[49m\u001B[43m(\u001B[49m\u001B[43mquery\u001B[49m\u001B[43m)\u001B[49m\n\u001B[1;32m    154\u001B[0m \u001B[38;5;28mself\u001B[39m\u001B[38;5;241m.\u001B[39m_executed \u001B[38;5;241m=\u001B[39m query\n\u001B[1;32m    155\u001B[0m \u001B[38;5;28;01mreturn\u001B[39;00m result\n",
      "File \u001B[0;32m/Library/Frameworks/Python.framework/Versions/3.13/lib/python3.13/site-packages/pymysql/cursors.py:322\u001B[0m, in \u001B[0;36mCursor._query\u001B[0;34m(self, q)\u001B[0m\n\u001B[1;32m    320\u001B[0m conn \u001B[38;5;241m=\u001B[39m \u001B[38;5;28mself\u001B[39m\u001B[38;5;241m.\u001B[39m_get_db()\n\u001B[1;32m    321\u001B[0m \u001B[38;5;28mself\u001B[39m\u001B[38;5;241m.\u001B[39m_clear_result()\n\u001B[0;32m--> 322\u001B[0m \u001B[43mconn\u001B[49m\u001B[38;5;241;43m.\u001B[39;49m\u001B[43mquery\u001B[49m\u001B[43m(\u001B[49m\u001B[43mq\u001B[49m\u001B[43m)\u001B[49m\n\u001B[1;32m    323\u001B[0m \u001B[38;5;28mself\u001B[39m\u001B[38;5;241m.\u001B[39m_do_get_result()\n\u001B[1;32m    324\u001B[0m \u001B[38;5;28;01mreturn\u001B[39;00m \u001B[38;5;28mself\u001B[39m\u001B[38;5;241m.\u001B[39mrowcount\n",
      "File \u001B[0;32m/Library/Frameworks/Python.framework/Versions/3.13/lib/python3.13/site-packages/pymysql/connections.py:563\u001B[0m, in \u001B[0;36mConnection.query\u001B[0;34m(self, sql, unbuffered)\u001B[0m\n\u001B[1;32m    561\u001B[0m     sql \u001B[38;5;241m=\u001B[39m sql\u001B[38;5;241m.\u001B[39mencode(\u001B[38;5;28mself\u001B[39m\u001B[38;5;241m.\u001B[39mencoding, \u001B[38;5;124m\"\u001B[39m\u001B[38;5;124msurrogateescape\u001B[39m\u001B[38;5;124m\"\u001B[39m)\n\u001B[1;32m    562\u001B[0m \u001B[38;5;28mself\u001B[39m\u001B[38;5;241m.\u001B[39m_execute_command(COMMAND\u001B[38;5;241m.\u001B[39mCOM_QUERY, sql)\n\u001B[0;32m--> 563\u001B[0m \u001B[38;5;28mself\u001B[39m\u001B[38;5;241m.\u001B[39m_affected_rows \u001B[38;5;241m=\u001B[39m \u001B[38;5;28;43mself\u001B[39;49m\u001B[38;5;241;43m.\u001B[39;49m\u001B[43m_read_query_result\u001B[49m\u001B[43m(\u001B[49m\u001B[43munbuffered\u001B[49m\u001B[38;5;241;43m=\u001B[39;49m\u001B[43munbuffered\u001B[49m\u001B[43m)\u001B[49m\n\u001B[1;32m    564\u001B[0m \u001B[38;5;28;01mreturn\u001B[39;00m \u001B[38;5;28mself\u001B[39m\u001B[38;5;241m.\u001B[39m_affected_rows\n",
      "File \u001B[0;32m/Library/Frameworks/Python.framework/Versions/3.13/lib/python3.13/site-packages/pymysql/connections.py:825\u001B[0m, in \u001B[0;36mConnection._read_query_result\u001B[0;34m(self, unbuffered)\u001B[0m\n\u001B[1;32m    823\u001B[0m \u001B[38;5;28;01melse\u001B[39;00m:\n\u001B[1;32m    824\u001B[0m     result \u001B[38;5;241m=\u001B[39m MySQLResult(\u001B[38;5;28mself\u001B[39m)\n\u001B[0;32m--> 825\u001B[0m     \u001B[43mresult\u001B[49m\u001B[38;5;241;43m.\u001B[39;49m\u001B[43mread\u001B[49m\u001B[43m(\u001B[49m\u001B[43m)\u001B[49m\n\u001B[1;32m    826\u001B[0m \u001B[38;5;28mself\u001B[39m\u001B[38;5;241m.\u001B[39m_result \u001B[38;5;241m=\u001B[39m result\n\u001B[1;32m    827\u001B[0m \u001B[38;5;28;01mif\u001B[39;00m result\u001B[38;5;241m.\u001B[39mserver_status \u001B[38;5;129;01mis\u001B[39;00m \u001B[38;5;129;01mnot\u001B[39;00m \u001B[38;5;28;01mNone\u001B[39;00m:\n",
      "File \u001B[0;32m/Library/Frameworks/Python.framework/Versions/3.13/lib/python3.13/site-packages/pymysql/connections.py:1199\u001B[0m, in \u001B[0;36mMySQLResult.read\u001B[0;34m(self)\u001B[0m\n\u001B[1;32m   1197\u001B[0m \u001B[38;5;28;01mdef\u001B[39;00m\u001B[38;5;250m \u001B[39m\u001B[38;5;21mread\u001B[39m(\u001B[38;5;28mself\u001B[39m):\n\u001B[1;32m   1198\u001B[0m     \u001B[38;5;28;01mtry\u001B[39;00m:\n\u001B[0;32m-> 1199\u001B[0m         first_packet \u001B[38;5;241m=\u001B[39m \u001B[38;5;28;43mself\u001B[39;49m\u001B[38;5;241;43m.\u001B[39;49m\u001B[43mconnection\u001B[49m\u001B[38;5;241;43m.\u001B[39;49m\u001B[43m_read_packet\u001B[49m\u001B[43m(\u001B[49m\u001B[43m)\u001B[49m\n\u001B[1;32m   1201\u001B[0m         \u001B[38;5;28;01mif\u001B[39;00m first_packet\u001B[38;5;241m.\u001B[39mis_ok_packet():\n\u001B[1;32m   1202\u001B[0m             \u001B[38;5;28mself\u001B[39m\u001B[38;5;241m.\u001B[39m_read_ok_packet(first_packet)\n",
      "File \u001B[0;32m/Library/Frameworks/Python.framework/Versions/3.13/lib/python3.13/site-packages/pymysql/connections.py:775\u001B[0m, in \u001B[0;36mConnection._read_packet\u001B[0;34m(self, packet_type)\u001B[0m\n\u001B[1;32m    773\u001B[0m     \u001B[38;5;28;01mif\u001B[39;00m \u001B[38;5;28mself\u001B[39m\u001B[38;5;241m.\u001B[39m_result \u001B[38;5;129;01mis\u001B[39;00m \u001B[38;5;129;01mnot\u001B[39;00m \u001B[38;5;28;01mNone\u001B[39;00m \u001B[38;5;129;01mand\u001B[39;00m \u001B[38;5;28mself\u001B[39m\u001B[38;5;241m.\u001B[39m_result\u001B[38;5;241m.\u001B[39munbuffered_active \u001B[38;5;129;01mis\u001B[39;00m \u001B[38;5;28;01mTrue\u001B[39;00m:\n\u001B[1;32m    774\u001B[0m         \u001B[38;5;28mself\u001B[39m\u001B[38;5;241m.\u001B[39m_result\u001B[38;5;241m.\u001B[39munbuffered_active \u001B[38;5;241m=\u001B[39m \u001B[38;5;28;01mFalse\u001B[39;00m\n\u001B[0;32m--> 775\u001B[0m     \u001B[43mpacket\u001B[49m\u001B[38;5;241;43m.\u001B[39;49m\u001B[43mraise_for_error\u001B[49m\u001B[43m(\u001B[49m\u001B[43m)\u001B[49m\n\u001B[1;32m    776\u001B[0m \u001B[38;5;28;01mreturn\u001B[39;00m packet\n",
      "File \u001B[0;32m/Library/Frameworks/Python.framework/Versions/3.13/lib/python3.13/site-packages/pymysql/protocol.py:219\u001B[0m, in \u001B[0;36mMysqlPacket.raise_for_error\u001B[0;34m(self)\u001B[0m\n\u001B[1;32m    217\u001B[0m \u001B[38;5;28;01mif\u001B[39;00m DEBUG:\n\u001B[1;32m    218\u001B[0m     \u001B[38;5;28mprint\u001B[39m(\u001B[38;5;124m\"\u001B[39m\u001B[38;5;124merrno =\u001B[39m\u001B[38;5;124m\"\u001B[39m, errno)\n\u001B[0;32m--> 219\u001B[0m \u001B[43merr\u001B[49m\u001B[38;5;241;43m.\u001B[39;49m\u001B[43mraise_mysql_exception\u001B[49m\u001B[43m(\u001B[49m\u001B[38;5;28;43mself\u001B[39;49m\u001B[38;5;241;43m.\u001B[39;49m\u001B[43m_data\u001B[49m\u001B[43m)\u001B[49m\n",
      "File \u001B[0;32m/Library/Frameworks/Python.framework/Versions/3.13/lib/python3.13/site-packages/pymysql/err.py:150\u001B[0m, in \u001B[0;36mraise_mysql_exception\u001B[0;34m(data)\u001B[0m\n\u001B[1;32m    148\u001B[0m \u001B[38;5;28;01mif\u001B[39;00m errorclass \u001B[38;5;129;01mis\u001B[39;00m \u001B[38;5;28;01mNone\u001B[39;00m:\n\u001B[1;32m    149\u001B[0m     errorclass \u001B[38;5;241m=\u001B[39m InternalError \u001B[38;5;28;01mif\u001B[39;00m errno \u001B[38;5;241m<\u001B[39m \u001B[38;5;241m1000\u001B[39m \u001B[38;5;28;01melse\u001B[39;00m OperationalError\n\u001B[0;32m--> 150\u001B[0m \u001B[38;5;28;01mraise\u001B[39;00m errorclass(errno, errval)\n",
      "\u001B[0;31mDataError\u001B[0m: (1366, \"Incorrect decimal value: '43,200' for column 'rating' at row 1\")"
     ]
    }
   ],
   "source": [
    "# 데이터 베이스 연동 후 -> 수집한 데이터를 DB에 저장 (csv)\n",
    "import pymysql  # pip install pymysql\n",
    "import time\n",
    "import re\n",
    "from datetime import datetime\n",
    "\n",
    "conn = pymysql.connect(\n",
    "    host = 'localhost',\n",
    "    user = 'root',\n",
    "    password = '1234',\n",
    "    db = 'yes24',\n",
    "    charset = 'utf8mb4',\n",
    "    cursorclass = pymysql.cursors.DictCursor\n",
    ")\n",
    "\n",
    "with conn.cursor() as cursor:\n",
    "\n",
    "    for link in link_list:\n",
    "        browser.get(link)\n",
    "\n",
    "        title = browser.find_element(By.CLASS_NAME, 'gd_name').text\n",
    "        author = browser.find_element(By.CLASS_NAME, 'gd_auth').text\n",
    "        publisher = browser.find_element(By.CLASS_NAME, 'gd_pub').text\n",
    "\n",
    "        # '2025년 01월 21일' -> 2025-01-21\n",
    "        publishing = browser.find_element(By.CLASS_NAME, 'gd_date').text\n",
    "        match = re.search(r'(\\d+)년 (\\d+)월 (\\d+)일', publishing)\n",
    "        if match:\n",
    "            year, month, day = match.groups()\n",
    "            data_obj = datetime(int(year), int(month), int(day)) #\n",
    "            publishing = data_obj.strftime(\"%Y-%m-%d\")\n",
    "        else:\n",
    "            publishing = \"2023-01-01\"\n",
    "\n",
    "        rating = browser.find_element(By.CLASS_NAME, 'yes_b').text\n",
    "\n",
    "        review = browser.find_element(By.CLASS_NAME, 'txC_blue').text.replace(\",\",\"\")\n",
    "        if review.isdigit():\n",
    "            review =  int(review)\n",
    "        else:\n",
    "            review = 0\n",
    "\n",
    "        sales = browser.find_element(By.CLASS_NAME, 'gd_sellNum').text.split(' ')[2].replace(\",\",\"\")\n",
    "        if sales.isdigit():\n",
    "            sales =  int(sales)\n",
    "        else:\n",
    "            sales = 0\n",
    "\n",
    "        price = browser.find_element(By.CLASS_NAME, 'yes_m').text[:-1].replace(\",\",\"\")\n",
    "        if price.isdigit():\n",
    "            price =  int(price)\n",
    "        else:\n",
    "            price = 0\n",
    "\n",
    "        full_text = browser.find_element(By.CLASS_NAME, 'gd_best').text\n",
    "        parts = full_text.split(\" | \")\n",
    "        print(\"parts\",parts)\n",
    "\n",
    "\n",
    "        if len(parts) == 1:\n",
    "            ranking = 0\n",
    "            ranking_weeks = 0\n",
    "        else:\n",
    "            try:\n",
    "                ranking_part = parts[0]\n",
    "                ranking = ''.join(filter(str.isdigit, ranking_part))  # 숫자만 추출\n",
    "            except:\n",
    "                ranking = 0\n",
    "\n",
    "            try:\n",
    "                ranking_weeks_part = parts[1]\n",
    "                ranking_weeks = ''.join(filter(str.isdigit, ranking_weeks_part.split()[-1]))  # 숫자만 추출\n",
    "            except:\n",
    "                ranking_weeks = 0\n",
    "        \n",
    "        sql = \"\"\"\n",
    "        INSERT INTO Books(title, author,publisher,publishing,rating,review,sales,price,ranking,ranking_weeks)\n",
    "        VAlues (%s, %s, %s, %s, %s, %s, %s, %s, %s, %s)\n",
    "        \"\"\"\n",
    "\n",
    "        cursor.execute(sql, (title, author,publisher,publishing,rating,review,sales,price,ranking,ranking_weeks))\n",
    "\n",
    "        conn.commit()\n",
    "\n",
    "        time.sleep(2)\n"
   ]
  },
  {
   "cell_type": "code",
   "execution_count": 1,
   "metadata": {},
   "outputs": [
    {
     "ename": "NameError",
     "evalue": "name 'conn' is not defined",
     "output_type": "error",
     "traceback": [
      "\u001B[0;31m---------------------------------------------------------------------------\u001B[0m",
      "\u001B[0;31mNameError\u001B[0m                                 Traceback (most recent call last)",
      "Cell \u001B[0;32mIn[1], line 1\u001B[0m\n\u001B[0;32m----> 1\u001B[0m \u001B[43mconn\u001B[49m\u001B[38;5;241m.\u001B[39mclose()\n",
      "\u001B[0;31mNameError\u001B[0m: name 'conn' is not defined"
     ]
    }
   ],
   "source": [
    "conn.close()"
   ]
  },
  {
   "cell_type": "markdown",
   "metadata": {},
   "source": []
  },
  {
   "cell_type": "code",
   "execution_count": null,
   "metadata": {},
   "outputs": [],
   "source": []
  }
 ],
 "metadata": {
  "kernelspec": {
   "display_name": "Python 3",
   "language": "python",
   "name": "python3"
  },
  "language_info": {
   "codemirror_mode": {
    "name": "ipython",
    "version": 3
   },
   "file_extension": ".py",
   "mimetype": "text/x-python",
   "name": "python",
   "nbconvert_exporter": "python",
   "pygments_lexer": "ipython3",
   "version": "3.13.1"
  }
 },
 "nbformat": 4,
 "nbformat_minor": 2
}
