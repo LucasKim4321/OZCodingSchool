{
 "cells": [
  {
   "cell_type": "markdown",
   "metadata": {},
   "source": []
  },
  {
   "cell_type": "code",
   "execution_count": 1,
   "metadata": {},
   "outputs": [
    {
     "data": {
      "text/plain": [
       "'C:\\\\Users\\\\xowls\\\\.wdm\\\\drivers\\\\chromedriver\\\\win64\\\\132.0.6834.83\\\\chromedriver-win32/chromedriver.exe'"
      ]
     },
     "execution_count": 1,
     "metadata": {},
     "output_type": "execute_result"
    }
   ],
   "source": [
    "# webdriver-manager 라이브러리 불러오기, 크롬드라이버 설치\n",
    "# from webdriver_manager.chrome import ChromeDriverManager\n",
    "# ChromeDriverManager().install()"
   ]
  },
  {
   "cell_type": "code",
   "execution_count": 11,
   "metadata": {},
   "outputs": [],
   "source": [
    "# 브라우저 실행\n",
    "from selenium import webdriver\n",
    "browser = webdriver.Chrome()"
   ]
  },
  {
   "cell_type": "code",
   "execution_count": 4,
   "metadata": {},
   "outputs": [],
   "source": [
    "# url 실행\n",
    "# url = 'https://google.com'\n",
    "url = 'https://www.yes24.com/Product/Category/BestSeller?CategoryNumber=001&sumgb=06'\n",
    "browser.get(url)"
   ]
  },
  {
   "cell_type": "code",
   "execution_count": null,
   "metadata": {},
   "outputs": [],
   "source": [
    "# 요소 가져오기기\n",
    "from selenium.webdriver.common.by import By\n",
    "# browser.find_element(By.CLASS_NAME, 'RNmpXc').text\n",
    "# browser.find_element(By.CLASS_NAME, 'RNmpXc').get_attribute('value')\n",
    "# <input class=\"RNmpXc\" value=\"I’m Feeling Lucky\" aria-label=\"I’m Feeling Lucky\" name=\"btnI\" type=\"submit\" jsaction=\"trigger.kWlxhc\" data-ved=\"0ahUKEwjqpdiAu4SLAxVF1zQHHY5tMUIQ19QECBQ\">\n",
    "\n",
    "# 1페이지의 링크 데이터 전부 수집\n",
    "\n",
    "# 1개의 베스트 셀러 링크 수집\n",
    "# browser.find_element(By.CLASS_NAME, 'gd_name').get_attribute('href')\n",
    "\n",
    "# 여러개의 베스트 셀러 링크 수집\n",
    "datas = browser.find_elements(By.CLASS_NAME, 'gd_name')\n",
    "\n",
    "for i in datas:\n",
    "    # print(i)\n",
    "    print(i.get_attribute('href'))"
   ]
  },
  {
   "cell_type": "code",
   "execution_count": 23,
   "metadata": {},
   "outputs": [
    {
     "name": "stdout",
     "output_type": "stream",
     "text": [
      "********** 현재 1 페이지 수집 중 입니다. **********\n",
      "********** 현재 2 페이지 수집 중 입니다. **********\n",
      "********** 현재 3 페이지 수집 중 입니다. **********\n",
      "['https://www.yes24.com/Product/Goods/140285749', 'https://www.yes24.com/Product/Goods/13137546', 'https://www.yes24.com/Product/Goods/140199250', 'https://www.yes24.com/Product/Goods/140199263', 'https://www.yes24.com/Product/Goods/126590468', 'https://www.yes24.com/Product/Goods/138282792', 'https://www.yes24.com/Product/Goods/108422348', 'https://www.yes24.com/Product/Goods/125557465', 'https://www.yes24.com/Product/Goods/103495056', 'https://www.yes24.com/Product/Goods/140231250', 'https://www.yes24.com/Product/Goods/141311162', 'https://www.yes24.com/Product/Goods/136298166', 'https://www.yes24.com/Product/Goods/124043812', 'https://www.yes24.com/Product/Goods/141311145', 'https://www.yes24.com/Product/Goods/124043802', 'https://www.yes24.com/Product/Goods/123400303', 'https://www.yes24.com/Product/Goods/140371473', 'https://www.yes24.com/Product/Goods/141377991', 'https://www.yes24.com/Product/Goods/81003394', 'https://www.yes24.com/Product/Goods/8759796', 'https://www.yes24.com/Product/Goods/141378033', 'https://www.yes24.com/Product/Goods/133809700', 'https://www.yes24.com/Product/Goods/67362730', 'https://www.yes24.com/Product/Goods/122120495', 'https://www.yes24.com/Product/Goods/133213071', 'https://www.yes24.com/Product/Goods/141198750', 'https://www.yes24.com/Product/Goods/11467936', 'https://www.yes24.com/Product/Goods/116586303', 'https://www.yes24.com/Product/Goods/134602629', 'https://www.yes24.com/Product/Goods/117014613', 'https://www.yes24.com/Product/Goods/140537260', 'https://www.yes24.com/Product/Goods/141403153', 'https://www.yes24.com/Product/Goods/141311100', 'https://www.yes24.com/Product/Goods/135854080', 'https://www.yes24.com/Product/Goods/139753235', 'https://www.yes24.com/Product/Goods/60524285', 'https://www.yes24.com/Product/Goods/141267375', 'https://www.yes24.com/Product/Goods/140072103', 'https://www.yes24.com/Product/Goods/140075936', 'https://www.yes24.com/Product/Goods/136734901', 'https://www.yes24.com/Product/Goods/139870454', 'https://www.yes24.com/Product/Goods/5926713', 'https://www.yes24.com/Product/Goods/140001692', 'https://www.yes24.com/Product/Goods/141180543', 'https://www.yes24.com/Product/Goods/131930939', 'https://www.yes24.com/Product/Goods/138831340', 'https://www.yes24.com/Product/Goods/129599242', 'https://www.yes24.com/Product/Goods/140536812', 'https://www.yes24.com/Product/Goods/96547408', 'https://www.yes24.com/Product/Goods/140377474', 'https://www.yes24.com/Product/Goods/138479783', 'https://www.yes24.com/Product/Goods/138336669', 'https://www.yes24.com/Product/Goods/116467955', 'https://www.yes24.com/Product/Goods/141231108', 'https://www.yes24.com/Product/Goods/141267373', 'https://www.yes24.com/Product/Goods/133755473', 'https://www.yes24.com/Product/Goods/128939189', 'https://www.yes24.com/Product/Goods/141263396', 'https://www.yes24.com/Product/Goods/140189194', 'https://www.yes24.com/Product/Goods/116020437', 'https://www.yes24.com/Product/Goods/102502665', 'https://www.yes24.com/Product/Goods/138503348', 'https://www.yes24.com/Product/Goods/124219505', 'https://www.yes24.com/Product/Goods/91868954', 'https://www.yes24.com/Product/Goods/79297023', 'https://www.yes24.com/Product/Goods/141325413', 'https://www.yes24.com/Product/Goods/139999483', 'https://www.yes24.com/Product/Goods/139853780', 'https://www.yes24.com/Product/Goods/140231496', 'https://www.yes24.com/Product/Goods/2312211', 'https://www.yes24.com/Product/Goods/140411945', 'https://www.yes24.com/Product/Goods/140127991']\n"
     ]
    }
   ],
   "source": [
    "# 3페이지까지의 링크 데이터 전부 수집\n",
    "# https://www.yes24.com/Product/Category/BestSeller?categoryNumber=001&pageNumber=3&pageSize=24\n",
    "import time\n",
    "\n",
    "link_list = []\n",
    "for i in range(1,4):\n",
    "    print(\"*\"*10,f\"현재 {i} 페이지 수집 중 입니다.\",\"*\"*10)\n",
    "    url = f'https://www.yes24.com/Product/Category/BestSeller?categoryNumber=001&pageNumber={i}&pageSize=24'\n",
    "    # print(url)\n",
    "\n",
    "    browser.get(url)\n",
    "    datas = browser.find_elements(By.CLASS_NAME, 'gd_name')\n",
    "\n",
    "    for i in datas:\n",
    "        # print(i)\n",
    "        link = i.get_attribute('href')\n",
    "        link_list.append(link)\n",
    "\n",
    "    time.sleep(3)\n",
    "    \n",
    "print(link_list)\n"
   ]
  },
  {
   "cell_type": "code",
   "execution_count": 24,
   "metadata": {},
   "outputs": [
    {
     "data": {
      "text/plain": [
       "72"
      ]
     },
     "execution_count": 24,
     "metadata": {},
     "output_type": "execute_result"
    }
   ],
   "source": [
    "len(link_list)"
   ]
  },
  {
   "cell_type": "code",
   "execution_count": null,
   "metadata": {},
   "outputs": [
    {
     "data": {
      "text/plain": [
       "'국내도서 1위 1주'"
      ]
     },
     "execution_count": 45,
     "metadata": {},
     "output_type": "execute_result"
    }
   ],
   "source": [
    "# for link in link_list:\n",
    "    # 상세 페이지로 이동\n",
    "    # browser.get(link)\n",
    "\n",
    "browser.get(link_list[0])\n",
    "\n",
    "browser.find_element(By.CLASS_NAME, 'gd_name').text\n",
    "author = browser.find_element(By.CLASS_NAME, 'gd_auth').text\n",
    "publisher = browser.find_element(By.CLASS_NAME, 'gd_pub').text\n",
    "publishing = browser.find_element(By.CLASS_NAME, 'gd_date').text\n",
    "rating = browser.find_element(By.CLASS_NAME, 'yes_b').text\n",
    "reviews = browser.find_element(By.CLASS_NAME, 'txC_blue').text\n",
    "sales = browser.find_element(By.CLASS_NAME, 'gd_sellNum').text.split(' ')[2]\n",
    "price = browser.find_element(By.CLASS_NAME, 'yes_m').text[:-1]\n",
    "ranking = browser.find_element(By.CLASS_NAME, 'gd_best').find_element(By.TAG_NAME, 'a').text\n",
    "ranking_weeks = browser.find_element(By.CLASS_NAME, 'gd_best').text.split(\" | \")[1]\n"
   ]
  },
  {
   "cell_type": "code",
   "execution_count": null,
   "metadata": {},
   "outputs": [],
   "source": [
    "# 상세 페이지 이동 후 데이터 크롤링"
   ]
  }
 ],
 "metadata": {
  "kernelspec": {
   "display_name": ".venv",
   "language": "python",
   "name": "python3"
  },
  "language_info": {
   "codemirror_mode": {
    "name": "ipython",
    "version": 3
   },
   "file_extension": ".py",
   "mimetype": "text/x-python",
   "name": "python",
   "nbconvert_exporter": "python",
   "pygments_lexer": "ipython3",
   "version": "3.11.9"
  }
 },
 "nbformat": 4,
 "nbformat_minor": 2
}
