{
 "cells": [
  {
   "cell_type": "markdown",
   "metadata": {},
   "source": [
    "[문제1]\n",
    "\n",
    "DBMS 특징이 아닌것을 골라주세요\n",
    "\n",
    "- 데이터 무결성\n",
    "- 데이터 보안성\n",
    "- 데이터 일관성\n",
    "- 데이터 의존성"
   ]
  },
  {
   "cell_type": "markdown",
   "metadata": {},
   "source": [
    "정답 : 4번 데이터의 의존성!\n",
    "\n",
    "DBMS의 특징 (ACID)\n",
    "\n",
    "- 데이터 독립성 : 물리적, 논리적 독립성\n",
    "- 데이터 무결성 : 데이터의 유효성 검사를 통해 데이터 무결성을 구현\n",
    "- 데이터 보안성 : 계정관리, 권한 설정\n",
    "- 데이터 일관성 : 데이터의 불일치성을 배체"
   ]
  },
  {
   "cell_type": "markdown",
   "metadata": {},
   "source": [
    "[문제2]\n",
    "\n",
    "아래 설명에 해당하는 데이터 모델을 골라주세요\n",
    "\n",
    "```\n",
    "표 형태로 데이터를 저장하고 SQL을 사용하여 데이터를 조작합니다. \n",
    "가장 널리 사용되는 데이터 모델 중 하나이며 RDBMS에서 지원합니다.\n",
    "```\n",
    "\n",
    "- 관계형 데이터 모델\n",
    "- 객체 지향형 데이터 모델\n",
    "- 계층형 데이터 모델\n",
    "- 네트워크형 데이터 모델"
   ]
  },
  {
   "cell_type": "markdown",
   "metadata": {},
   "source": [
    "정답 : 1번! 관계형 데이터 모델 (Relational DataBase Management System)"
   ]
  },
  {
   "cell_type": "markdown",
   "metadata": {},
   "source": [
    "[문제3]\n",
    "\n",
    "데이터베이스의 구조를 정의하는 것을 골라주세요\n",
    "\n",
    "- 인덱스\n",
    "- 트랜잭션\n",
    "- 스키마\n",
    "- SQL"
   ]
  },
  {
   "cell_type": "markdown",
   "metadata": {},
   "source": [
    "정답 : 4번 스키마!\n",
    "\n",
    "데이터베이스 스키마(Schema)는 데이터베이스에서 데이터의 구조와 구성을 정의하는 청사진 또는 설계도입니다.  \n",
    "이는 데이터베이스 테이블, 필드, 관계 등을 어떻게 구성할지를 명세한 것으로, 데이터베이스 시스템이 데이터를 저장, 관리, 조작하는 방식을 결정합니다."
   ]
  },
  {
   "cell_type": "markdown",
   "metadata": {},
   "source": [
    "[문제4]\n",
    "\n",
    "RDBMS의 대표적인 단점이 아닌것을 골라주세요\n",
    "\n",
    "- 실시간 데이터 처리의 어려움\n",
    "- 운영 비용이 비쌈\n",
    "- 테이블 join의 복잡성\n",
    "- 미리 만들어진 스키마 구조를 변경 또는 확장하는데 어려움\n",
    "- 대량의 데이터를 저장하는게 어려움"
   ]
  },
  {
   "cell_type": "markdown",
   "metadata": {},
   "source": [
    "정답 : ~~1번!~~  5번!"
   ]
  },
  {
   "cell_type": "markdown",
   "metadata": {},
   "source": [
    "[문제5]\n",
    "\n",
    "RDBMS의 구성 요소 중 고유한 값을 나타내는 것을 골라주세요\n",
    "\n",
    "- column\n",
    "- row\n",
    "- FK\n",
    "- PK"
   ]
  },
  {
   "cell_type": "markdown",
   "metadata": {},
   "source": [
    "정답 : 4번 PK"
   ]
  },
  {
   "cell_type": "markdown",
   "metadata": {},
   "source": [
    "[문제6]\n",
    "\n",
    "대표적인 RDBMS가 아닌것을 골라주세요\n",
    "\n",
    "- SQLite\n",
    "- Oracle Database\n",
    "- PostgreSQL\n",
    "- Firebase"
   ]
  },
  {
   "cell_type": "markdown",
   "metadata": {},
   "source": [
    "정답 : 4번 Firebase!\n",
    "\n",
    "Firebase 는 BaaS(Backend-as-a-Service) 플랫폼으로 제공되는 포괄적인 도구 및 서비스 제품군으로, 개발자가 모바일 및 웹 애플리케이션을 모두 쉽게 생성, 실행 및 확장할 수 있도록 합니다. 실시간 데이터베이스, 인증, 스토리지, 호스팅 및 기타 기능을 제공하며 모두 단일 플랫폼에서 관리됩니다.\n"
   ]
  },
  {
   "cell_type": "markdown",
   "metadata": {},
   "source": [
    "[문제7]\n",
    "\n",
    "물리적 스키마란 무엇을 의마하는지 골라주세요\n",
    "\n",
    "- 데이터베이스 논리적 구조\n",
    "- 데이터베이스 물리적 저장 방식\n",
    "- 데이터베이스 사용자 뷰\n",
    "- 데이터베이스의 엑세스 권한"
   ]
  },
  {
   "cell_type": "markdown",
   "metadata": {},
   "source": [
    "정답 : 2번 데이터베이스 물리적 저장 방식!"
   ]
  },
  {
   "cell_type": "markdown",
   "metadata": {},
   "source": [
    "[문제8]\n",
    "\n",
    "SQL 언어에 해당하지 않는 것을 골라주세요\n",
    "\n",
    "- 데이터 처리 언어(DML)\n",
    "- 데이터 제어 언어(DCL)\n",
    "- 데이터 연결 언어(DCL)\n",
    "- 데이터 정의 언어(DDL)"
   ]
  },
  {
   "cell_type": "markdown",
   "metadata": {},
   "source": [
    "정답 : 3번! DCL은 'Data Control Language'의 약자로 데이터베이스 사용자의 권한을 관리하고 데이터 접근을 제어하는데 사용되는 언어이다!\n",
    "\n",
    "1. **DDL (Data Definition Language)**: 데이터베이스의 구조를 정의하는데 사용되는 언어입니다.\n",
    "    - **`CREATE`**: 새로운 테이블이나 데이터베이스 생성\n",
    "    - **`ALTER`**: 기존 테이블이나 데이터베이스 구조 수정\n",
    "    - **`DROP`**: 테이블이나 데이터베이스 삭제\n",
    "2. **DML (Data Manipulation Language)**: 데이터베이스 내의 데이터를 처리하는 데 사용되는 언어입니다.\n",
    "    - **`SELECT`**: 데이터베이스에서 데이터 조회\n",
    "    - **`INSERT`**: 테이블에 새로운 데이터 추가\n",
    "    - **`UPDATE`**: 테이블의 기존 데이터 수정\n",
    "    - **`DELETE`**: 테이블에서 데이터 삭제\n",
    "3. **DCL (Data Control Language)**: 데이터베이스 사용자의 권한을 관리하고 데이터 접근을 제어하는데 사용되는 언어입니다.\n",
    "    - **`GRANT`**: 사용자에게 특정 데이터에 대한 접근 권한 부여\n",
    "    - **`REVOKE`**: 사용자의 특정 데이터 접근 권한 제거\n",
    "4. **TCL (Transaction Control Language)**: 데이터베이스 내의 트랜잭션을 관리하는데 사용되는 언어입니다.\n",
    "    - **`COMMIT`**: 트랜잭션을 완료하고, 데이터베이스 변경사항을 영구적으로 저장\n",
    "    - **`ROLLBACK`**: 트랜잭션을 취소하고, 마지막 **`COMMIT`** 이후의 모든 변경사항을 되돌림\n",
    "    - **`SAVEPOINT`**: 트랜잭션 내 특정 지점을 마킹하여 필요시 그 지점으로 되돌릴 수 있음\n"
   ]
  },
  {
   "cell_type": "markdown",
   "metadata": {},
   "source": [
    "[문제9]\n",
    "\n",
    "데이터 처리 언어(DML)의 설명으로 틀린것을 골라주세요\n",
    "\n",
    "- select : 데이터베이스에서 정보를 검색\n",
    "- insert : 새로운 데이터를 테이블에 삽입\n",
    "- count : 테이블의 데이터 개수 확인\n",
    "- delete : 테이블에서 데이터를 삭제"
   ]
  },
  {
   "cell_type": "markdown",
   "metadata": {},
   "source": [
    "정답 : 3번 count!\n",
    "\n",
    "- **DML (Data Manipulation Language)**: 데이터베이스 내의 데이터를 처리하는 데 사용되는 언어입니다.\n",
    "    - **`SELECT`**: 데이터베이스에서 데이터 조회\n",
    "    - **`INSERT`**: 테이블에 새로운 데이터 추가\n",
    "    - **`UPDATE`**: 테이블의 기존 데이터 수정\n",
    "    - **`DELETE`**: 테이블에서 데이터 삭제"
   ]
  }
 ],
 "metadata": {
  "language_info": {
   "name": "python"
  }
 },
 "nbformat": 4,
 "nbformat_minor": 2
}
